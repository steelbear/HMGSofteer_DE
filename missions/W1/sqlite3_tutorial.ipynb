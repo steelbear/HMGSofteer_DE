{
 "cells": [
  {
   "cell_type": "markdown",
   "metadata": {},
   "source": [
    "# sqlite3으로 데이터베이스 생성하기"
   ]
  },
  {
   "cell_type": "code",
   "execution_count": 1,
   "metadata": {},
   "outputs": [],
   "source": [
    "import sqlite3\n",
    "\n",
    "\n",
    "def create_sqlite_database(filename):\n",
    "    conn = None\n",
    "    try:\n",
    "        conn = sqlite3.connect(filename)\n",
    "        print(sqlite3.sqlite_version)\n",
    "    except sqlite3.Error as e:\n",
    "        print(type(e))\n",
    "        print('Err:', e)\n",
    "    finally:\n",
    "        if conn:\n",
    "            conn.close()"
   ]
  },
  {
   "cell_type": "markdown",
   "metadata": {},
   "source": [
    "다음을 실행하면 실행 위치에 'my.db'라는 데이터베이스 파일이 생성된다."
   ]
  },
  {
   "cell_type": "code",
   "execution_count": 2,
   "metadata": {},
   "outputs": [
    {
     "name": "stdout",
     "output_type": "stream",
     "text": [
      "EDA_mtcars.ipynb       northwind.sql          sql_tutorial.ipynb\n",
      "mtcars.csv             northwind_bak.db       sqlite3_tutorial.ipynb\n",
      "northwind.db           northwind_original.db\n"
     ]
    }
   ],
   "source": [
    "!ls"
   ]
  },
  {
   "cell_type": "code",
   "execution_count": 3,
   "metadata": {},
   "outputs": [
    {
     "name": "stdout",
     "output_type": "stream",
     "text": [
      "3.43.2\n"
     ]
    }
   ],
   "source": [
    "create_sqlite_database('my.db')"
   ]
  },
  {
   "cell_type": "code",
   "execution_count": 4,
   "metadata": {},
   "outputs": [
    {
     "name": "stdout",
     "output_type": "stream",
     "text": [
      "EDA_mtcars.ipynb       northwind.db           northwind_original.db\n",
      "mtcars.csv             northwind.sql          sql_tutorial.ipynb\n",
      "my.db                  northwind_bak.db       sqlite3_tutorial.ipynb\n"
     ]
    }
   ],
   "source": [
    "!ls"
   ]
  },
  {
   "cell_type": "markdown",
   "metadata": {},
   "source": [
    "만약 데이터베이스 파일을 생성할 수 없거나 불러올 수 없다면 sqlite3.Error의 파생 오류가 발생하게 된다."
   ]
  },
  {
   "cell_type": "code",
   "execution_count": 5,
   "metadata": {},
   "outputs": [],
   "source": [
    "!chmod -r my.db"
   ]
  },
  {
   "cell_type": "code",
   "execution_count": 6,
   "metadata": {},
   "outputs": [
    {
     "name": "stdout",
     "output_type": "stream",
     "text": [
      "<class 'sqlite3.OperationalError'>\n",
      "Err: unable to open database file\n"
     ]
    }
   ],
   "source": [
    "create_sqlite_database('my.db')"
   ]
  },
  {
   "cell_type": "code",
   "execution_count": 7,
   "metadata": {},
   "outputs": [],
   "source": [
    "!rm my.db"
   ]
  },
  {
   "cell_type": "markdown",
   "metadata": {},
   "source": [
    "파일 이름을 ':memory:'로 지정하면 파일 생성 없이 메모리 안에서 데이터베이스가 생성된다."
   ]
  },
  {
   "cell_type": "code",
   "execution_count": 8,
   "metadata": {},
   "outputs": [
    {
     "name": "stdout",
     "output_type": "stream",
     "text": [
      "3.43.2\n"
     ]
    }
   ],
   "source": [
    "create_sqlite_database(':memory:')"
   ]
  },
  {
   "cell_type": "markdown",
   "metadata": {},
   "source": [
    "# SQLite 테이블 생성하기"
   ]
  },
  {
   "cell_type": "code",
   "execution_count": 9,
   "metadata": {},
   "outputs": [],
   "source": [
    "sql_statements = [ \n",
    "    \"\"\"CREATE TABLE IF NOT EXISTS projects (\n",
    "            id INTEGER PRIMARY KEY, \n",
    "            name text NOT NULL, \n",
    "            begin_date TEXT, \n",
    "            end_date TEXT\n",
    "    );\"\"\",\n",
    "    \"\"\"CREATE TABLE IF NOT EXISTS tasks (\n",
    "            id INTEGER PRIMARY KEY, \n",
    "            name TEXT NOT NULL, \n",
    "            priority INT, \n",
    "            project_id INT NOT NULL, \n",
    "            status_id INT NOT NULL, \n",
    "            begin_date TEXT NOT NULL, \n",
    "            end_date TEXT NOT NULL, \n",
    "            FOREIGN KEY (project_id) REFERENCES projects (id)\n",
    "    );\"\"\",\n",
    "    ]\n",
    "\n",
    "# create a database connection\n",
    "try:\n",
    "    with sqlite3.connect('my.db') as conn:\n",
    "        cursor = conn.cursor()\n",
    "        for statement in sql_statements:\n",
    "            cursor.execute(statement)\n",
    "\n",
    "        conn.commit()\n",
    "except sqlite3.Error as e:\n",
    "    print(e)"
   ]
  },
  {
   "cell_type": "markdown",
   "metadata": {},
   "source": [
    "# SQLite에서 데이터베이스 파일 생성하지 않고 불러오기"
   ]
  },
  {
   "cell_type": "markdown",
   "metadata": {},
   "source": [
    "- URI로 불러오기\n",
    "    - 장점\n",
    "        - 모드로 접근방식을 결정해 읽기 전용으로 불러올 수 있음\n",
    "        - 파일이 없다면 `sqlite3.OperationalError`을 발생시키기 때문에 에러 핸들링 가능\n",
    "        - URI로 불러오는 작업이 atomic 하기에 파일을 확인하고 불러오는 사이에 파일이 삭제되거나 사용중일 가능성 제거\n",
    "    - 단점\n",
    "        - URI 구조를 알아야 함\n",
    "        - `uri=True`를 추가해야하는데, 이를 까먹으면 의도대로 작동하지 않을 수 있음\n",
    "        - 시스템이나 SQLite 버전에서 지원하지 않는다면 사용할 수 없음\n",
    "        - `SQLITE_OPEN_EXCLUSIVE`와 같은 플래그를 사용할 수 없음\n",
    "        - 데이터베이스 파일을 불러오는데 실패했는데 파일이 없어서인지 권한이 없어서인지 알 수 없음"
   ]
  },
  {
   "cell_type": "code",
   "execution_count": 10,
   "metadata": {},
   "outputs": [
    {
     "name": "stdout",
     "output_type": "stream",
     "text": [
      "Database loaded successfully.\n"
     ]
    }
   ],
   "source": [
    "try:\n",
    "    conn = sqlite3.connect('file:my.db?mode=rw', uri=True)\n",
    "    print('Database loaded successfully.')\n",
    "except sqlite3.Error as e:\n",
    "    print(type(e))\n",
    "    print(e)\n",
    "finally:\n",
    "    conn.close()"
   ]
  },
  {
   "cell_type": "markdown",
   "metadata": {},
   "source": [
    "- `os.path.exists`로 확인하기\n",
    "    - 장점\n",
    "        - 파일 체크를 명시적으로 적다보니 눈에 잘 띤다\n",
    "        - 어떤 시스템에서든 사용할 수 있다\n",
    "        - SQLite 플래그도 사용할 수 있다\n",
    "        - 파일이 없는 경우로 분기를 추가할 수 있다\n",
    "    - 단점\n",
    "        - 에러 핸들링과 별개로 코드를 작성해야 함\n",
    "        - 파일 체크와 데이터베이스 불러오는 작업 중간에 파일이 삭제되거나 다른 프로세스가 쓸 수 있다"
   ]
  },
  {
   "cell_type": "code",
   "execution_count": 11,
   "metadata": {},
   "outputs": [
    {
     "name": "stdout",
     "output_type": "stream",
     "text": [
      "Database loaded successfully\n"
     ]
    }
   ],
   "source": [
    "import os\n",
    "\n",
    "\n",
    "db_path = 'my.db'\n",
    "if os.path.exists(db_path):\n",
    "    try:\n",
    "        conn = sqlite3.connect(db_path)\n",
    "        print('Database loaded successfully')\n",
    "    except sqlite3.Error as E:\n",
    "        print('Err:', e)\n",
    "else:\n",
    "    print(f'Err: {db_path} doesn\\'t exist')"
   ]
  },
  {
   "cell_type": "code",
   "execution_count": 12,
   "metadata": {},
   "outputs": [
    {
     "name": "stdout",
     "output_type": "stream",
     "text": [
      "[('a',), ('b',), ('c',), ('d',), ('e',), ('f',), ('g',), ('h',), ('i',), ('j',), ('k',), ('l',), ('m',), ('n',), ('o',), ('p',), ('q',), ('r',), ('s',), ('t',), ('u',), ('v',), ('w',), ('x',), ('y',), ('z',)]\n"
     ]
    }
   ],
   "source": [
    "import string\n",
    "\n",
    "def char_generator():\n",
    "    for c in string.ascii_lowercase:\n",
    "        yield (c,)\n",
    "\n",
    "con = sqlite3.connect(\":memory:\")\n",
    "cur = con.cursor()\n",
    "cur.execute(\"create table characters(c)\")\n",
    "\n",
    "cur.executemany(\"insert into characters(c) values (?)\", char_generator())\n",
    "\n",
    "cur.execute(\"select c from characters\")\n",
    "print(cur.fetchall())"
   ]
  },
  {
   "cell_type": "code",
   "execution_count": null,
   "metadata": {},
   "outputs": [],
   "source": []
  }
 ],
 "metadata": {
  "kernelspec": {
   "display_name": ".venv",
   "language": "python",
   "name": "python3"
  },
  "language_info": {
   "codemirror_mode": {
    "name": "ipython",
    "version": 3
   },
   "file_extension": ".py",
   "mimetype": "text/x-python",
   "name": "python",
   "nbconvert_exporter": "python",
   "pygments_lexer": "ipython3",
   "version": "3.11.9"
  }
 },
 "nbformat": 4,
 "nbformat_minor": 2
}
