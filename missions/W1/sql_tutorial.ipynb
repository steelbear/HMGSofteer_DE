{
 "cells": [
  {
   "cell_type": "markdown",
   "metadata": {},
   "source": [
    "# SQLite 불러오기"
   ]
  },
  {
   "cell_type": "code",
   "execution_count": 1,
   "metadata": {},
   "outputs": [],
   "source": [
    "import sqlite3\n",
    "\n",
    "\n",
    "def connect_example_db():\n",
    "    try:\n",
    "        conn = sqlite3.connect('northwind.db')\n",
    "        cur = conn.cursor()\n",
    "    except sqlite3.Error as e:\n",
    "        print('Err:', e)\n",
    "\n",
    "    return conn, cur\n",
    "\n",
    "conn, cur = connect_example_db()"
   ]
  },
  {
   "cell_type": "code",
   "execution_count": 189,
   "metadata": {},
   "outputs": [],
   "source": [
    "from IPython.display import display, Markdown\n",
    "\n",
    "\n",
    "def execute_and_show(cur: sqlite3.Cursor, query: str, *args):\n",
    "    '''execute the query and show the result with markdown'''\n",
    "    data = cur.execute(query, args)\n",
    "    md_str_list = []\n",
    "\n",
    "    if data.description is None:\n",
    "        return\n",
    "    \n",
    "    column_names = list(map(lambda column: column[0], data.description))\n",
    "    md_str_list.append('|' + '|'.join(column_names) + '|')\n",
    "    md_str_list.append('|' + '-|' * len(column_names))\n",
    "    for row in data:\n",
    "        row = list(map(lambda cell: '' if cell is None else str(cell), row))\n",
    "        md_str_list.append('|' + '|'.join(row) + '|')\n",
    "\n",
    "    md_str = '\\n'.join(md_str_list)\n",
    "    md = Markdown(md_str)\n",
    "    display(md)"
   ]
  },
  {
   "cell_type": "markdown",
   "metadata": {},
   "source": [
    "# SQL SELECT Statement"
   ]
  },
  {
   "cell_type": "code",
   "execution_count": 3,
   "metadata": {},
   "outputs": [
    {
     "data": {
      "text/markdown": [
       "|CompanyName|City|\n",
       "|-|-|\n",
       "|Alfreds Futterkiste|Berlin|\n",
       "|Ana Trujillo Emparedados y helados|México D.F.|\n",
       "|Antonio Moreno Taquería|México D.F.|\n",
       "|Around the Horn|London|\n",
       "|Berglunds snabbköp|Luleå|\n",
       "|Blauer See Delikatessen|Mannheim|\n",
       "|Blondesddsl père et fils|Strasbourg|\n",
       "|Bólido Comidas preparadas|Madrid|\n",
       "|Bon app'|Marseille|\n",
       "|Bottom-Dollar Markets|Tsawassen|\n",
       "|B's Beverages|London|\n",
       "|Cactus Comidas para llevar|Buenos Aires|\n",
       "|Centro comercial Moctezuma|México D.F.|\n",
       "|Chop-suey Chinese|Bern|\n",
       "|Comércio Mineiro|Sao Paulo|\n",
       "|Consolidated Holdings|London|\n",
       "|Drachenblut Delikatessen|Aachen|\n",
       "|Du monde entier|Nantes|\n",
       "|Eastern Connection|London|\n",
       "|Ernst Handel|Graz|\n",
       "|Familia Arquibaldo|Sao Paulo|\n",
       "|FISSA Fabrica Inter. Salchichas S.A.|Madrid|\n",
       "|Folies gourmandes|Lille|\n",
       "|Folk och fä HB|Bräcke|\n",
       "|Frankenversand|München|\n",
       "|France restauration|Nantes|\n",
       "|Franchi S.p.A.|Torino|\n",
       "|Furia Bacalhau e Frutos do Mar|Lisboa|\n",
       "|Galería del gastrónomo|Barcelona|\n",
       "|Godos Cocina Típica|Sevilla|\n",
       "|Gourmet Lanchonetes|Campinas|\n",
       "|Great Lakes Food Market|Eugene|\n",
       "|GROSELLA-Restaurante|Caracas|\n",
       "|Hanari Carnes|Rio de Janeiro|\n",
       "|HILARION-Abastos|San Cristóbal|\n",
       "|Hungry Coyote Import Store|Elgin|\n",
       "|Hungry Owl All-Night Grocers|Cork|\n",
       "|Island Trading|Cowes|\n",
       "|Königlich Essen|Brandenburg|\n",
       "|La corne d'abondance|Versailles|\n",
       "|La maison d'Asie|Toulouse|\n",
       "|Laughing Bacchus Wine Cellars|Vancouver|\n",
       "|Lazy K Kountry Store|Walla Walla|\n",
       "|Lehmanns Marktstand|Frankfurt a.M.|\n",
       "|Let's Stop N Shop|San Francisco|\n",
       "|LILA-Supermercado|Barquisimeto|\n",
       "|LINO-Delicateses|I. de Margarita|\n",
       "|Lonesome Pine Restaurant|Portland|\n",
       "|Magazzini Alimentari Riuniti|Bergamo|\n",
       "|Maison Dewey|Bruxelles|\n",
       "|Mère Paillarde|Montréal|\n",
       "|Morgenstern Gesundkost|Leipzig|\n",
       "|North/South|London|\n",
       "|Océano Atlántico Ltda.|Buenos Aires|\n",
       "|Old World Delicatessen|Anchorage|\n",
       "|Ottilies Käseladen|Köln|\n",
       "|Paris spécialités|Paris|\n",
       "|Pericles Comidas clásicas|México D.F.|\n",
       "|Piccolo und mehr|Salzburg|\n",
       "|Princesa Isabel Vinhos|Lisboa|\n",
       "|Que Delícia|Rio de Janeiro|\n",
       "|Queen Cozinha|Sao Paulo|\n",
       "|QUICK-Stop|Cunewalde|\n",
       "|Rancho grande|Buenos Aires|\n",
       "|Rattlesnake Canyon Grocery|Albuquerque|\n",
       "|Reggiani Caseifici|Reggio Emilia|\n",
       "|Ricardo Adocicados|Rio de Janeiro|\n",
       "|Richter Supermarkt|Genève|\n",
       "|Romero y tomillo|Madrid|\n",
       "|Santé Gourmet|Stavern|\n",
       "|Save-a-lot Markets|Boise|\n",
       "|Seven Seas Imports|London|\n",
       "|Simons bistro|Kobenhavn|\n",
       "|Spécialités du monde|Paris|\n",
       "|Split Rail Beer & Ale|Lander|\n",
       "|Suprêmes délices|Charleroi|\n",
       "|The Big Cheese|Portland|\n",
       "|The Cracker Box|Butte|\n",
       "|Toms Spezialitäten|Münster|\n",
       "|Tortuga Restaurante|México D.F.|\n",
       "|Tradição Hipermercados|Sao Paulo|\n",
       "|Trail's Head Gourmet Provisioners|Kirkland|\n",
       "|Vaffeljernet|Århus|\n",
       "|IT||\n",
       "|IT||\n",
       "|Victuailles en stock|Lyon|\n",
       "|Vins et alcools Chevalier|Reims|\n",
       "|Die Wandernde Kuh|Stuttgart|\n",
       "|Wartian Herkku|Oulu|\n",
       "|Wellington Importadora|Resende|\n",
       "|White Clover Markets|Seattle|\n",
       "|Wilman Kala|Helsinki|\n",
       "|Wolski  Zajazd|Warszawa|\n",
       "|Exotic Liquids|London|\n",
       "|New Orleans Cajun Delights|New Orleans|\n",
       "|Grandma Kelly's Homestead|Ann Arbor|\n",
       "|Tokyo Traders|Tokyo|\n",
       "|Cooperativa de Quesos 'Las Cabras'|Oviedo|\n",
       "|Mayumi's|Osaka|\n",
       "|Pavlova, Ltd.|Melbourne|\n",
       "|Specialty Biscuits, Ltd.|Manchester|\n",
       "|PB Knäckebröd AB|Göteborg|\n",
       "|Refrescos Americanas LTDA|São Paulo|\n",
       "|Heli Süßwaren GmbH & Co. KG|Berlin|\n",
       "|Plutzer Lebensmittelgroßmärkte AG|Frankfurt|\n",
       "|Nord-Ost-Fisch Handelsgesellschaft mbH|Cuxhaven|\n",
       "|Formaggi Fortini s.r.l.|Ravenna|\n",
       "|Norske Meierier|Sandvika|\n",
       "|Bigfoot Breweries|Bend|\n",
       "|Svensk Sjöföda AB|Stockholm|\n",
       "|Aux joyeux ecclésiastiques|Paris|\n",
       "|New England Seafood Cannery|Boston|\n",
       "|Leka Trading|Singapore|\n",
       "|Lyngbysild|Lyngby|\n",
       "|Zaanse Snoepfabriek|Zaandam|\n",
       "|Karkki Oy|Lappeenranta|\n",
       "|G'day, Mate|Sydney|\n",
       "|Ma Maison|Montréal|\n",
       "|Pasta Buttini s.r.l.|Salerno|\n",
       "|Escargots Nouveaux|Montceau|\n",
       "|Gai pâturage|Annecy|\n",
       "|Forêts d'érables|Ste-Hyacinthe|\n",
       "|Exotic Liquids|London|\n",
       "|New Orleans Cajun Delights|New Orleans|\n",
       "|Grandma Kelly's Homestead|Ann Arbor|\n",
       "|Tokyo Traders|Tokyo|\n",
       "|Cooperativa de Quesos 'Las Cabras'|Oviedo|\n",
       "|Mayumi's|Osaka|\n",
       "|Pavlova, Ltd.|Melbourne|\n",
       "|Specialty Biscuits, Ltd.|Manchester|\n",
       "|PB Knäckebröd AB|Göteborg|\n",
       "|Refrescos Americanas LTDA|São Paulo|\n",
       "|Heli Süßwaren GmbH & Co. KG|Berlin|\n",
       "|Plutzer Lebensmittelgroßmärkte AG|Frankfurt|\n",
       "|Nord-Ost-Fisch Handelsgesellschaft mbH|Cuxhaven|\n",
       "|Formaggi Fortini s.r.l.|Ravenna|\n",
       "|Norske Meierier|Sandvika|\n",
       "|Bigfoot Breweries|Bend|\n",
       "|Svensk Sjöföda AB|Stockholm|\n",
       "|Aux joyeux ecclésiastiques|Paris|\n",
       "|New England Seafood Cannery|Boston|\n",
       "|Leka Trading|Singapore|\n",
       "|Lyngbysild|Lyngby|\n",
       "|Zaanse Snoepfabriek|Zaandam|\n",
       "|Karkki Oy|Lappeenranta|\n",
       "|G'day, Mate|Sydney|\n",
       "|Ma Maison|Montréal|\n",
       "|Pasta Buttini s.r.l.|Salerno|\n",
       "|Escargots Nouveaux|Montceau|\n",
       "|Gai pâturage|Annecy|\n",
       "|Forêts d'érables|Ste-Hyacinthe|\n",
       "|Heli Süßwaren GmbH & Co. KG|Berlin|\n",
       "|Plutzer Lebensmittelgroßmärkte AG|Frankfurt|\n",
       "|Nord-Ost-Fisch Handelsgesellschaft mbH|Cuxhaven|\n",
       "|Heli Süßwaren GmbH & Co. KG|Berlin|\n",
       "|Plutzer Lebensmittelgroßmärkte AG|Frankfurt|\n",
       "|Nord-Ost-Fisch Handelsgesellschaft mbH|Cuxhaven|"
      ],
      "text/plain": [
       "<IPython.core.display.Markdown object>"
      ]
     },
     "metadata": {},
     "output_type": "display_data"
    }
   ],
   "source": [
    "# select some columns\n",
    "execute_and_show(cur, 'SELECT CompanyName, City FROM Customers;')"
   ]
  },
  {
   "cell_type": "code",
   "execution_count": 4,
   "metadata": {},
   "outputs": [
    {
     "data": {
      "text/markdown": [
       "|CustomerID|CompanyName|ContactName|ContactTitle|Address|City|Region|PostalCode|Country|Phone|Fax|\n",
       "|-|-|-|-|-|-|-|-|-|-|-|\n",
       "|ALFKI|Alfreds Futterkiste|Maria Anders|Sales Representative|Obere Str. 57|Berlin|Western Europe|12209|Germany|030-0074321|030-0076545|\n",
       "|ANATR|Ana Trujillo Emparedados y helados|Ana Trujillo|Owner|Avda. de la Constitución 2222|México D.F.|Central America|05021|Mexico|(5) 555-4729|(5) 555-3745|\n",
       "|ANTON|Antonio Moreno Taquería|Antonio Moreno|Owner|Mataderos  2312|México D.F.|Central America|05023|Mexico|(5) 555-3932||\n",
       "|AROUT|Around the Horn|Thomas Hardy|Sales Representative|120 Hanover Sq.|London|British Isles|WA1 1DP|UK|(171) 555-7788|(171) 555-6750|\n",
       "|BERGS|Berglunds snabbköp|Christina Berglund|Order Administrator|Berguvsvägen  8|Luleå|Northern Europe|S-958 22|Sweden|0921-12 34 65|0921-12 34 67|\n",
       "|BLAUS|Blauer See Delikatessen|Hanna Moos|Sales Representative|Forsterstr. 57|Mannheim|Western Europe|68306|Germany|0621-08460|0621-08924|\n",
       "|BLONP|Blondesddsl père et fils|Frédérique Citeaux|Marketing Manager|24, place Kléber|Strasbourg|Western Europe|67000|France|88.60.15.31|88.60.15.32|\n",
       "|BOLID|Bólido Comidas preparadas|Martín Sommer|Owner|C/ Araquil, 67|Madrid|Southern Europe|28023|Spain|(91) 555 22 82|(91) 555 91 99|\n",
       "|BONAP|Bon app'|Laurence Lebihan|Owner|12, rue des Bouchers|Marseille|Western Europe|13008|France|91.24.45.40|91.24.45.41|\n",
       "|BOTTM|Bottom-Dollar Markets|Elizabeth Lincoln|Accounting Manager|23 Tsawassen Blvd.|Tsawassen|North America|T2F 8M4|Canada|(604) 555-4729|(604) 555-3745|\n",
       "|BSBEV|B's Beverages|Victoria Ashworth|Sales Representative|Fauntleroy Circus|London|British Isles|EC2 5NT|UK|(171) 555-1212||\n",
       "|CACTU|Cactus Comidas para llevar|Patricio Simpson|Sales Agent|Cerrito 333|Buenos Aires|South America|1010|Argentina|(1) 135-5555|(1) 135-4892|\n",
       "|CENTC|Centro comercial Moctezuma|Francisco Chang|Marketing Manager|Sierras de Granada 9993|México D.F.|Central America|05022|Mexico|(5) 555-3392|(5) 555-7293|\n",
       "|CHOPS|Chop-suey Chinese|Yang Wang|Owner|Hauptstr. 29|Bern|Western Europe|3012|Switzerland|0452-076545||\n",
       "|COMMI|Comércio Mineiro|Pedro Afonso|Sales Associate|Av. dos Lusíadas, 23|Sao Paulo|South America|05432-043|Brazil|(11) 555-7647||\n",
       "|CONSH|Consolidated Holdings|Elizabeth Brown|Sales Representative|Berkeley Gardens 12  Brewery|London|British Isles|WX1 6LT|UK|(171) 555-2282|(171) 555-9199|\n",
       "|DRACD|Drachenblut Delikatessen|Sven Ottlieb|Order Administrator|Walserweg 21|Aachen|Western Europe|52066|Germany|0241-039123|0241-059428|\n",
       "|DUMON|Du monde entier|Janine Labrune|Owner|67, rue des Cinquante Otages|Nantes|Western Europe|44000|France|40.67.88.88|40.67.89.89|\n",
       "|EASTC|Eastern Connection|Ann Devon|Sales Agent|35 King George|London|British Isles|WX3 6FW|UK|(171) 555-0297|(171) 555-3373|\n",
       "|ERNSH|Ernst Handel|Roland Mendel|Sales Manager|Kirchgasse 6|Graz|Western Europe|8010|Austria|7675-3425|7675-3426|\n",
       "|FAMIA|Familia Arquibaldo|Aria Cruz|Marketing Assistant|Rua Orós, 92|Sao Paulo|South America|05442-030|Brazil|(11) 555-9857||\n",
       "|FISSA|FISSA Fabrica Inter. Salchichas S.A.|Diego Roel|Accounting Manager|C/ Moralzarzal, 86|Madrid|Southern Europe|28034|Spain|(91) 555 94 44|(91) 555 55 93|\n",
       "|FOLIG|Folies gourmandes|Martine Rancé|Assistant Sales Agent|184, chaussée de Tournai|Lille|Western Europe|59000|France|20.16.10.16|20.16.10.17|\n",
       "|FOLKO|Folk och fä HB|Maria Larsson|Owner|Åkergatan 24|Bräcke|Northern Europe|S-844 67|Sweden|0695-34 67 21||\n",
       "|FRANK|Frankenversand|Peter Franken|Marketing Manager|Berliner Platz 43|München|Western Europe|80805|Germany|089-0877310|089-0877451|\n",
       "|FRANR|France restauration|Carine Schmitt|Marketing Manager|54, rue Royale|Nantes|Western Europe|44000|France|40.32.21.21|40.32.21.20|\n",
       "|FRANS|Franchi S.p.A.|Paolo Accorti|Sales Representative|Via Monte Bianco 34|Torino|Southern Europe|10100|Italy|011-4988260|011-4988261|\n",
       "|FURIB|Furia Bacalhau e Frutos do Mar|Lino Rodriguez|Sales Manager|Jardim das rosas n. 32|Lisboa|Southern Europe|1675|Portugal|(1) 354-2534|(1) 354-2535|\n",
       "|GALED|Galería del gastrónomo|Eduardo Saavedra|Marketing Manager|Rambla de Cataluña, 23|Barcelona|Southern Europe|08022|Spain|(93) 203 4560|(93) 203 4561|\n",
       "|GODOS|Godos Cocina Típica|José Pedro Freyre|Sales Manager|C/ Romero, 33|Sevilla|Southern Europe|41101|Spain|(95) 555 82 82||\n",
       "|GOURL|Gourmet Lanchonetes|André Fonseca|Sales Associate|Av. Brasil, 442|Campinas|South America|04876-786|Brazil|(11) 555-9482||\n",
       "|GREAL|Great Lakes Food Market|Howard Snyder|Marketing Manager|2732 Baker Blvd.|Eugene|North America|97403|USA|(503) 555-7555||\n",
       "|GROSR|GROSELLA-Restaurante|Manuel Pereira|Owner|5ª Ave. Los Palos Grandes|Caracas|South America|1081|Venezuela|(2) 283-2951|(2) 283-3397|\n",
       "|HANAR|Hanari Carnes|Mario Pontes|Accounting Manager|Rua do Paço, 67|Rio de Janeiro|South America|05454-876|Brazil|(21) 555-0091|(21) 555-8765|\n",
       "|HILAA|HILARION-Abastos|Carlos Hernández|Sales Representative|Carrera 22 con Ave. Carlos Soublette #8-35|San Cristóbal|South America|5022|Venezuela|(5) 555-1340|(5) 555-1948|\n",
       "|HUNGC|Hungry Coyote Import Store|Yoshi Latimer|Sales Representative|City Center Plaza 516 Main St.|Elgin|North America|97827|USA|(503) 555-6874|(503) 555-2376|\n",
       "|HUNGO|Hungry Owl All-Night Grocers|Patricia McKenna|Sales Associate|8 Johnstown Road|Cork|British Isles||Ireland|2967 542|2967 3333|\n",
       "|ISLAT|Island Trading|Helen Bennett|Marketing Manager|Garden House Crowther Way|Cowes|British Isles|PO31 7PJ|UK|(198) 555-8888||\n",
       "|KOENE|Königlich Essen|Philip Cramer|Sales Associate|Maubelstr. 90|Brandenburg|Western Europe|14776|Germany|0555-09876||\n",
       "|LACOR|La corne d'abondance|Daniel Tonini|Sales Representative|67, avenue de l'Europe|Versailles|Western Europe|78000|France|30.59.84.10|30.59.85.11|\n",
       "|LAMAI|La maison d'Asie|Annette Roulet|Sales Manager|1 rue Alsace-Lorraine|Toulouse|Western Europe|31000|France|61.77.61.10|61.77.61.11|\n",
       "|LAUGB|Laughing Bacchus Wine Cellars|Yoshi Tannamuri|Marketing Assistant|1900 Oak St.|Vancouver|North America|V3F 2K1|Canada|(604) 555-3392|(604) 555-7293|\n",
       "|LAZYK|Lazy K Kountry Store|John Steel|Marketing Manager|12 Orchestra Terrace|Walla Walla|North America|99362|USA|(509) 555-7969|(509) 555-6221|\n",
       "|LEHMS|Lehmanns Marktstand|Renate Messner|Sales Representative|Magazinweg 7|Frankfurt a.M.|Western Europe|60528|Germany|069-0245984|069-0245874|\n",
       "|LETSS|Let's Stop N Shop|Jaime Yorres|Owner|87 Polk St. Suite 5|San Francisco|North America|94117|USA|(415) 555-5938||\n",
       "|LILAS|LILA-Supermercado|Carlos González|Accounting Manager|Carrera 52 con Ave. Bolívar #65-98 Llano Largo|Barquisimeto|South America|3508|Venezuela|(9) 331-6954|(9) 331-7256|\n",
       "|LINOD|LINO-Delicateses|Felipe Izquierdo|Owner|Ave. 5 de Mayo Porlamar|I. de Margarita|South America|4980|Venezuela|(8) 34-56-12|(8) 34-93-93|\n",
       "|LONEP|Lonesome Pine Restaurant|Fran Wilson|Sales Manager|89 Chiaroscuro Rd.|Portland|North America|97219|USA|(503) 555-9573|(503) 555-9646|\n",
       "|MAGAA|Magazzini Alimentari Riuniti|Giovanni Rovelli|Marketing Manager|Via Ludovico il Moro 22|Bergamo|Southern Europe|24100|Italy|035-640230|035-640231|\n",
       "|MAISD|Maison Dewey|Catherine Dewey|Sales Agent|Rue Joseph-Bens 532|Bruxelles|Western Europe|B-1180|Belgium|(02) 201 24 67|(02) 201 24 68|\n",
       "|MEREP|Mère Paillarde|Jean Fresnière|Marketing Assistant|43 rue St. Laurent|Montréal|North America|H1J 1C3|Canada|(514) 555-8054|(514) 555-8055|\n",
       "|MORGK|Morgenstern Gesundkost|Alexander Feuer|Marketing Assistant|Heerstr. 22|Leipzig|Western Europe|04179|Germany|0342-023176||\n",
       "|NORTS|North/South|Simon Crowther|Sales Associate|South House 300 Queensbridge|London|British Isles|SW7 1RZ|UK|(171) 555-7733|(171) 555-2530|\n",
       "|OCEAN|Océano Atlántico Ltda.|Yvonne Moncada|Sales Agent|Ing. Gustavo Moncada 8585 Piso 20-A|Buenos Aires|South America|1010|Argentina|(1) 135-5333|(1) 135-5535|\n",
       "|OLDWO|Old World Delicatessen|Rene Phillips|Sales Representative|2743 Bering St.|Anchorage|North America|99508|USA|(907) 555-7584|(907) 555-2880|\n",
       "|OTTIK|Ottilies Käseladen|Henriette Pfalzheim|Owner|Mehrheimerstr. 369|Köln|Western Europe|50739|Germany|0221-0644327|0221-0765721|\n",
       "|PARIS|Paris spécialités|Marie Bertrand|Owner|265, boulevard Charonne|Paris|Western Europe|75012|France|(1) 42.34.22.66|(1) 42.34.22.77|\n",
       "|PERIC|Pericles Comidas clásicas|Guillermo Fernández|Sales Representative|Calle Dr. Jorge Cash 321|México D.F.|Central America|05033|Mexico|(5) 552-3745|(5) 545-3745|\n",
       "|PICCO|Piccolo und mehr|Georg Pipps|Sales Manager|Geislweg 14|Salzburg|Western Europe|5020|Austria|6562-9722|6562-9723|\n",
       "|PRINI|Princesa Isabel Vinhos|Isabel de Castro|Sales Representative|Estrada da saúde n. 58|Lisboa|Southern Europe|1756|Portugal|(1) 356-5634||\n",
       "|QUEDE|Que Delícia|Bernardo Batista|Accounting Manager|Rua da Panificadora, 12|Rio de Janeiro|South America|02389-673|Brazil|(21) 555-4252|(21) 555-4545|\n",
       "|QUEEN|Queen Cozinha|Lúcia Carvalho|Marketing Assistant|Alameda dos Canàrios, 891|Sao Paulo|South America|05487-020|Brazil|(11) 555-1189||\n",
       "|QUICK|QUICK-Stop|Horst Kloss|Accounting Manager|Taucherstraße 10|Cunewalde|Western Europe|01307|Germany|0372-035188||\n",
       "|RANCH|Rancho grande|Sergio Gutiérrez|Sales Representative|Av. del Libertador 900|Buenos Aires|South America|1010|Argentina|(1) 123-5555|(1) 123-5556|\n",
       "|RATTC|Rattlesnake Canyon Grocery|Paula Wilson|Assistant Sales Representative|2817 Milton Dr.|Albuquerque|North America|87110|USA|(505) 555-5939|(505) 555-3620|\n",
       "|REGGC|Reggiani Caseifici|Maurizio Moroni|Sales Associate|Strada Provinciale 124|Reggio Emilia|Southern Europe|42100|Italy|0522-556721|0522-556722|\n",
       "|RICAR|Ricardo Adocicados|Janete Limeira|Assistant Sales Agent|Av. Copacabana, 267|Rio de Janeiro|South America|02389-890|Brazil|(21) 555-3412||\n",
       "|RICSU|Richter Supermarkt|Michael Holz|Sales Manager|Grenzacherweg 237|Genève|Western Europe|1203|Switzerland|0897-034214||\n",
       "|ROMEY|Romero y tomillo|Alejandra Camino|Accounting Manager|Gran Vía, 1|Madrid|Southern Europe|28001|Spain|(91) 745 6200|(91) 745 6210|\n",
       "|SANTG|Santé Gourmet|Jonas Bergulfsen|Owner|Erling Skakkes gate 78|Stavern|Scandinavia|4110|Norway|07-98 92 35|07-98 92 47|\n",
       "|SAVEA|Save-a-lot Markets|Jose Pavarotti|Sales Representative|187 Suffolk Ln.|Boise|North America|83720|USA|(208) 555-8097||\n",
       "|SEVES|Seven Seas Imports|Hari Kumar|Sales Manager|90 Wadhurst Rd.|London|British Isles|OX15 4NB|UK|(171) 555-1717|(171) 555-5646|\n",
       "|SIMOB|Simons bistro|Jytte Petersen|Owner|Vinbæltet 34|Kobenhavn|Northern Europe|1734|Denmark|31 12 34 56|31 13 35 57|\n",
       "|SPECD|Spécialités du monde|Dominique Perrier|Marketing Manager|25, rue Lauriston|Paris|Western Europe|75016|France|(1) 47.55.60.10|(1) 47.55.60.20|\n",
       "|SPLIR|Split Rail Beer & Ale|Art Braunschweiger|Sales Manager|P.O. Box 555|Lander|North America|82520|USA|(307) 555-4680|(307) 555-6525|\n",
       "|SUPRD|Suprêmes délices|Pascale Cartrain|Accounting Manager|Boulevard Tirou, 255|Charleroi|Western Europe|B-6000|Belgium|(071) 23 67 22 20|(071) 23 67 22 21|\n",
       "|THEBI|The Big Cheese|Liz Nixon|Marketing Manager|89 Jefferson Way Suite 2|Portland|North America|97201|USA|(503) 555-3612||\n",
       "|THECR|The Cracker Box|Liu Wong|Marketing Assistant|55 Grizzly Peak Rd.|Butte|North America|59801|USA|(406) 555-5834|(406) 555-8083|\n",
       "|TOMSP|Toms Spezialitäten|Karin Josephs|Marketing Manager|Luisenstr. 48|Münster|Western Europe|44087|Germany|0251-031259|0251-035695|\n",
       "|TORTU|Tortuga Restaurante|Miguel Angel Paolino|Owner|Avda. Azteca 123|México D.F.|Central America|05033|Mexico|(5) 555-2933||\n",
       "|TRADH|Tradição Hipermercados|Anabela Domingues|Sales Representative|Av. Inês de Castro, 414|Sao Paulo|South America|05634-030|Brazil|(11) 555-2167|(11) 555-2168|\n",
       "|TRAIH|Trail's Head Gourmet Provisioners|Helvetius Nagy|Sales Associate|722 DaVinci Blvd.|Kirkland|North America|98034|USA|(206) 555-8257|(206) 555-2174|\n",
       "|VAFFE|Vaffeljernet|Palle Ibsen|Sales Manager|Smagsloget 45|Århus|Northern Europe|8200|Denmark|86 21 32 43|86 22 33 44|\n",
       "|Val2 |IT|Val2|IT||||||||\n",
       "|VALON|IT|Valon Hoti|IT||||||||\n",
       "|VICTE|Victuailles en stock|Mary Saveley|Sales Agent|2, rue du Commerce|Lyon|Western Europe|69004|France|78.32.54.86|78.32.54.87|\n",
       "|VINET|Vins et alcools Chevalier|Paul Henriot|Accounting Manager|59 rue de l'Abbaye|Reims|Western Europe|51100|France|26.47.15.10|26.47.15.11|\n",
       "|WANDK|Die Wandernde Kuh|Rita Müller|Sales Representative|Adenauerallee 900|Stuttgart|Western Europe|70563|Germany|0711-020361|0711-035428|\n",
       "|WARTH|Wartian Herkku|Pirkko Koskitalo|Accounting Manager|Torikatu 38|Oulu|Scandinavia|90110|Finland|981-443655|981-443655|\n",
       "|WELLI|Wellington Importadora|Paula Parente|Sales Manager|Rua do Mercado, 12|Resende|South America|08737-363|Brazil|(14) 555-8122||\n",
       "|WHITC|White Clover Markets|Karl Jablonski|Owner|305 - 14th Ave. S. Suite 3B|Seattle|North America|98128|USA|(206) 555-4112|(206) 555-4115|\n",
       "|WILMK|Wilman Kala|Matti Karttunen|Owner/Marketing Assistant|Keskuskatu 45|Helsinki|Scandinavia|21240|Finland|90-224 8858|90-224 8858|\n",
       "|WOLZA|Wolski  Zajazd|Zbyszek Piestrzeniewicz|Owner|ul. Filtrowa 68|Warszawa|Eastern Europe|01-012|Poland|(26) 642-7012|(26) 642-7012|\n",
       "||Exotic Liquids||||London|||UK|||\n",
       "||New Orleans Cajun Delights||||New Orleans|||USA|||\n",
       "||Grandma Kelly's Homestead||||Ann Arbor|||USA|||\n",
       "||Tokyo Traders||||Tokyo|||Japan|||\n",
       "||Cooperativa de Quesos 'Las Cabras'||||Oviedo|||Spain|||\n",
       "||Mayumi's||||Osaka|||Japan|||\n",
       "||Pavlova, Ltd.||||Melbourne|||Australia|||\n",
       "||Specialty Biscuits, Ltd.||||Manchester|||UK|||\n",
       "||PB Knäckebröd AB||||Göteborg|||Sweden |||\n",
       "||Refrescos Americanas LTDA||||São Paulo|||Brazil|||\n",
       "||Heli Süßwaren GmbH & Co. KG||||Berlin|||Germany|||\n",
       "||Plutzer Lebensmittelgroßmärkte AG||||Frankfurt|||Germany|||\n",
       "||Nord-Ost-Fisch Handelsgesellschaft mbH||||Cuxhaven|||Germany|||\n",
       "||Formaggi Fortini s.r.l.||||Ravenna|||Italy|||\n",
       "||Norske Meierier||||Sandvika|||Norway|||\n",
       "||Bigfoot Breweries||||Bend|||USA|||\n",
       "||Svensk Sjöföda AB||||Stockholm|||Sweden|||\n",
       "||Aux joyeux ecclésiastiques||||Paris|||France|||\n",
       "||New England Seafood Cannery||||Boston|||USA|||\n",
       "||Leka Trading||||Singapore|||Singapore|||\n",
       "||Lyngbysild||||Lyngby|||Denmark|||\n",
       "||Zaanse Snoepfabriek||||Zaandam|||Netherlands|||\n",
       "||Karkki Oy||||Lappeenranta|||Finland|||\n",
       "||G'day, Mate||||Sydney|||Australia|||\n",
       "||Ma Maison||||Montréal|||Canada|||\n",
       "||Pasta Buttini s.r.l.||||Salerno|||Italy|||\n",
       "||Escargots Nouveaux||||Montceau|||France|||\n",
       "||Gai pâturage||||Annecy|||France|||\n",
       "||Forêts d'érables||||Ste-Hyacinthe|||Canada|||\n",
       "||Exotic Liquids|Charlotte Cooper||49 Gilbert St.|London||EC1 4SD|UK|||\n",
       "||New Orleans Cajun Delights|Shelley Burke||P.O. Box 78934|New Orleans||70117|USA|||\n",
       "||Grandma Kelly's Homestead|Regina Murphy||707 Oxford Rd.|Ann Arbor||48104|USA|||\n",
       "||Tokyo Traders|Yoshi Nagase||9-8 Sekimai\n",
       "Musashino-shi|Tokyo||100|Japan|||\n",
       "||Cooperativa de Quesos 'Las Cabras'|Antonio del Valle Saavedra ||Calle del Rosal 4|Oviedo||33007|Spain|||\n",
       "||Mayumi's|Mayumi Ohno||92 Setsuko\n",
       "Chuo-ku|Osaka||545|Japan|||\n",
       "||Pavlova, Ltd.|Ian Devling||74 Rose St.\n",
       "Moonie Ponds|Melbourne||3058|Australia|||\n",
       "||Specialty Biscuits, Ltd.|Peter Wilson||29 King's Way|Manchester||M14 GSD|UK|||\n",
       "||PB Knäckebröd AB|Lars Peterson||Kaloadagatan 13|Göteborg||S-345 67|Sweden |||\n",
       "||Refrescos Americanas LTDA|Carlos Diaz||Av. das Americanas 12.890|São Paulo||5442|Brazil|||\n",
       "||Heli Süßwaren GmbH & Co. KG|Petra Winkler||Tiergartenstraße 5|Berlin||10785|Germany|||\n",
       "||Plutzer Lebensmittelgroßmärkte AG|Martin Bein||Bogenallee 51|Frankfurt||60439|Germany|||\n",
       "||Nord-Ost-Fisch Handelsgesellschaft mbH|Sven Petersen||Frahmredder 112a|Cuxhaven||27478|Germany|||\n",
       "||Formaggi Fortini s.r.l.|Elio Rossi||Viale Dante, 75|Ravenna||48100|Italy|||\n",
       "||Norske Meierier|Beate Vileid||Hatlevegen 5|Sandvika||1320|Norway|||\n",
       "||Bigfoot Breweries|Cheryl Saylor||3400 - 8th Avenue\n",
       "Suite 210|Bend||97101|USA|||\n",
       "||Svensk Sjöföda AB|Michael Björn||Brovallavägen 231|Stockholm||S-123 45|Sweden|||\n",
       "||Aux joyeux ecclésiastiques|Guylène Nodier||203, Rue des Francs-Bourgeois|Paris||75004|France|||\n",
       "||New England Seafood Cannery|Robb Merchant||Order Processing Dept.\n",
       "2100 Paul Revere Blvd.|Boston||02134|USA|||\n",
       "||Leka Trading|Chandra Leka||471 Serangoon Loop, Suite #402|Singapore||0512|Singapore|||\n",
       "||Lyngbysild|Niels Petersen||Lyngbysild\n",
       "Fiskebakken 10|Lyngby||2800|Denmark|||\n",
       "||Zaanse Snoepfabriek|Dirk Luchte||Verkoop\n",
       "Rijnweg 22|Zaandam||9999 ZZ|Netherlands|||\n",
       "||Karkki Oy|Anne Heikkonen||Valtakatu 12|Lappeenranta||53120|Finland|||\n",
       "||G'day, Mate|Wendy Mackenzie||170 Prince Edward Parade\n",
       "Hunter's Hill|Sydney||2042|Australia|||\n",
       "||Ma Maison|Jean-Guy Lauzon||2960 Rue St. Laurent|Montréal||H1J 1C3|Canada|||\n",
       "||Pasta Buttini s.r.l.|Giovanni Giudici||Via dei Gelsomini, 153|Salerno||84100|Italy|||\n",
       "||Escargots Nouveaux|Marie Delamare||22, rue H. Voiron|Montceau||71300|France|||\n",
       "||Gai pâturage|Eliane Noz||Bat. B\n",
       "3, rue des Alpes|Annecy||74000|France|||\n",
       "||Forêts d'érables|Chantal Goulet||148 rue Chasseur|Ste-Hyacinthe||J2S 7S8|Canada|||\n",
       "||Heli Süßwaren GmbH & Co. KG||||Berlin|||Germany|||\n",
       "||Plutzer Lebensmittelgroßmärkte AG||||Frankfurt|||Germany|||\n",
       "||Nord-Ost-Fisch Handelsgesellschaft mbH||||Cuxhaven|||Germany|||\n",
       "||Heli Süßwaren GmbH & Co. KG||||Berlin|||Germany|||\n",
       "||Plutzer Lebensmittelgroßmärkte AG||||Frankfurt|||Germany|||\n",
       "||Nord-Ost-Fisch Handelsgesellschaft mbH||||Cuxhaven|||Germany|||"
      ],
      "text/plain": [
       "<IPython.core.display.Markdown object>"
      ]
     },
     "metadata": {},
     "output_type": "display_data"
    }
   ],
   "source": [
    "# select all columns\n",
    "execute_and_show(cur, 'SELECT * FROM Customers;')"
   ]
  },
  {
   "cell_type": "markdown",
   "metadata": {},
   "source": [
    "# SQL SELECT DISTINCT"
   ]
  },
  {
   "cell_type": "code",
   "execution_count": 5,
   "metadata": {},
   "outputs": [
    {
     "data": {
      "text/markdown": [
       "|Country|\n",
       "|-|\n",
       "|Germany|\n",
       "|Mexico|\n",
       "|UK|\n",
       "|Sweden|\n",
       "|France|\n",
       "|Spain|\n",
       "|Canada|\n",
       "|Argentina|\n",
       "|Switzerland|\n",
       "|Brazil|\n",
       "|Austria|\n",
       "|Italy|\n",
       "|Portugal|\n",
       "|USA|\n",
       "|Venezuela|\n",
       "|Ireland|\n",
       "|Belgium|\n",
       "|Norway|\n",
       "|Denmark|\n",
       "||\n",
       "|Finland|\n",
       "|Poland|\n",
       "|Japan|\n",
       "|Australia|\n",
       "|Sweden |\n",
       "|Singapore|\n",
       "|Netherlands|"
      ],
      "text/plain": [
       "<IPython.core.display.Markdown object>"
      ]
     },
     "metadata": {},
     "output_type": "display_data"
    }
   ],
   "source": [
    "# select distinct\n",
    "execute_and_show(cur,\n",
    "                 'SELECT DISTINCT Country FROM Customers;')"
   ]
  },
  {
   "cell_type": "code",
   "execution_count": 6,
   "metadata": {},
   "outputs": [
    {
     "data": {
      "text/markdown": [
       "|Country|\n",
       "|-|\n",
       "|Germany|\n",
       "|Mexico|\n",
       "|Mexico|\n",
       "|UK|\n",
       "|Sweden|\n",
       "|Germany|\n",
       "|France|\n",
       "|Spain|\n",
       "|France|\n",
       "|Canada|\n",
       "|UK|\n",
       "|Argentina|\n",
       "|Mexico|\n",
       "|Switzerland|\n",
       "|Brazil|\n",
       "|UK|\n",
       "|Germany|\n",
       "|France|\n",
       "|UK|\n",
       "|Austria|\n",
       "|Brazil|\n",
       "|Spain|\n",
       "|France|\n",
       "|Sweden|\n",
       "|Germany|\n",
       "|France|\n",
       "|Italy|\n",
       "|Portugal|\n",
       "|Spain|\n",
       "|Spain|\n",
       "|Brazil|\n",
       "|USA|\n",
       "|Venezuela|\n",
       "|Brazil|\n",
       "|Venezuela|\n",
       "|USA|\n",
       "|Ireland|\n",
       "|UK|\n",
       "|Germany|\n",
       "|France|\n",
       "|France|\n",
       "|Canada|\n",
       "|USA|\n",
       "|Germany|\n",
       "|USA|\n",
       "|Venezuela|\n",
       "|Venezuela|\n",
       "|USA|\n",
       "|Italy|\n",
       "|Belgium|\n",
       "|Canada|\n",
       "|Germany|\n",
       "|UK|\n",
       "|Argentina|\n",
       "|USA|\n",
       "|Germany|\n",
       "|France|\n",
       "|Mexico|\n",
       "|Austria|\n",
       "|Portugal|\n",
       "|Brazil|\n",
       "|Brazil|\n",
       "|Germany|\n",
       "|Argentina|\n",
       "|USA|\n",
       "|Italy|\n",
       "|Brazil|\n",
       "|Switzerland|\n",
       "|Spain|\n",
       "|Norway|\n",
       "|USA|\n",
       "|UK|\n",
       "|Denmark|\n",
       "|France|\n",
       "|USA|\n",
       "|Belgium|\n",
       "|USA|\n",
       "|USA|\n",
       "|Germany|\n",
       "|Mexico|\n",
       "|Brazil|\n",
       "|USA|\n",
       "|Denmark|\n",
       "||\n",
       "||\n",
       "|France|\n",
       "|France|\n",
       "|Germany|\n",
       "|Finland|\n",
       "|Brazil|\n",
       "|USA|\n",
       "|Finland|\n",
       "|Poland|\n",
       "|UK|\n",
       "|USA|\n",
       "|USA|\n",
       "|Japan|\n",
       "|Spain|\n",
       "|Japan|\n",
       "|Australia|\n",
       "|UK|\n",
       "|Sweden |\n",
       "|Brazil|\n",
       "|Germany|\n",
       "|Germany|\n",
       "|Germany|\n",
       "|Italy|\n",
       "|Norway|\n",
       "|USA|\n",
       "|Sweden|\n",
       "|France|\n",
       "|USA|\n",
       "|Singapore|\n",
       "|Denmark|\n",
       "|Netherlands|\n",
       "|Finland|\n",
       "|Australia|\n",
       "|Canada|\n",
       "|Italy|\n",
       "|France|\n",
       "|France|\n",
       "|Canada|\n",
       "|UK|\n",
       "|USA|\n",
       "|USA|\n",
       "|Japan|\n",
       "|Spain|\n",
       "|Japan|\n",
       "|Australia|\n",
       "|UK|\n",
       "|Sweden |\n",
       "|Brazil|\n",
       "|Germany|\n",
       "|Germany|\n",
       "|Germany|\n",
       "|Italy|\n",
       "|Norway|\n",
       "|USA|\n",
       "|Sweden|\n",
       "|France|\n",
       "|USA|\n",
       "|Singapore|\n",
       "|Denmark|\n",
       "|Netherlands|\n",
       "|Finland|\n",
       "|Australia|\n",
       "|Canada|\n",
       "|Italy|\n",
       "|France|\n",
       "|France|\n",
       "|Canada|\n",
       "|Germany|\n",
       "|Germany|\n",
       "|Germany|\n",
       "|Germany|\n",
       "|Germany|\n",
       "|Germany|"
      ],
      "text/plain": [
       "<IPython.core.display.Markdown object>"
      ]
     },
     "metadata": {},
     "output_type": "display_data"
    }
   ],
   "source": [
    "# select without distinct\n",
    "execute_and_show(cur,\n",
    "                 'SELECT Country FROM Customers;')"
   ]
  },
  {
   "cell_type": "code",
   "execution_count": 7,
   "metadata": {},
   "outputs": [
    {
     "data": {
      "text/markdown": [
       "|COUNT(DISTINCT Country)|\n",
       "|-|\n",
       "|26|"
      ],
      "text/plain": [
       "<IPython.core.display.Markdown object>"
      ]
     },
     "metadata": {},
     "output_type": "display_data"
    }
   ],
   "source": [
    "# count distinct\n",
    "execute_and_show(cur,\n",
    "                 'SELECT COUNT(DISTINCT Country) FROM Customers;')"
   ]
  },
  {
   "cell_type": "code",
   "execution_count": 8,
   "metadata": {},
   "outputs": [
    {
     "data": {
      "text/markdown": [
       "|DistinctCountries|\n",
       "|-|\n",
       "|27|"
      ],
      "text/plain": [
       "<IPython.core.display.Markdown object>"
      ]
     },
     "metadata": {},
     "output_type": "display_data"
    }
   ],
   "source": [
    "# count distinct for MS Access\n",
    "execute_and_show(cur,\n",
    "                 \"\"\"\n",
    "                 SELECT Count(*) AS DistinctCountries\n",
    "                 FROM (SELECT DISTINCT Country FROM Customers);\n",
    "                 \"\"\")"
   ]
  },
  {
   "cell_type": "markdown",
   "metadata": {},
   "source": [
    "- SQLite에서 `Count(Distinct Countries)`와 `Count(*)` 결과값이 다른 이유\n",
    "    - `Count(Distinct Countries)`\n",
    "        - 집계시 NULL 제외\n",
    "    - `Count(*)`\n",
    "        - NULL 상관 없이 row 수로 집계\n",
    "\n",
    "출처: https://www.sqlite.org/lang_aggfunc.html"
   ]
  },
  {
   "cell_type": "markdown",
   "metadata": {},
   "source": [
    "# SQL WHERE"
   ]
  },
  {
   "cell_type": "code",
   "execution_count": 9,
   "metadata": {},
   "outputs": [
    {
     "data": {
      "text/markdown": [
       "|CustomerID|CompanyName|ContactName|ContactTitle|Address|City|Region|PostalCode|Country|Phone|Fax|\n",
       "|-|-|-|-|-|-|-|-|-|-|-|\n",
       "|ANATR|Ana Trujillo Emparedados y helados|Ana Trujillo|Owner|Avda. de la Constitución 2222|México D.F.|Central America|05021|Mexico|(5) 555-4729|(5) 555-3745|\n",
       "|ANTON|Antonio Moreno Taquería|Antonio Moreno|Owner|Mataderos  2312|México D.F.|Central America|05023|Mexico|(5) 555-3932||\n",
       "|CENTC|Centro comercial Moctezuma|Francisco Chang|Marketing Manager|Sierras de Granada 9993|México D.F.|Central America|05022|Mexico|(5) 555-3392|(5) 555-7293|\n",
       "|PERIC|Pericles Comidas clásicas|Guillermo Fernández|Sales Representative|Calle Dr. Jorge Cash 321|México D.F.|Central America|05033|Mexico|(5) 552-3745|(5) 545-3745|\n",
       "|TORTU|Tortuga Restaurante|Miguel Angel Paolino|Owner|Avda. Azteca 123|México D.F.|Central America|05033|Mexico|(5) 555-2933||"
      ],
      "text/plain": [
       "<IPython.core.display.Markdown object>"
      ]
     },
     "metadata": {},
     "output_type": "display_data"
    }
   ],
   "source": [
    "# where statement for text field\n",
    "execute_and_show(cur,\n",
    "                 '''\n",
    "                 SELECT * FROM Customers\n",
    "                 WHERE Country='Mexico';\n",
    "                 ''')"
   ]
  },
  {
   "cell_type": "code",
   "execution_count": 10,
   "metadata": {},
   "outputs": [
    {
     "data": {
      "text/markdown": [
       "|ProductID|ProductName|SupplierID|CategoryID|QuantityPerUnit|UnitPrice|UnitsInStock|UnitsOnOrder|ReorderLevel|Discontinued|\n",
       "|-|-|-|-|-|-|-|-|-|-|\n",
       "|1|Chai|1|1|10 boxes x 20 bags|18|39|0|10|0|"
      ],
      "text/plain": [
       "<IPython.core.display.Markdown object>"
      ]
     },
     "metadata": {},
     "output_type": "display_data"
    }
   ],
   "source": [
    "# where statement for numeric field\n",
    "execute_and_show(cur,\n",
    "                 '''\n",
    "                 SELECT * FROM Products\n",
    "                 WHERE ProductID=1;\n",
    "                 ''')"
   ]
  },
  {
   "cell_type": "code",
   "execution_count": 11,
   "metadata": {},
   "outputs": [
    {
     "data": {
      "text/markdown": [
       "|ProductID|ProductName|SupplierID|CategoryID|QuantityPerUnit|UnitPrice|UnitsInStock|UnitsOnOrder|ReorderLevel|Discontinued|\n",
       "|-|-|-|-|-|-|-|-|-|-|\n",
       "|51|Manjimup Dried Apples|24|7|50 - 300 g pkgs.|53|20|0|10|0|\n",
       "|52|Filo Mix|24|5|16 - 2 kg boxes|7|38|0|25|0|\n",
       "|53|Perth Pasties|24|6|48 pieces|32.8|0|0|0|1|\n",
       "|54|Tourtière|25|6|16 pies|7.45|21|0|10|0|\n",
       "|55|Pâté chinois|25|6|24 boxes x 2 pies|24|115|0|20|0|\n",
       "|56|Gnocchi di nonna Alice|26|5|24 - 250 g pkgs.|38|21|10|30|0|\n",
       "|57|Ravioli Angelo|26|5|24 - 250 g pkgs.|19.5|36|0|20|0|\n",
       "|58|Escargots de Bourgogne|27|8|24 pieces|13.25|62|0|20|0|\n",
       "|59|Raclette Courdavault|28|4|5 kg pkg.|55|79|0|0|0|\n",
       "|60|Camembert Pierrot|28|4|15 - 300 g rounds|34|19|0|0|0|\n",
       "|61|Sirop d'érable|29|2|24 - 500 ml bottles|28.5|113|0|25|0|\n",
       "|62|Tarte au sucre|29|3|48 pies|49.3|17|0|0|0|\n",
       "|63|Vegie-spread|7|2|15 - 625 g jars|43.9|24|0|5|0|\n",
       "|64|Wimmers gute Semmelknödel|12|5|20 bags x 4 pieces|33.25|22|80|30|0|\n",
       "|65|Louisiana Fiery Hot Pepper Sauce|2|2|32 - 8 oz bottles|21.05|76|0|0|0|\n",
       "|66|Louisiana Hot Spiced Okra|2|2|24 - 8 oz jars|17|4|100|20|0|\n",
       "|67|Laughing Lumberjack Lager|16|1|24 - 12 oz bottles|14|52|0|10|0|\n",
       "|68|Scottish Longbreads|8|3|10 boxes x 8 pieces|12.5|6|10|15|0|\n",
       "|69|Gudbrandsdalsost|15|4|10 kg pkg.|36|26|0|15|0|\n",
       "|70|Outback Lager|7|1|24 - 355 ml bottles|15|15|10|30|0|\n",
       "|71|Flotemysost|15|4|10 - 500 g pkgs.|21.5|26|0|0|0|\n",
       "|72|Mozzarella di Giovanni|14|4|24 - 200 g pkgs.|34.8|14|0|0|0|\n",
       "|73|Röd Kaviar|17|8|24 - 150 g jars|15|101|0|5|0|\n",
       "|74|Longlife Tofu|4|7|5 kg pkg.|10|4|20|5|0|\n",
       "|75|Rhönbräu Klosterbier|12|1|24 - 0.5 l bottles|7.75|125|0|25|0|\n",
       "|76|Lakkalikööri|23|1|500 ml|18|57|0|20|0|\n",
       "|77|Original Frankfurter grüne Soße|12|2|12 boxes|13|32|0|15|0|"
      ],
      "text/plain": [
       "<IPython.core.display.Markdown object>"
      ]
     },
     "metadata": {},
     "output_type": "display_data"
    }
   ],
   "source": [
    "# operators in the WHERE clause\n",
    "execute_and_show(cur,\n",
    "                 '''\n",
    "                 SELECT * FROM Products\n",
    "                 WHERE ProductID > 50;\n",
    "                 ''')"
   ]
  },
  {
   "cell_type": "markdown",
   "metadata": {},
   "source": [
    "# SQL ORDER BY"
   ]
  },
  {
   "cell_type": "code",
   "execution_count": 12,
   "metadata": {},
   "outputs": [
    {
     "data": {
      "text/markdown": [
       "|ProductID|ProductName|SupplierID|CategoryID|QuantityPerUnit|UnitPrice|UnitsInStock|UnitsOnOrder|ReorderLevel|Discontinued|\n",
       "|-|-|-|-|-|-|-|-|-|-|\n",
       "|33|Geitost|15|4|500 g|2.5|112|0|20|0|\n",
       "|24|Guaraná Fantástica|10|1|12 - 355 ml cans|4.5|20|0|0|1|\n",
       "|13|Konbu|6|8|2 kg box|6|24|0|5|0|\n",
       "|52|Filo Mix|24|5|16 - 2 kg boxes|7|38|0|25|0|\n",
       "|54|Tourtière|25|6|16 pies|7.45|21|0|10|0|\n",
       "|75|Rhönbräu Klosterbier|12|1|24 - 0.5 l bottles|7.75|125|0|25|0|\n",
       "|23|Tunnbröd|9|5|12 - 250 g pkgs.|9|61|0|25|0|\n",
       "|19|Teatime Chocolate Biscuits|8|3|10 boxes x 12 pieces|9.2|25|0|5|0|\n",
       "|45|Rogede sild|21|8|1k pkg.|9.5|5|70|15|0|\n",
       "|47|Zaanse koeken|22|3|10 - 4 oz boxes|9.5|36|0|0|0|\n",
       "|41|Jack's New England Clam Chowder|19|8|12 - 12 oz cans|9.65|85|0|10|0|\n",
       "|3|Aniseed Syrup|1|2|12 - 550 ml bottles|10|13|70|25|0|\n",
       "|21|Sir Rodney's Scones|8|3|24 pkgs. x 4 pieces|10|3|40|5|0|\n",
       "|74|Longlife Tofu|4|7|5 kg pkg.|10|4|20|5|0|\n",
       "|46|Spegesild|21|8|4 - 450 g glasses|12|95|0|0|0|\n",
       "|31|Gorgonzola Telino|14|4|12 - 100 g pkgs|12.5|0|70|20|0|\n",
       "|68|Scottish Longbreads|8|3|10 boxes x 8 pieces|12.5|6|10|15|0|\n",
       "|48|Chocolade|22|3|10 pkgs.|12.75|15|70|25|0|\n",
       "|77|Original Frankfurter grüne Soße|12|2|12 boxes|13|32|0|15|0|\n",
       "|58|Escargots de Bourgogne|27|8|24 pieces|13.25|62|0|20|0|\n",
       "|25|NuNuCa Nuß-Nougat-Creme|11|3|20 - 450 g glasses|14|76|0|30|0|\n",
       "|34|Sasquatch Ale|16|1|24 - 12 oz bottles|14|111|0|15|0|\n",
       "|42|Singaporean Hokkien Fried Mee|20|5|32 - 1 kg pkgs.|14|26|0|0|1|\n",
       "|67|Laughing Lumberjack Lager|16|1|24 - 12 oz bottles|14|52|0|10|0|\n",
       "|70|Outback Lager|7|1|24 - 355 ml bottles|15|15|10|30|0|\n",
       "|73|Röd Kaviar|17|8|24 - 150 g jars|15|101|0|5|0|\n",
       "|15|Genen Shouyu|6|2|24 - 250 ml bottles|15.5|39|0|5|0|\n",
       "|50|Valkoinen suklaa|23|3|12 - 100 g bars|16.25|65|0|30|0|\n",
       "|66|Louisiana Hot Spiced Okra|2|2|24 - 8 oz jars|17|4|100|20|0|\n",
       "|16|Pavlova|7|3|32 - 500 g boxes|17.45|29|0|10|0|\n",
       "|1|Chai|1|1|10 boxes x 20 bags|18|39|0|10|0|\n",
       "|35|Steeleye Stout|16|1|24 - 12 oz bottles|18|20|0|15|0|\n",
       "|39|Chartreuse verte|18|1|750 cc per bottle|18|69|0|5|0|\n",
       "|76|Lakkalikööri|23|1|500 ml|18|57|0|20|0|\n",
       "|40|Boston Crab Meat|19|8|24 - 4 oz tins|18.4|123|0|30|0|\n",
       "|2|Chang|1|1|24 - 12 oz bottles|19|17|40|25|0|\n",
       "|36|Inlagd Sill|17|8|24 - 250 g  jars|19|112|0|20|0|\n",
       "|44|Gula Malacca|20|2|20 - 2 kg bags|19.45|27|0|15|0|\n",
       "|57|Ravioli Angelo|26|5|24 - 250 g pkgs.|19.5|36|0|20|0|\n",
       "|49|Maxilaku|23|3|24 - 50 g pkgs.|20|10|60|15|0|\n",
       "|11|Queso Cabrales|5|4|1 kg pkg.|21|22|30|30|0|\n",
       "|22|Gustaf's Knäckebröd|9|5|24 - 500 g pkgs.|21|104|0|25|0|\n",
       "|65|Louisiana Fiery Hot Pepper Sauce|2|2|32 - 8 oz bottles|21.05|76|0|0|0|\n",
       "|5|Chef Anton's Gumbo Mix|2|2|36 boxes|21.35|0|0|0|1|\n",
       "|71|Flotemysost|15|4|10 - 500 g pkgs.|21.5|26|0|0|0|\n",
       "|4|Chef Anton's Cajun Seasoning|2|2|48 - 6 oz jars|22|53|0|0|0|\n",
       "|14|Tofu|6|7|40 - 100 g pkgs.|23.25|35|0|0|0|\n",
       "|55|Pâté chinois|25|6|24 boxes x 2 pies|24|115|0|20|0|\n",
       "|6|Grandma's Boysenberry Spread|3|2|12 - 8 oz jars|25|120|0|25|0|\n",
       "|30|Nord-Ost Matjeshering|13|8|10 - 200 g glasses|25.89|10|0|15|0|\n",
       "|37|Gravad lax|17|8|12 - 500 g pkgs.|26|11|50|25|0|\n",
       "|61|Sirop d'érable|29|2|24 - 500 ml bottles|28.5|113|0|25|0|\n",
       "|7|Uncle Bob's Organic Dried Pears|3|7|12 - 1 lb pkgs.|30|15|0|10|0|\n",
       "|10|Ikura|4|8|12 - 200 ml jars|31|31|0|0|0|\n",
       "|26|Gumbär Gummibärchen|11|3|100 - 250 g bags|31.23|15|0|0|0|\n",
       "|32|Mascarpone Fabioli|14|4|24 - 200 g pkgs.|32|9|40|25|0|\n",
       "|53|Perth Pasties|24|6|48 pieces|32.8|0|0|0|1|\n",
       "|64|Wimmers gute Semmelknödel|12|5|20 bags x 4 pieces|33.25|22|80|30|0|\n",
       "|60|Camembert Pierrot|28|4|15 - 300 g rounds|34|19|0|0|0|\n",
       "|72|Mozzarella di Giovanni|14|4|24 - 200 g pkgs.|34.8|14|0|0|0|\n",
       "|69|Gudbrandsdalsost|15|4|10 kg pkg.|36|26|0|15|0|\n",
       "|12|Queso Manchego La Pastora|5|4|10 - 500 g pkgs.|38|86|0|0|0|\n",
       "|56|Gnocchi di nonna Alice|26|5|24 - 250 g pkgs.|38|21|10|30|0|\n",
       "|17|Alice Mutton|7|6|20 - 1 kg tins|39|0|0|0|1|\n",
       "|8|Northwoods Cranberry Sauce|3|2|12 - 12 oz jars|40|6|0|0|0|\n",
       "|27|Schoggi Schokolade|11|3|100 - 100 g pieces|43.9|49|0|30|0|\n",
       "|63|Vegie-spread|7|2|15 - 625 g jars|43.9|24|0|5|0|\n",
       "|28|Rössle Sauerkraut|12|7|25 - 825 g cans|45.6|26|0|0|1|\n",
       "|43|Ipoh Coffee|20|1|16 - 500 g tins|46|17|10|25|0|\n",
       "|62|Tarte au sucre|29|3|48 pies|49.3|17|0|0|0|\n",
       "|51|Manjimup Dried Apples|24|7|50 - 300 g pkgs.|53|20|0|10|0|\n",
       "|59|Raclette Courdavault|28|4|5 kg pkg.|55|79|0|0|0|\n",
       "|18|Carnarvon Tigers|7|8|16 kg pkg.|62.5|42|0|0|0|\n",
       "|20|Sir Rodney's Marmalade|8|3|30 gift boxes|81|40|0|0|0|\n",
       "|9|Mishi Kobe Niku|4|6|18 - 500 g pkgs.|97|29|0|0|1|\n",
       "|29|Thüringer Rostbratwurst|12|6|50 bags x 30 sausgs.|123.79|0|0|0|1|\n",
       "|38|Côte de Blaye|18|1|12 - 75 cl bottles|263.5|17|0|15|0|"
      ],
      "text/plain": [
       "<IPython.core.display.Markdown object>"
      ]
     },
     "metadata": {},
     "output_type": "display_data"
    }
   ],
   "source": [
    "execute_and_show(cur,\n",
    "                 '''\n",
    "                 SELECT * FROM Products\n",
    "                 ORDER BY UnitPrice;\n",
    "                 ''')"
   ]
  },
  {
   "cell_type": "code",
   "execution_count": 13,
   "metadata": {},
   "outputs": [
    {
     "data": {
      "text/markdown": [
       "|ProductID|ProductName|SupplierID|CategoryID|QuantityPerUnit|UnitPrice|UnitsInStock|UnitsOnOrder|ReorderLevel|Discontinued|\n",
       "|-|-|-|-|-|-|-|-|-|-|\n",
       "|38|Côte de Blaye|18|1|12 - 75 cl bottles|263.5|17|0|15|0|\n",
       "|29|Thüringer Rostbratwurst|12|6|50 bags x 30 sausgs.|123.79|0|0|0|1|\n",
       "|9|Mishi Kobe Niku|4|6|18 - 500 g pkgs.|97|29|0|0|1|\n",
       "|20|Sir Rodney's Marmalade|8|3|30 gift boxes|81|40|0|0|0|\n",
       "|18|Carnarvon Tigers|7|8|16 kg pkg.|62.5|42|0|0|0|\n",
       "|59|Raclette Courdavault|28|4|5 kg pkg.|55|79|0|0|0|\n",
       "|51|Manjimup Dried Apples|24|7|50 - 300 g pkgs.|53|20|0|10|0|\n",
       "|62|Tarte au sucre|29|3|48 pies|49.3|17|0|0|0|\n",
       "|43|Ipoh Coffee|20|1|16 - 500 g tins|46|17|10|25|0|\n",
       "|28|Rössle Sauerkraut|12|7|25 - 825 g cans|45.6|26|0|0|1|\n",
       "|27|Schoggi Schokolade|11|3|100 - 100 g pieces|43.9|49|0|30|0|\n",
       "|63|Vegie-spread|7|2|15 - 625 g jars|43.9|24|0|5|0|\n",
       "|8|Northwoods Cranberry Sauce|3|2|12 - 12 oz jars|40|6|0|0|0|\n",
       "|17|Alice Mutton|7|6|20 - 1 kg tins|39|0|0|0|1|\n",
       "|12|Queso Manchego La Pastora|5|4|10 - 500 g pkgs.|38|86|0|0|0|\n",
       "|56|Gnocchi di nonna Alice|26|5|24 - 250 g pkgs.|38|21|10|30|0|\n",
       "|69|Gudbrandsdalsost|15|4|10 kg pkg.|36|26|0|15|0|\n",
       "|72|Mozzarella di Giovanni|14|4|24 - 200 g pkgs.|34.8|14|0|0|0|\n",
       "|60|Camembert Pierrot|28|4|15 - 300 g rounds|34|19|0|0|0|\n",
       "|64|Wimmers gute Semmelknödel|12|5|20 bags x 4 pieces|33.25|22|80|30|0|\n",
       "|53|Perth Pasties|24|6|48 pieces|32.8|0|0|0|1|\n",
       "|32|Mascarpone Fabioli|14|4|24 - 200 g pkgs.|32|9|40|25|0|\n",
       "|26|Gumbär Gummibärchen|11|3|100 - 250 g bags|31.23|15|0|0|0|\n",
       "|10|Ikura|4|8|12 - 200 ml jars|31|31|0|0|0|\n",
       "|7|Uncle Bob's Organic Dried Pears|3|7|12 - 1 lb pkgs.|30|15|0|10|0|\n",
       "|61|Sirop d'érable|29|2|24 - 500 ml bottles|28.5|113|0|25|0|\n",
       "|37|Gravad lax|17|8|12 - 500 g pkgs.|26|11|50|25|0|\n",
       "|30|Nord-Ost Matjeshering|13|8|10 - 200 g glasses|25.89|10|0|15|0|\n",
       "|6|Grandma's Boysenberry Spread|3|2|12 - 8 oz jars|25|120|0|25|0|\n",
       "|55|Pâté chinois|25|6|24 boxes x 2 pies|24|115|0|20|0|\n",
       "|14|Tofu|6|7|40 - 100 g pkgs.|23.25|35|0|0|0|\n",
       "|4|Chef Anton's Cajun Seasoning|2|2|48 - 6 oz jars|22|53|0|0|0|\n",
       "|71|Flotemysost|15|4|10 - 500 g pkgs.|21.5|26|0|0|0|\n",
       "|5|Chef Anton's Gumbo Mix|2|2|36 boxes|21.35|0|0|0|1|\n",
       "|65|Louisiana Fiery Hot Pepper Sauce|2|2|32 - 8 oz bottles|21.05|76|0|0|0|\n",
       "|11|Queso Cabrales|5|4|1 kg pkg.|21|22|30|30|0|\n",
       "|22|Gustaf's Knäckebröd|9|5|24 - 500 g pkgs.|21|104|0|25|0|\n",
       "|49|Maxilaku|23|3|24 - 50 g pkgs.|20|10|60|15|0|\n",
       "|57|Ravioli Angelo|26|5|24 - 250 g pkgs.|19.5|36|0|20|0|\n",
       "|44|Gula Malacca|20|2|20 - 2 kg bags|19.45|27|0|15|0|\n",
       "|2|Chang|1|1|24 - 12 oz bottles|19|17|40|25|0|\n",
       "|36|Inlagd Sill|17|8|24 - 250 g  jars|19|112|0|20|0|\n",
       "|40|Boston Crab Meat|19|8|24 - 4 oz tins|18.4|123|0|30|0|\n",
       "|1|Chai|1|1|10 boxes x 20 bags|18|39|0|10|0|\n",
       "|35|Steeleye Stout|16|1|24 - 12 oz bottles|18|20|0|15|0|\n",
       "|39|Chartreuse verte|18|1|750 cc per bottle|18|69|0|5|0|\n",
       "|76|Lakkalikööri|23|1|500 ml|18|57|0|20|0|\n",
       "|16|Pavlova|7|3|32 - 500 g boxes|17.45|29|0|10|0|\n",
       "|66|Louisiana Hot Spiced Okra|2|2|24 - 8 oz jars|17|4|100|20|0|\n",
       "|50|Valkoinen suklaa|23|3|12 - 100 g bars|16.25|65|0|30|0|\n",
       "|15|Genen Shouyu|6|2|24 - 250 ml bottles|15.5|39|0|5|0|\n",
       "|70|Outback Lager|7|1|24 - 355 ml bottles|15|15|10|30|0|\n",
       "|73|Röd Kaviar|17|8|24 - 150 g jars|15|101|0|5|0|\n",
       "|25|NuNuCa Nuß-Nougat-Creme|11|3|20 - 450 g glasses|14|76|0|30|0|\n",
       "|34|Sasquatch Ale|16|1|24 - 12 oz bottles|14|111|0|15|0|\n",
       "|42|Singaporean Hokkien Fried Mee|20|5|32 - 1 kg pkgs.|14|26|0|0|1|\n",
       "|67|Laughing Lumberjack Lager|16|1|24 - 12 oz bottles|14|52|0|10|0|\n",
       "|58|Escargots de Bourgogne|27|8|24 pieces|13.25|62|0|20|0|\n",
       "|77|Original Frankfurter grüne Soße|12|2|12 boxes|13|32|0|15|0|\n",
       "|48|Chocolade|22|3|10 pkgs.|12.75|15|70|25|0|\n",
       "|31|Gorgonzola Telino|14|4|12 - 100 g pkgs|12.5|0|70|20|0|\n",
       "|68|Scottish Longbreads|8|3|10 boxes x 8 pieces|12.5|6|10|15|0|\n",
       "|46|Spegesild|21|8|4 - 450 g glasses|12|95|0|0|0|\n",
       "|3|Aniseed Syrup|1|2|12 - 550 ml bottles|10|13|70|25|0|\n",
       "|21|Sir Rodney's Scones|8|3|24 pkgs. x 4 pieces|10|3|40|5|0|\n",
       "|74|Longlife Tofu|4|7|5 kg pkg.|10|4|20|5|0|\n",
       "|41|Jack's New England Clam Chowder|19|8|12 - 12 oz cans|9.65|85|0|10|0|\n",
       "|45|Rogede sild|21|8|1k pkg.|9.5|5|70|15|0|\n",
       "|47|Zaanse koeken|22|3|10 - 4 oz boxes|9.5|36|0|0|0|\n",
       "|19|Teatime Chocolate Biscuits|8|3|10 boxes x 12 pieces|9.2|25|0|5|0|\n",
       "|23|Tunnbröd|9|5|12 - 250 g pkgs.|9|61|0|25|0|\n",
       "|75|Rhönbräu Klosterbier|12|1|24 - 0.5 l bottles|7.75|125|0|25|0|\n",
       "|54|Tourtière|25|6|16 pies|7.45|21|0|10|0|\n",
       "|52|Filo Mix|24|5|16 - 2 kg boxes|7|38|0|25|0|\n",
       "|13|Konbu|6|8|2 kg box|6|24|0|5|0|\n",
       "|24|Guaraná Fantástica|10|1|12 - 355 ml cans|4.5|20|0|0|1|\n",
       "|33|Geitost|15|4|500 g|2.5|112|0|20|0|"
      ],
      "text/plain": [
       "<IPython.core.display.Markdown object>"
      ]
     },
     "metadata": {},
     "output_type": "display_data"
    }
   ],
   "source": [
    "# ORDER BY DESC\n",
    "execute_and_show(cur,\n",
    "                 '''\n",
    "                 SELECT * FROM Products\n",
    "                 ORDER BY UnitPrice DESC;\n",
    "                 ''')"
   ]
  },
  {
   "cell_type": "code",
   "execution_count": 14,
   "metadata": {},
   "outputs": [
    {
     "data": {
      "text/markdown": [
       "|ProductID|ProductName|SupplierID|CategoryID|QuantityPerUnit|UnitPrice|UnitsInStock|UnitsOnOrder|ReorderLevel|Discontinued|\n",
       "|-|-|-|-|-|-|-|-|-|-|\n",
       "|17|Alice Mutton|7|6|20 - 1 kg tins|39|0|0|0|1|\n",
       "|3|Aniseed Syrup|1|2|12 - 550 ml bottles|10|13|70|25|0|\n",
       "|40|Boston Crab Meat|19|8|24 - 4 oz tins|18.4|123|0|30|0|\n",
       "|60|Camembert Pierrot|28|4|15 - 300 g rounds|34|19|0|0|0|\n",
       "|18|Carnarvon Tigers|7|8|16 kg pkg.|62.5|42|0|0|0|\n",
       "|1|Chai|1|1|10 boxes x 20 bags|18|39|0|10|0|\n",
       "|2|Chang|1|1|24 - 12 oz bottles|19|17|40|25|0|\n",
       "|39|Chartreuse verte|18|1|750 cc per bottle|18|69|0|5|0|\n",
       "|4|Chef Anton's Cajun Seasoning|2|2|48 - 6 oz jars|22|53|0|0|0|\n",
       "|5|Chef Anton's Gumbo Mix|2|2|36 boxes|21.35|0|0|0|1|\n",
       "|48|Chocolade|22|3|10 pkgs.|12.75|15|70|25|0|\n",
       "|38|Côte de Blaye|18|1|12 - 75 cl bottles|263.5|17|0|15|0|\n",
       "|58|Escargots de Bourgogne|27|8|24 pieces|13.25|62|0|20|0|\n",
       "|52|Filo Mix|24|5|16 - 2 kg boxes|7|38|0|25|0|\n",
       "|71|Flotemysost|15|4|10 - 500 g pkgs.|21.5|26|0|0|0|\n",
       "|33|Geitost|15|4|500 g|2.5|112|0|20|0|\n",
       "|15|Genen Shouyu|6|2|24 - 250 ml bottles|15.5|39|0|5|0|\n",
       "|56|Gnocchi di nonna Alice|26|5|24 - 250 g pkgs.|38|21|10|30|0|\n",
       "|31|Gorgonzola Telino|14|4|12 - 100 g pkgs|12.5|0|70|20|0|\n",
       "|6|Grandma's Boysenberry Spread|3|2|12 - 8 oz jars|25|120|0|25|0|\n",
       "|37|Gravad lax|17|8|12 - 500 g pkgs.|26|11|50|25|0|\n",
       "|24|Guaraná Fantástica|10|1|12 - 355 ml cans|4.5|20|0|0|1|\n",
       "|69|Gudbrandsdalsost|15|4|10 kg pkg.|36|26|0|15|0|\n",
       "|44|Gula Malacca|20|2|20 - 2 kg bags|19.45|27|0|15|0|\n",
       "|26|Gumbär Gummibärchen|11|3|100 - 250 g bags|31.23|15|0|0|0|\n",
       "|22|Gustaf's Knäckebröd|9|5|24 - 500 g pkgs.|21|104|0|25|0|\n",
       "|10|Ikura|4|8|12 - 200 ml jars|31|31|0|0|0|\n",
       "|36|Inlagd Sill|17|8|24 - 250 g  jars|19|112|0|20|0|\n",
       "|43|Ipoh Coffee|20|1|16 - 500 g tins|46|17|10|25|0|\n",
       "|41|Jack's New England Clam Chowder|19|8|12 - 12 oz cans|9.65|85|0|10|0|\n",
       "|13|Konbu|6|8|2 kg box|6|24|0|5|0|\n",
       "|76|Lakkalikööri|23|1|500 ml|18|57|0|20|0|\n",
       "|67|Laughing Lumberjack Lager|16|1|24 - 12 oz bottles|14|52|0|10|0|\n",
       "|74|Longlife Tofu|4|7|5 kg pkg.|10|4|20|5|0|\n",
       "|65|Louisiana Fiery Hot Pepper Sauce|2|2|32 - 8 oz bottles|21.05|76|0|0|0|\n",
       "|66|Louisiana Hot Spiced Okra|2|2|24 - 8 oz jars|17|4|100|20|0|\n",
       "|51|Manjimup Dried Apples|24|7|50 - 300 g pkgs.|53|20|0|10|0|\n",
       "|32|Mascarpone Fabioli|14|4|24 - 200 g pkgs.|32|9|40|25|0|\n",
       "|49|Maxilaku|23|3|24 - 50 g pkgs.|20|10|60|15|0|\n",
       "|9|Mishi Kobe Niku|4|6|18 - 500 g pkgs.|97|29|0|0|1|\n",
       "|72|Mozzarella di Giovanni|14|4|24 - 200 g pkgs.|34.8|14|0|0|0|\n",
       "|30|Nord-Ost Matjeshering|13|8|10 - 200 g glasses|25.89|10|0|15|0|\n",
       "|8|Northwoods Cranberry Sauce|3|2|12 - 12 oz jars|40|6|0|0|0|\n",
       "|25|NuNuCa Nuß-Nougat-Creme|11|3|20 - 450 g glasses|14|76|0|30|0|\n",
       "|77|Original Frankfurter grüne Soße|12|2|12 boxes|13|32|0|15|0|\n",
       "|70|Outback Lager|7|1|24 - 355 ml bottles|15|15|10|30|0|\n",
       "|16|Pavlova|7|3|32 - 500 g boxes|17.45|29|0|10|0|\n",
       "|53|Perth Pasties|24|6|48 pieces|32.8|0|0|0|1|\n",
       "|55|Pâté chinois|25|6|24 boxes x 2 pies|24|115|0|20|0|\n",
       "|11|Queso Cabrales|5|4|1 kg pkg.|21|22|30|30|0|\n",
       "|12|Queso Manchego La Pastora|5|4|10 - 500 g pkgs.|38|86|0|0|0|\n",
       "|59|Raclette Courdavault|28|4|5 kg pkg.|55|79|0|0|0|\n",
       "|57|Ravioli Angelo|26|5|24 - 250 g pkgs.|19.5|36|0|20|0|\n",
       "|75|Rhönbräu Klosterbier|12|1|24 - 0.5 l bottles|7.75|125|0|25|0|\n",
       "|45|Rogede sild|21|8|1k pkg.|9.5|5|70|15|0|\n",
       "|73|Röd Kaviar|17|8|24 - 150 g jars|15|101|0|5|0|\n",
       "|28|Rössle Sauerkraut|12|7|25 - 825 g cans|45.6|26|0|0|1|\n",
       "|34|Sasquatch Ale|16|1|24 - 12 oz bottles|14|111|0|15|0|\n",
       "|27|Schoggi Schokolade|11|3|100 - 100 g pieces|43.9|49|0|30|0|\n",
       "|68|Scottish Longbreads|8|3|10 boxes x 8 pieces|12.5|6|10|15|0|\n",
       "|42|Singaporean Hokkien Fried Mee|20|5|32 - 1 kg pkgs.|14|26|0|0|1|\n",
       "|20|Sir Rodney's Marmalade|8|3|30 gift boxes|81|40|0|0|0|\n",
       "|21|Sir Rodney's Scones|8|3|24 pkgs. x 4 pieces|10|3|40|5|0|\n",
       "|61|Sirop d'érable|29|2|24 - 500 ml bottles|28.5|113|0|25|0|\n",
       "|46|Spegesild|21|8|4 - 450 g glasses|12|95|0|0|0|\n",
       "|35|Steeleye Stout|16|1|24 - 12 oz bottles|18|20|0|15|0|\n",
       "|62|Tarte au sucre|29|3|48 pies|49.3|17|0|0|0|\n",
       "|19|Teatime Chocolate Biscuits|8|3|10 boxes x 12 pieces|9.2|25|0|5|0|\n",
       "|29|Thüringer Rostbratwurst|12|6|50 bags x 30 sausgs.|123.79|0|0|0|1|\n",
       "|14|Tofu|6|7|40 - 100 g pkgs.|23.25|35|0|0|0|\n",
       "|54|Tourtière|25|6|16 pies|7.45|21|0|10|0|\n",
       "|23|Tunnbröd|9|5|12 - 250 g pkgs.|9|61|0|25|0|\n",
       "|7|Uncle Bob's Organic Dried Pears|3|7|12 - 1 lb pkgs.|30|15|0|10|0|\n",
       "|50|Valkoinen suklaa|23|3|12 - 100 g bars|16.25|65|0|30|0|\n",
       "|63|Vegie-spread|7|2|15 - 625 g jars|43.9|24|0|5|0|\n",
       "|64|Wimmers gute Semmelknödel|12|5|20 bags x 4 pieces|33.25|22|80|30|0|\n",
       "|47|Zaanse koeken|22|3|10 - 4 oz boxes|9.5|36|0|0|0|"
      ],
      "text/plain": [
       "<IPython.core.display.Markdown object>"
      ]
     },
     "metadata": {},
     "output_type": "display_data"
    }
   ],
   "source": [
    "# ordering alphabetically\n",
    "execute_and_show(cur,\n",
    "                 '''\n",
    "                 SELECT * FROM Products\n",
    "                 ORDER BY ProductName;\n",
    "                 ''')"
   ]
  },
  {
   "cell_type": "code",
   "execution_count": 15,
   "metadata": {},
   "outputs": [
    {
     "data": {
      "text/markdown": [
       "|ProductID|ProductName|SupplierID|CategoryID|QuantityPerUnit|UnitPrice|UnitsInStock|UnitsOnOrder|ReorderLevel|Discontinued|\n",
       "|-|-|-|-|-|-|-|-|-|-|\n",
       "|47|Zaanse koeken|22|3|10 - 4 oz boxes|9.5|36|0|0|0|\n",
       "|64|Wimmers gute Semmelknödel|12|5|20 bags x 4 pieces|33.25|22|80|30|0|\n",
       "|63|Vegie-spread|7|2|15 - 625 g jars|43.9|24|0|5|0|\n",
       "|50|Valkoinen suklaa|23|3|12 - 100 g bars|16.25|65|0|30|0|\n",
       "|7|Uncle Bob's Organic Dried Pears|3|7|12 - 1 lb pkgs.|30|15|0|10|0|\n",
       "|23|Tunnbröd|9|5|12 - 250 g pkgs.|9|61|0|25|0|\n",
       "|54|Tourtière|25|6|16 pies|7.45|21|0|10|0|\n",
       "|14|Tofu|6|7|40 - 100 g pkgs.|23.25|35|0|0|0|\n",
       "|29|Thüringer Rostbratwurst|12|6|50 bags x 30 sausgs.|123.79|0|0|0|1|\n",
       "|19|Teatime Chocolate Biscuits|8|3|10 boxes x 12 pieces|9.2|25|0|5|0|\n",
       "|62|Tarte au sucre|29|3|48 pies|49.3|17|0|0|0|\n",
       "|35|Steeleye Stout|16|1|24 - 12 oz bottles|18|20|0|15|0|\n",
       "|46|Spegesild|21|8|4 - 450 g glasses|12|95|0|0|0|\n",
       "|61|Sirop d'érable|29|2|24 - 500 ml bottles|28.5|113|0|25|0|\n",
       "|21|Sir Rodney's Scones|8|3|24 pkgs. x 4 pieces|10|3|40|5|0|\n",
       "|20|Sir Rodney's Marmalade|8|3|30 gift boxes|81|40|0|0|0|\n",
       "|42|Singaporean Hokkien Fried Mee|20|5|32 - 1 kg pkgs.|14|26|0|0|1|\n",
       "|68|Scottish Longbreads|8|3|10 boxes x 8 pieces|12.5|6|10|15|0|\n",
       "|27|Schoggi Schokolade|11|3|100 - 100 g pieces|43.9|49|0|30|0|\n",
       "|34|Sasquatch Ale|16|1|24 - 12 oz bottles|14|111|0|15|0|\n",
       "|28|Rössle Sauerkraut|12|7|25 - 825 g cans|45.6|26|0|0|1|\n",
       "|73|Röd Kaviar|17|8|24 - 150 g jars|15|101|0|5|0|\n",
       "|45|Rogede sild|21|8|1k pkg.|9.5|5|70|15|0|\n",
       "|75|Rhönbräu Klosterbier|12|1|24 - 0.5 l bottles|7.75|125|0|25|0|\n",
       "|57|Ravioli Angelo|26|5|24 - 250 g pkgs.|19.5|36|0|20|0|\n",
       "|59|Raclette Courdavault|28|4|5 kg pkg.|55|79|0|0|0|\n",
       "|12|Queso Manchego La Pastora|5|4|10 - 500 g pkgs.|38|86|0|0|0|\n",
       "|11|Queso Cabrales|5|4|1 kg pkg.|21|22|30|30|0|\n",
       "|55|Pâté chinois|25|6|24 boxes x 2 pies|24|115|0|20|0|\n",
       "|53|Perth Pasties|24|6|48 pieces|32.8|0|0|0|1|\n",
       "|16|Pavlova|7|3|32 - 500 g boxes|17.45|29|0|10|0|\n",
       "|70|Outback Lager|7|1|24 - 355 ml bottles|15|15|10|30|0|\n",
       "|77|Original Frankfurter grüne Soße|12|2|12 boxes|13|32|0|15|0|\n",
       "|25|NuNuCa Nuß-Nougat-Creme|11|3|20 - 450 g glasses|14|76|0|30|0|\n",
       "|8|Northwoods Cranberry Sauce|3|2|12 - 12 oz jars|40|6|0|0|0|\n",
       "|30|Nord-Ost Matjeshering|13|8|10 - 200 g glasses|25.89|10|0|15|0|\n",
       "|72|Mozzarella di Giovanni|14|4|24 - 200 g pkgs.|34.8|14|0|0|0|\n",
       "|9|Mishi Kobe Niku|4|6|18 - 500 g pkgs.|97|29|0|0|1|\n",
       "|49|Maxilaku|23|3|24 - 50 g pkgs.|20|10|60|15|0|\n",
       "|32|Mascarpone Fabioli|14|4|24 - 200 g pkgs.|32|9|40|25|0|\n",
       "|51|Manjimup Dried Apples|24|7|50 - 300 g pkgs.|53|20|0|10|0|\n",
       "|66|Louisiana Hot Spiced Okra|2|2|24 - 8 oz jars|17|4|100|20|0|\n",
       "|65|Louisiana Fiery Hot Pepper Sauce|2|2|32 - 8 oz bottles|21.05|76|0|0|0|\n",
       "|74|Longlife Tofu|4|7|5 kg pkg.|10|4|20|5|0|\n",
       "|67|Laughing Lumberjack Lager|16|1|24 - 12 oz bottles|14|52|0|10|0|\n",
       "|76|Lakkalikööri|23|1|500 ml|18|57|0|20|0|\n",
       "|13|Konbu|6|8|2 kg box|6|24|0|5|0|\n",
       "|41|Jack's New England Clam Chowder|19|8|12 - 12 oz cans|9.65|85|0|10|0|\n",
       "|43|Ipoh Coffee|20|1|16 - 500 g tins|46|17|10|25|0|\n",
       "|36|Inlagd Sill|17|8|24 - 250 g  jars|19|112|0|20|0|\n",
       "|10|Ikura|4|8|12 - 200 ml jars|31|31|0|0|0|\n",
       "|22|Gustaf's Knäckebröd|9|5|24 - 500 g pkgs.|21|104|0|25|0|\n",
       "|26|Gumbär Gummibärchen|11|3|100 - 250 g bags|31.23|15|0|0|0|\n",
       "|44|Gula Malacca|20|2|20 - 2 kg bags|19.45|27|0|15|0|\n",
       "|69|Gudbrandsdalsost|15|4|10 kg pkg.|36|26|0|15|0|\n",
       "|24|Guaraná Fantástica|10|1|12 - 355 ml cans|4.5|20|0|0|1|\n",
       "|37|Gravad lax|17|8|12 - 500 g pkgs.|26|11|50|25|0|\n",
       "|6|Grandma's Boysenberry Spread|3|2|12 - 8 oz jars|25|120|0|25|0|\n",
       "|31|Gorgonzola Telino|14|4|12 - 100 g pkgs|12.5|0|70|20|0|\n",
       "|56|Gnocchi di nonna Alice|26|5|24 - 250 g pkgs.|38|21|10|30|0|\n",
       "|15|Genen Shouyu|6|2|24 - 250 ml bottles|15.5|39|0|5|0|\n",
       "|33|Geitost|15|4|500 g|2.5|112|0|20|0|\n",
       "|71|Flotemysost|15|4|10 - 500 g pkgs.|21.5|26|0|0|0|\n",
       "|52|Filo Mix|24|5|16 - 2 kg boxes|7|38|0|25|0|\n",
       "|58|Escargots de Bourgogne|27|8|24 pieces|13.25|62|0|20|0|\n",
       "|38|Côte de Blaye|18|1|12 - 75 cl bottles|263.5|17|0|15|0|\n",
       "|48|Chocolade|22|3|10 pkgs.|12.75|15|70|25|0|\n",
       "|5|Chef Anton's Gumbo Mix|2|2|36 boxes|21.35|0|0|0|1|\n",
       "|4|Chef Anton's Cajun Seasoning|2|2|48 - 6 oz jars|22|53|0|0|0|\n",
       "|39|Chartreuse verte|18|1|750 cc per bottle|18|69|0|5|0|\n",
       "|2|Chang|1|1|24 - 12 oz bottles|19|17|40|25|0|\n",
       "|1|Chai|1|1|10 boxes x 20 bags|18|39|0|10|0|\n",
       "|18|Carnarvon Tigers|7|8|16 kg pkg.|62.5|42|0|0|0|\n",
       "|60|Camembert Pierrot|28|4|15 - 300 g rounds|34|19|0|0|0|\n",
       "|40|Boston Crab Meat|19|8|24 - 4 oz tins|18.4|123|0|30|0|\n",
       "|3|Aniseed Syrup|1|2|12 - 550 ml bottles|10|13|70|25|0|\n",
       "|17|Alice Mutton|7|6|20 - 1 kg tins|39|0|0|0|1|"
      ],
      "text/plain": [
       "<IPython.core.display.Markdown object>"
      ]
     },
     "metadata": {},
     "output_type": "display_data"
    }
   ],
   "source": [
    "# ordering alphabetically DESC\n",
    "execute_and_show(cur,\n",
    "                 '''\n",
    "                 SELECT * FROM Products\n",
    "                 ORDER BY ProductName DESC;\n",
    "                 ''')"
   ]
  },
  {
   "cell_type": "code",
   "execution_count": 16,
   "metadata": {},
   "outputs": [
    {
     "data": {
      "text/markdown": [
       "|CustomerID|CompanyName|ContactName|ContactTitle|Address|City|Region|PostalCode|Country|Phone|Fax|\n",
       "|-|-|-|-|-|-|-|-|-|-|-|\n",
       "|Val2 |IT|Val2|IT||||||||\n",
       "|VALON|IT|Valon Hoti|IT||||||||\n",
       "|CACTU|Cactus Comidas para llevar|Patricio Simpson|Sales Agent|Cerrito 333|Buenos Aires|South America|1010|Argentina|(1) 135-5555|(1) 135-4892|\n",
       "|OCEAN|Océano Atlántico Ltda.|Yvonne Moncada|Sales Agent|Ing. Gustavo Moncada 8585 Piso 20-A|Buenos Aires|South America|1010|Argentina|(1) 135-5333|(1) 135-5535|\n",
       "|RANCH|Rancho grande|Sergio Gutiérrez|Sales Representative|Av. del Libertador 900|Buenos Aires|South America|1010|Argentina|(1) 123-5555|(1) 123-5556|\n",
       "||G'day, Mate||||Sydney|||Australia|||\n",
       "||G'day, Mate|Wendy Mackenzie||170 Prince Edward Parade\n",
       "Hunter's Hill|Sydney||2042|Australia|||\n",
       "||Pavlova, Ltd.||||Melbourne|||Australia|||\n",
       "||Pavlova, Ltd.|Ian Devling||74 Rose St.\n",
       "Moonie Ponds|Melbourne||3058|Australia|||\n",
       "|ERNSH|Ernst Handel|Roland Mendel|Sales Manager|Kirchgasse 6|Graz|Western Europe|8010|Austria|7675-3425|7675-3426|\n",
       "|PICCO|Piccolo und mehr|Georg Pipps|Sales Manager|Geislweg 14|Salzburg|Western Europe|5020|Austria|6562-9722|6562-9723|\n",
       "|MAISD|Maison Dewey|Catherine Dewey|Sales Agent|Rue Joseph-Bens 532|Bruxelles|Western Europe|B-1180|Belgium|(02) 201 24 67|(02) 201 24 68|\n",
       "|SUPRD|Suprêmes délices|Pascale Cartrain|Accounting Manager|Boulevard Tirou, 255|Charleroi|Western Europe|B-6000|Belgium|(071) 23 67 22 20|(071) 23 67 22 21|\n",
       "|COMMI|Comércio Mineiro|Pedro Afonso|Sales Associate|Av. dos Lusíadas, 23|Sao Paulo|South America|05432-043|Brazil|(11) 555-7647||\n",
       "|FAMIA|Familia Arquibaldo|Aria Cruz|Marketing Assistant|Rua Orós, 92|Sao Paulo|South America|05442-030|Brazil|(11) 555-9857||\n",
       "|GOURL|Gourmet Lanchonetes|André Fonseca|Sales Associate|Av. Brasil, 442|Campinas|South America|04876-786|Brazil|(11) 555-9482||\n",
       "|HANAR|Hanari Carnes|Mario Pontes|Accounting Manager|Rua do Paço, 67|Rio de Janeiro|South America|05454-876|Brazil|(21) 555-0091|(21) 555-8765|\n",
       "|QUEDE|Que Delícia|Bernardo Batista|Accounting Manager|Rua da Panificadora, 12|Rio de Janeiro|South America|02389-673|Brazil|(21) 555-4252|(21) 555-4545|\n",
       "|QUEEN|Queen Cozinha|Lúcia Carvalho|Marketing Assistant|Alameda dos Canàrios, 891|Sao Paulo|South America|05487-020|Brazil|(11) 555-1189||\n",
       "||Refrescos Americanas LTDA||||São Paulo|||Brazil|||\n",
       "||Refrescos Americanas LTDA|Carlos Diaz||Av. das Americanas 12.890|São Paulo||5442|Brazil|||\n",
       "|RICAR|Ricardo Adocicados|Janete Limeira|Assistant Sales Agent|Av. Copacabana, 267|Rio de Janeiro|South America|02389-890|Brazil|(21) 555-3412||\n",
       "|TRADH|Tradição Hipermercados|Anabela Domingues|Sales Representative|Av. Inês de Castro, 414|Sao Paulo|South America|05634-030|Brazil|(11) 555-2167|(11) 555-2168|\n",
       "|WELLI|Wellington Importadora|Paula Parente|Sales Manager|Rua do Mercado, 12|Resende|South America|08737-363|Brazil|(14) 555-8122||\n",
       "|BOTTM|Bottom-Dollar Markets|Elizabeth Lincoln|Accounting Manager|23 Tsawassen Blvd.|Tsawassen|North America|T2F 8M4|Canada|(604) 555-4729|(604) 555-3745|\n",
       "||Forêts d'érables||||Ste-Hyacinthe|||Canada|||\n",
       "||Forêts d'érables|Chantal Goulet||148 rue Chasseur|Ste-Hyacinthe||J2S 7S8|Canada|||\n",
       "|LAUGB|Laughing Bacchus Wine Cellars|Yoshi Tannamuri|Marketing Assistant|1900 Oak St.|Vancouver|North America|V3F 2K1|Canada|(604) 555-3392|(604) 555-7293|\n",
       "||Ma Maison||||Montréal|||Canada|||\n",
       "||Ma Maison|Jean-Guy Lauzon||2960 Rue St. Laurent|Montréal||H1J 1C3|Canada|||\n",
       "|MEREP|Mère Paillarde|Jean Fresnière|Marketing Assistant|43 rue St. Laurent|Montréal|North America|H1J 1C3|Canada|(514) 555-8054|(514) 555-8055|\n",
       "||Lyngbysild||||Lyngby|||Denmark|||\n",
       "||Lyngbysild|Niels Petersen||Lyngbysild\n",
       "Fiskebakken 10|Lyngby||2800|Denmark|||\n",
       "|SIMOB|Simons bistro|Jytte Petersen|Owner|Vinbæltet 34|Kobenhavn|Northern Europe|1734|Denmark|31 12 34 56|31 13 35 57|\n",
       "|VAFFE|Vaffeljernet|Palle Ibsen|Sales Manager|Smagsloget 45|Århus|Northern Europe|8200|Denmark|86 21 32 43|86 22 33 44|\n",
       "||Karkki Oy||||Lappeenranta|||Finland|||\n",
       "||Karkki Oy|Anne Heikkonen||Valtakatu 12|Lappeenranta||53120|Finland|||\n",
       "|WARTH|Wartian Herkku|Pirkko Koskitalo|Accounting Manager|Torikatu 38|Oulu|Scandinavia|90110|Finland|981-443655|981-443655|\n",
       "|WILMK|Wilman Kala|Matti Karttunen|Owner/Marketing Assistant|Keskuskatu 45|Helsinki|Scandinavia|21240|Finland|90-224 8858|90-224 8858|\n",
       "||Aux joyeux ecclésiastiques||||Paris|||France|||\n",
       "||Aux joyeux ecclésiastiques|Guylène Nodier||203, Rue des Francs-Bourgeois|Paris||75004|France|||\n",
       "|BLONP|Blondesddsl père et fils|Frédérique Citeaux|Marketing Manager|24, place Kléber|Strasbourg|Western Europe|67000|France|88.60.15.31|88.60.15.32|\n",
       "|BONAP|Bon app'|Laurence Lebihan|Owner|12, rue des Bouchers|Marseille|Western Europe|13008|France|91.24.45.40|91.24.45.41|\n",
       "|DUMON|Du monde entier|Janine Labrune|Owner|67, rue des Cinquante Otages|Nantes|Western Europe|44000|France|40.67.88.88|40.67.89.89|\n",
       "||Escargots Nouveaux||||Montceau|||France|||\n",
       "||Escargots Nouveaux|Marie Delamare||22, rue H. Voiron|Montceau||71300|France|||\n",
       "|FOLIG|Folies gourmandes|Martine Rancé|Assistant Sales Agent|184, chaussée de Tournai|Lille|Western Europe|59000|France|20.16.10.16|20.16.10.17|\n",
       "|FRANR|France restauration|Carine Schmitt|Marketing Manager|54, rue Royale|Nantes|Western Europe|44000|France|40.32.21.21|40.32.21.20|\n",
       "||Gai pâturage||||Annecy|||France|||\n",
       "||Gai pâturage|Eliane Noz||Bat. B\n",
       "3, rue des Alpes|Annecy||74000|France|||\n",
       "|LACOR|La corne d'abondance|Daniel Tonini|Sales Representative|67, avenue de l'Europe|Versailles|Western Europe|78000|France|30.59.84.10|30.59.85.11|\n",
       "|LAMAI|La maison d'Asie|Annette Roulet|Sales Manager|1 rue Alsace-Lorraine|Toulouse|Western Europe|31000|France|61.77.61.10|61.77.61.11|\n",
       "|PARIS|Paris spécialités|Marie Bertrand|Owner|265, boulevard Charonne|Paris|Western Europe|75012|France|(1) 42.34.22.66|(1) 42.34.22.77|\n",
       "|SPECD|Spécialités du monde|Dominique Perrier|Marketing Manager|25, rue Lauriston|Paris|Western Europe|75016|France|(1) 47.55.60.10|(1) 47.55.60.20|\n",
       "|VICTE|Victuailles en stock|Mary Saveley|Sales Agent|2, rue du Commerce|Lyon|Western Europe|69004|France|78.32.54.86|78.32.54.87|\n",
       "|VINET|Vins et alcools Chevalier|Paul Henriot|Accounting Manager|59 rue de l'Abbaye|Reims|Western Europe|51100|France|26.47.15.10|26.47.15.11|\n",
       "|ALFKI|Alfreds Futterkiste|Maria Anders|Sales Representative|Obere Str. 57|Berlin|Western Europe|12209|Germany|030-0074321|030-0076545|\n",
       "|BLAUS|Blauer See Delikatessen|Hanna Moos|Sales Representative|Forsterstr. 57|Mannheim|Western Europe|68306|Germany|0621-08460|0621-08924|\n",
       "|WANDK|Die Wandernde Kuh|Rita Müller|Sales Representative|Adenauerallee 900|Stuttgart|Western Europe|70563|Germany|0711-020361|0711-035428|\n",
       "|DRACD|Drachenblut Delikatessen|Sven Ottlieb|Order Administrator|Walserweg 21|Aachen|Western Europe|52066|Germany|0241-039123|0241-059428|\n",
       "|FRANK|Frankenversand|Peter Franken|Marketing Manager|Berliner Platz 43|München|Western Europe|80805|Germany|089-0877310|089-0877451|\n",
       "||Heli Süßwaren GmbH & Co. KG||||Berlin|||Germany|||\n",
       "||Heli Süßwaren GmbH & Co. KG|Petra Winkler||Tiergartenstraße 5|Berlin||10785|Germany|||\n",
       "||Heli Süßwaren GmbH & Co. KG||||Berlin|||Germany|||\n",
       "||Heli Süßwaren GmbH & Co. KG||||Berlin|||Germany|||\n",
       "|KOENE|Königlich Essen|Philip Cramer|Sales Associate|Maubelstr. 90|Brandenburg|Western Europe|14776|Germany|0555-09876||\n",
       "|LEHMS|Lehmanns Marktstand|Renate Messner|Sales Representative|Magazinweg 7|Frankfurt a.M.|Western Europe|60528|Germany|069-0245984|069-0245874|\n",
       "|MORGK|Morgenstern Gesundkost|Alexander Feuer|Marketing Assistant|Heerstr. 22|Leipzig|Western Europe|04179|Germany|0342-023176||\n",
       "||Nord-Ost-Fisch Handelsgesellschaft mbH||||Cuxhaven|||Germany|||\n",
       "||Nord-Ost-Fisch Handelsgesellschaft mbH|Sven Petersen||Frahmredder 112a|Cuxhaven||27478|Germany|||\n",
       "||Nord-Ost-Fisch Handelsgesellschaft mbH||||Cuxhaven|||Germany|||\n",
       "||Nord-Ost-Fisch Handelsgesellschaft mbH||||Cuxhaven|||Germany|||\n",
       "|OTTIK|Ottilies Käseladen|Henriette Pfalzheim|Owner|Mehrheimerstr. 369|Köln|Western Europe|50739|Germany|0221-0644327|0221-0765721|\n",
       "||Plutzer Lebensmittelgroßmärkte AG||||Frankfurt|||Germany|||\n",
       "||Plutzer Lebensmittelgroßmärkte AG|Martin Bein||Bogenallee 51|Frankfurt||60439|Germany|||\n",
       "||Plutzer Lebensmittelgroßmärkte AG||||Frankfurt|||Germany|||\n",
       "||Plutzer Lebensmittelgroßmärkte AG||||Frankfurt|||Germany|||\n",
       "|QUICK|QUICK-Stop|Horst Kloss|Accounting Manager|Taucherstraße 10|Cunewalde|Western Europe|01307|Germany|0372-035188||\n",
       "|TOMSP|Toms Spezialitäten|Karin Josephs|Marketing Manager|Luisenstr. 48|Münster|Western Europe|44087|Germany|0251-031259|0251-035695|\n",
       "|HUNGO|Hungry Owl All-Night Grocers|Patricia McKenna|Sales Associate|8 Johnstown Road|Cork|British Isles||Ireland|2967 542|2967 3333|\n",
       "||Formaggi Fortini s.r.l.||||Ravenna|||Italy|||\n",
       "||Formaggi Fortini s.r.l.|Elio Rossi||Viale Dante, 75|Ravenna||48100|Italy|||\n",
       "|FRANS|Franchi S.p.A.|Paolo Accorti|Sales Representative|Via Monte Bianco 34|Torino|Southern Europe|10100|Italy|011-4988260|011-4988261|\n",
       "|MAGAA|Magazzini Alimentari Riuniti|Giovanni Rovelli|Marketing Manager|Via Ludovico il Moro 22|Bergamo|Southern Europe|24100|Italy|035-640230|035-640231|\n",
       "||Pasta Buttini s.r.l.||||Salerno|||Italy|||\n",
       "||Pasta Buttini s.r.l.|Giovanni Giudici||Via dei Gelsomini, 153|Salerno||84100|Italy|||\n",
       "|REGGC|Reggiani Caseifici|Maurizio Moroni|Sales Associate|Strada Provinciale 124|Reggio Emilia|Southern Europe|42100|Italy|0522-556721|0522-556722|\n",
       "||Mayumi's||||Osaka|||Japan|||\n",
       "||Mayumi's|Mayumi Ohno||92 Setsuko\n",
       "Chuo-ku|Osaka||545|Japan|||\n",
       "||Tokyo Traders||||Tokyo|||Japan|||\n",
       "||Tokyo Traders|Yoshi Nagase||9-8 Sekimai\n",
       "Musashino-shi|Tokyo||100|Japan|||\n",
       "|ANATR|Ana Trujillo Emparedados y helados|Ana Trujillo|Owner|Avda. de la Constitución 2222|México D.F.|Central America|05021|Mexico|(5) 555-4729|(5) 555-3745|\n",
       "|ANTON|Antonio Moreno Taquería|Antonio Moreno|Owner|Mataderos  2312|México D.F.|Central America|05023|Mexico|(5) 555-3932||\n",
       "|CENTC|Centro comercial Moctezuma|Francisco Chang|Marketing Manager|Sierras de Granada 9993|México D.F.|Central America|05022|Mexico|(5) 555-3392|(5) 555-7293|\n",
       "|PERIC|Pericles Comidas clásicas|Guillermo Fernández|Sales Representative|Calle Dr. Jorge Cash 321|México D.F.|Central America|05033|Mexico|(5) 552-3745|(5) 545-3745|\n",
       "|TORTU|Tortuga Restaurante|Miguel Angel Paolino|Owner|Avda. Azteca 123|México D.F.|Central America|05033|Mexico|(5) 555-2933||\n",
       "||Zaanse Snoepfabriek||||Zaandam|||Netherlands|||\n",
       "||Zaanse Snoepfabriek|Dirk Luchte||Verkoop\n",
       "Rijnweg 22|Zaandam||9999 ZZ|Netherlands|||\n",
       "||Norske Meierier||||Sandvika|||Norway|||\n",
       "||Norske Meierier|Beate Vileid||Hatlevegen 5|Sandvika||1320|Norway|||\n",
       "|SANTG|Santé Gourmet|Jonas Bergulfsen|Owner|Erling Skakkes gate 78|Stavern|Scandinavia|4110|Norway|07-98 92 35|07-98 92 47|\n",
       "|WOLZA|Wolski  Zajazd|Zbyszek Piestrzeniewicz|Owner|ul. Filtrowa 68|Warszawa|Eastern Europe|01-012|Poland|(26) 642-7012|(26) 642-7012|\n",
       "|FURIB|Furia Bacalhau e Frutos do Mar|Lino Rodriguez|Sales Manager|Jardim das rosas n. 32|Lisboa|Southern Europe|1675|Portugal|(1) 354-2534|(1) 354-2535|\n",
       "|PRINI|Princesa Isabel Vinhos|Isabel de Castro|Sales Representative|Estrada da saúde n. 58|Lisboa|Southern Europe|1756|Portugal|(1) 356-5634||\n",
       "||Leka Trading||||Singapore|||Singapore|||\n",
       "||Leka Trading|Chandra Leka||471 Serangoon Loop, Suite #402|Singapore||0512|Singapore|||\n",
       "|BOLID|Bólido Comidas preparadas|Martín Sommer|Owner|C/ Araquil, 67|Madrid|Southern Europe|28023|Spain|(91) 555 22 82|(91) 555 91 99|\n",
       "||Cooperativa de Quesos 'Las Cabras'||||Oviedo|||Spain|||\n",
       "||Cooperativa de Quesos 'Las Cabras'|Antonio del Valle Saavedra ||Calle del Rosal 4|Oviedo||33007|Spain|||\n",
       "|FISSA|FISSA Fabrica Inter. Salchichas S.A.|Diego Roel|Accounting Manager|C/ Moralzarzal, 86|Madrid|Southern Europe|28034|Spain|(91) 555 94 44|(91) 555 55 93|\n",
       "|GALED|Galería del gastrónomo|Eduardo Saavedra|Marketing Manager|Rambla de Cataluña, 23|Barcelona|Southern Europe|08022|Spain|(93) 203 4560|(93) 203 4561|\n",
       "|GODOS|Godos Cocina Típica|José Pedro Freyre|Sales Manager|C/ Romero, 33|Sevilla|Southern Europe|41101|Spain|(95) 555 82 82||\n",
       "|ROMEY|Romero y tomillo|Alejandra Camino|Accounting Manager|Gran Vía, 1|Madrid|Southern Europe|28001|Spain|(91) 745 6200|(91) 745 6210|\n",
       "|BERGS|Berglunds snabbköp|Christina Berglund|Order Administrator|Berguvsvägen  8|Luleå|Northern Europe|S-958 22|Sweden|0921-12 34 65|0921-12 34 67|\n",
       "|FOLKO|Folk och fä HB|Maria Larsson|Owner|Åkergatan 24|Bräcke|Northern Europe|S-844 67|Sweden|0695-34 67 21||\n",
       "||Svensk Sjöföda AB||||Stockholm|||Sweden|||\n",
       "||Svensk Sjöföda AB|Michael Björn||Brovallavägen 231|Stockholm||S-123 45|Sweden|||\n",
       "||PB Knäckebröd AB||||Göteborg|||Sweden |||\n",
       "||PB Knäckebröd AB|Lars Peterson||Kaloadagatan 13|Göteborg||S-345 67|Sweden |||\n",
       "|CHOPS|Chop-suey Chinese|Yang Wang|Owner|Hauptstr. 29|Bern|Western Europe|3012|Switzerland|0452-076545||\n",
       "|RICSU|Richter Supermarkt|Michael Holz|Sales Manager|Grenzacherweg 237|Genève|Western Europe|1203|Switzerland|0897-034214||\n",
       "|AROUT|Around the Horn|Thomas Hardy|Sales Representative|120 Hanover Sq.|London|British Isles|WA1 1DP|UK|(171) 555-7788|(171) 555-6750|\n",
       "|BSBEV|B's Beverages|Victoria Ashworth|Sales Representative|Fauntleroy Circus|London|British Isles|EC2 5NT|UK|(171) 555-1212||\n",
       "|CONSH|Consolidated Holdings|Elizabeth Brown|Sales Representative|Berkeley Gardens 12  Brewery|London|British Isles|WX1 6LT|UK|(171) 555-2282|(171) 555-9199|\n",
       "|EASTC|Eastern Connection|Ann Devon|Sales Agent|35 King George|London|British Isles|WX3 6FW|UK|(171) 555-0297|(171) 555-3373|\n",
       "||Exotic Liquids||||London|||UK|||\n",
       "||Exotic Liquids|Charlotte Cooper||49 Gilbert St.|London||EC1 4SD|UK|||\n",
       "|ISLAT|Island Trading|Helen Bennett|Marketing Manager|Garden House Crowther Way|Cowes|British Isles|PO31 7PJ|UK|(198) 555-8888||\n",
       "|NORTS|North/South|Simon Crowther|Sales Associate|South House 300 Queensbridge|London|British Isles|SW7 1RZ|UK|(171) 555-7733|(171) 555-2530|\n",
       "|SEVES|Seven Seas Imports|Hari Kumar|Sales Manager|90 Wadhurst Rd.|London|British Isles|OX15 4NB|UK|(171) 555-1717|(171) 555-5646|\n",
       "||Specialty Biscuits, Ltd.||||Manchester|||UK|||\n",
       "||Specialty Biscuits, Ltd.|Peter Wilson||29 King's Way|Manchester||M14 GSD|UK|||\n",
       "||Bigfoot Breweries||||Bend|||USA|||\n",
       "||Bigfoot Breweries|Cheryl Saylor||3400 - 8th Avenue\n",
       "Suite 210|Bend||97101|USA|||\n",
       "||Grandma Kelly's Homestead||||Ann Arbor|||USA|||\n",
       "||Grandma Kelly's Homestead|Regina Murphy||707 Oxford Rd.|Ann Arbor||48104|USA|||\n",
       "|GREAL|Great Lakes Food Market|Howard Snyder|Marketing Manager|2732 Baker Blvd.|Eugene|North America|97403|USA|(503) 555-7555||\n",
       "|HUNGC|Hungry Coyote Import Store|Yoshi Latimer|Sales Representative|City Center Plaza 516 Main St.|Elgin|North America|97827|USA|(503) 555-6874|(503) 555-2376|\n",
       "|LAZYK|Lazy K Kountry Store|John Steel|Marketing Manager|12 Orchestra Terrace|Walla Walla|North America|99362|USA|(509) 555-7969|(509) 555-6221|\n",
       "|LETSS|Let's Stop N Shop|Jaime Yorres|Owner|87 Polk St. Suite 5|San Francisco|North America|94117|USA|(415) 555-5938||\n",
       "|LONEP|Lonesome Pine Restaurant|Fran Wilson|Sales Manager|89 Chiaroscuro Rd.|Portland|North America|97219|USA|(503) 555-9573|(503) 555-9646|\n",
       "||New England Seafood Cannery||||Boston|||USA|||\n",
       "||New England Seafood Cannery|Robb Merchant||Order Processing Dept.\n",
       "2100 Paul Revere Blvd.|Boston||02134|USA|||\n",
       "||New Orleans Cajun Delights||||New Orleans|||USA|||\n",
       "||New Orleans Cajun Delights|Shelley Burke||P.O. Box 78934|New Orleans||70117|USA|||\n",
       "|OLDWO|Old World Delicatessen|Rene Phillips|Sales Representative|2743 Bering St.|Anchorage|North America|99508|USA|(907) 555-7584|(907) 555-2880|\n",
       "|RATTC|Rattlesnake Canyon Grocery|Paula Wilson|Assistant Sales Representative|2817 Milton Dr.|Albuquerque|North America|87110|USA|(505) 555-5939|(505) 555-3620|\n",
       "|SAVEA|Save-a-lot Markets|Jose Pavarotti|Sales Representative|187 Suffolk Ln.|Boise|North America|83720|USA|(208) 555-8097||\n",
       "|SPLIR|Split Rail Beer & Ale|Art Braunschweiger|Sales Manager|P.O. Box 555|Lander|North America|82520|USA|(307) 555-4680|(307) 555-6525|\n",
       "|THEBI|The Big Cheese|Liz Nixon|Marketing Manager|89 Jefferson Way Suite 2|Portland|North America|97201|USA|(503) 555-3612||\n",
       "|THECR|The Cracker Box|Liu Wong|Marketing Assistant|55 Grizzly Peak Rd.|Butte|North America|59801|USA|(406) 555-5834|(406) 555-8083|\n",
       "|TRAIH|Trail's Head Gourmet Provisioners|Helvetius Nagy|Sales Associate|722 DaVinci Blvd.|Kirkland|North America|98034|USA|(206) 555-8257|(206) 555-2174|\n",
       "|WHITC|White Clover Markets|Karl Jablonski|Owner|305 - 14th Ave. S. Suite 3B|Seattle|North America|98128|USA|(206) 555-4112|(206) 555-4115|\n",
       "|GROSR|GROSELLA-Restaurante|Manuel Pereira|Owner|5ª Ave. Los Palos Grandes|Caracas|South America|1081|Venezuela|(2) 283-2951|(2) 283-3397|\n",
       "|HILAA|HILARION-Abastos|Carlos Hernández|Sales Representative|Carrera 22 con Ave. Carlos Soublette #8-35|San Cristóbal|South America|5022|Venezuela|(5) 555-1340|(5) 555-1948|\n",
       "|LILAS|LILA-Supermercado|Carlos González|Accounting Manager|Carrera 52 con Ave. Bolívar #65-98 Llano Largo|Barquisimeto|South America|3508|Venezuela|(9) 331-6954|(9) 331-7256|\n",
       "|LINOD|LINO-Delicateses|Felipe Izquierdo|Owner|Ave. 5 de Mayo Porlamar|I. de Margarita|South America|4980|Venezuela|(8) 34-56-12|(8) 34-93-93|"
      ],
      "text/plain": [
       "<IPython.core.display.Markdown object>"
      ]
     },
     "metadata": {},
     "output_type": "display_data"
    }
   ],
   "source": [
    "# ORDER BY several columns\n",
    "execute_and_show(cur,\n",
    "                 '''\n",
    "                 SELECT * FROM Customers\n",
    "                 ORDER BY Country, CompanyName\n",
    "                 ''')"
   ]
  },
  {
   "cell_type": "code",
   "execution_count": 17,
   "metadata": {},
   "outputs": [
    {
     "data": {
      "text/markdown": [
       "|CustomerID|CompanyName|ContactName|ContactTitle|Address|City|Region|PostalCode|Country|Phone|Fax|\n",
       "|-|-|-|-|-|-|-|-|-|-|-|\n",
       "|Val2 |IT|Val2|IT||||||||\n",
       "|VALON|IT|Valon Hoti|IT||||||||\n",
       "|RANCH|Rancho grande|Sergio Gutiérrez|Sales Representative|Av. del Libertador 900|Buenos Aires|South America|1010|Argentina|(1) 123-5555|(1) 123-5556|\n",
       "|OCEAN|Océano Atlántico Ltda.|Yvonne Moncada|Sales Agent|Ing. Gustavo Moncada 8585 Piso 20-A|Buenos Aires|South America|1010|Argentina|(1) 135-5333|(1) 135-5535|\n",
       "|CACTU|Cactus Comidas para llevar|Patricio Simpson|Sales Agent|Cerrito 333|Buenos Aires|South America|1010|Argentina|(1) 135-5555|(1) 135-4892|\n",
       "||Pavlova, Ltd.||||Melbourne|||Australia|||\n",
       "||Pavlova, Ltd.|Ian Devling||74 Rose St.\n",
       "Moonie Ponds|Melbourne||3058|Australia|||\n",
       "||G'day, Mate||||Sydney|||Australia|||\n",
       "||G'day, Mate|Wendy Mackenzie||170 Prince Edward Parade\n",
       "Hunter's Hill|Sydney||2042|Australia|||\n",
       "|PICCO|Piccolo und mehr|Georg Pipps|Sales Manager|Geislweg 14|Salzburg|Western Europe|5020|Austria|6562-9722|6562-9723|\n",
       "|ERNSH|Ernst Handel|Roland Mendel|Sales Manager|Kirchgasse 6|Graz|Western Europe|8010|Austria|7675-3425|7675-3426|\n",
       "|SUPRD|Suprêmes délices|Pascale Cartrain|Accounting Manager|Boulevard Tirou, 255|Charleroi|Western Europe|B-6000|Belgium|(071) 23 67 22 20|(071) 23 67 22 21|\n",
       "|MAISD|Maison Dewey|Catherine Dewey|Sales Agent|Rue Joseph-Bens 532|Bruxelles|Western Europe|B-1180|Belgium|(02) 201 24 67|(02) 201 24 68|\n",
       "|WELLI|Wellington Importadora|Paula Parente|Sales Manager|Rua do Mercado, 12|Resende|South America|08737-363|Brazil|(14) 555-8122||\n",
       "|TRADH|Tradição Hipermercados|Anabela Domingues|Sales Representative|Av. Inês de Castro, 414|Sao Paulo|South America|05634-030|Brazil|(11) 555-2167|(11) 555-2168|\n",
       "|RICAR|Ricardo Adocicados|Janete Limeira|Assistant Sales Agent|Av. Copacabana, 267|Rio de Janeiro|South America|02389-890|Brazil|(21) 555-3412||\n",
       "||Refrescos Americanas LTDA||||São Paulo|||Brazil|||\n",
       "||Refrescos Americanas LTDA|Carlos Diaz||Av. das Americanas 12.890|São Paulo||5442|Brazil|||\n",
       "|QUEEN|Queen Cozinha|Lúcia Carvalho|Marketing Assistant|Alameda dos Canàrios, 891|Sao Paulo|South America|05487-020|Brazil|(11) 555-1189||\n",
       "|QUEDE|Que Delícia|Bernardo Batista|Accounting Manager|Rua da Panificadora, 12|Rio de Janeiro|South America|02389-673|Brazil|(21) 555-4252|(21) 555-4545|\n",
       "|HANAR|Hanari Carnes|Mario Pontes|Accounting Manager|Rua do Paço, 67|Rio de Janeiro|South America|05454-876|Brazil|(21) 555-0091|(21) 555-8765|\n",
       "|GOURL|Gourmet Lanchonetes|André Fonseca|Sales Associate|Av. Brasil, 442|Campinas|South America|04876-786|Brazil|(11) 555-9482||\n",
       "|FAMIA|Familia Arquibaldo|Aria Cruz|Marketing Assistant|Rua Orós, 92|Sao Paulo|South America|05442-030|Brazil|(11) 555-9857||\n",
       "|COMMI|Comércio Mineiro|Pedro Afonso|Sales Associate|Av. dos Lusíadas, 23|Sao Paulo|South America|05432-043|Brazil|(11) 555-7647||\n",
       "|MEREP|Mère Paillarde|Jean Fresnière|Marketing Assistant|43 rue St. Laurent|Montréal|North America|H1J 1C3|Canada|(514) 555-8054|(514) 555-8055|\n",
       "||Ma Maison||||Montréal|||Canada|||\n",
       "||Ma Maison|Jean-Guy Lauzon||2960 Rue St. Laurent|Montréal||H1J 1C3|Canada|||\n",
       "|LAUGB|Laughing Bacchus Wine Cellars|Yoshi Tannamuri|Marketing Assistant|1900 Oak St.|Vancouver|North America|V3F 2K1|Canada|(604) 555-3392|(604) 555-7293|\n",
       "||Forêts d'érables||||Ste-Hyacinthe|||Canada|||\n",
       "||Forêts d'érables|Chantal Goulet||148 rue Chasseur|Ste-Hyacinthe||J2S 7S8|Canada|||\n",
       "|BOTTM|Bottom-Dollar Markets|Elizabeth Lincoln|Accounting Manager|23 Tsawassen Blvd.|Tsawassen|North America|T2F 8M4|Canada|(604) 555-4729|(604) 555-3745|\n",
       "|VAFFE|Vaffeljernet|Palle Ibsen|Sales Manager|Smagsloget 45|Århus|Northern Europe|8200|Denmark|86 21 32 43|86 22 33 44|\n",
       "|SIMOB|Simons bistro|Jytte Petersen|Owner|Vinbæltet 34|Kobenhavn|Northern Europe|1734|Denmark|31 12 34 56|31 13 35 57|\n",
       "||Lyngbysild||||Lyngby|||Denmark|||\n",
       "||Lyngbysild|Niels Petersen||Lyngbysild\n",
       "Fiskebakken 10|Lyngby||2800|Denmark|||\n",
       "|WILMK|Wilman Kala|Matti Karttunen|Owner/Marketing Assistant|Keskuskatu 45|Helsinki|Scandinavia|21240|Finland|90-224 8858|90-224 8858|\n",
       "|WARTH|Wartian Herkku|Pirkko Koskitalo|Accounting Manager|Torikatu 38|Oulu|Scandinavia|90110|Finland|981-443655|981-443655|\n",
       "||Karkki Oy||||Lappeenranta|||Finland|||\n",
       "||Karkki Oy|Anne Heikkonen||Valtakatu 12|Lappeenranta||53120|Finland|||\n",
       "|VINET|Vins et alcools Chevalier|Paul Henriot|Accounting Manager|59 rue de l'Abbaye|Reims|Western Europe|51100|France|26.47.15.10|26.47.15.11|\n",
       "|VICTE|Victuailles en stock|Mary Saveley|Sales Agent|2, rue du Commerce|Lyon|Western Europe|69004|France|78.32.54.86|78.32.54.87|\n",
       "|SPECD|Spécialités du monde|Dominique Perrier|Marketing Manager|25, rue Lauriston|Paris|Western Europe|75016|France|(1) 47.55.60.10|(1) 47.55.60.20|\n",
       "|PARIS|Paris spécialités|Marie Bertrand|Owner|265, boulevard Charonne|Paris|Western Europe|75012|France|(1) 42.34.22.66|(1) 42.34.22.77|\n",
       "|LAMAI|La maison d'Asie|Annette Roulet|Sales Manager|1 rue Alsace-Lorraine|Toulouse|Western Europe|31000|France|61.77.61.10|61.77.61.11|\n",
       "|LACOR|La corne d'abondance|Daniel Tonini|Sales Representative|67, avenue de l'Europe|Versailles|Western Europe|78000|France|30.59.84.10|30.59.85.11|\n",
       "||Gai pâturage||||Annecy|||France|||\n",
       "||Gai pâturage|Eliane Noz||Bat. B\n",
       "3, rue des Alpes|Annecy||74000|France|||\n",
       "|FRANR|France restauration|Carine Schmitt|Marketing Manager|54, rue Royale|Nantes|Western Europe|44000|France|40.32.21.21|40.32.21.20|\n",
       "|FOLIG|Folies gourmandes|Martine Rancé|Assistant Sales Agent|184, chaussée de Tournai|Lille|Western Europe|59000|France|20.16.10.16|20.16.10.17|\n",
       "||Escargots Nouveaux||||Montceau|||France|||\n",
       "||Escargots Nouveaux|Marie Delamare||22, rue H. Voiron|Montceau||71300|France|||\n",
       "|DUMON|Du monde entier|Janine Labrune|Owner|67, rue des Cinquante Otages|Nantes|Western Europe|44000|France|40.67.88.88|40.67.89.89|\n",
       "|BONAP|Bon app'|Laurence Lebihan|Owner|12, rue des Bouchers|Marseille|Western Europe|13008|France|91.24.45.40|91.24.45.41|\n",
       "|BLONP|Blondesddsl père et fils|Frédérique Citeaux|Marketing Manager|24, place Kléber|Strasbourg|Western Europe|67000|France|88.60.15.31|88.60.15.32|\n",
       "||Aux joyeux ecclésiastiques||||Paris|||France|||\n",
       "||Aux joyeux ecclésiastiques|Guylène Nodier||203, Rue des Francs-Bourgeois|Paris||75004|France|||\n",
       "|TOMSP|Toms Spezialitäten|Karin Josephs|Marketing Manager|Luisenstr. 48|Münster|Western Europe|44087|Germany|0251-031259|0251-035695|\n",
       "|QUICK|QUICK-Stop|Horst Kloss|Accounting Manager|Taucherstraße 10|Cunewalde|Western Europe|01307|Germany|0372-035188||\n",
       "||Plutzer Lebensmittelgroßmärkte AG||||Frankfurt|||Germany|||\n",
       "||Plutzer Lebensmittelgroßmärkte AG|Martin Bein||Bogenallee 51|Frankfurt||60439|Germany|||\n",
       "||Plutzer Lebensmittelgroßmärkte AG||||Frankfurt|||Germany|||\n",
       "||Plutzer Lebensmittelgroßmärkte AG||||Frankfurt|||Germany|||\n",
       "|OTTIK|Ottilies Käseladen|Henriette Pfalzheim|Owner|Mehrheimerstr. 369|Köln|Western Europe|50739|Germany|0221-0644327|0221-0765721|\n",
       "||Nord-Ost-Fisch Handelsgesellschaft mbH||||Cuxhaven|||Germany|||\n",
       "||Nord-Ost-Fisch Handelsgesellschaft mbH|Sven Petersen||Frahmredder 112a|Cuxhaven||27478|Germany|||\n",
       "||Nord-Ost-Fisch Handelsgesellschaft mbH||||Cuxhaven|||Germany|||\n",
       "||Nord-Ost-Fisch Handelsgesellschaft mbH||||Cuxhaven|||Germany|||\n",
       "|MORGK|Morgenstern Gesundkost|Alexander Feuer|Marketing Assistant|Heerstr. 22|Leipzig|Western Europe|04179|Germany|0342-023176||\n",
       "|LEHMS|Lehmanns Marktstand|Renate Messner|Sales Representative|Magazinweg 7|Frankfurt a.M.|Western Europe|60528|Germany|069-0245984|069-0245874|\n",
       "|KOENE|Königlich Essen|Philip Cramer|Sales Associate|Maubelstr. 90|Brandenburg|Western Europe|14776|Germany|0555-09876||\n",
       "||Heli Süßwaren GmbH & Co. KG||||Berlin|||Germany|||\n",
       "||Heli Süßwaren GmbH & Co. KG|Petra Winkler||Tiergartenstraße 5|Berlin||10785|Germany|||\n",
       "||Heli Süßwaren GmbH & Co. KG||||Berlin|||Germany|||\n",
       "||Heli Süßwaren GmbH & Co. KG||||Berlin|||Germany|||\n",
       "|FRANK|Frankenversand|Peter Franken|Marketing Manager|Berliner Platz 43|München|Western Europe|80805|Germany|089-0877310|089-0877451|\n",
       "|DRACD|Drachenblut Delikatessen|Sven Ottlieb|Order Administrator|Walserweg 21|Aachen|Western Europe|52066|Germany|0241-039123|0241-059428|\n",
       "|WANDK|Die Wandernde Kuh|Rita Müller|Sales Representative|Adenauerallee 900|Stuttgart|Western Europe|70563|Germany|0711-020361|0711-035428|\n",
       "|BLAUS|Blauer See Delikatessen|Hanna Moos|Sales Representative|Forsterstr. 57|Mannheim|Western Europe|68306|Germany|0621-08460|0621-08924|\n",
       "|ALFKI|Alfreds Futterkiste|Maria Anders|Sales Representative|Obere Str. 57|Berlin|Western Europe|12209|Germany|030-0074321|030-0076545|\n",
       "|HUNGO|Hungry Owl All-Night Grocers|Patricia McKenna|Sales Associate|8 Johnstown Road|Cork|British Isles||Ireland|2967 542|2967 3333|\n",
       "|REGGC|Reggiani Caseifici|Maurizio Moroni|Sales Associate|Strada Provinciale 124|Reggio Emilia|Southern Europe|42100|Italy|0522-556721|0522-556722|\n",
       "||Pasta Buttini s.r.l.||||Salerno|||Italy|||\n",
       "||Pasta Buttini s.r.l.|Giovanni Giudici||Via dei Gelsomini, 153|Salerno||84100|Italy|||\n",
       "|MAGAA|Magazzini Alimentari Riuniti|Giovanni Rovelli|Marketing Manager|Via Ludovico il Moro 22|Bergamo|Southern Europe|24100|Italy|035-640230|035-640231|\n",
       "|FRANS|Franchi S.p.A.|Paolo Accorti|Sales Representative|Via Monte Bianco 34|Torino|Southern Europe|10100|Italy|011-4988260|011-4988261|\n",
       "||Formaggi Fortini s.r.l.||||Ravenna|||Italy|||\n",
       "||Formaggi Fortini s.r.l.|Elio Rossi||Viale Dante, 75|Ravenna||48100|Italy|||\n",
       "||Tokyo Traders||||Tokyo|||Japan|||\n",
       "||Tokyo Traders|Yoshi Nagase||9-8 Sekimai\n",
       "Musashino-shi|Tokyo||100|Japan|||\n",
       "||Mayumi's||||Osaka|||Japan|||\n",
       "||Mayumi's|Mayumi Ohno||92 Setsuko\n",
       "Chuo-ku|Osaka||545|Japan|||\n",
       "|TORTU|Tortuga Restaurante|Miguel Angel Paolino|Owner|Avda. Azteca 123|México D.F.|Central America|05033|Mexico|(5) 555-2933||\n",
       "|PERIC|Pericles Comidas clásicas|Guillermo Fernández|Sales Representative|Calle Dr. Jorge Cash 321|México D.F.|Central America|05033|Mexico|(5) 552-3745|(5) 545-3745|\n",
       "|CENTC|Centro comercial Moctezuma|Francisco Chang|Marketing Manager|Sierras de Granada 9993|México D.F.|Central America|05022|Mexico|(5) 555-3392|(5) 555-7293|\n",
       "|ANTON|Antonio Moreno Taquería|Antonio Moreno|Owner|Mataderos  2312|México D.F.|Central America|05023|Mexico|(5) 555-3932||\n",
       "|ANATR|Ana Trujillo Emparedados y helados|Ana Trujillo|Owner|Avda. de la Constitución 2222|México D.F.|Central America|05021|Mexico|(5) 555-4729|(5) 555-3745|\n",
       "||Zaanse Snoepfabriek||||Zaandam|||Netherlands|||\n",
       "||Zaanse Snoepfabriek|Dirk Luchte||Verkoop\n",
       "Rijnweg 22|Zaandam||9999 ZZ|Netherlands|||\n",
       "|SANTG|Santé Gourmet|Jonas Bergulfsen|Owner|Erling Skakkes gate 78|Stavern|Scandinavia|4110|Norway|07-98 92 35|07-98 92 47|\n",
       "||Norske Meierier||||Sandvika|||Norway|||\n",
       "||Norske Meierier|Beate Vileid||Hatlevegen 5|Sandvika||1320|Norway|||\n",
       "|WOLZA|Wolski  Zajazd|Zbyszek Piestrzeniewicz|Owner|ul. Filtrowa 68|Warszawa|Eastern Europe|01-012|Poland|(26) 642-7012|(26) 642-7012|\n",
       "|PRINI|Princesa Isabel Vinhos|Isabel de Castro|Sales Representative|Estrada da saúde n. 58|Lisboa|Southern Europe|1756|Portugal|(1) 356-5634||\n",
       "|FURIB|Furia Bacalhau e Frutos do Mar|Lino Rodriguez|Sales Manager|Jardim das rosas n. 32|Lisboa|Southern Europe|1675|Portugal|(1) 354-2534|(1) 354-2535|\n",
       "||Leka Trading||||Singapore|||Singapore|||\n",
       "||Leka Trading|Chandra Leka||471 Serangoon Loop, Suite #402|Singapore||0512|Singapore|||\n",
       "|ROMEY|Romero y tomillo|Alejandra Camino|Accounting Manager|Gran Vía, 1|Madrid|Southern Europe|28001|Spain|(91) 745 6200|(91) 745 6210|\n",
       "|GODOS|Godos Cocina Típica|José Pedro Freyre|Sales Manager|C/ Romero, 33|Sevilla|Southern Europe|41101|Spain|(95) 555 82 82||\n",
       "|GALED|Galería del gastrónomo|Eduardo Saavedra|Marketing Manager|Rambla de Cataluña, 23|Barcelona|Southern Europe|08022|Spain|(93) 203 4560|(93) 203 4561|\n",
       "|FISSA|FISSA Fabrica Inter. Salchichas S.A.|Diego Roel|Accounting Manager|C/ Moralzarzal, 86|Madrid|Southern Europe|28034|Spain|(91) 555 94 44|(91) 555 55 93|\n",
       "||Cooperativa de Quesos 'Las Cabras'||||Oviedo|||Spain|||\n",
       "||Cooperativa de Quesos 'Las Cabras'|Antonio del Valle Saavedra ||Calle del Rosal 4|Oviedo||33007|Spain|||\n",
       "|BOLID|Bólido Comidas preparadas|Martín Sommer|Owner|C/ Araquil, 67|Madrid|Southern Europe|28023|Spain|(91) 555 22 82|(91) 555 91 99|\n",
       "||Svensk Sjöföda AB||||Stockholm|||Sweden|||\n",
       "||Svensk Sjöföda AB|Michael Björn||Brovallavägen 231|Stockholm||S-123 45|Sweden|||\n",
       "|FOLKO|Folk och fä HB|Maria Larsson|Owner|Åkergatan 24|Bräcke|Northern Europe|S-844 67|Sweden|0695-34 67 21||\n",
       "|BERGS|Berglunds snabbköp|Christina Berglund|Order Administrator|Berguvsvägen  8|Luleå|Northern Europe|S-958 22|Sweden|0921-12 34 65|0921-12 34 67|\n",
       "||PB Knäckebröd AB||||Göteborg|||Sweden |||\n",
       "||PB Knäckebröd AB|Lars Peterson||Kaloadagatan 13|Göteborg||S-345 67|Sweden |||\n",
       "|RICSU|Richter Supermarkt|Michael Holz|Sales Manager|Grenzacherweg 237|Genève|Western Europe|1203|Switzerland|0897-034214||\n",
       "|CHOPS|Chop-suey Chinese|Yang Wang|Owner|Hauptstr. 29|Bern|Western Europe|3012|Switzerland|0452-076545||\n",
       "||Specialty Biscuits, Ltd.||||Manchester|||UK|||\n",
       "||Specialty Biscuits, Ltd.|Peter Wilson||29 King's Way|Manchester||M14 GSD|UK|||\n",
       "|SEVES|Seven Seas Imports|Hari Kumar|Sales Manager|90 Wadhurst Rd.|London|British Isles|OX15 4NB|UK|(171) 555-1717|(171) 555-5646|\n",
       "|NORTS|North/South|Simon Crowther|Sales Associate|South House 300 Queensbridge|London|British Isles|SW7 1RZ|UK|(171) 555-7733|(171) 555-2530|\n",
       "|ISLAT|Island Trading|Helen Bennett|Marketing Manager|Garden House Crowther Way|Cowes|British Isles|PO31 7PJ|UK|(198) 555-8888||\n",
       "||Exotic Liquids||||London|||UK|||\n",
       "||Exotic Liquids|Charlotte Cooper||49 Gilbert St.|London||EC1 4SD|UK|||\n",
       "|EASTC|Eastern Connection|Ann Devon|Sales Agent|35 King George|London|British Isles|WX3 6FW|UK|(171) 555-0297|(171) 555-3373|\n",
       "|CONSH|Consolidated Holdings|Elizabeth Brown|Sales Representative|Berkeley Gardens 12  Brewery|London|British Isles|WX1 6LT|UK|(171) 555-2282|(171) 555-9199|\n",
       "|BSBEV|B's Beverages|Victoria Ashworth|Sales Representative|Fauntleroy Circus|London|British Isles|EC2 5NT|UK|(171) 555-1212||\n",
       "|AROUT|Around the Horn|Thomas Hardy|Sales Representative|120 Hanover Sq.|London|British Isles|WA1 1DP|UK|(171) 555-7788|(171) 555-6750|\n",
       "|WHITC|White Clover Markets|Karl Jablonski|Owner|305 - 14th Ave. S. Suite 3B|Seattle|North America|98128|USA|(206) 555-4112|(206) 555-4115|\n",
       "|TRAIH|Trail's Head Gourmet Provisioners|Helvetius Nagy|Sales Associate|722 DaVinci Blvd.|Kirkland|North America|98034|USA|(206) 555-8257|(206) 555-2174|\n",
       "|THECR|The Cracker Box|Liu Wong|Marketing Assistant|55 Grizzly Peak Rd.|Butte|North America|59801|USA|(406) 555-5834|(406) 555-8083|\n",
       "|THEBI|The Big Cheese|Liz Nixon|Marketing Manager|89 Jefferson Way Suite 2|Portland|North America|97201|USA|(503) 555-3612||\n",
       "|SPLIR|Split Rail Beer & Ale|Art Braunschweiger|Sales Manager|P.O. Box 555|Lander|North America|82520|USA|(307) 555-4680|(307) 555-6525|\n",
       "|SAVEA|Save-a-lot Markets|Jose Pavarotti|Sales Representative|187 Suffolk Ln.|Boise|North America|83720|USA|(208) 555-8097||\n",
       "|RATTC|Rattlesnake Canyon Grocery|Paula Wilson|Assistant Sales Representative|2817 Milton Dr.|Albuquerque|North America|87110|USA|(505) 555-5939|(505) 555-3620|\n",
       "|OLDWO|Old World Delicatessen|Rene Phillips|Sales Representative|2743 Bering St.|Anchorage|North America|99508|USA|(907) 555-7584|(907) 555-2880|\n",
       "||New Orleans Cajun Delights||||New Orleans|||USA|||\n",
       "||New Orleans Cajun Delights|Shelley Burke||P.O. Box 78934|New Orleans||70117|USA|||\n",
       "||New England Seafood Cannery||||Boston|||USA|||\n",
       "||New England Seafood Cannery|Robb Merchant||Order Processing Dept.\n",
       "2100 Paul Revere Blvd.|Boston||02134|USA|||\n",
       "|LONEP|Lonesome Pine Restaurant|Fran Wilson|Sales Manager|89 Chiaroscuro Rd.|Portland|North America|97219|USA|(503) 555-9573|(503) 555-9646|\n",
       "|LETSS|Let's Stop N Shop|Jaime Yorres|Owner|87 Polk St. Suite 5|San Francisco|North America|94117|USA|(415) 555-5938||\n",
       "|LAZYK|Lazy K Kountry Store|John Steel|Marketing Manager|12 Orchestra Terrace|Walla Walla|North America|99362|USA|(509) 555-7969|(509) 555-6221|\n",
       "|HUNGC|Hungry Coyote Import Store|Yoshi Latimer|Sales Representative|City Center Plaza 516 Main St.|Elgin|North America|97827|USA|(503) 555-6874|(503) 555-2376|\n",
       "|GREAL|Great Lakes Food Market|Howard Snyder|Marketing Manager|2732 Baker Blvd.|Eugene|North America|97403|USA|(503) 555-7555||\n",
       "||Grandma Kelly's Homestead||||Ann Arbor|||USA|||\n",
       "||Grandma Kelly's Homestead|Regina Murphy||707 Oxford Rd.|Ann Arbor||48104|USA|||\n",
       "||Bigfoot Breweries||||Bend|||USA|||\n",
       "||Bigfoot Breweries|Cheryl Saylor||3400 - 8th Avenue\n",
       "Suite 210|Bend||97101|USA|||\n",
       "|LINOD|LINO-Delicateses|Felipe Izquierdo|Owner|Ave. 5 de Mayo Porlamar|I. de Margarita|South America|4980|Venezuela|(8) 34-56-12|(8) 34-93-93|\n",
       "|LILAS|LILA-Supermercado|Carlos González|Accounting Manager|Carrera 52 con Ave. Bolívar #65-98 Llano Largo|Barquisimeto|South America|3508|Venezuela|(9) 331-6954|(9) 331-7256|\n",
       "|HILAA|HILARION-Abastos|Carlos Hernández|Sales Representative|Carrera 22 con Ave. Carlos Soublette #8-35|San Cristóbal|South America|5022|Venezuela|(5) 555-1340|(5) 555-1948|\n",
       "|GROSR|GROSELLA-Restaurante|Manuel Pereira|Owner|5ª Ave. Los Palos Grandes|Caracas|South America|1081|Venezuela|(2) 283-2951|(2) 283-3397|"
      ],
      "text/plain": [
       "<IPython.core.display.Markdown object>"
      ]
     },
     "metadata": {},
     "output_type": "display_data"
    }
   ],
   "source": [
    "# using both ASC and DESC\n",
    "execute_and_show(cur,\n",
    "                 '''\n",
    "                 SELECT * FROM Customers\n",
    "                 ORDER BY Country ASC, CompanyName DESC;\n",
    "                 ''')"
   ]
  },
  {
   "cell_type": "markdown",
   "metadata": {},
   "source": [
    "# SQL AND operator"
   ]
  },
  {
   "cell_type": "code",
   "execution_count": 18,
   "metadata": {},
   "outputs": [
    {
     "data": {
      "text/markdown": [
       "|CustomerID|CompanyName|ContactName|ContactTitle|Address|City|Region|PostalCode|Country|Phone|Fax|\n",
       "|-|-|-|-|-|-|-|-|-|-|-|\n",
       "|GALED|Galería del gastrónomo|Eduardo Saavedra|Marketing Manager|Rambla de Cataluña, 23|Barcelona|Southern Europe|08022|Spain|(93) 203 4560|(93) 203 4561|\n",
       "|GODOS|Godos Cocina Típica|José Pedro Freyre|Sales Manager|C/ Romero, 33|Sevilla|Southern Europe|41101|Spain|(95) 555 82 82||"
      ],
      "text/plain": [
       "<IPython.core.display.Markdown object>"
      ]
     },
     "metadata": {},
     "output_type": "display_data"
    }
   ],
   "source": [
    "execute_and_show(cur,\n",
    "                 '''\n",
    "                 SELECT *\n",
    "                 FROM Customers\n",
    "                 WHERE Country='Spain' AND CompanyName LIKE 'G%';\n",
    "                 ''')"
   ]
  },
  {
   "cell_type": "code",
   "execution_count": 19,
   "metadata": {},
   "outputs": [
    {
     "data": {
      "text/markdown": [
       "|CustomerID|CompanyName|ContactName|ContactTitle|Address|City|Region|PostalCode|Country|Phone|Fax|\n",
       "|-|-|-|-|-|-|-|-|-|-|-|\n",
       "|ALFKI|Alfreds Futterkiste|Maria Anders|Sales Representative|Obere Str. 57|Berlin|Western Europe|12209|Germany|030-0074321|030-0076545|"
      ],
      "text/plain": [
       "<IPython.core.display.Markdown object>"
      ]
     },
     "metadata": {},
     "output_type": "display_data"
    }
   ],
   "source": [
    "# all conditions must be true\n",
    "execute_and_show(cur,\n",
    "                 '''\n",
    "                 SELECT * FROM Customers\n",
    "                 WHERE Country='Germany'\n",
    "                 AND City='Berlin'\n",
    "                 AND PostalCode > 12000;\n",
    "                 ''')"
   ]
  },
  {
   "cell_type": "markdown",
   "metadata": {},
   "source": [
    "# SQL OR Operator"
   ]
  },
  {
   "cell_type": "code",
   "execution_count": 20,
   "metadata": {},
   "outputs": [
    {
     "data": {
      "text/markdown": [
       "|CustomerID|CompanyName|ContactName|ContactTitle|Address|City|Region|PostalCode|Country|Phone|Fax|\n",
       "|-|-|-|-|-|-|-|-|-|-|-|\n",
       "|ALFKI|Alfreds Futterkiste|Maria Anders|Sales Representative|Obere Str. 57|Berlin|Western Europe|12209|Germany|030-0074321|030-0076545|\n",
       "|BLAUS|Blauer See Delikatessen|Hanna Moos|Sales Representative|Forsterstr. 57|Mannheim|Western Europe|68306|Germany|0621-08460|0621-08924|\n",
       "|BOLID|Bólido Comidas preparadas|Martín Sommer|Owner|C/ Araquil, 67|Madrid|Southern Europe|28023|Spain|(91) 555 22 82|(91) 555 91 99|\n",
       "|DRACD|Drachenblut Delikatessen|Sven Ottlieb|Order Administrator|Walserweg 21|Aachen|Western Europe|52066|Germany|0241-039123|0241-059428|\n",
       "|FISSA|FISSA Fabrica Inter. Salchichas S.A.|Diego Roel|Accounting Manager|C/ Moralzarzal, 86|Madrid|Southern Europe|28034|Spain|(91) 555 94 44|(91) 555 55 93|\n",
       "|FRANK|Frankenversand|Peter Franken|Marketing Manager|Berliner Platz 43|München|Western Europe|80805|Germany|089-0877310|089-0877451|\n",
       "|GALED|Galería del gastrónomo|Eduardo Saavedra|Marketing Manager|Rambla de Cataluña, 23|Barcelona|Southern Europe|08022|Spain|(93) 203 4560|(93) 203 4561|\n",
       "|GODOS|Godos Cocina Típica|José Pedro Freyre|Sales Manager|C/ Romero, 33|Sevilla|Southern Europe|41101|Spain|(95) 555 82 82||\n",
       "|KOENE|Königlich Essen|Philip Cramer|Sales Associate|Maubelstr. 90|Brandenburg|Western Europe|14776|Germany|0555-09876||\n",
       "|LEHMS|Lehmanns Marktstand|Renate Messner|Sales Representative|Magazinweg 7|Frankfurt a.M.|Western Europe|60528|Germany|069-0245984|069-0245874|\n",
       "|MORGK|Morgenstern Gesundkost|Alexander Feuer|Marketing Assistant|Heerstr. 22|Leipzig|Western Europe|04179|Germany|0342-023176||\n",
       "|OTTIK|Ottilies Käseladen|Henriette Pfalzheim|Owner|Mehrheimerstr. 369|Köln|Western Europe|50739|Germany|0221-0644327|0221-0765721|\n",
       "|QUICK|QUICK-Stop|Horst Kloss|Accounting Manager|Taucherstraße 10|Cunewalde|Western Europe|01307|Germany|0372-035188||\n",
       "|ROMEY|Romero y tomillo|Alejandra Camino|Accounting Manager|Gran Vía, 1|Madrid|Southern Europe|28001|Spain|(91) 745 6200|(91) 745 6210|\n",
       "|TOMSP|Toms Spezialitäten|Karin Josephs|Marketing Manager|Luisenstr. 48|Münster|Western Europe|44087|Germany|0251-031259|0251-035695|\n",
       "|WANDK|Die Wandernde Kuh|Rita Müller|Sales Representative|Adenauerallee 900|Stuttgart|Western Europe|70563|Germany|0711-020361|0711-035428|\n",
       "||Cooperativa de Quesos 'Las Cabras'||||Oviedo|||Spain|||\n",
       "||Heli Süßwaren GmbH & Co. KG||||Berlin|||Germany|||\n",
       "||Plutzer Lebensmittelgroßmärkte AG||||Frankfurt|||Germany|||\n",
       "||Nord-Ost-Fisch Handelsgesellschaft mbH||||Cuxhaven|||Germany|||\n",
       "||Cooperativa de Quesos 'Las Cabras'|Antonio del Valle Saavedra ||Calle del Rosal 4|Oviedo||33007|Spain|||\n",
       "||Heli Süßwaren GmbH & Co. KG|Petra Winkler||Tiergartenstraße 5|Berlin||10785|Germany|||\n",
       "||Plutzer Lebensmittelgroßmärkte AG|Martin Bein||Bogenallee 51|Frankfurt||60439|Germany|||\n",
       "||Nord-Ost-Fisch Handelsgesellschaft mbH|Sven Petersen||Frahmredder 112a|Cuxhaven||27478|Germany|||\n",
       "||Heli Süßwaren GmbH & Co. KG||||Berlin|||Germany|||\n",
       "||Plutzer Lebensmittelgroßmärkte AG||||Frankfurt|||Germany|||\n",
       "||Nord-Ost-Fisch Handelsgesellschaft mbH||||Cuxhaven|||Germany|||\n",
       "||Heli Süßwaren GmbH & Co. KG||||Berlin|||Germany|||\n",
       "||Plutzer Lebensmittelgroßmärkte AG||||Frankfurt|||Germany|||\n",
       "||Nord-Ost-Fisch Handelsgesellschaft mbH||||Cuxhaven|||Germany|||"
      ],
      "text/plain": [
       "<IPython.core.display.Markdown object>"
      ]
     },
     "metadata": {},
     "output_type": "display_data"
    }
   ],
   "source": [
    "execute_and_show(cur,\n",
    "                 '''\n",
    "                 SELECT *\n",
    "                 FROM Customers\n",
    "                 WHERE Country='Germany' OR Country='Spain';\n",
    "                 ''')"
   ]
  },
  {
   "cell_type": "code",
   "execution_count": 21,
   "metadata": {},
   "outputs": [
    {
     "data": {
      "text/markdown": [
       "|CustomerID|CompanyName|ContactName|ContactTitle|Address|City|Region|PostalCode|Country|Phone|Fax|\n",
       "|-|-|-|-|-|-|-|-|-|-|-|\n",
       "|ALFKI|Alfreds Futterkiste|Maria Anders|Sales Representative|Obere Str. 57|Berlin|Western Europe|12209|Germany|030-0074321|030-0076545|\n",
       "|GALED|Galería del gastrónomo|Eduardo Saavedra|Marketing Manager|Rambla de Cataluña, 23|Barcelona|Southern Europe|08022|Spain|(93) 203 4560|(93) 203 4561|\n",
       "|GODOS|Godos Cocina Típica|José Pedro Freyre|Sales Manager|C/ Romero, 33|Sevilla|Southern Europe|41101|Spain|(95) 555 82 82||\n",
       "|GOURL|Gourmet Lanchonetes|André Fonseca|Sales Associate|Av. Brasil, 442|Campinas|South America|04876-786|Brazil|(11) 555-9482||\n",
       "|GREAL|Great Lakes Food Market|Howard Snyder|Marketing Manager|2732 Baker Blvd.|Eugene|North America|97403|USA|(503) 555-7555||\n",
       "|GROSR|GROSELLA-Restaurante|Manuel Pereira|Owner|5ª Ave. Los Palos Grandes|Caracas|South America|1081|Venezuela|(2) 283-2951|(2) 283-3397|\n",
       "|SANTG|Santé Gourmet|Jonas Bergulfsen|Owner|Erling Skakkes gate 78|Stavern|Scandinavia|4110|Norway|07-98 92 35|07-98 92 47|\n",
       "||Grandma Kelly's Homestead||||Ann Arbor|||USA|||\n",
       "||Heli Süßwaren GmbH & Co. KG||||Berlin|||Germany|||\n",
       "||Norske Meierier||||Sandvika|||Norway|||\n",
       "||G'day, Mate||||Sydney|||Australia|||\n",
       "||Gai pâturage||||Annecy|||France|||\n",
       "||Grandma Kelly's Homestead|Regina Murphy||707 Oxford Rd.|Ann Arbor||48104|USA|||\n",
       "||Heli Süßwaren GmbH & Co. KG|Petra Winkler||Tiergartenstraße 5|Berlin||10785|Germany|||\n",
       "||Norske Meierier|Beate Vileid||Hatlevegen 5|Sandvika||1320|Norway|||\n",
       "||G'day, Mate|Wendy Mackenzie||170 Prince Edward Parade\n",
       "Hunter's Hill|Sydney||2042|Australia|||\n",
       "||Gai pâturage|Eliane Noz||Bat. B\n",
       "3, rue des Alpes|Annecy||74000|France|||\n",
       "||Heli Süßwaren GmbH & Co. KG||||Berlin|||Germany|||\n",
       "||Heli Süßwaren GmbH & Co. KG||||Berlin|||Germany|||"
      ],
      "text/plain": [
       "<IPython.core.display.Markdown object>"
      ]
     },
     "metadata": {},
     "output_type": "display_data"
    }
   ],
   "source": [
    "# at least one condition must be true\n",
    "execute_and_show(cur,\n",
    "                 '''\n",
    "                 SELECT * FROM Customers\n",
    "                 WHERE City = 'Berlin' OR CompanyName LIKE 'G%' OR Country='Norway';\n",
    "                 ''')"
   ]
  },
  {
   "cell_type": "code",
   "execution_count": 22,
   "metadata": {},
   "outputs": [
    {
     "data": {
      "text/markdown": [
       "|CustomerID|CompanyName|ContactName|ContactTitle|Address|City|Region|PostalCode|Country|Phone|Fax|\n",
       "|-|-|-|-|-|-|-|-|-|-|-|\n",
       "|GALED|Galería del gastrónomo|Eduardo Saavedra|Marketing Manager|Rambla de Cataluña, 23|Barcelona|Southern Europe|08022|Spain|(93) 203 4560|(93) 203 4561|\n",
       "|GODOS|Godos Cocina Típica|José Pedro Freyre|Sales Manager|C/ Romero, 33|Sevilla|Southern Europe|41101|Spain|(95) 555 82 82||\n",
       "|ROMEY|Romero y tomillo|Alejandra Camino|Accounting Manager|Gran Vía, 1|Madrid|Southern Europe|28001|Spain|(91) 745 6200|(91) 745 6210|"
      ],
      "text/plain": [
       "<IPython.core.display.Markdown object>"
      ]
     },
     "metadata": {},
     "output_type": "display_data"
    }
   ],
   "source": [
    "# And + OR\n",
    "execute_and_show(cur,\n",
    "                 '''\n",
    "                 SELECT * FROM Customers\n",
    "                 WHERE Country='Spain' AND (CompanyName LIKE 'G%' OR CompanyName LIKE 'R%');\n",
    "                 ''')"
   ]
  },
  {
   "cell_type": "code",
   "execution_count": 23,
   "metadata": {},
   "outputs": [
    {
     "data": {
      "text/markdown": [
       "|CustomerID|CompanyName|ContactName|ContactTitle|Address|City|Region|PostalCode|Country|Phone|Fax|\n",
       "|-|-|-|-|-|-|-|-|-|-|-|\n",
       "|GALED|Galería del gastrónomo|Eduardo Saavedra|Marketing Manager|Rambla de Cataluña, 23|Barcelona|Southern Europe|08022|Spain|(93) 203 4560|(93) 203 4561|\n",
       "|GODOS|Godos Cocina Típica|José Pedro Freyre|Sales Manager|C/ Romero, 33|Sevilla|Southern Europe|41101|Spain|(95) 555 82 82||\n",
       "|RANCH|Rancho grande|Sergio Gutiérrez|Sales Representative|Av. del Libertador 900|Buenos Aires|South America|1010|Argentina|(1) 123-5555|(1) 123-5556|\n",
       "|RATTC|Rattlesnake Canyon Grocery|Paula Wilson|Assistant Sales Representative|2817 Milton Dr.|Albuquerque|North America|87110|USA|(505) 555-5939|(505) 555-3620|\n",
       "|REGGC|Reggiani Caseifici|Maurizio Moroni|Sales Associate|Strada Provinciale 124|Reggio Emilia|Southern Europe|42100|Italy|0522-556721|0522-556722|\n",
       "|RICAR|Ricardo Adocicados|Janete Limeira|Assistant Sales Agent|Av. Copacabana, 267|Rio de Janeiro|South America|02389-890|Brazil|(21) 555-3412||\n",
       "|RICSU|Richter Supermarkt|Michael Holz|Sales Manager|Grenzacherweg 237|Genève|Western Europe|1203|Switzerland|0897-034214||\n",
       "|ROMEY|Romero y tomillo|Alejandra Camino|Accounting Manager|Gran Vía, 1|Madrid|Southern Europe|28001|Spain|(91) 745 6200|(91) 745 6210|\n",
       "||Refrescos Americanas LTDA||||São Paulo|||Brazil|||\n",
       "||Refrescos Americanas LTDA|Carlos Diaz||Av. das Americanas 12.890|São Paulo||5442|Brazil|||"
      ],
      "text/plain": [
       "<IPython.core.display.Markdown object>"
      ]
     },
     "metadata": {},
     "output_type": "display_data"
    }
   ],
   "source": [
    "# AND first, OR follows\n",
    "execute_and_show(cur,\n",
    "                 '''\n",
    "                 SELECT * FROM Customers\n",
    "                 WHERE Country='Spain' AND CompanyName LIKE 'G%' OR CompanyName LIKE 'R%';\n",
    "                 ''')"
   ]
  },
  {
   "cell_type": "markdown",
   "metadata": {},
   "source": [
    "# SQL NOT Operator"
   ]
  },
  {
   "cell_type": "code",
   "execution_count": 24,
   "metadata": {},
   "outputs": [
    {
     "data": {
      "text/markdown": [
       "|CustomerID|CompanyName|ContactName|ContactTitle|Address|City|Region|PostalCode|Country|Phone|Fax|\n",
       "|-|-|-|-|-|-|-|-|-|-|-|\n",
       "|ALFKI|Alfreds Futterkiste|Maria Anders|Sales Representative|Obere Str. 57|Berlin|Western Europe|12209|Germany|030-0074321|030-0076545|\n",
       "|ANATR|Ana Trujillo Emparedados y helados|Ana Trujillo|Owner|Avda. de la Constitución 2222|México D.F.|Central America|05021|Mexico|(5) 555-4729|(5) 555-3745|\n",
       "|ANTON|Antonio Moreno Taquería|Antonio Moreno|Owner|Mataderos  2312|México D.F.|Central America|05023|Mexico|(5) 555-3932||\n",
       "|AROUT|Around the Horn|Thomas Hardy|Sales Representative|120 Hanover Sq.|London|British Isles|WA1 1DP|UK|(171) 555-7788|(171) 555-6750|\n",
       "|BERGS|Berglunds snabbköp|Christina Berglund|Order Administrator|Berguvsvägen  8|Luleå|Northern Europe|S-958 22|Sweden|0921-12 34 65|0921-12 34 67|\n",
       "|BLAUS|Blauer See Delikatessen|Hanna Moos|Sales Representative|Forsterstr. 57|Mannheim|Western Europe|68306|Germany|0621-08460|0621-08924|\n",
       "|BLONP|Blondesddsl père et fils|Frédérique Citeaux|Marketing Manager|24, place Kléber|Strasbourg|Western Europe|67000|France|88.60.15.31|88.60.15.32|\n",
       "|BONAP|Bon app'|Laurence Lebihan|Owner|12, rue des Bouchers|Marseille|Western Europe|13008|France|91.24.45.40|91.24.45.41|\n",
       "|BOTTM|Bottom-Dollar Markets|Elizabeth Lincoln|Accounting Manager|23 Tsawassen Blvd.|Tsawassen|North America|T2F 8M4|Canada|(604) 555-4729|(604) 555-3745|\n",
       "|BSBEV|B's Beverages|Victoria Ashworth|Sales Representative|Fauntleroy Circus|London|British Isles|EC2 5NT|UK|(171) 555-1212||\n",
       "|CACTU|Cactus Comidas para llevar|Patricio Simpson|Sales Agent|Cerrito 333|Buenos Aires|South America|1010|Argentina|(1) 135-5555|(1) 135-4892|\n",
       "|CENTC|Centro comercial Moctezuma|Francisco Chang|Marketing Manager|Sierras de Granada 9993|México D.F.|Central America|05022|Mexico|(5) 555-3392|(5) 555-7293|\n",
       "|CHOPS|Chop-suey Chinese|Yang Wang|Owner|Hauptstr. 29|Bern|Western Europe|3012|Switzerland|0452-076545||\n",
       "|COMMI|Comércio Mineiro|Pedro Afonso|Sales Associate|Av. dos Lusíadas, 23|Sao Paulo|South America|05432-043|Brazil|(11) 555-7647||\n",
       "|CONSH|Consolidated Holdings|Elizabeth Brown|Sales Representative|Berkeley Gardens 12  Brewery|London|British Isles|WX1 6LT|UK|(171) 555-2282|(171) 555-9199|\n",
       "|DRACD|Drachenblut Delikatessen|Sven Ottlieb|Order Administrator|Walserweg 21|Aachen|Western Europe|52066|Germany|0241-039123|0241-059428|\n",
       "|DUMON|Du monde entier|Janine Labrune|Owner|67, rue des Cinquante Otages|Nantes|Western Europe|44000|France|40.67.88.88|40.67.89.89|\n",
       "|EASTC|Eastern Connection|Ann Devon|Sales Agent|35 King George|London|British Isles|WX3 6FW|UK|(171) 555-0297|(171) 555-3373|\n",
       "|ERNSH|Ernst Handel|Roland Mendel|Sales Manager|Kirchgasse 6|Graz|Western Europe|8010|Austria|7675-3425|7675-3426|\n",
       "|FAMIA|Familia Arquibaldo|Aria Cruz|Marketing Assistant|Rua Orós, 92|Sao Paulo|South America|05442-030|Brazil|(11) 555-9857||\n",
       "|FOLIG|Folies gourmandes|Martine Rancé|Assistant Sales Agent|184, chaussée de Tournai|Lille|Western Europe|59000|France|20.16.10.16|20.16.10.17|\n",
       "|FOLKO|Folk och fä HB|Maria Larsson|Owner|Åkergatan 24|Bräcke|Northern Europe|S-844 67|Sweden|0695-34 67 21||\n",
       "|FRANK|Frankenversand|Peter Franken|Marketing Manager|Berliner Platz 43|München|Western Europe|80805|Germany|089-0877310|089-0877451|\n",
       "|FRANR|France restauration|Carine Schmitt|Marketing Manager|54, rue Royale|Nantes|Western Europe|44000|France|40.32.21.21|40.32.21.20|\n",
       "|FRANS|Franchi S.p.A.|Paolo Accorti|Sales Representative|Via Monte Bianco 34|Torino|Southern Europe|10100|Italy|011-4988260|011-4988261|\n",
       "|FURIB|Furia Bacalhau e Frutos do Mar|Lino Rodriguez|Sales Manager|Jardim das rosas n. 32|Lisboa|Southern Europe|1675|Portugal|(1) 354-2534|(1) 354-2535|\n",
       "|GOURL|Gourmet Lanchonetes|André Fonseca|Sales Associate|Av. Brasil, 442|Campinas|South America|04876-786|Brazil|(11) 555-9482||\n",
       "|GREAL|Great Lakes Food Market|Howard Snyder|Marketing Manager|2732 Baker Blvd.|Eugene|North America|97403|USA|(503) 555-7555||\n",
       "|GROSR|GROSELLA-Restaurante|Manuel Pereira|Owner|5ª Ave. Los Palos Grandes|Caracas|South America|1081|Venezuela|(2) 283-2951|(2) 283-3397|\n",
       "|HANAR|Hanari Carnes|Mario Pontes|Accounting Manager|Rua do Paço, 67|Rio de Janeiro|South America|05454-876|Brazil|(21) 555-0091|(21) 555-8765|\n",
       "|HILAA|HILARION-Abastos|Carlos Hernández|Sales Representative|Carrera 22 con Ave. Carlos Soublette #8-35|San Cristóbal|South America|5022|Venezuela|(5) 555-1340|(5) 555-1948|\n",
       "|HUNGC|Hungry Coyote Import Store|Yoshi Latimer|Sales Representative|City Center Plaza 516 Main St.|Elgin|North America|97827|USA|(503) 555-6874|(503) 555-2376|\n",
       "|HUNGO|Hungry Owl All-Night Grocers|Patricia McKenna|Sales Associate|8 Johnstown Road|Cork|British Isles||Ireland|2967 542|2967 3333|\n",
       "|ISLAT|Island Trading|Helen Bennett|Marketing Manager|Garden House Crowther Way|Cowes|British Isles|PO31 7PJ|UK|(198) 555-8888||\n",
       "|KOENE|Königlich Essen|Philip Cramer|Sales Associate|Maubelstr. 90|Brandenburg|Western Europe|14776|Germany|0555-09876||\n",
       "|LACOR|La corne d'abondance|Daniel Tonini|Sales Representative|67, avenue de l'Europe|Versailles|Western Europe|78000|France|30.59.84.10|30.59.85.11|\n",
       "|LAMAI|La maison d'Asie|Annette Roulet|Sales Manager|1 rue Alsace-Lorraine|Toulouse|Western Europe|31000|France|61.77.61.10|61.77.61.11|\n",
       "|LAUGB|Laughing Bacchus Wine Cellars|Yoshi Tannamuri|Marketing Assistant|1900 Oak St.|Vancouver|North America|V3F 2K1|Canada|(604) 555-3392|(604) 555-7293|\n",
       "|LAZYK|Lazy K Kountry Store|John Steel|Marketing Manager|12 Orchestra Terrace|Walla Walla|North America|99362|USA|(509) 555-7969|(509) 555-6221|\n",
       "|LEHMS|Lehmanns Marktstand|Renate Messner|Sales Representative|Magazinweg 7|Frankfurt a.M.|Western Europe|60528|Germany|069-0245984|069-0245874|\n",
       "|LETSS|Let's Stop N Shop|Jaime Yorres|Owner|87 Polk St. Suite 5|San Francisco|North America|94117|USA|(415) 555-5938||\n",
       "|LILAS|LILA-Supermercado|Carlos González|Accounting Manager|Carrera 52 con Ave. Bolívar #65-98 Llano Largo|Barquisimeto|South America|3508|Venezuela|(9) 331-6954|(9) 331-7256|\n",
       "|LINOD|LINO-Delicateses|Felipe Izquierdo|Owner|Ave. 5 de Mayo Porlamar|I. de Margarita|South America|4980|Venezuela|(8) 34-56-12|(8) 34-93-93|\n",
       "|LONEP|Lonesome Pine Restaurant|Fran Wilson|Sales Manager|89 Chiaroscuro Rd.|Portland|North America|97219|USA|(503) 555-9573|(503) 555-9646|\n",
       "|MAGAA|Magazzini Alimentari Riuniti|Giovanni Rovelli|Marketing Manager|Via Ludovico il Moro 22|Bergamo|Southern Europe|24100|Italy|035-640230|035-640231|\n",
       "|MAISD|Maison Dewey|Catherine Dewey|Sales Agent|Rue Joseph-Bens 532|Bruxelles|Western Europe|B-1180|Belgium|(02) 201 24 67|(02) 201 24 68|\n",
       "|MEREP|Mère Paillarde|Jean Fresnière|Marketing Assistant|43 rue St. Laurent|Montréal|North America|H1J 1C3|Canada|(514) 555-8054|(514) 555-8055|\n",
       "|MORGK|Morgenstern Gesundkost|Alexander Feuer|Marketing Assistant|Heerstr. 22|Leipzig|Western Europe|04179|Germany|0342-023176||\n",
       "|NORTS|North/South|Simon Crowther|Sales Associate|South House 300 Queensbridge|London|British Isles|SW7 1RZ|UK|(171) 555-7733|(171) 555-2530|\n",
       "|OCEAN|Océano Atlántico Ltda.|Yvonne Moncada|Sales Agent|Ing. Gustavo Moncada 8585 Piso 20-A|Buenos Aires|South America|1010|Argentina|(1) 135-5333|(1) 135-5535|\n",
       "|OLDWO|Old World Delicatessen|Rene Phillips|Sales Representative|2743 Bering St.|Anchorage|North America|99508|USA|(907) 555-7584|(907) 555-2880|\n",
       "|OTTIK|Ottilies Käseladen|Henriette Pfalzheim|Owner|Mehrheimerstr. 369|Köln|Western Europe|50739|Germany|0221-0644327|0221-0765721|\n",
       "|PARIS|Paris spécialités|Marie Bertrand|Owner|265, boulevard Charonne|Paris|Western Europe|75012|France|(1) 42.34.22.66|(1) 42.34.22.77|\n",
       "|PERIC|Pericles Comidas clásicas|Guillermo Fernández|Sales Representative|Calle Dr. Jorge Cash 321|México D.F.|Central America|05033|Mexico|(5) 552-3745|(5) 545-3745|\n",
       "|PICCO|Piccolo und mehr|Georg Pipps|Sales Manager|Geislweg 14|Salzburg|Western Europe|5020|Austria|6562-9722|6562-9723|\n",
       "|PRINI|Princesa Isabel Vinhos|Isabel de Castro|Sales Representative|Estrada da saúde n. 58|Lisboa|Southern Europe|1756|Portugal|(1) 356-5634||\n",
       "|QUEDE|Que Delícia|Bernardo Batista|Accounting Manager|Rua da Panificadora, 12|Rio de Janeiro|South America|02389-673|Brazil|(21) 555-4252|(21) 555-4545|\n",
       "|QUEEN|Queen Cozinha|Lúcia Carvalho|Marketing Assistant|Alameda dos Canàrios, 891|Sao Paulo|South America|05487-020|Brazil|(11) 555-1189||\n",
       "|QUICK|QUICK-Stop|Horst Kloss|Accounting Manager|Taucherstraße 10|Cunewalde|Western Europe|01307|Germany|0372-035188||\n",
       "|RANCH|Rancho grande|Sergio Gutiérrez|Sales Representative|Av. del Libertador 900|Buenos Aires|South America|1010|Argentina|(1) 123-5555|(1) 123-5556|\n",
       "|RATTC|Rattlesnake Canyon Grocery|Paula Wilson|Assistant Sales Representative|2817 Milton Dr.|Albuquerque|North America|87110|USA|(505) 555-5939|(505) 555-3620|\n",
       "|REGGC|Reggiani Caseifici|Maurizio Moroni|Sales Associate|Strada Provinciale 124|Reggio Emilia|Southern Europe|42100|Italy|0522-556721|0522-556722|\n",
       "|RICAR|Ricardo Adocicados|Janete Limeira|Assistant Sales Agent|Av. Copacabana, 267|Rio de Janeiro|South America|02389-890|Brazil|(21) 555-3412||\n",
       "|RICSU|Richter Supermarkt|Michael Holz|Sales Manager|Grenzacherweg 237|Genève|Western Europe|1203|Switzerland|0897-034214||\n",
       "|SANTG|Santé Gourmet|Jonas Bergulfsen|Owner|Erling Skakkes gate 78|Stavern|Scandinavia|4110|Norway|07-98 92 35|07-98 92 47|\n",
       "|SAVEA|Save-a-lot Markets|Jose Pavarotti|Sales Representative|187 Suffolk Ln.|Boise|North America|83720|USA|(208) 555-8097||\n",
       "|SEVES|Seven Seas Imports|Hari Kumar|Sales Manager|90 Wadhurst Rd.|London|British Isles|OX15 4NB|UK|(171) 555-1717|(171) 555-5646|\n",
       "|SIMOB|Simons bistro|Jytte Petersen|Owner|Vinbæltet 34|Kobenhavn|Northern Europe|1734|Denmark|31 12 34 56|31 13 35 57|\n",
       "|SPECD|Spécialités du monde|Dominique Perrier|Marketing Manager|25, rue Lauriston|Paris|Western Europe|75016|France|(1) 47.55.60.10|(1) 47.55.60.20|\n",
       "|SPLIR|Split Rail Beer & Ale|Art Braunschweiger|Sales Manager|P.O. Box 555|Lander|North America|82520|USA|(307) 555-4680|(307) 555-6525|\n",
       "|SUPRD|Suprêmes délices|Pascale Cartrain|Accounting Manager|Boulevard Tirou, 255|Charleroi|Western Europe|B-6000|Belgium|(071) 23 67 22 20|(071) 23 67 22 21|\n",
       "|THEBI|The Big Cheese|Liz Nixon|Marketing Manager|89 Jefferson Way Suite 2|Portland|North America|97201|USA|(503) 555-3612||\n",
       "|THECR|The Cracker Box|Liu Wong|Marketing Assistant|55 Grizzly Peak Rd.|Butte|North America|59801|USA|(406) 555-5834|(406) 555-8083|\n",
       "|TOMSP|Toms Spezialitäten|Karin Josephs|Marketing Manager|Luisenstr. 48|Münster|Western Europe|44087|Germany|0251-031259|0251-035695|\n",
       "|TORTU|Tortuga Restaurante|Miguel Angel Paolino|Owner|Avda. Azteca 123|México D.F.|Central America|05033|Mexico|(5) 555-2933||\n",
       "|TRADH|Tradição Hipermercados|Anabela Domingues|Sales Representative|Av. Inês de Castro, 414|Sao Paulo|South America|05634-030|Brazil|(11) 555-2167|(11) 555-2168|\n",
       "|TRAIH|Trail's Head Gourmet Provisioners|Helvetius Nagy|Sales Associate|722 DaVinci Blvd.|Kirkland|North America|98034|USA|(206) 555-8257|(206) 555-2174|\n",
       "|VAFFE|Vaffeljernet|Palle Ibsen|Sales Manager|Smagsloget 45|Århus|Northern Europe|8200|Denmark|86 21 32 43|86 22 33 44|\n",
       "|VICTE|Victuailles en stock|Mary Saveley|Sales Agent|2, rue du Commerce|Lyon|Western Europe|69004|France|78.32.54.86|78.32.54.87|\n",
       "|VINET|Vins et alcools Chevalier|Paul Henriot|Accounting Manager|59 rue de l'Abbaye|Reims|Western Europe|51100|France|26.47.15.10|26.47.15.11|\n",
       "|WANDK|Die Wandernde Kuh|Rita Müller|Sales Representative|Adenauerallee 900|Stuttgart|Western Europe|70563|Germany|0711-020361|0711-035428|\n",
       "|WARTH|Wartian Herkku|Pirkko Koskitalo|Accounting Manager|Torikatu 38|Oulu|Scandinavia|90110|Finland|981-443655|981-443655|\n",
       "|WELLI|Wellington Importadora|Paula Parente|Sales Manager|Rua do Mercado, 12|Resende|South America|08737-363|Brazil|(14) 555-8122||\n",
       "|WHITC|White Clover Markets|Karl Jablonski|Owner|305 - 14th Ave. S. Suite 3B|Seattle|North America|98128|USA|(206) 555-4112|(206) 555-4115|\n",
       "|WILMK|Wilman Kala|Matti Karttunen|Owner/Marketing Assistant|Keskuskatu 45|Helsinki|Scandinavia|21240|Finland|90-224 8858|90-224 8858|\n",
       "|WOLZA|Wolski  Zajazd|Zbyszek Piestrzeniewicz|Owner|ul. Filtrowa 68|Warszawa|Eastern Europe|01-012|Poland|(26) 642-7012|(26) 642-7012|\n",
       "||Exotic Liquids||||London|||UK|||\n",
       "||New Orleans Cajun Delights||||New Orleans|||USA|||\n",
       "||Grandma Kelly's Homestead||||Ann Arbor|||USA|||\n",
       "||Tokyo Traders||||Tokyo|||Japan|||\n",
       "||Mayumi's||||Osaka|||Japan|||\n",
       "||Pavlova, Ltd.||||Melbourne|||Australia|||\n",
       "||Specialty Biscuits, Ltd.||||Manchester|||UK|||\n",
       "||PB Knäckebröd AB||||Göteborg|||Sweden |||\n",
       "||Refrescos Americanas LTDA||||São Paulo|||Brazil|||\n",
       "||Heli Süßwaren GmbH & Co. KG||||Berlin|||Germany|||\n",
       "||Plutzer Lebensmittelgroßmärkte AG||||Frankfurt|||Germany|||\n",
       "||Nord-Ost-Fisch Handelsgesellschaft mbH||||Cuxhaven|||Germany|||\n",
       "||Formaggi Fortini s.r.l.||||Ravenna|||Italy|||\n",
       "||Norske Meierier||||Sandvika|||Norway|||\n",
       "||Bigfoot Breweries||||Bend|||USA|||\n",
       "||Svensk Sjöföda AB||||Stockholm|||Sweden|||\n",
       "||Aux joyeux ecclésiastiques||||Paris|||France|||\n",
       "||New England Seafood Cannery||||Boston|||USA|||\n",
       "||Leka Trading||||Singapore|||Singapore|||\n",
       "||Lyngbysild||||Lyngby|||Denmark|||\n",
       "||Zaanse Snoepfabriek||||Zaandam|||Netherlands|||\n",
       "||Karkki Oy||||Lappeenranta|||Finland|||\n",
       "||G'day, Mate||||Sydney|||Australia|||\n",
       "||Ma Maison||||Montréal|||Canada|||\n",
       "||Pasta Buttini s.r.l.||||Salerno|||Italy|||\n",
       "||Escargots Nouveaux||||Montceau|||France|||\n",
       "||Gai pâturage||||Annecy|||France|||\n",
       "||Forêts d'érables||||Ste-Hyacinthe|||Canada|||\n",
       "||Exotic Liquids|Charlotte Cooper||49 Gilbert St.|London||EC1 4SD|UK|||\n",
       "||New Orleans Cajun Delights|Shelley Burke||P.O. Box 78934|New Orleans||70117|USA|||\n",
       "||Grandma Kelly's Homestead|Regina Murphy||707 Oxford Rd.|Ann Arbor||48104|USA|||\n",
       "||Tokyo Traders|Yoshi Nagase||9-8 Sekimai\n",
       "Musashino-shi|Tokyo||100|Japan|||\n",
       "||Mayumi's|Mayumi Ohno||92 Setsuko\n",
       "Chuo-ku|Osaka||545|Japan|||\n",
       "||Pavlova, Ltd.|Ian Devling||74 Rose St.\n",
       "Moonie Ponds|Melbourne||3058|Australia|||\n",
       "||Specialty Biscuits, Ltd.|Peter Wilson||29 King's Way|Manchester||M14 GSD|UK|||\n",
       "||PB Knäckebröd AB|Lars Peterson||Kaloadagatan 13|Göteborg||S-345 67|Sweden |||\n",
       "||Refrescos Americanas LTDA|Carlos Diaz||Av. das Americanas 12.890|São Paulo||5442|Brazil|||\n",
       "||Heli Süßwaren GmbH & Co. KG|Petra Winkler||Tiergartenstraße 5|Berlin||10785|Germany|||\n",
       "||Plutzer Lebensmittelgroßmärkte AG|Martin Bein||Bogenallee 51|Frankfurt||60439|Germany|||\n",
       "||Nord-Ost-Fisch Handelsgesellschaft mbH|Sven Petersen||Frahmredder 112a|Cuxhaven||27478|Germany|||\n",
       "||Formaggi Fortini s.r.l.|Elio Rossi||Viale Dante, 75|Ravenna||48100|Italy|||\n",
       "||Norske Meierier|Beate Vileid||Hatlevegen 5|Sandvika||1320|Norway|||\n",
       "||Bigfoot Breweries|Cheryl Saylor||3400 - 8th Avenue\n",
       "Suite 210|Bend||97101|USA|||\n",
       "||Svensk Sjöföda AB|Michael Björn||Brovallavägen 231|Stockholm||S-123 45|Sweden|||\n",
       "||Aux joyeux ecclésiastiques|Guylène Nodier||203, Rue des Francs-Bourgeois|Paris||75004|France|||\n",
       "||New England Seafood Cannery|Robb Merchant||Order Processing Dept.\n",
       "2100 Paul Revere Blvd.|Boston||02134|USA|||\n",
       "||Leka Trading|Chandra Leka||471 Serangoon Loop, Suite #402|Singapore||0512|Singapore|||\n",
       "||Lyngbysild|Niels Petersen||Lyngbysild\n",
       "Fiskebakken 10|Lyngby||2800|Denmark|||\n",
       "||Zaanse Snoepfabriek|Dirk Luchte||Verkoop\n",
       "Rijnweg 22|Zaandam||9999 ZZ|Netherlands|||\n",
       "||Karkki Oy|Anne Heikkonen||Valtakatu 12|Lappeenranta||53120|Finland|||\n",
       "||G'day, Mate|Wendy Mackenzie||170 Prince Edward Parade\n",
       "Hunter's Hill|Sydney||2042|Australia|||\n",
       "||Ma Maison|Jean-Guy Lauzon||2960 Rue St. Laurent|Montréal||H1J 1C3|Canada|||\n",
       "||Pasta Buttini s.r.l.|Giovanni Giudici||Via dei Gelsomini, 153|Salerno||84100|Italy|||\n",
       "||Escargots Nouveaux|Marie Delamare||22, rue H. Voiron|Montceau||71300|France|||\n",
       "||Gai pâturage|Eliane Noz||Bat. B\n",
       "3, rue des Alpes|Annecy||74000|France|||\n",
       "||Forêts d'érables|Chantal Goulet||148 rue Chasseur|Ste-Hyacinthe||J2S 7S8|Canada|||\n",
       "||Heli Süßwaren GmbH & Co. KG||||Berlin|||Germany|||\n",
       "||Plutzer Lebensmittelgroßmärkte AG||||Frankfurt|||Germany|||\n",
       "||Nord-Ost-Fisch Handelsgesellschaft mbH||||Cuxhaven|||Germany|||\n",
       "||Heli Süßwaren GmbH & Co. KG||||Berlin|||Germany|||\n",
       "||Plutzer Lebensmittelgroßmärkte AG||||Frankfurt|||Germany|||\n",
       "||Nord-Ost-Fisch Handelsgesellschaft mbH||||Cuxhaven|||Germany|||"
      ],
      "text/plain": [
       "<IPython.core.display.Markdown object>"
      ]
     },
     "metadata": {},
     "output_type": "display_data"
    }
   ],
   "source": [
    "execute_and_show(cur,\n",
    "                 '''\n",
    "                 SELECT * FROM Customers\n",
    "                 WHERE NOT Country='Spain';\n",
    "                 ''')"
   ]
  },
  {
   "cell_type": "code",
   "execution_count": 25,
   "metadata": {},
   "outputs": [
    {
     "data": {
      "text/markdown": [
       "|CustomerID|CompanyName|ContactName|ContactTitle|Address|City|Region|PostalCode|Country|Phone|Fax|\n",
       "|-|-|-|-|-|-|-|-|-|-|-|\n",
       "|BERGS|Berglunds snabbköp|Christina Berglund|Order Administrator|Berguvsvägen  8|Luleå|Northern Europe|S-958 22|Sweden|0921-12 34 65|0921-12 34 67|\n",
       "|BLAUS|Blauer See Delikatessen|Hanna Moos|Sales Representative|Forsterstr. 57|Mannheim|Western Europe|68306|Germany|0621-08460|0621-08924|\n",
       "|BLONP|Blondesddsl père et fils|Frédérique Citeaux|Marketing Manager|24, place Kléber|Strasbourg|Western Europe|67000|France|88.60.15.31|88.60.15.32|\n",
       "|BOLID|Bólido Comidas preparadas|Martín Sommer|Owner|C/ Araquil, 67|Madrid|Southern Europe|28023|Spain|(91) 555 22 82|(91) 555 91 99|\n",
       "|BONAP|Bon app'|Laurence Lebihan|Owner|12, rue des Bouchers|Marseille|Western Europe|13008|France|91.24.45.40|91.24.45.41|\n",
       "|BOTTM|Bottom-Dollar Markets|Elizabeth Lincoln|Accounting Manager|23 Tsawassen Blvd.|Tsawassen|North America|T2F 8M4|Canada|(604) 555-4729|(604) 555-3745|\n",
       "|BSBEV|B's Beverages|Victoria Ashworth|Sales Representative|Fauntleroy Circus|London|British Isles|EC2 5NT|UK|(171) 555-1212||\n",
       "|CACTU|Cactus Comidas para llevar|Patricio Simpson|Sales Agent|Cerrito 333|Buenos Aires|South America|1010|Argentina|(1) 135-5555|(1) 135-4892|\n",
       "|CENTC|Centro comercial Moctezuma|Francisco Chang|Marketing Manager|Sierras de Granada 9993|México D.F.|Central America|05022|Mexico|(5) 555-3392|(5) 555-7293|\n",
       "|CHOPS|Chop-suey Chinese|Yang Wang|Owner|Hauptstr. 29|Bern|Western Europe|3012|Switzerland|0452-076545||\n",
       "|COMMI|Comércio Mineiro|Pedro Afonso|Sales Associate|Av. dos Lusíadas, 23|Sao Paulo|South America|05432-043|Brazil|(11) 555-7647||\n",
       "|CONSH|Consolidated Holdings|Elizabeth Brown|Sales Representative|Berkeley Gardens 12  Brewery|London|British Isles|WX1 6LT|UK|(171) 555-2282|(171) 555-9199|\n",
       "|DRACD|Drachenblut Delikatessen|Sven Ottlieb|Order Administrator|Walserweg 21|Aachen|Western Europe|52066|Germany|0241-039123|0241-059428|\n",
       "|DUMON|Du monde entier|Janine Labrune|Owner|67, rue des Cinquante Otages|Nantes|Western Europe|44000|France|40.67.88.88|40.67.89.89|\n",
       "|EASTC|Eastern Connection|Ann Devon|Sales Agent|35 King George|London|British Isles|WX3 6FW|UK|(171) 555-0297|(171) 555-3373|\n",
       "|ERNSH|Ernst Handel|Roland Mendel|Sales Manager|Kirchgasse 6|Graz|Western Europe|8010|Austria|7675-3425|7675-3426|\n",
       "|FAMIA|Familia Arquibaldo|Aria Cruz|Marketing Assistant|Rua Orós, 92|Sao Paulo|South America|05442-030|Brazil|(11) 555-9857||\n",
       "|FISSA|FISSA Fabrica Inter. Salchichas S.A.|Diego Roel|Accounting Manager|C/ Moralzarzal, 86|Madrid|Southern Europe|28034|Spain|(91) 555 94 44|(91) 555 55 93|\n",
       "|FOLIG|Folies gourmandes|Martine Rancé|Assistant Sales Agent|184, chaussée de Tournai|Lille|Western Europe|59000|France|20.16.10.16|20.16.10.17|\n",
       "|FOLKO|Folk och fä HB|Maria Larsson|Owner|Åkergatan 24|Bräcke|Northern Europe|S-844 67|Sweden|0695-34 67 21||\n",
       "|FRANK|Frankenversand|Peter Franken|Marketing Manager|Berliner Platz 43|München|Western Europe|80805|Germany|089-0877310|089-0877451|\n",
       "|FRANR|France restauration|Carine Schmitt|Marketing Manager|54, rue Royale|Nantes|Western Europe|44000|France|40.32.21.21|40.32.21.20|\n",
       "|FRANS|Franchi S.p.A.|Paolo Accorti|Sales Representative|Via Monte Bianco 34|Torino|Southern Europe|10100|Italy|011-4988260|011-4988261|\n",
       "|FURIB|Furia Bacalhau e Frutos do Mar|Lino Rodriguez|Sales Manager|Jardim das rosas n. 32|Lisboa|Southern Europe|1675|Portugal|(1) 354-2534|(1) 354-2535|\n",
       "|GALED|Galería del gastrónomo|Eduardo Saavedra|Marketing Manager|Rambla de Cataluña, 23|Barcelona|Southern Europe|08022|Spain|(93) 203 4560|(93) 203 4561|\n",
       "|GODOS|Godos Cocina Típica|José Pedro Freyre|Sales Manager|C/ Romero, 33|Sevilla|Southern Europe|41101|Spain|(95) 555 82 82||\n",
       "|GOURL|Gourmet Lanchonetes|André Fonseca|Sales Associate|Av. Brasil, 442|Campinas|South America|04876-786|Brazil|(11) 555-9482||\n",
       "|GREAL|Great Lakes Food Market|Howard Snyder|Marketing Manager|2732 Baker Blvd.|Eugene|North America|97403|USA|(503) 555-7555||\n",
       "|GROSR|GROSELLA-Restaurante|Manuel Pereira|Owner|5ª Ave. Los Palos Grandes|Caracas|South America|1081|Venezuela|(2) 283-2951|(2) 283-3397|\n",
       "|HANAR|Hanari Carnes|Mario Pontes|Accounting Manager|Rua do Paço, 67|Rio de Janeiro|South America|05454-876|Brazil|(21) 555-0091|(21) 555-8765|\n",
       "|HILAA|HILARION-Abastos|Carlos Hernández|Sales Representative|Carrera 22 con Ave. Carlos Soublette #8-35|San Cristóbal|South America|5022|Venezuela|(5) 555-1340|(5) 555-1948|\n",
       "|HUNGC|Hungry Coyote Import Store|Yoshi Latimer|Sales Representative|City Center Plaza 516 Main St.|Elgin|North America|97827|USA|(503) 555-6874|(503) 555-2376|\n",
       "|HUNGO|Hungry Owl All-Night Grocers|Patricia McKenna|Sales Associate|8 Johnstown Road|Cork|British Isles||Ireland|2967 542|2967 3333|\n",
       "|ISLAT|Island Trading|Helen Bennett|Marketing Manager|Garden House Crowther Way|Cowes|British Isles|PO31 7PJ|UK|(198) 555-8888||\n",
       "|KOENE|Königlich Essen|Philip Cramer|Sales Associate|Maubelstr. 90|Brandenburg|Western Europe|14776|Germany|0555-09876||\n",
       "|LACOR|La corne d'abondance|Daniel Tonini|Sales Representative|67, avenue de l'Europe|Versailles|Western Europe|78000|France|30.59.84.10|30.59.85.11|\n",
       "|LAMAI|La maison d'Asie|Annette Roulet|Sales Manager|1 rue Alsace-Lorraine|Toulouse|Western Europe|31000|France|61.77.61.10|61.77.61.11|\n",
       "|LAUGB|Laughing Bacchus Wine Cellars|Yoshi Tannamuri|Marketing Assistant|1900 Oak St.|Vancouver|North America|V3F 2K1|Canada|(604) 555-3392|(604) 555-7293|\n",
       "|LAZYK|Lazy K Kountry Store|John Steel|Marketing Manager|12 Orchestra Terrace|Walla Walla|North America|99362|USA|(509) 555-7969|(509) 555-6221|\n",
       "|LEHMS|Lehmanns Marktstand|Renate Messner|Sales Representative|Magazinweg 7|Frankfurt a.M.|Western Europe|60528|Germany|069-0245984|069-0245874|\n",
       "|LETSS|Let's Stop N Shop|Jaime Yorres|Owner|87 Polk St. Suite 5|San Francisco|North America|94117|USA|(415) 555-5938||\n",
       "|LILAS|LILA-Supermercado|Carlos González|Accounting Manager|Carrera 52 con Ave. Bolívar #65-98 Llano Largo|Barquisimeto|South America|3508|Venezuela|(9) 331-6954|(9) 331-7256|\n",
       "|LINOD|LINO-Delicateses|Felipe Izquierdo|Owner|Ave. 5 de Mayo Porlamar|I. de Margarita|South America|4980|Venezuela|(8) 34-56-12|(8) 34-93-93|\n",
       "|LONEP|Lonesome Pine Restaurant|Fran Wilson|Sales Manager|89 Chiaroscuro Rd.|Portland|North America|97219|USA|(503) 555-9573|(503) 555-9646|\n",
       "|MAGAA|Magazzini Alimentari Riuniti|Giovanni Rovelli|Marketing Manager|Via Ludovico il Moro 22|Bergamo|Southern Europe|24100|Italy|035-640230|035-640231|\n",
       "|MAISD|Maison Dewey|Catherine Dewey|Sales Agent|Rue Joseph-Bens 532|Bruxelles|Western Europe|B-1180|Belgium|(02) 201 24 67|(02) 201 24 68|\n",
       "|MEREP|Mère Paillarde|Jean Fresnière|Marketing Assistant|43 rue St. Laurent|Montréal|North America|H1J 1C3|Canada|(514) 555-8054|(514) 555-8055|\n",
       "|MORGK|Morgenstern Gesundkost|Alexander Feuer|Marketing Assistant|Heerstr. 22|Leipzig|Western Europe|04179|Germany|0342-023176||\n",
       "|NORTS|North/South|Simon Crowther|Sales Associate|South House 300 Queensbridge|London|British Isles|SW7 1RZ|UK|(171) 555-7733|(171) 555-2530|\n",
       "|OCEAN|Océano Atlántico Ltda.|Yvonne Moncada|Sales Agent|Ing. Gustavo Moncada 8585 Piso 20-A|Buenos Aires|South America|1010|Argentina|(1) 135-5333|(1) 135-5535|\n",
       "|OLDWO|Old World Delicatessen|Rene Phillips|Sales Representative|2743 Bering St.|Anchorage|North America|99508|USA|(907) 555-7584|(907) 555-2880|\n",
       "|OTTIK|Ottilies Käseladen|Henriette Pfalzheim|Owner|Mehrheimerstr. 369|Köln|Western Europe|50739|Germany|0221-0644327|0221-0765721|\n",
       "|PARIS|Paris spécialités|Marie Bertrand|Owner|265, boulevard Charonne|Paris|Western Europe|75012|France|(1) 42.34.22.66|(1) 42.34.22.77|\n",
       "|PERIC|Pericles Comidas clásicas|Guillermo Fernández|Sales Representative|Calle Dr. Jorge Cash 321|México D.F.|Central America|05033|Mexico|(5) 552-3745|(5) 545-3745|\n",
       "|PICCO|Piccolo und mehr|Georg Pipps|Sales Manager|Geislweg 14|Salzburg|Western Europe|5020|Austria|6562-9722|6562-9723|\n",
       "|PRINI|Princesa Isabel Vinhos|Isabel de Castro|Sales Representative|Estrada da saúde n. 58|Lisboa|Southern Europe|1756|Portugal|(1) 356-5634||\n",
       "|QUEDE|Que Delícia|Bernardo Batista|Accounting Manager|Rua da Panificadora, 12|Rio de Janeiro|South America|02389-673|Brazil|(21) 555-4252|(21) 555-4545|\n",
       "|QUEEN|Queen Cozinha|Lúcia Carvalho|Marketing Assistant|Alameda dos Canàrios, 891|Sao Paulo|South America|05487-020|Brazil|(11) 555-1189||\n",
       "|QUICK|QUICK-Stop|Horst Kloss|Accounting Manager|Taucherstraße 10|Cunewalde|Western Europe|01307|Germany|0372-035188||\n",
       "|RANCH|Rancho grande|Sergio Gutiérrez|Sales Representative|Av. del Libertador 900|Buenos Aires|South America|1010|Argentina|(1) 123-5555|(1) 123-5556|\n",
       "|RATTC|Rattlesnake Canyon Grocery|Paula Wilson|Assistant Sales Representative|2817 Milton Dr.|Albuquerque|North America|87110|USA|(505) 555-5939|(505) 555-3620|\n",
       "|REGGC|Reggiani Caseifici|Maurizio Moroni|Sales Associate|Strada Provinciale 124|Reggio Emilia|Southern Europe|42100|Italy|0522-556721|0522-556722|\n",
       "|RICAR|Ricardo Adocicados|Janete Limeira|Assistant Sales Agent|Av. Copacabana, 267|Rio de Janeiro|South America|02389-890|Brazil|(21) 555-3412||\n",
       "|RICSU|Richter Supermarkt|Michael Holz|Sales Manager|Grenzacherweg 237|Genève|Western Europe|1203|Switzerland|0897-034214||\n",
       "|ROMEY|Romero y tomillo|Alejandra Camino|Accounting Manager|Gran Vía, 1|Madrid|Southern Europe|28001|Spain|(91) 745 6200|(91) 745 6210|\n",
       "|SANTG|Santé Gourmet|Jonas Bergulfsen|Owner|Erling Skakkes gate 78|Stavern|Scandinavia|4110|Norway|07-98 92 35|07-98 92 47|\n",
       "|SAVEA|Save-a-lot Markets|Jose Pavarotti|Sales Representative|187 Suffolk Ln.|Boise|North America|83720|USA|(208) 555-8097||\n",
       "|SEVES|Seven Seas Imports|Hari Kumar|Sales Manager|90 Wadhurst Rd.|London|British Isles|OX15 4NB|UK|(171) 555-1717|(171) 555-5646|\n",
       "|SIMOB|Simons bistro|Jytte Petersen|Owner|Vinbæltet 34|Kobenhavn|Northern Europe|1734|Denmark|31 12 34 56|31 13 35 57|\n",
       "|SPECD|Spécialités du monde|Dominique Perrier|Marketing Manager|25, rue Lauriston|Paris|Western Europe|75016|France|(1) 47.55.60.10|(1) 47.55.60.20|\n",
       "|SPLIR|Split Rail Beer & Ale|Art Braunschweiger|Sales Manager|P.O. Box 555|Lander|North America|82520|USA|(307) 555-4680|(307) 555-6525|\n",
       "|SUPRD|Suprêmes délices|Pascale Cartrain|Accounting Manager|Boulevard Tirou, 255|Charleroi|Western Europe|B-6000|Belgium|(071) 23 67 22 20|(071) 23 67 22 21|\n",
       "|THEBI|The Big Cheese|Liz Nixon|Marketing Manager|89 Jefferson Way Suite 2|Portland|North America|97201|USA|(503) 555-3612||\n",
       "|THECR|The Cracker Box|Liu Wong|Marketing Assistant|55 Grizzly Peak Rd.|Butte|North America|59801|USA|(406) 555-5834|(406) 555-8083|\n",
       "|TOMSP|Toms Spezialitäten|Karin Josephs|Marketing Manager|Luisenstr. 48|Münster|Western Europe|44087|Germany|0251-031259|0251-035695|\n",
       "|TORTU|Tortuga Restaurante|Miguel Angel Paolino|Owner|Avda. Azteca 123|México D.F.|Central America|05033|Mexico|(5) 555-2933||\n",
       "|TRADH|Tradição Hipermercados|Anabela Domingues|Sales Representative|Av. Inês de Castro, 414|Sao Paulo|South America|05634-030|Brazil|(11) 555-2167|(11) 555-2168|\n",
       "|TRAIH|Trail's Head Gourmet Provisioners|Helvetius Nagy|Sales Associate|722 DaVinci Blvd.|Kirkland|North America|98034|USA|(206) 555-8257|(206) 555-2174|\n",
       "|VAFFE|Vaffeljernet|Palle Ibsen|Sales Manager|Smagsloget 45|Århus|Northern Europe|8200|Denmark|86 21 32 43|86 22 33 44|\n",
       "|Val2 |IT|Val2|IT||||||||\n",
       "|VALON|IT|Valon Hoti|IT||||||||\n",
       "|VICTE|Victuailles en stock|Mary Saveley|Sales Agent|2, rue du Commerce|Lyon|Western Europe|69004|France|78.32.54.86|78.32.54.87|\n",
       "|VINET|Vins et alcools Chevalier|Paul Henriot|Accounting Manager|59 rue de l'Abbaye|Reims|Western Europe|51100|France|26.47.15.10|26.47.15.11|\n",
       "|WANDK|Die Wandernde Kuh|Rita Müller|Sales Representative|Adenauerallee 900|Stuttgart|Western Europe|70563|Germany|0711-020361|0711-035428|\n",
       "|WARTH|Wartian Herkku|Pirkko Koskitalo|Accounting Manager|Torikatu 38|Oulu|Scandinavia|90110|Finland|981-443655|981-443655|\n",
       "|WELLI|Wellington Importadora|Paula Parente|Sales Manager|Rua do Mercado, 12|Resende|South America|08737-363|Brazil|(14) 555-8122||\n",
       "|WHITC|White Clover Markets|Karl Jablonski|Owner|305 - 14th Ave. S. Suite 3B|Seattle|North America|98128|USA|(206) 555-4112|(206) 555-4115|\n",
       "|WILMK|Wilman Kala|Matti Karttunen|Owner/Marketing Assistant|Keskuskatu 45|Helsinki|Scandinavia|21240|Finland|90-224 8858|90-224 8858|\n",
       "|WOLZA|Wolski  Zajazd|Zbyszek Piestrzeniewicz|Owner|ul. Filtrowa 68|Warszawa|Eastern Europe|01-012|Poland|(26) 642-7012|(26) 642-7012|\n",
       "||Exotic Liquids||||London|||UK|||\n",
       "||New Orleans Cajun Delights||||New Orleans|||USA|||\n",
       "||Grandma Kelly's Homestead||||Ann Arbor|||USA|||\n",
       "||Tokyo Traders||||Tokyo|||Japan|||\n",
       "||Cooperativa de Quesos 'Las Cabras'||||Oviedo|||Spain|||\n",
       "||Mayumi's||||Osaka|||Japan|||\n",
       "||Pavlova, Ltd.||||Melbourne|||Australia|||\n",
       "||Specialty Biscuits, Ltd.||||Manchester|||UK|||\n",
       "||PB Knäckebröd AB||||Göteborg|||Sweden |||\n",
       "||Refrescos Americanas LTDA||||São Paulo|||Brazil|||\n",
       "||Heli Süßwaren GmbH & Co. KG||||Berlin|||Germany|||\n",
       "||Plutzer Lebensmittelgroßmärkte AG||||Frankfurt|||Germany|||\n",
       "||Nord-Ost-Fisch Handelsgesellschaft mbH||||Cuxhaven|||Germany|||\n",
       "||Formaggi Fortini s.r.l.||||Ravenna|||Italy|||\n",
       "||Norske Meierier||||Sandvika|||Norway|||\n",
       "||Bigfoot Breweries||||Bend|||USA|||\n",
       "||Svensk Sjöföda AB||||Stockholm|||Sweden|||\n",
       "||New England Seafood Cannery||||Boston|||USA|||\n",
       "||Leka Trading||||Singapore|||Singapore|||\n",
       "||Lyngbysild||||Lyngby|||Denmark|||\n",
       "||Zaanse Snoepfabriek||||Zaandam|||Netherlands|||\n",
       "||Karkki Oy||||Lappeenranta|||Finland|||\n",
       "||G'day, Mate||||Sydney|||Australia|||\n",
       "||Ma Maison||||Montréal|||Canada|||\n",
       "||Pasta Buttini s.r.l.||||Salerno|||Italy|||\n",
       "||Escargots Nouveaux||||Montceau|||France|||\n",
       "||Gai pâturage||||Annecy|||France|||\n",
       "||Forêts d'érables||||Ste-Hyacinthe|||Canada|||\n",
       "||Exotic Liquids|Charlotte Cooper||49 Gilbert St.|London||EC1 4SD|UK|||\n",
       "||New Orleans Cajun Delights|Shelley Burke||P.O. Box 78934|New Orleans||70117|USA|||\n",
       "||Grandma Kelly's Homestead|Regina Murphy||707 Oxford Rd.|Ann Arbor||48104|USA|||\n",
       "||Tokyo Traders|Yoshi Nagase||9-8 Sekimai\n",
       "Musashino-shi|Tokyo||100|Japan|||\n",
       "||Cooperativa de Quesos 'Las Cabras'|Antonio del Valle Saavedra ||Calle del Rosal 4|Oviedo||33007|Spain|||\n",
       "||Mayumi's|Mayumi Ohno||92 Setsuko\n",
       "Chuo-ku|Osaka||545|Japan|||\n",
       "||Pavlova, Ltd.|Ian Devling||74 Rose St.\n",
       "Moonie Ponds|Melbourne||3058|Australia|||\n",
       "||Specialty Biscuits, Ltd.|Peter Wilson||29 King's Way|Manchester||M14 GSD|UK|||\n",
       "||PB Knäckebröd AB|Lars Peterson||Kaloadagatan 13|Göteborg||S-345 67|Sweden |||\n",
       "||Refrescos Americanas LTDA|Carlos Diaz||Av. das Americanas 12.890|São Paulo||5442|Brazil|||\n",
       "||Heli Süßwaren GmbH & Co. KG|Petra Winkler||Tiergartenstraße 5|Berlin||10785|Germany|||\n",
       "||Plutzer Lebensmittelgroßmärkte AG|Martin Bein||Bogenallee 51|Frankfurt||60439|Germany|||\n",
       "||Nord-Ost-Fisch Handelsgesellschaft mbH|Sven Petersen||Frahmredder 112a|Cuxhaven||27478|Germany|||\n",
       "||Formaggi Fortini s.r.l.|Elio Rossi||Viale Dante, 75|Ravenna||48100|Italy|||\n",
       "||Norske Meierier|Beate Vileid||Hatlevegen 5|Sandvika||1320|Norway|||\n",
       "||Bigfoot Breweries|Cheryl Saylor||3400 - 8th Avenue\n",
       "Suite 210|Bend||97101|USA|||\n",
       "||Svensk Sjöföda AB|Michael Björn||Brovallavägen 231|Stockholm||S-123 45|Sweden|||\n",
       "||New England Seafood Cannery|Robb Merchant||Order Processing Dept.\n",
       "2100 Paul Revere Blvd.|Boston||02134|USA|||\n",
       "||Leka Trading|Chandra Leka||471 Serangoon Loop, Suite #402|Singapore||0512|Singapore|||\n",
       "||Lyngbysild|Niels Petersen||Lyngbysild\n",
       "Fiskebakken 10|Lyngby||2800|Denmark|||\n",
       "||Zaanse Snoepfabriek|Dirk Luchte||Verkoop\n",
       "Rijnweg 22|Zaandam||9999 ZZ|Netherlands|||\n",
       "||Karkki Oy|Anne Heikkonen||Valtakatu 12|Lappeenranta||53120|Finland|||\n",
       "||G'day, Mate|Wendy Mackenzie||170 Prince Edward Parade\n",
       "Hunter's Hill|Sydney||2042|Australia|||\n",
       "||Ma Maison|Jean-Guy Lauzon||2960 Rue St. Laurent|Montréal||H1J 1C3|Canada|||\n",
       "||Pasta Buttini s.r.l.|Giovanni Giudici||Via dei Gelsomini, 153|Salerno||84100|Italy|||\n",
       "||Escargots Nouveaux|Marie Delamare||22, rue H. Voiron|Montceau||71300|France|||\n",
       "||Gai pâturage|Eliane Noz||Bat. B\n",
       "3, rue des Alpes|Annecy||74000|France|||\n",
       "||Forêts d'érables|Chantal Goulet||148 rue Chasseur|Ste-Hyacinthe||J2S 7S8|Canada|||\n",
       "||Heli Süßwaren GmbH & Co. KG||||Berlin|||Germany|||\n",
       "||Plutzer Lebensmittelgroßmärkte AG||||Frankfurt|||Germany|||\n",
       "||Nord-Ost-Fisch Handelsgesellschaft mbH||||Cuxhaven|||Germany|||\n",
       "||Heli Süßwaren GmbH & Co. KG||||Berlin|||Germany|||\n",
       "||Plutzer Lebensmittelgroßmärkte AG||||Frankfurt|||Germany|||\n",
       "||Nord-Ost-Fisch Handelsgesellschaft mbH||||Cuxhaven|||Germany|||"
      ],
      "text/plain": [
       "<IPython.core.display.Markdown object>"
      ]
     },
     "metadata": {},
     "output_type": "display_data"
    }
   ],
   "source": [
    "# NOT LIKE\n",
    "execute_and_show(cur,\n",
    "                 '''\n",
    "                 SELECT * FROM Customers\n",
    "                 WHERE CompanyName NOT LIKE 'A%';\n",
    "                 ''')"
   ]
  },
  {
   "cell_type": "code",
   "execution_count": 26,
   "metadata": {},
   "outputs": [
    {
     "data": {
      "text/markdown": [
       "|ProductID|ProductName|SupplierID|CategoryID|QuantityPerUnit|UnitPrice|UnitsInStock|UnitsOnOrder|ReorderLevel|Discontinued|\n",
       "|-|-|-|-|-|-|-|-|-|-|\n",
       "|9|Mishi Kobe Niku|4|6|18 - 500 g pkgs.|97|29|0|0|1|\n",
       "|13|Konbu|6|8|2 kg box|6|24|0|5|0|\n",
       "|18|Carnarvon Tigers|7|8|16 kg pkg.|62.5|42|0|0|0|\n",
       "|19|Teatime Chocolate Biscuits|8|3|10 boxes x 12 pieces|9.2|25|0|5|0|\n",
       "|20|Sir Rodney's Marmalade|8|3|30 gift boxes|81|40|0|0|0|\n",
       "|23|Tunnbröd|9|5|12 - 250 g pkgs.|9|61|0|25|0|\n",
       "|24|Guaraná Fantástica|10|1|12 - 355 ml cans|4.5|20|0|0|1|\n",
       "|29|Thüringer Rostbratwurst|12|6|50 bags x 30 sausgs.|123.79|0|0|0|1|\n",
       "|33|Geitost|15|4|500 g|2.5|112|0|20|0|\n",
       "|38|Côte de Blaye|18|1|12 - 75 cl bottles|263.5|17|0|15|0|\n",
       "|41|Jack's New England Clam Chowder|19|8|12 - 12 oz cans|9.65|85|0|10|0|\n",
       "|45|Rogede sild|21|8|1k pkg.|9.5|5|70|15|0|\n",
       "|47|Zaanse koeken|22|3|10 - 4 oz boxes|9.5|36|0|0|0|\n",
       "|52|Filo Mix|24|5|16 - 2 kg boxes|7|38|0|25|0|\n",
       "|54|Tourtière|25|6|16 pies|7.45|21|0|10|0|\n",
       "|75|Rhönbräu Klosterbier|12|1|24 - 0.5 l bottles|7.75|125|0|25|0|"
      ],
      "text/plain": [
       "<IPython.core.display.Markdown object>"
      ]
     },
     "metadata": {},
     "output_type": "display_data"
    }
   ],
   "source": [
    "# NOT BETWEEN\n",
    "execute_and_show(cur,\n",
    "                 '''\n",
    "                 SELECT * FROM Products\n",
    "                 WHERE UnitPrice NOT BETWEEN 10 AND 60;\n",
    "                 ''')"
   ]
  },
  {
   "cell_type": "code",
   "execution_count": 27,
   "metadata": {},
   "outputs": [
    {
     "data": {
      "text/markdown": [
       "|CustomerID|CompanyName|ContactName|ContactTitle|Address|City|Region|PostalCode|Country|Phone|Fax|\n",
       "|-|-|-|-|-|-|-|-|-|-|-|\n",
       "|ALFKI|Alfreds Futterkiste|Maria Anders|Sales Representative|Obere Str. 57|Berlin|Western Europe|12209|Germany|030-0074321|030-0076545|\n",
       "|ANATR|Ana Trujillo Emparedados y helados|Ana Trujillo|Owner|Avda. de la Constitución 2222|México D.F.|Central America|05021|Mexico|(5) 555-4729|(5) 555-3745|\n",
       "|ANTON|Antonio Moreno Taquería|Antonio Moreno|Owner|Mataderos  2312|México D.F.|Central America|05023|Mexico|(5) 555-3932||\n",
       "|BERGS|Berglunds snabbköp|Christina Berglund|Order Administrator|Berguvsvägen  8|Luleå|Northern Europe|S-958 22|Sweden|0921-12 34 65|0921-12 34 67|\n",
       "|BLAUS|Blauer See Delikatessen|Hanna Moos|Sales Representative|Forsterstr. 57|Mannheim|Western Europe|68306|Germany|0621-08460|0621-08924|\n",
       "|BLONP|Blondesddsl père et fils|Frédérique Citeaux|Marketing Manager|24, place Kléber|Strasbourg|Western Europe|67000|France|88.60.15.31|88.60.15.32|\n",
       "|BOLID|Bólido Comidas preparadas|Martín Sommer|Owner|C/ Araquil, 67|Madrid|Southern Europe|28023|Spain|(91) 555 22 82|(91) 555 91 99|\n",
       "|BONAP|Bon app'|Laurence Lebihan|Owner|12, rue des Bouchers|Marseille|Western Europe|13008|France|91.24.45.40|91.24.45.41|\n",
       "|BOTTM|Bottom-Dollar Markets|Elizabeth Lincoln|Accounting Manager|23 Tsawassen Blvd.|Tsawassen|North America|T2F 8M4|Canada|(604) 555-4729|(604) 555-3745|\n",
       "|CACTU|Cactus Comidas para llevar|Patricio Simpson|Sales Agent|Cerrito 333|Buenos Aires|South America|1010|Argentina|(1) 135-5555|(1) 135-4892|\n",
       "|CENTC|Centro comercial Moctezuma|Francisco Chang|Marketing Manager|Sierras de Granada 9993|México D.F.|Central America|05022|Mexico|(5) 555-3392|(5) 555-7293|\n",
       "|CHOPS|Chop-suey Chinese|Yang Wang|Owner|Hauptstr. 29|Bern|Western Europe|3012|Switzerland|0452-076545||\n",
       "|COMMI|Comércio Mineiro|Pedro Afonso|Sales Associate|Av. dos Lusíadas, 23|Sao Paulo|South America|05432-043|Brazil|(11) 555-7647||\n",
       "|DRACD|Drachenblut Delikatessen|Sven Ottlieb|Order Administrator|Walserweg 21|Aachen|Western Europe|52066|Germany|0241-039123|0241-059428|\n",
       "|DUMON|Du monde entier|Janine Labrune|Owner|67, rue des Cinquante Otages|Nantes|Western Europe|44000|France|40.67.88.88|40.67.89.89|\n",
       "|ERNSH|Ernst Handel|Roland Mendel|Sales Manager|Kirchgasse 6|Graz|Western Europe|8010|Austria|7675-3425|7675-3426|\n",
       "|FAMIA|Familia Arquibaldo|Aria Cruz|Marketing Assistant|Rua Orós, 92|Sao Paulo|South America|05442-030|Brazil|(11) 555-9857||\n",
       "|FISSA|FISSA Fabrica Inter. Salchichas S.A.|Diego Roel|Accounting Manager|C/ Moralzarzal, 86|Madrid|Southern Europe|28034|Spain|(91) 555 94 44|(91) 555 55 93|\n",
       "|FOLIG|Folies gourmandes|Martine Rancé|Assistant Sales Agent|184, chaussée de Tournai|Lille|Western Europe|59000|France|20.16.10.16|20.16.10.17|\n",
       "|FOLKO|Folk och fä HB|Maria Larsson|Owner|Åkergatan 24|Bräcke|Northern Europe|S-844 67|Sweden|0695-34 67 21||\n",
       "|FRANK|Frankenversand|Peter Franken|Marketing Manager|Berliner Platz 43|München|Western Europe|80805|Germany|089-0877310|089-0877451|\n",
       "|FRANR|France restauration|Carine Schmitt|Marketing Manager|54, rue Royale|Nantes|Western Europe|44000|France|40.32.21.21|40.32.21.20|\n",
       "|FRANS|Franchi S.p.A.|Paolo Accorti|Sales Representative|Via Monte Bianco 34|Torino|Southern Europe|10100|Italy|011-4988260|011-4988261|\n",
       "|FURIB|Furia Bacalhau e Frutos do Mar|Lino Rodriguez|Sales Manager|Jardim das rosas n. 32|Lisboa|Southern Europe|1675|Portugal|(1) 354-2534|(1) 354-2535|\n",
       "|GALED|Galería del gastrónomo|Eduardo Saavedra|Marketing Manager|Rambla de Cataluña, 23|Barcelona|Southern Europe|08022|Spain|(93) 203 4560|(93) 203 4561|\n",
       "|GODOS|Godos Cocina Típica|José Pedro Freyre|Sales Manager|C/ Romero, 33|Sevilla|Southern Europe|41101|Spain|(95) 555 82 82||\n",
       "|GOURL|Gourmet Lanchonetes|André Fonseca|Sales Associate|Av. Brasil, 442|Campinas|South America|04876-786|Brazil|(11) 555-9482||\n",
       "|GREAL|Great Lakes Food Market|Howard Snyder|Marketing Manager|2732 Baker Blvd.|Eugene|North America|97403|USA|(503) 555-7555||\n",
       "|GROSR|GROSELLA-Restaurante|Manuel Pereira|Owner|5ª Ave. Los Palos Grandes|Caracas|South America|1081|Venezuela|(2) 283-2951|(2) 283-3397|\n",
       "|HANAR|Hanari Carnes|Mario Pontes|Accounting Manager|Rua do Paço, 67|Rio de Janeiro|South America|05454-876|Brazil|(21) 555-0091|(21) 555-8765|\n",
       "|HILAA|HILARION-Abastos|Carlos Hernández|Sales Representative|Carrera 22 con Ave. Carlos Soublette #8-35|San Cristóbal|South America|5022|Venezuela|(5) 555-1340|(5) 555-1948|\n",
       "|HUNGC|Hungry Coyote Import Store|Yoshi Latimer|Sales Representative|City Center Plaza 516 Main St.|Elgin|North America|97827|USA|(503) 555-6874|(503) 555-2376|\n",
       "|HUNGO|Hungry Owl All-Night Grocers|Patricia McKenna|Sales Associate|8 Johnstown Road|Cork|British Isles||Ireland|2967 542|2967 3333|\n",
       "|ISLAT|Island Trading|Helen Bennett|Marketing Manager|Garden House Crowther Way|Cowes|British Isles|PO31 7PJ|UK|(198) 555-8888||\n",
       "|KOENE|Königlich Essen|Philip Cramer|Sales Associate|Maubelstr. 90|Brandenburg|Western Europe|14776|Germany|0555-09876||\n",
       "|LACOR|La corne d'abondance|Daniel Tonini|Sales Representative|67, avenue de l'Europe|Versailles|Western Europe|78000|France|30.59.84.10|30.59.85.11|\n",
       "|LAMAI|La maison d'Asie|Annette Roulet|Sales Manager|1 rue Alsace-Lorraine|Toulouse|Western Europe|31000|France|61.77.61.10|61.77.61.11|\n",
       "|LAUGB|Laughing Bacchus Wine Cellars|Yoshi Tannamuri|Marketing Assistant|1900 Oak St.|Vancouver|North America|V3F 2K1|Canada|(604) 555-3392|(604) 555-7293|\n",
       "|LAZYK|Lazy K Kountry Store|John Steel|Marketing Manager|12 Orchestra Terrace|Walla Walla|North America|99362|USA|(509) 555-7969|(509) 555-6221|\n",
       "|LEHMS|Lehmanns Marktstand|Renate Messner|Sales Representative|Magazinweg 7|Frankfurt a.M.|Western Europe|60528|Germany|069-0245984|069-0245874|\n",
       "|LETSS|Let's Stop N Shop|Jaime Yorres|Owner|87 Polk St. Suite 5|San Francisco|North America|94117|USA|(415) 555-5938||\n",
       "|LILAS|LILA-Supermercado|Carlos González|Accounting Manager|Carrera 52 con Ave. Bolívar #65-98 Llano Largo|Barquisimeto|South America|3508|Venezuela|(9) 331-6954|(9) 331-7256|\n",
       "|LINOD|LINO-Delicateses|Felipe Izquierdo|Owner|Ave. 5 de Mayo Porlamar|I. de Margarita|South America|4980|Venezuela|(8) 34-56-12|(8) 34-93-93|\n",
       "|LONEP|Lonesome Pine Restaurant|Fran Wilson|Sales Manager|89 Chiaroscuro Rd.|Portland|North America|97219|USA|(503) 555-9573|(503) 555-9646|\n",
       "|MAGAA|Magazzini Alimentari Riuniti|Giovanni Rovelli|Marketing Manager|Via Ludovico il Moro 22|Bergamo|Southern Europe|24100|Italy|035-640230|035-640231|\n",
       "|MAISD|Maison Dewey|Catherine Dewey|Sales Agent|Rue Joseph-Bens 532|Bruxelles|Western Europe|B-1180|Belgium|(02) 201 24 67|(02) 201 24 68|\n",
       "|MEREP|Mère Paillarde|Jean Fresnière|Marketing Assistant|43 rue St. Laurent|Montréal|North America|H1J 1C3|Canada|(514) 555-8054|(514) 555-8055|\n",
       "|MORGK|Morgenstern Gesundkost|Alexander Feuer|Marketing Assistant|Heerstr. 22|Leipzig|Western Europe|04179|Germany|0342-023176||\n",
       "|OCEAN|Océano Atlántico Ltda.|Yvonne Moncada|Sales Agent|Ing. Gustavo Moncada 8585 Piso 20-A|Buenos Aires|South America|1010|Argentina|(1) 135-5333|(1) 135-5535|\n",
       "|OLDWO|Old World Delicatessen|Rene Phillips|Sales Representative|2743 Bering St.|Anchorage|North America|99508|USA|(907) 555-7584|(907) 555-2880|\n",
       "|OTTIK|Ottilies Käseladen|Henriette Pfalzheim|Owner|Mehrheimerstr. 369|Köln|Western Europe|50739|Germany|0221-0644327|0221-0765721|\n",
       "|PERIC|Pericles Comidas clásicas|Guillermo Fernández|Sales Representative|Calle Dr. Jorge Cash 321|México D.F.|Central America|05033|Mexico|(5) 552-3745|(5) 545-3745|\n",
       "|PICCO|Piccolo und mehr|Georg Pipps|Sales Manager|Geislweg 14|Salzburg|Western Europe|5020|Austria|6562-9722|6562-9723|\n",
       "|PRINI|Princesa Isabel Vinhos|Isabel de Castro|Sales Representative|Estrada da saúde n. 58|Lisboa|Southern Europe|1756|Portugal|(1) 356-5634||\n",
       "|QUEDE|Que Delícia|Bernardo Batista|Accounting Manager|Rua da Panificadora, 12|Rio de Janeiro|South America|02389-673|Brazil|(21) 555-4252|(21) 555-4545|\n",
       "|QUEEN|Queen Cozinha|Lúcia Carvalho|Marketing Assistant|Alameda dos Canàrios, 891|Sao Paulo|South America|05487-020|Brazil|(11) 555-1189||\n",
       "|QUICK|QUICK-Stop|Horst Kloss|Accounting Manager|Taucherstraße 10|Cunewalde|Western Europe|01307|Germany|0372-035188||\n",
       "|RANCH|Rancho grande|Sergio Gutiérrez|Sales Representative|Av. del Libertador 900|Buenos Aires|South America|1010|Argentina|(1) 123-5555|(1) 123-5556|\n",
       "|RATTC|Rattlesnake Canyon Grocery|Paula Wilson|Assistant Sales Representative|2817 Milton Dr.|Albuquerque|North America|87110|USA|(505) 555-5939|(505) 555-3620|\n",
       "|REGGC|Reggiani Caseifici|Maurizio Moroni|Sales Associate|Strada Provinciale 124|Reggio Emilia|Southern Europe|42100|Italy|0522-556721|0522-556722|\n",
       "|RICAR|Ricardo Adocicados|Janete Limeira|Assistant Sales Agent|Av. Copacabana, 267|Rio de Janeiro|South America|02389-890|Brazil|(21) 555-3412||\n",
       "|RICSU|Richter Supermarkt|Michael Holz|Sales Manager|Grenzacherweg 237|Genève|Western Europe|1203|Switzerland|0897-034214||\n",
       "|ROMEY|Romero y tomillo|Alejandra Camino|Accounting Manager|Gran Vía, 1|Madrid|Southern Europe|28001|Spain|(91) 745 6200|(91) 745 6210|\n",
       "|SANTG|Santé Gourmet|Jonas Bergulfsen|Owner|Erling Skakkes gate 78|Stavern|Scandinavia|4110|Norway|07-98 92 35|07-98 92 47|\n",
       "|SAVEA|Save-a-lot Markets|Jose Pavarotti|Sales Representative|187 Suffolk Ln.|Boise|North America|83720|USA|(208) 555-8097||\n",
       "|SIMOB|Simons bistro|Jytte Petersen|Owner|Vinbæltet 34|Kobenhavn|Northern Europe|1734|Denmark|31 12 34 56|31 13 35 57|\n",
       "|SPLIR|Split Rail Beer & Ale|Art Braunschweiger|Sales Manager|P.O. Box 555|Lander|North America|82520|USA|(307) 555-4680|(307) 555-6525|\n",
       "|SUPRD|Suprêmes délices|Pascale Cartrain|Accounting Manager|Boulevard Tirou, 255|Charleroi|Western Europe|B-6000|Belgium|(071) 23 67 22 20|(071) 23 67 22 21|\n",
       "|THEBI|The Big Cheese|Liz Nixon|Marketing Manager|89 Jefferson Way Suite 2|Portland|North America|97201|USA|(503) 555-3612||\n",
       "|THECR|The Cracker Box|Liu Wong|Marketing Assistant|55 Grizzly Peak Rd.|Butte|North America|59801|USA|(406) 555-5834|(406) 555-8083|\n",
       "|TOMSP|Toms Spezialitäten|Karin Josephs|Marketing Manager|Luisenstr. 48|Münster|Western Europe|44087|Germany|0251-031259|0251-035695|\n",
       "|TORTU|Tortuga Restaurante|Miguel Angel Paolino|Owner|Avda. Azteca 123|México D.F.|Central America|05033|Mexico|(5) 555-2933||\n",
       "|TRADH|Tradição Hipermercados|Anabela Domingues|Sales Representative|Av. Inês de Castro, 414|Sao Paulo|South America|05634-030|Brazil|(11) 555-2167|(11) 555-2168|\n",
       "|TRAIH|Trail's Head Gourmet Provisioners|Helvetius Nagy|Sales Associate|722 DaVinci Blvd.|Kirkland|North America|98034|USA|(206) 555-8257|(206) 555-2174|\n",
       "|VAFFE|Vaffeljernet|Palle Ibsen|Sales Manager|Smagsloget 45|Århus|Northern Europe|8200|Denmark|86 21 32 43|86 22 33 44|\n",
       "|VICTE|Victuailles en stock|Mary Saveley|Sales Agent|2, rue du Commerce|Lyon|Western Europe|69004|France|78.32.54.86|78.32.54.87|\n",
       "|VINET|Vins et alcools Chevalier|Paul Henriot|Accounting Manager|59 rue de l'Abbaye|Reims|Western Europe|51100|France|26.47.15.10|26.47.15.11|\n",
       "|WANDK|Die Wandernde Kuh|Rita Müller|Sales Representative|Adenauerallee 900|Stuttgart|Western Europe|70563|Germany|0711-020361|0711-035428|\n",
       "|WARTH|Wartian Herkku|Pirkko Koskitalo|Accounting Manager|Torikatu 38|Oulu|Scandinavia|90110|Finland|981-443655|981-443655|\n",
       "|WELLI|Wellington Importadora|Paula Parente|Sales Manager|Rua do Mercado, 12|Resende|South America|08737-363|Brazil|(14) 555-8122||\n",
       "|WHITC|White Clover Markets|Karl Jablonski|Owner|305 - 14th Ave. S. Suite 3B|Seattle|North America|98128|USA|(206) 555-4112|(206) 555-4115|\n",
       "|WILMK|Wilman Kala|Matti Karttunen|Owner/Marketing Assistant|Keskuskatu 45|Helsinki|Scandinavia|21240|Finland|90-224 8858|90-224 8858|\n",
       "|WOLZA|Wolski  Zajazd|Zbyszek Piestrzeniewicz|Owner|ul. Filtrowa 68|Warszawa|Eastern Europe|01-012|Poland|(26) 642-7012|(26) 642-7012|\n",
       "||New Orleans Cajun Delights||||New Orleans|||USA|||\n",
       "||Grandma Kelly's Homestead||||Ann Arbor|||USA|||\n",
       "||Tokyo Traders||||Tokyo|||Japan|||\n",
       "||Cooperativa de Quesos 'Las Cabras'||||Oviedo|||Spain|||\n",
       "||Mayumi's||||Osaka|||Japan|||\n",
       "||Pavlova, Ltd.||||Melbourne|||Australia|||\n",
       "||Specialty Biscuits, Ltd.||||Manchester|||UK|||\n",
       "||PB Knäckebröd AB||||Göteborg|||Sweden |||\n",
       "||Refrescos Americanas LTDA||||São Paulo|||Brazil|||\n",
       "||Heli Süßwaren GmbH & Co. KG||||Berlin|||Germany|||\n",
       "||Plutzer Lebensmittelgroßmärkte AG||||Frankfurt|||Germany|||\n",
       "||Nord-Ost-Fisch Handelsgesellschaft mbH||||Cuxhaven|||Germany|||\n",
       "||Formaggi Fortini s.r.l.||||Ravenna|||Italy|||\n",
       "||Norske Meierier||||Sandvika|||Norway|||\n",
       "||Bigfoot Breweries||||Bend|||USA|||\n",
       "||Svensk Sjöföda AB||||Stockholm|||Sweden|||\n",
       "||New England Seafood Cannery||||Boston|||USA|||\n",
       "||Leka Trading||||Singapore|||Singapore|||\n",
       "||Lyngbysild||||Lyngby|||Denmark|||\n",
       "||Zaanse Snoepfabriek||||Zaandam|||Netherlands|||\n",
       "||Karkki Oy||||Lappeenranta|||Finland|||\n",
       "||G'day, Mate||||Sydney|||Australia|||\n",
       "||Ma Maison||||Montréal|||Canada|||\n",
       "||Pasta Buttini s.r.l.||||Salerno|||Italy|||\n",
       "||Escargots Nouveaux||||Montceau|||France|||\n",
       "||Gai pâturage||||Annecy|||France|||\n",
       "||Forêts d'érables||||Ste-Hyacinthe|||Canada|||\n",
       "||New Orleans Cajun Delights|Shelley Burke||P.O. Box 78934|New Orleans||70117|USA|||\n",
       "||Grandma Kelly's Homestead|Regina Murphy||707 Oxford Rd.|Ann Arbor||48104|USA|||\n",
       "||Tokyo Traders|Yoshi Nagase||9-8 Sekimai\n",
       "Musashino-shi|Tokyo||100|Japan|||\n",
       "||Cooperativa de Quesos 'Las Cabras'|Antonio del Valle Saavedra ||Calle del Rosal 4|Oviedo||33007|Spain|||\n",
       "||Mayumi's|Mayumi Ohno||92 Setsuko\n",
       "Chuo-ku|Osaka||545|Japan|||\n",
       "||Pavlova, Ltd.|Ian Devling||74 Rose St.\n",
       "Moonie Ponds|Melbourne||3058|Australia|||\n",
       "||Specialty Biscuits, Ltd.|Peter Wilson||29 King's Way|Manchester||M14 GSD|UK|||\n",
       "||PB Knäckebröd AB|Lars Peterson||Kaloadagatan 13|Göteborg||S-345 67|Sweden |||\n",
       "||Refrescos Americanas LTDA|Carlos Diaz||Av. das Americanas 12.890|São Paulo||5442|Brazil|||\n",
       "||Heli Süßwaren GmbH & Co. KG|Petra Winkler||Tiergartenstraße 5|Berlin||10785|Germany|||\n",
       "||Plutzer Lebensmittelgroßmärkte AG|Martin Bein||Bogenallee 51|Frankfurt||60439|Germany|||\n",
       "||Nord-Ost-Fisch Handelsgesellschaft mbH|Sven Petersen||Frahmredder 112a|Cuxhaven||27478|Germany|||\n",
       "||Formaggi Fortini s.r.l.|Elio Rossi||Viale Dante, 75|Ravenna||48100|Italy|||\n",
       "||Norske Meierier|Beate Vileid||Hatlevegen 5|Sandvika||1320|Norway|||\n",
       "||Bigfoot Breweries|Cheryl Saylor||3400 - 8th Avenue\n",
       "Suite 210|Bend||97101|USA|||\n",
       "||Svensk Sjöföda AB|Michael Björn||Brovallavägen 231|Stockholm||S-123 45|Sweden|||\n",
       "||New England Seafood Cannery|Robb Merchant||Order Processing Dept.\n",
       "2100 Paul Revere Blvd.|Boston||02134|USA|||\n",
       "||Leka Trading|Chandra Leka||471 Serangoon Loop, Suite #402|Singapore||0512|Singapore|||\n",
       "||Lyngbysild|Niels Petersen||Lyngbysild\n",
       "Fiskebakken 10|Lyngby||2800|Denmark|||\n",
       "||Zaanse Snoepfabriek|Dirk Luchte||Verkoop\n",
       "Rijnweg 22|Zaandam||9999 ZZ|Netherlands|||\n",
       "||Karkki Oy|Anne Heikkonen||Valtakatu 12|Lappeenranta||53120|Finland|||\n",
       "||G'day, Mate|Wendy Mackenzie||170 Prince Edward Parade\n",
       "Hunter's Hill|Sydney||2042|Australia|||\n",
       "||Ma Maison|Jean-Guy Lauzon||2960 Rue St. Laurent|Montréal||H1J 1C3|Canada|||\n",
       "||Pasta Buttini s.r.l.|Giovanni Giudici||Via dei Gelsomini, 153|Salerno||84100|Italy|||\n",
       "||Escargots Nouveaux|Marie Delamare||22, rue H. Voiron|Montceau||71300|France|||\n",
       "||Gai pâturage|Eliane Noz||Bat. B\n",
       "3, rue des Alpes|Annecy||74000|France|||\n",
       "||Forêts d'érables|Chantal Goulet||148 rue Chasseur|Ste-Hyacinthe||J2S 7S8|Canada|||\n",
       "||Heli Süßwaren GmbH & Co. KG||||Berlin|||Germany|||\n",
       "||Plutzer Lebensmittelgroßmärkte AG||||Frankfurt|||Germany|||\n",
       "||Nord-Ost-Fisch Handelsgesellschaft mbH||||Cuxhaven|||Germany|||\n",
       "||Heli Süßwaren GmbH & Co. KG||||Berlin|||Germany|||\n",
       "||Plutzer Lebensmittelgroßmärkte AG||||Frankfurt|||Germany|||\n",
       "||Nord-Ost-Fisch Handelsgesellschaft mbH||||Cuxhaven|||Germany|||"
      ],
      "text/plain": [
       "<IPython.core.display.Markdown object>"
      ]
     },
     "metadata": {},
     "output_type": "display_data"
    }
   ],
   "source": [
    "# NOT IN\n",
    "execute_and_show(cur,\n",
    "                 '''\n",
    "                 SELECT * FROM Customers\n",
    "                 WHERE City NOT IN ('Paris', 'London');\n",
    "                 ''')"
   ]
  },
  {
   "cell_type": "code",
   "execution_count": 28,
   "metadata": {},
   "outputs": [
    {
     "data": {
      "text/markdown": [
       "|ProductID|ProductName|SupplierID|CategoryID|QuantityPerUnit|UnitPrice|UnitsInStock|UnitsOnOrder|ReorderLevel|Discontinued|\n",
       "|-|-|-|-|-|-|-|-|-|-|\n",
       "|1|Chai|1|1|10 boxes x 20 bags|18|39|0|10|0|\n",
       "|2|Chang|1|1|24 - 12 oz bottles|19|17|40|25|0|\n",
       "|3|Aniseed Syrup|1|2|12 - 550 ml bottles|10|13|70|25|0|\n",
       "|13|Konbu|6|8|2 kg box|6|24|0|5|0|\n",
       "|15|Genen Shouyu|6|2|24 - 250 ml bottles|15.5|39|0|5|0|\n",
       "|16|Pavlova|7|3|32 - 500 g boxes|17.45|29|0|10|0|\n",
       "|19|Teatime Chocolate Biscuits|8|3|10 boxes x 12 pieces|9.2|25|0|5|0|\n",
       "|21|Sir Rodney's Scones|8|3|24 pkgs. x 4 pieces|10|3|40|5|0|\n",
       "|23|Tunnbröd|9|5|12 - 250 g pkgs.|9|61|0|25|0|\n",
       "|24|Guaraná Fantástica|10|1|12 - 355 ml cans|4.5|20|0|0|1|\n",
       "|25|NuNuCa Nuß-Nougat-Creme|11|3|20 - 450 g glasses|14|76|0|30|0|\n",
       "|31|Gorgonzola Telino|14|4|12 - 100 g pkgs|12.5|0|70|20|0|\n",
       "|33|Geitost|15|4|500 g|2.5|112|0|20|0|\n",
       "|34|Sasquatch Ale|16|1|24 - 12 oz bottles|14|111|0|15|0|\n",
       "|35|Steeleye Stout|16|1|24 - 12 oz bottles|18|20|0|15|0|\n",
       "|36|Inlagd Sill|17|8|24 - 250 g  jars|19|112|0|20|0|\n",
       "|39|Chartreuse verte|18|1|750 cc per bottle|18|69|0|5|0|\n",
       "|40|Boston Crab Meat|19|8|24 - 4 oz tins|18.4|123|0|30|0|\n",
       "|41|Jack's New England Clam Chowder|19|8|12 - 12 oz cans|9.65|85|0|10|0|\n",
       "|42|Singaporean Hokkien Fried Mee|20|5|32 - 1 kg pkgs.|14|26|0|0|1|\n",
       "|44|Gula Malacca|20|2|20 - 2 kg bags|19.45|27|0|15|0|\n",
       "|45|Rogede sild|21|8|1k pkg.|9.5|5|70|15|0|\n",
       "|46|Spegesild|21|8|4 - 450 g glasses|12|95|0|0|0|\n",
       "|47|Zaanse koeken|22|3|10 - 4 oz boxes|9.5|36|0|0|0|\n",
       "|48|Chocolade|22|3|10 pkgs.|12.75|15|70|25|0|\n",
       "|49|Maxilaku|23|3|24 - 50 g pkgs.|20|10|60|15|0|\n",
       "|50|Valkoinen suklaa|23|3|12 - 100 g bars|16.25|65|0|30|0|\n",
       "|52|Filo Mix|24|5|16 - 2 kg boxes|7|38|0|25|0|\n",
       "|54|Tourtière|25|6|16 pies|7.45|21|0|10|0|\n",
       "|57|Ravioli Angelo|26|5|24 - 250 g pkgs.|19.5|36|0|20|0|\n",
       "|58|Escargots de Bourgogne|27|8|24 pieces|13.25|62|0|20|0|\n",
       "|66|Louisiana Hot Spiced Okra|2|2|24 - 8 oz jars|17|4|100|20|0|\n",
       "|67|Laughing Lumberjack Lager|16|1|24 - 12 oz bottles|14|52|0|10|0|\n",
       "|68|Scottish Longbreads|8|3|10 boxes x 8 pieces|12.5|6|10|15|0|\n",
       "|70|Outback Lager|7|1|24 - 355 ml bottles|15|15|10|30|0|\n",
       "|73|Röd Kaviar|17|8|24 - 150 g jars|15|101|0|5|0|\n",
       "|74|Longlife Tofu|4|7|5 kg pkg.|10|4|20|5|0|\n",
       "|75|Rhönbräu Klosterbier|12|1|24 - 0.5 l bottles|7.75|125|0|25|0|\n",
       "|76|Lakkalikööri|23|1|500 ml|18|57|0|20|0|\n",
       "|77|Original Frankfurter grüne Soße|12|2|12 boxes|13|32|0|15|0|"
      ],
      "text/plain": [
       "<IPython.core.display.Markdown object>"
      ]
     },
     "metadata": {},
     "output_type": "display_data"
    }
   ],
   "source": [
    "# NOT Grater than\n",
    "execute_and_show(cur,\n",
    "                 '''\n",
    "                 SELECT * FROM Products\n",
    "                 WHERE NOT UnitPrice > 20;\n",
    "                 ''')"
   ]
  },
  {
   "cell_type": "code",
   "execution_count": 29,
   "metadata": {},
   "outputs": [
    {
     "data": {
      "text/markdown": [
       "|ProductID|ProductName|SupplierID|CategoryID|QuantityPerUnit|UnitPrice|UnitsInStock|UnitsOnOrder|ReorderLevel|Discontinued|\n",
       "|-|-|-|-|-|-|-|-|-|-|\n",
       "|4|Chef Anton's Cajun Seasoning|2|2|48 - 6 oz jars|22|53|0|0|0|\n",
       "|5|Chef Anton's Gumbo Mix|2|2|36 boxes|21.35|0|0|0|1|\n",
       "|6|Grandma's Boysenberry Spread|3|2|12 - 8 oz jars|25|120|0|25|0|\n",
       "|7|Uncle Bob's Organic Dried Pears|3|7|12 - 1 lb pkgs.|30|15|0|10|0|\n",
       "|8|Northwoods Cranberry Sauce|3|2|12 - 12 oz jars|40|6|0|0|0|\n",
       "|9|Mishi Kobe Niku|4|6|18 - 500 g pkgs.|97|29|0|0|1|\n",
       "|10|Ikura|4|8|12 - 200 ml jars|31|31|0|0|0|\n",
       "|11|Queso Cabrales|5|4|1 kg pkg.|21|22|30|30|0|\n",
       "|12|Queso Manchego La Pastora|5|4|10 - 500 g pkgs.|38|86|0|0|0|\n",
       "|14|Tofu|6|7|40 - 100 g pkgs.|23.25|35|0|0|0|\n",
       "|17|Alice Mutton|7|6|20 - 1 kg tins|39|0|0|0|1|\n",
       "|18|Carnarvon Tigers|7|8|16 kg pkg.|62.5|42|0|0|0|\n",
       "|20|Sir Rodney's Marmalade|8|3|30 gift boxes|81|40|0|0|0|\n",
       "|22|Gustaf's Knäckebröd|9|5|24 - 500 g pkgs.|21|104|0|25|0|\n",
       "|26|Gumbär Gummibärchen|11|3|100 - 250 g bags|31.23|15|0|0|0|\n",
       "|27|Schoggi Schokolade|11|3|100 - 100 g pieces|43.9|49|0|30|0|\n",
       "|28|Rössle Sauerkraut|12|7|25 - 825 g cans|45.6|26|0|0|1|\n",
       "|29|Thüringer Rostbratwurst|12|6|50 bags x 30 sausgs.|123.79|0|0|0|1|\n",
       "|30|Nord-Ost Matjeshering|13|8|10 - 200 g glasses|25.89|10|0|15|0|\n",
       "|32|Mascarpone Fabioli|14|4|24 - 200 g pkgs.|32|9|40|25|0|\n",
       "|37|Gravad lax|17|8|12 - 500 g pkgs.|26|11|50|25|0|\n",
       "|38|Côte de Blaye|18|1|12 - 75 cl bottles|263.5|17|0|15|0|\n",
       "|43|Ipoh Coffee|20|1|16 - 500 g tins|46|17|10|25|0|\n",
       "|49|Maxilaku|23|3|24 - 50 g pkgs.|20|10|60|15|0|\n",
       "|51|Manjimup Dried Apples|24|7|50 - 300 g pkgs.|53|20|0|10|0|\n",
       "|53|Perth Pasties|24|6|48 pieces|32.8|0|0|0|1|\n",
       "|55|Pâté chinois|25|6|24 boxes x 2 pies|24|115|0|20|0|\n",
       "|56|Gnocchi di nonna Alice|26|5|24 - 250 g pkgs.|38|21|10|30|0|\n",
       "|59|Raclette Courdavault|28|4|5 kg pkg.|55|79|0|0|0|\n",
       "|60|Camembert Pierrot|28|4|15 - 300 g rounds|34|19|0|0|0|\n",
       "|61|Sirop d'érable|29|2|24 - 500 ml bottles|28.5|113|0|25|0|\n",
       "|62|Tarte au sucre|29|3|48 pies|49.3|17|0|0|0|\n",
       "|63|Vegie-spread|7|2|15 - 625 g jars|43.9|24|0|5|0|\n",
       "|64|Wimmers gute Semmelknödel|12|5|20 bags x 4 pieces|33.25|22|80|30|0|\n",
       "|65|Louisiana Fiery Hot Pepper Sauce|2|2|32 - 8 oz bottles|21.05|76|0|0|0|\n",
       "|69|Gudbrandsdalsost|15|4|10 kg pkg.|36|26|0|15|0|\n",
       "|71|Flotemysost|15|4|10 - 500 g pkgs.|21.5|26|0|0|0|\n",
       "|72|Mozzarella di Giovanni|14|4|24 - 200 g pkgs.|34.8|14|0|0|0|"
      ],
      "text/plain": [
       "<IPython.core.display.Markdown object>"
      ]
     },
     "metadata": {},
     "output_type": "display_data"
    }
   ],
   "source": [
    "# NOT Less than\n",
    "execute_and_show(cur,\n",
    "                 '''\n",
    "                 SELECT * FROM Products\n",
    "                 WHERE NOT UnitPrice < 20;\n",
    "                 ''')"
   ]
  },
  {
   "cell_type": "markdown",
   "metadata": {},
   "source": [
    "# SQL INSERT INTO"
   ]
  },
  {
   "cell_type": "code",
   "execution_count": 30,
   "metadata": {},
   "outputs": [],
   "source": [
    "execute_and_show(cur,\n",
    "                 '''\n",
    "                 INSERT INTO Customers (CustomerID, CompanyName, ContactName, Address, City, PostalCode, Country)\n",
    "                 VALUES ('CARDL', 'Cardinal', 'Tom B. Erichsen', 'Skagen 21', 'Stavanger', '4006', 'Norway');\n",
    "                 ''')"
   ]
  },
  {
   "cell_type": "code",
   "execution_count": 31,
   "metadata": {},
   "outputs": [],
   "source": [
    "# insert data only in specified columns\n",
    "execute_and_show(cur,\n",
    "                 '''\n",
    "                 INSERT INTO Customers (CompanyName, City, Country)\n",
    "                 VALUES ('Cardinal', 'Stavanger', 'Norway');\n",
    "                 ''')"
   ]
  },
  {
   "cell_type": "code",
   "execution_count": 32,
   "metadata": {},
   "outputs": [],
   "source": [
    "# insert multiple rows\n",
    "execute_and_show(cur,\n",
    "                 '''\n",
    "                 INSERT INTO Customers (CompanyName, ContactName, Address, City, PostalCode, Country)\n",
    "                 VALUES\n",
    "                 ('Cardinal', 'Tom B. Erichsen', 'Skagen 21', 'Stavanger', '4006', 'Norway'),\n",
    "                 ('Greasy Burger', 'Per Olsen', 'Gateveien 15', 'Sandnes', '4306', 'Norway'),\n",
    "                 ('Tasty Tee', 'Finn Egan', 'Streetroad 19B', 'Liverpool', 'L1 0AA', 'UK');\n",
    "                 ''')"
   ]
  },
  {
   "cell_type": "code",
   "execution_count": 33,
   "metadata": {},
   "outputs": [
    {
     "data": {
      "text/markdown": [
       "|CustomerID|CompanyName|ContactName|ContactTitle|Address|City|Region|PostalCode|Country|Phone|Fax|\n",
       "|-|-|-|-|-|-|-|-|-|-|-|\n",
       "||Exotic Liquids||||London|||UK|||\n",
       "||New Orleans Cajun Delights||||New Orleans|||USA|||\n",
       "||Grandma Kelly's Homestead||||Ann Arbor|||USA|||\n",
       "||Tokyo Traders||||Tokyo|||Japan|||\n",
       "||Cooperativa de Quesos 'Las Cabras'||||Oviedo|||Spain|||"
      ],
      "text/plain": [
       "<IPython.core.display.Markdown object>"
      ]
     },
     "metadata": {},
     "output_type": "display_data"
    }
   ],
   "source": [
    "execute_and_show(cur,\n",
    "                 '''\n",
    "                 SELECT * FROM Customers\n",
    "                 ORDER BY CustomerID LIMIT 5;\n",
    "                 ''')"
   ]
  },
  {
   "cell_type": "markdown",
   "metadata": {},
   "source": [
    "# SQL NULL Values"
   ]
  },
  {
   "cell_type": "code",
   "execution_count": 34,
   "metadata": {},
   "outputs": [
    {
     "data": {
      "text/markdown": [
       "|CompanyName|ContactName|Address|\n",
       "|-|-|-|\n",
       "|IT|Val2||\n",
       "|IT|Valon Hoti||\n",
       "|Exotic Liquids|||\n",
       "|New Orleans Cajun Delights|||\n",
       "|Grandma Kelly's Homestead|||\n",
       "|Tokyo Traders|||\n",
       "|Cooperativa de Quesos 'Las Cabras'|||\n",
       "|Mayumi's|||\n",
       "|Pavlova, Ltd.|||\n",
       "|Specialty Biscuits, Ltd.|||\n",
       "|PB Knäckebröd AB|||\n",
       "|Refrescos Americanas LTDA|||\n",
       "|Heli Süßwaren GmbH & Co. KG|||\n",
       "|Plutzer Lebensmittelgroßmärkte AG|||\n",
       "|Nord-Ost-Fisch Handelsgesellschaft mbH|||\n",
       "|Formaggi Fortini s.r.l.|||\n",
       "|Norske Meierier|||\n",
       "|Bigfoot Breweries|||\n",
       "|Svensk Sjöföda AB|||\n",
       "|Aux joyeux ecclésiastiques|||\n",
       "|New England Seafood Cannery|||\n",
       "|Leka Trading|||\n",
       "|Lyngbysild|||\n",
       "|Zaanse Snoepfabriek|||\n",
       "|Karkki Oy|||\n",
       "|G'day, Mate|||\n",
       "|Ma Maison|||\n",
       "|Pasta Buttini s.r.l.|||\n",
       "|Escargots Nouveaux|||\n",
       "|Gai pâturage|||\n",
       "|Forêts d'érables|||\n",
       "|Heli Süßwaren GmbH & Co. KG|||\n",
       "|Plutzer Lebensmittelgroßmärkte AG|||\n",
       "|Nord-Ost-Fisch Handelsgesellschaft mbH|||\n",
       "|Heli Süßwaren GmbH & Co. KG|||\n",
       "|Plutzer Lebensmittelgroßmärkte AG|||\n",
       "|Nord-Ost-Fisch Handelsgesellschaft mbH|||\n",
       "|Cardinal|||"
      ],
      "text/plain": [
       "<IPython.core.display.Markdown object>"
      ]
     },
     "metadata": {},
     "output_type": "display_data"
    }
   ],
   "source": [
    "execute_and_show(cur,\n",
    "                 '''\n",
    "                 SELECT CompanyName, ContactName, Address\n",
    "                 FROM Customers\n",
    "                 WHERE Address IS NULL;\n",
    "                 ''')"
   ]
  },
  {
   "cell_type": "code",
   "execution_count": 35,
   "metadata": {},
   "outputs": [
    {
     "data": {
      "text/markdown": [
       "|CompanyName|ContactName|Address|\n",
       "|-|-|-|\n",
       "|Alfreds Futterkiste|Maria Anders|Obere Str. 57|\n",
       "|Ana Trujillo Emparedados y helados|Ana Trujillo|Avda. de la Constitución 2222|\n",
       "|Antonio Moreno Taquería|Antonio Moreno|Mataderos  2312|\n",
       "|Around the Horn|Thomas Hardy|120 Hanover Sq.|\n",
       "|Berglunds snabbköp|Christina Berglund|Berguvsvägen  8|\n",
       "|Blauer See Delikatessen|Hanna Moos|Forsterstr. 57|\n",
       "|Blondesddsl père et fils|Frédérique Citeaux|24, place Kléber|\n",
       "|Bólido Comidas preparadas|Martín Sommer|C/ Araquil, 67|\n",
       "|Bon app'|Laurence Lebihan|12, rue des Bouchers|\n",
       "|Bottom-Dollar Markets|Elizabeth Lincoln|23 Tsawassen Blvd.|\n",
       "|B's Beverages|Victoria Ashworth|Fauntleroy Circus|\n",
       "|Cactus Comidas para llevar|Patricio Simpson|Cerrito 333|\n",
       "|Centro comercial Moctezuma|Francisco Chang|Sierras de Granada 9993|\n",
       "|Chop-suey Chinese|Yang Wang|Hauptstr. 29|\n",
       "|Comércio Mineiro|Pedro Afonso|Av. dos Lusíadas, 23|\n",
       "|Consolidated Holdings|Elizabeth Brown|Berkeley Gardens 12  Brewery|\n",
       "|Drachenblut Delikatessen|Sven Ottlieb|Walserweg 21|\n",
       "|Du monde entier|Janine Labrune|67, rue des Cinquante Otages|\n",
       "|Eastern Connection|Ann Devon|35 King George|\n",
       "|Ernst Handel|Roland Mendel|Kirchgasse 6|\n",
       "|Familia Arquibaldo|Aria Cruz|Rua Orós, 92|\n",
       "|FISSA Fabrica Inter. Salchichas S.A.|Diego Roel|C/ Moralzarzal, 86|\n",
       "|Folies gourmandes|Martine Rancé|184, chaussée de Tournai|\n",
       "|Folk och fä HB|Maria Larsson|Åkergatan 24|\n",
       "|Frankenversand|Peter Franken|Berliner Platz 43|\n",
       "|France restauration|Carine Schmitt|54, rue Royale|\n",
       "|Franchi S.p.A.|Paolo Accorti|Via Monte Bianco 34|\n",
       "|Furia Bacalhau e Frutos do Mar|Lino Rodriguez|Jardim das rosas n. 32|\n",
       "|Galería del gastrónomo|Eduardo Saavedra|Rambla de Cataluña, 23|\n",
       "|Godos Cocina Típica|José Pedro Freyre|C/ Romero, 33|\n",
       "|Gourmet Lanchonetes|André Fonseca|Av. Brasil, 442|\n",
       "|Great Lakes Food Market|Howard Snyder|2732 Baker Blvd.|\n",
       "|GROSELLA-Restaurante|Manuel Pereira|5ª Ave. Los Palos Grandes|\n",
       "|Hanari Carnes|Mario Pontes|Rua do Paço, 67|\n",
       "|HILARION-Abastos|Carlos Hernández|Carrera 22 con Ave. Carlos Soublette #8-35|\n",
       "|Hungry Coyote Import Store|Yoshi Latimer|City Center Plaza 516 Main St.|\n",
       "|Hungry Owl All-Night Grocers|Patricia McKenna|8 Johnstown Road|\n",
       "|Island Trading|Helen Bennett|Garden House Crowther Way|\n",
       "|Königlich Essen|Philip Cramer|Maubelstr. 90|\n",
       "|La corne d'abondance|Daniel Tonini|67, avenue de l'Europe|\n",
       "|La maison d'Asie|Annette Roulet|1 rue Alsace-Lorraine|\n",
       "|Laughing Bacchus Wine Cellars|Yoshi Tannamuri|1900 Oak St.|\n",
       "|Lazy K Kountry Store|John Steel|12 Orchestra Terrace|\n",
       "|Lehmanns Marktstand|Renate Messner|Magazinweg 7|\n",
       "|Let's Stop N Shop|Jaime Yorres|87 Polk St. Suite 5|\n",
       "|LILA-Supermercado|Carlos González|Carrera 52 con Ave. Bolívar #65-98 Llano Largo|\n",
       "|LINO-Delicateses|Felipe Izquierdo|Ave. 5 de Mayo Porlamar|\n",
       "|Lonesome Pine Restaurant|Fran Wilson|89 Chiaroscuro Rd.|\n",
       "|Magazzini Alimentari Riuniti|Giovanni Rovelli|Via Ludovico il Moro 22|\n",
       "|Maison Dewey|Catherine Dewey|Rue Joseph-Bens 532|\n",
       "|Mère Paillarde|Jean Fresnière|43 rue St. Laurent|\n",
       "|Morgenstern Gesundkost|Alexander Feuer|Heerstr. 22|\n",
       "|North/South|Simon Crowther|South House 300 Queensbridge|\n",
       "|Océano Atlántico Ltda.|Yvonne Moncada|Ing. Gustavo Moncada 8585 Piso 20-A|\n",
       "|Old World Delicatessen|Rene Phillips|2743 Bering St.|\n",
       "|Ottilies Käseladen|Henriette Pfalzheim|Mehrheimerstr. 369|\n",
       "|Paris spécialités|Marie Bertrand|265, boulevard Charonne|\n",
       "|Pericles Comidas clásicas|Guillermo Fernández|Calle Dr. Jorge Cash 321|\n",
       "|Piccolo und mehr|Georg Pipps|Geislweg 14|\n",
       "|Princesa Isabel Vinhos|Isabel de Castro|Estrada da saúde n. 58|\n",
       "|Que Delícia|Bernardo Batista|Rua da Panificadora, 12|\n",
       "|Queen Cozinha|Lúcia Carvalho|Alameda dos Canàrios, 891|\n",
       "|QUICK-Stop|Horst Kloss|Taucherstraße 10|\n",
       "|Rancho grande|Sergio Gutiérrez|Av. del Libertador 900|\n",
       "|Rattlesnake Canyon Grocery|Paula Wilson|2817 Milton Dr.|\n",
       "|Reggiani Caseifici|Maurizio Moroni|Strada Provinciale 124|\n",
       "|Ricardo Adocicados|Janete Limeira|Av. Copacabana, 267|\n",
       "|Richter Supermarkt|Michael Holz|Grenzacherweg 237|\n",
       "|Romero y tomillo|Alejandra Camino|Gran Vía, 1|\n",
       "|Santé Gourmet|Jonas Bergulfsen|Erling Skakkes gate 78|\n",
       "|Save-a-lot Markets|Jose Pavarotti|187 Suffolk Ln.|\n",
       "|Seven Seas Imports|Hari Kumar|90 Wadhurst Rd.|\n",
       "|Simons bistro|Jytte Petersen|Vinbæltet 34|\n",
       "|Spécialités du monde|Dominique Perrier|25, rue Lauriston|\n",
       "|Split Rail Beer & Ale|Art Braunschweiger|P.O. Box 555|\n",
       "|Suprêmes délices|Pascale Cartrain|Boulevard Tirou, 255|\n",
       "|The Big Cheese|Liz Nixon|89 Jefferson Way Suite 2|\n",
       "|The Cracker Box|Liu Wong|55 Grizzly Peak Rd.|\n",
       "|Toms Spezialitäten|Karin Josephs|Luisenstr. 48|\n",
       "|Tortuga Restaurante|Miguel Angel Paolino|Avda. Azteca 123|\n",
       "|Tradição Hipermercados|Anabela Domingues|Av. Inês de Castro, 414|\n",
       "|Trail's Head Gourmet Provisioners|Helvetius Nagy|722 DaVinci Blvd.|\n",
       "|Vaffeljernet|Palle Ibsen|Smagsloget 45|\n",
       "|Victuailles en stock|Mary Saveley|2, rue du Commerce|\n",
       "|Vins et alcools Chevalier|Paul Henriot|59 rue de l'Abbaye|\n",
       "|Die Wandernde Kuh|Rita Müller|Adenauerallee 900|\n",
       "|Wartian Herkku|Pirkko Koskitalo|Torikatu 38|\n",
       "|Wellington Importadora|Paula Parente|Rua do Mercado, 12|\n",
       "|White Clover Markets|Karl Jablonski|305 - 14th Ave. S. Suite 3B|\n",
       "|Wilman Kala|Matti Karttunen|Keskuskatu 45|\n",
       "|Wolski  Zajazd|Zbyszek Piestrzeniewicz|ul. Filtrowa 68|\n",
       "|Exotic Liquids|Charlotte Cooper|49 Gilbert St.|\n",
       "|New Orleans Cajun Delights|Shelley Burke|P.O. Box 78934|\n",
       "|Grandma Kelly's Homestead|Regina Murphy|707 Oxford Rd.|\n",
       "|Tokyo Traders|Yoshi Nagase|9-8 Sekimai\n",
       "Musashino-shi|\n",
       "|Cooperativa de Quesos 'Las Cabras'|Antonio del Valle Saavedra |Calle del Rosal 4|\n",
       "|Mayumi's|Mayumi Ohno|92 Setsuko\n",
       "Chuo-ku|\n",
       "|Pavlova, Ltd.|Ian Devling|74 Rose St.\n",
       "Moonie Ponds|\n",
       "|Specialty Biscuits, Ltd.|Peter Wilson|29 King's Way|\n",
       "|PB Knäckebröd AB|Lars Peterson|Kaloadagatan 13|\n",
       "|Refrescos Americanas LTDA|Carlos Diaz|Av. das Americanas 12.890|\n",
       "|Heli Süßwaren GmbH & Co. KG|Petra Winkler|Tiergartenstraße 5|\n",
       "|Plutzer Lebensmittelgroßmärkte AG|Martin Bein|Bogenallee 51|\n",
       "|Nord-Ost-Fisch Handelsgesellschaft mbH|Sven Petersen|Frahmredder 112a|\n",
       "|Formaggi Fortini s.r.l.|Elio Rossi|Viale Dante, 75|\n",
       "|Norske Meierier|Beate Vileid|Hatlevegen 5|\n",
       "|Bigfoot Breweries|Cheryl Saylor|3400 - 8th Avenue\n",
       "Suite 210|\n",
       "|Svensk Sjöföda AB|Michael Björn|Brovallavägen 231|\n",
       "|Aux joyeux ecclésiastiques|Guylène Nodier|203, Rue des Francs-Bourgeois|\n",
       "|New England Seafood Cannery|Robb Merchant|Order Processing Dept.\n",
       "2100 Paul Revere Blvd.|\n",
       "|Leka Trading|Chandra Leka|471 Serangoon Loop, Suite #402|\n",
       "|Lyngbysild|Niels Petersen|Lyngbysild\n",
       "Fiskebakken 10|\n",
       "|Zaanse Snoepfabriek|Dirk Luchte|Verkoop\n",
       "Rijnweg 22|\n",
       "|Karkki Oy|Anne Heikkonen|Valtakatu 12|\n",
       "|G'day, Mate|Wendy Mackenzie|170 Prince Edward Parade\n",
       "Hunter's Hill|\n",
       "|Ma Maison|Jean-Guy Lauzon|2960 Rue St. Laurent|\n",
       "|Pasta Buttini s.r.l.|Giovanni Giudici|Via dei Gelsomini, 153|\n",
       "|Escargots Nouveaux|Marie Delamare|22, rue H. Voiron|\n",
       "|Gai pâturage|Eliane Noz|Bat. B\n",
       "3, rue des Alpes|\n",
       "|Forêts d'érables|Chantal Goulet|148 rue Chasseur|\n",
       "|Cardinal|Tom B. Erichsen|Skagen 21|\n",
       "|Cardinal|Tom B. Erichsen|Skagen 21|\n",
       "|Greasy Burger|Per Olsen|Gateveien 15|\n",
       "|Tasty Tee|Finn Egan|Streetroad 19B|"
      ],
      "text/plain": [
       "<IPython.core.display.Markdown object>"
      ]
     },
     "metadata": {},
     "output_type": "display_data"
    }
   ],
   "source": [
    "execute_and_show(cur,\n",
    "                 '''\n",
    "                 SELECT CompanyName, ContactName, Address\n",
    "                 FROM Customers\n",
    "                 WHERE Address IS NOT NULL;\n",
    "                 ''')"
   ]
  },
  {
   "cell_type": "markdown",
   "metadata": {},
   "source": [
    "# SQL UPDATE"
   ]
  },
  {
   "cell_type": "code",
   "execution_count": 36,
   "metadata": {},
   "outputs": [],
   "source": [
    "execute_and_show(cur,\n",
    "                 '''\n",
    "                 UPDATE Customers\n",
    "                 SET ContactName='Alfred Schmidt', City='Frankfurt'\n",
    "                 WHERE CustomerID='ALFKI';\n",
    "                 ''')"
   ]
  },
  {
   "cell_type": "code",
   "execution_count": 37,
   "metadata": {},
   "outputs": [
    {
     "data": {
      "text/markdown": [
       "|CustomerID|CompanyName|ContactName|ContactTitle|Address|City|Region|PostalCode|Country|Phone|Fax|\n",
       "|-|-|-|-|-|-|-|-|-|-|-|\n",
       "|ALFKI|Alfreds Futterkiste|Alfred Schmidt|Sales Representative|Obere Str. 57|Frankfurt|Western Europe|12209|Germany|030-0074321|030-0076545|"
      ],
      "text/plain": [
       "<IPython.core.display.Markdown object>"
      ]
     },
     "metadata": {},
     "output_type": "display_data"
    }
   ],
   "source": [
    "execute_and_show(cur,\n",
    "                 '''\n",
    "                 SELECT * FROM Customers\n",
    "                 WHERE CustomerID='ALFKI';\n",
    "                 ''')"
   ]
  },
  {
   "cell_type": "code",
   "execution_count": 38,
   "metadata": {},
   "outputs": [],
   "source": [
    "# update multple records\n",
    "execute_and_show(cur,\n",
    "                 '''\n",
    "                 UPDATE Customers\n",
    "                 SET ContactName='Juan'\n",
    "                 WHERE Country='Mexico';\n",
    "                 ''')"
   ]
  },
  {
   "cell_type": "code",
   "execution_count": 39,
   "metadata": {},
   "outputs": [
    {
     "data": {
      "text/markdown": [
       "|CustomerID|CompanyName|ContactName|ContactTitle|Address|City|Region|PostalCode|Country|Phone|Fax|\n",
       "|-|-|-|-|-|-|-|-|-|-|-|\n",
       "|ANATR|Ana Trujillo Emparedados y helados|Juan|Owner|Avda. de la Constitución 2222|México D.F.|Central America|05021|Mexico|(5) 555-4729|(5) 555-3745|\n",
       "|ANTON|Antonio Moreno Taquería|Juan|Owner|Mataderos  2312|México D.F.|Central America|05023|Mexico|(5) 555-3932||\n",
       "|CENTC|Centro comercial Moctezuma|Juan|Marketing Manager|Sierras de Granada 9993|México D.F.|Central America|05022|Mexico|(5) 555-3392|(5) 555-7293|\n",
       "|PERIC|Pericles Comidas clásicas|Juan|Sales Representative|Calle Dr. Jorge Cash 321|México D.F.|Central America|05033|Mexico|(5) 552-3745|(5) 545-3745|\n",
       "|TORTU|Tortuga Restaurante|Juan|Owner|Avda. Azteca 123|México D.F.|Central America|05033|Mexico|(5) 555-2933||"
      ],
      "text/plain": [
       "<IPython.core.display.Markdown object>"
      ]
     },
     "metadata": {},
     "output_type": "display_data"
    }
   ],
   "source": [
    "execute_and_show(cur,\n",
    "                 '''\n",
    "                 SELECT * FROM Customers\n",
    "                 WHERE Country='Mexico';\n",
    "                 ''')"
   ]
  },
  {
   "cell_type": "code",
   "execution_count": 40,
   "metadata": {},
   "outputs": [],
   "source": [
    "# update all rows\n",
    "execute_and_show(cur,\n",
    "                 '''\n",
    "                 UPDATE Customers\n",
    "                 SET ContactName='Juan';\n",
    "                 ''')"
   ]
  },
  {
   "cell_type": "code",
   "execution_count": 41,
   "metadata": {},
   "outputs": [
    {
     "data": {
      "text/markdown": [
       "|CustomerID|ContactName|\n",
       "|-|-|\n",
       "|ALFKI|Juan|\n",
       "|ANATR|Juan|\n",
       "|ANTON|Juan|\n",
       "|AROUT|Juan|\n",
       "|BERGS|Juan|\n",
       "|BLAUS|Juan|\n",
       "|BLONP|Juan|\n",
       "|BOLID|Juan|\n",
       "|BONAP|Juan|\n",
       "|BOTTM|Juan|\n",
       "|BSBEV|Juan|\n",
       "|CACTU|Juan|\n",
       "|CENTC|Juan|\n",
       "|CHOPS|Juan|\n",
       "|COMMI|Juan|\n",
       "|CONSH|Juan|\n",
       "|DRACD|Juan|\n",
       "|DUMON|Juan|\n",
       "|EASTC|Juan|\n",
       "|ERNSH|Juan|\n",
       "|FAMIA|Juan|\n",
       "|FISSA|Juan|\n",
       "|FOLIG|Juan|\n",
       "|FOLKO|Juan|\n",
       "|FRANK|Juan|\n",
       "|FRANR|Juan|\n",
       "|FRANS|Juan|\n",
       "|FURIB|Juan|\n",
       "|GALED|Juan|\n",
       "|GODOS|Juan|\n",
       "|GOURL|Juan|\n",
       "|GREAL|Juan|\n",
       "|GROSR|Juan|\n",
       "|HANAR|Juan|\n",
       "|HILAA|Juan|\n",
       "|HUNGC|Juan|\n",
       "|HUNGO|Juan|\n",
       "|ISLAT|Juan|\n",
       "|KOENE|Juan|\n",
       "|LACOR|Juan|\n",
       "|LAMAI|Juan|\n",
       "|LAUGB|Juan|\n",
       "|LAZYK|Juan|\n",
       "|LEHMS|Juan|\n",
       "|LETSS|Juan|\n",
       "|LILAS|Juan|\n",
       "|LINOD|Juan|\n",
       "|LONEP|Juan|\n",
       "|MAGAA|Juan|\n",
       "|MAISD|Juan|\n",
       "|MEREP|Juan|\n",
       "|MORGK|Juan|\n",
       "|NORTS|Juan|\n",
       "|OCEAN|Juan|\n",
       "|OLDWO|Juan|\n",
       "|OTTIK|Juan|\n",
       "|PARIS|Juan|\n",
       "|PERIC|Juan|\n",
       "|PICCO|Juan|\n",
       "|PRINI|Juan|\n",
       "|QUEDE|Juan|\n",
       "|QUEEN|Juan|\n",
       "|QUICK|Juan|\n",
       "|RANCH|Juan|\n",
       "|RATTC|Juan|\n",
       "|REGGC|Juan|\n",
       "|RICAR|Juan|\n",
       "|RICSU|Juan|\n",
       "|ROMEY|Juan|\n",
       "|SANTG|Juan|\n",
       "|SAVEA|Juan|\n",
       "|SEVES|Juan|\n",
       "|SIMOB|Juan|\n",
       "|SPECD|Juan|\n",
       "|SPLIR|Juan|\n",
       "|SUPRD|Juan|\n",
       "|THEBI|Juan|\n",
       "|THECR|Juan|\n",
       "|TOMSP|Juan|\n",
       "|TORTU|Juan|\n",
       "|TRADH|Juan|\n",
       "|TRAIH|Juan|\n",
       "|VAFFE|Juan|\n",
       "|Val2 |Juan|\n",
       "|VALON|Juan|\n",
       "|VICTE|Juan|\n",
       "|VINET|Juan|\n",
       "|WANDK|Juan|\n",
       "|WARTH|Juan|\n",
       "|WELLI|Juan|\n",
       "|WHITC|Juan|\n",
       "|WILMK|Juan|\n",
       "|WOLZA|Juan|\n",
       "||Juan|\n",
       "||Juan|\n",
       "||Juan|\n",
       "||Juan|\n",
       "||Juan|\n",
       "||Juan|\n",
       "||Juan|\n",
       "||Juan|\n",
       "||Juan|\n",
       "||Juan|\n",
       "||Juan|\n",
       "||Juan|\n",
       "||Juan|\n",
       "||Juan|\n",
       "||Juan|\n",
       "||Juan|\n",
       "||Juan|\n",
       "||Juan|\n",
       "||Juan|\n",
       "||Juan|\n",
       "||Juan|\n",
       "||Juan|\n",
       "||Juan|\n",
       "||Juan|\n",
       "||Juan|\n",
       "||Juan|\n",
       "||Juan|\n",
       "||Juan|\n",
       "||Juan|\n",
       "||Juan|\n",
       "||Juan|\n",
       "||Juan|\n",
       "||Juan|\n",
       "||Juan|\n",
       "||Juan|\n",
       "||Juan|\n",
       "||Juan|\n",
       "||Juan|\n",
       "||Juan|\n",
       "||Juan|\n",
       "||Juan|\n",
       "||Juan|\n",
       "||Juan|\n",
       "||Juan|\n",
       "||Juan|\n",
       "||Juan|\n",
       "||Juan|\n",
       "||Juan|\n",
       "||Juan|\n",
       "||Juan|\n",
       "||Juan|\n",
       "||Juan|\n",
       "||Juan|\n",
       "||Juan|\n",
       "||Juan|\n",
       "||Juan|\n",
       "||Juan|\n",
       "||Juan|\n",
       "||Juan|\n",
       "||Juan|\n",
       "||Juan|\n",
       "||Juan|\n",
       "||Juan|\n",
       "||Juan|\n",
       "|CARDL|Juan|\n",
       "||Juan|\n",
       "||Juan|\n",
       "||Juan|\n",
       "||Juan|"
      ],
      "text/plain": [
       "<IPython.core.display.Markdown object>"
      ]
     },
     "metadata": {},
     "output_type": "display_data"
    }
   ],
   "source": [
    "execute_and_show(cur,\n",
    "                 '''\n",
    "                 SELECT CustomerID, ContactName FROM Customers\n",
    "                 ''')"
   ]
  },
  {
   "cell_type": "code",
   "execution_count": 42,
   "metadata": {},
   "outputs": [],
   "source": [
    "# close updated database\n",
    "conn.close()"
   ]
  },
  {
   "cell_type": "code",
   "execution_count": 43,
   "metadata": {},
   "outputs": [],
   "source": [
    "# restore database\n",
    "!rm northwind.db\n",
    "!cp northwind_original.db northwind.db"
   ]
  },
  {
   "cell_type": "code",
   "execution_count": 44,
   "metadata": {},
   "outputs": [],
   "source": [
    "# reconnect database\n",
    "conn, cur = connect_example_db()"
   ]
  },
  {
   "cell_type": "markdown",
   "metadata": {},
   "source": [
    "# SQL DELETE"
   ]
  },
  {
   "cell_type": "code",
   "execution_count": 45,
   "metadata": {},
   "outputs": [],
   "source": [
    "execute_and_show(cur,\n",
    "                 '''\n",
    "                 DELETE FROM Customers WHERE CompanyName='Alfreds Futterkiste';\n",
    "                 ''')"
   ]
  },
  {
   "cell_type": "code",
   "execution_count": 46,
   "metadata": {},
   "outputs": [
    {
     "data": {
      "text/markdown": [
       "|CustomerID|CompanyName|ContactName|ContactTitle|Address|City|Region|PostalCode|Country|Phone|Fax|\n",
       "|-|-|-|-|-|-|-|-|-|-|-|"
      ],
      "text/plain": [
       "<IPython.core.display.Markdown object>"
      ]
     },
     "metadata": {},
     "output_type": "display_data"
    }
   ],
   "source": [
    "execute_and_show(cur,\n",
    "                 '''\n",
    "                 SELECT * FROM Customers\n",
    "                 WHERE CompanyName='Alfred Futterkiste';\n",
    "                 ''')"
   ]
  },
  {
   "cell_type": "code",
   "execution_count": 47,
   "metadata": {},
   "outputs": [],
   "source": [
    "# delete all rows\n",
    "execute_and_show(cur,\n",
    "                 '''\n",
    "                 DELETE FROM Customers;\n",
    "                 ''')"
   ]
  },
  {
   "cell_type": "code",
   "execution_count": 48,
   "metadata": {},
   "outputs": [
    {
     "data": {
      "text/markdown": [
       "|CustomerID|CompanyName|ContactName|ContactTitle|Address|City|Region|PostalCode|Country|Phone|Fax|\n",
       "|-|-|-|-|-|-|-|-|-|-|-|"
      ],
      "text/plain": [
       "<IPython.core.display.Markdown object>"
      ]
     },
     "metadata": {},
     "output_type": "display_data"
    }
   ],
   "source": [
    "execute_and_show(cur,\n",
    "                 '''\n",
    "                 SELECT * FROM Customers;\n",
    "                 ''')"
   ]
  },
  {
   "cell_type": "code",
   "execution_count": 49,
   "metadata": {},
   "outputs": [],
   "source": [
    "# delete table\n",
    "execute_and_show(cur,\n",
    "                 '''\n",
    "                 DROP TABLE Customers;\n",
    "                 ''')"
   ]
  },
  {
   "cell_type": "code",
   "execution_count": 50,
   "metadata": {},
   "outputs": [
    {
     "ename": "OperationalError",
     "evalue": "no such table: Customers",
     "output_type": "error",
     "traceback": [
      "\u001b[0;31m---------------------------------------------------------------------------\u001b[0m",
      "\u001b[0;31mOperationalError\u001b[0m                          Traceback (most recent call last)",
      "Cell \u001b[0;32mIn[50], line 1\u001b[0m\n\u001b[0;32m----> 1\u001b[0m \u001b[43mexecute_and_show\u001b[49m\u001b[43m(\u001b[49m\u001b[43mcur\u001b[49m\u001b[43m,\u001b[49m\n\u001b[1;32m      2\u001b[0m \u001b[38;5;250;43m                 \u001b[39;49m\u001b[38;5;124;43;03m'''\u001b[39;49;00m\n\u001b[1;32m      3\u001b[0m \u001b[38;5;124;43;03m                 SELECT * FROM Customers;\u001b[39;49;00m\n\u001b[1;32m      4\u001b[0m \u001b[38;5;124;43;03m                 '''\u001b[39;49;00m\u001b[43m)\u001b[49m\n",
      "Cell \u001b[0;32mIn[2], line 8\u001b[0m, in \u001b[0;36mexecute_and_show\u001b[0;34m(cur, query, multiple)\u001b[0m\n\u001b[1;32m      6\u001b[0m     data \u001b[38;5;241m=\u001b[39m cur\u001b[38;5;241m.\u001b[39mexecutescript(query)\n\u001b[1;32m      7\u001b[0m \u001b[38;5;28;01melse\u001b[39;00m:\n\u001b[0;32m----> 8\u001b[0m     data \u001b[38;5;241m=\u001b[39m cur\u001b[38;5;241m.\u001b[39mexecute(query)\n\u001b[1;32m      9\u001b[0m md_str_list \u001b[38;5;241m=\u001b[39m []\n\u001b[1;32m     11\u001b[0m \u001b[38;5;28;01mif\u001b[39;00m data\u001b[38;5;241m.\u001b[39mdescription \u001b[38;5;129;01mis\u001b[39;00m \u001b[38;5;28;01mNone\u001b[39;00m:\n",
      "\u001b[0;31mOperationalError\u001b[0m: no such table: Customers"
     ]
    }
   ],
   "source": [
    "execute_and_show(cur,\n",
    "                 '''\n",
    "                 SELECT * FROM Customers;\n",
    "                 ''')"
   ]
  },
  {
   "cell_type": "code",
   "execution_count": 51,
   "metadata": {},
   "outputs": [],
   "source": [
    "# close updated database\n",
    "conn.close()"
   ]
  },
  {
   "cell_type": "code",
   "execution_count": 52,
   "metadata": {},
   "outputs": [],
   "source": [
    "# restore database\n",
    "!rm northwind.db\n",
    "!cp northwind_original.db northwind.db"
   ]
  },
  {
   "cell_type": "code",
   "execution_count": 53,
   "metadata": {},
   "outputs": [],
   "source": [
    "# reconnect database\n",
    "conn, cur = connect_example_db()"
   ]
  },
  {
   "cell_type": "markdown",
   "metadata": {},
   "source": [
    "# SQL TOP, LIMIT, FETCH FIRST or ROWNUM\n",
    "\n",
    "- `TOP`\n",
    "    - SQL Server, MS Access 지원\n",
    "- `LIMIT`\n",
    "    - MySQL, SQLite 지원\n",
    "- `FETCH FIRST`\n",
    "    - Oracle 12 지원\n",
    "- `ROWNUM`\n",
    "    - Oracle 버전 지원\n",
    "    - 12 버전 이전 방식"
   ]
  },
  {
   "cell_type": "code",
   "execution_count": 54,
   "metadata": {},
   "outputs": [
    {
     "data": {
      "text/markdown": [
       "|CustomerID|CompanyName|ContactName|ContactTitle|Address|City|Region|PostalCode|Country|Phone|Fax|\n",
       "|-|-|-|-|-|-|-|-|-|-|-|\n",
       "|ALFKI|Alfreds Futterkiste|Maria Anders|Sales Representative|Obere Str. 57|Berlin|Western Europe|12209|Germany|030-0074321|030-0076545|\n",
       "|ANATR|Ana Trujillo Emparedados y helados|Ana Trujillo|Owner|Avda. de la Constitución 2222|México D.F.|Central America|05021|Mexico|(5) 555-4729|(5) 555-3745|\n",
       "|ANTON|Antonio Moreno Taquería|Antonio Moreno|Owner|Mataderos  2312|México D.F.|Central America|05023|Mexico|(5) 555-3932||"
      ],
      "text/plain": [
       "<IPython.core.display.Markdown object>"
      ]
     },
     "metadata": {},
     "output_type": "display_data"
    }
   ],
   "source": [
    "execute_and_show(cur,\n",
    "                 '''\n",
    "                 SELECT * FROM Customers\n",
    "                 LIMIT 3;\n",
    "                 ''')"
   ]
  },
  {
   "cell_type": "code",
   "execution_count": 55,
   "metadata": {},
   "outputs": [
    {
     "data": {
      "text/markdown": [
       "|CustomerID|CompanyName|ContactName|ContactTitle|Address|City|Region|PostalCode|Country|Phone|Fax|\n",
       "|-|-|-|-|-|-|-|-|-|-|-|\n",
       "|ALFKI|Alfreds Futterkiste|Maria Anders|Sales Representative|Obere Str. 57|Berlin|Western Europe|12209|Germany|030-0074321|030-0076545|\n",
       "|BLAUS|Blauer See Delikatessen|Hanna Moos|Sales Representative|Forsterstr. 57|Mannheim|Western Europe|68306|Germany|0621-08460|0621-08924|\n",
       "|DRACD|Drachenblut Delikatessen|Sven Ottlieb|Order Administrator|Walserweg 21|Aachen|Western Europe|52066|Germany|0241-039123|0241-059428|"
      ],
      "text/plain": [
       "<IPython.core.display.Markdown object>"
      ]
     },
     "metadata": {},
     "output_type": "display_data"
    }
   ],
   "source": [
    "# ADD a WHERE clause\n",
    "execute_and_show(cur,\n",
    "                 '''\n",
    "                 SELECT * FROM Customers\n",
    "                 WHERE Country='Germany'\n",
    "                 LIMIT 3;\n",
    "                 ''')"
   ]
  },
  {
   "cell_type": "code",
   "execution_count": 56,
   "metadata": {},
   "outputs": [
    {
     "data": {
      "text/markdown": [
       "|CustomerID|CompanyName|ContactName|ContactTitle|Address|City|Region|PostalCode|Country|Phone|Fax|\n",
       "|-|-|-|-|-|-|-|-|-|-|-|\n",
       "|WOLZA|Wolski  Zajazd|Zbyszek Piestrzeniewicz|Owner|ul. Filtrowa 68|Warszawa|Eastern Europe|01-012|Poland|(26) 642-7012|(26) 642-7012|\n",
       "|WILMK|Wilman Kala|Matti Karttunen|Owner/Marketing Assistant|Keskuskatu 45|Helsinki|Scandinavia|21240|Finland|90-224 8858|90-224 8858|\n",
       "|WHITC|White Clover Markets|Karl Jablonski|Owner|305 - 14th Ave. S. Suite 3B|Seattle|North America|98128|USA|(206) 555-4112|(206) 555-4115|"
      ],
      "text/plain": [
       "<IPython.core.display.Markdown object>"
      ]
     },
     "metadata": {},
     "output_type": "display_data"
    }
   ],
   "source": [
    "# add the ORDER BY keyword\n",
    "execute_and_show(cur,\n",
    "                 '''\n",
    "                 SELECT * FROM Customers\n",
    "                 ORDER BY CompanyName DESC\n",
    "                 LIMIT 3;\n",
    "                 ''')"
   ]
  },
  {
   "cell_type": "markdown",
   "metadata": {},
   "source": [
    "# SQL MIN and MAX"
   ]
  },
  {
   "cell_type": "code",
   "execution_count": 57,
   "metadata": {},
   "outputs": [
    {
     "data": {
      "text/markdown": [
       "|MIN(UnitPrice)|\n",
       "|-|\n",
       "|2.5|"
      ],
      "text/plain": [
       "<IPython.core.display.Markdown object>"
      ]
     },
     "metadata": {},
     "output_type": "display_data"
    }
   ],
   "source": [
    "execute_and_show(cur,\n",
    "                 '''\n",
    "                 SELECT MIN(UnitPrice)\n",
    "                 FROM Products;\n",
    "                 ''')"
   ]
  },
  {
   "cell_type": "code",
   "execution_count": 58,
   "metadata": {},
   "outputs": [
    {
     "data": {
      "text/markdown": [
       "|MAX(UnitPrice)|\n",
       "|-|\n",
       "|263.5|"
      ],
      "text/plain": [
       "<IPython.core.display.Markdown object>"
      ]
     },
     "metadata": {},
     "output_type": "display_data"
    }
   ],
   "source": [
    "execute_and_show(cur,\n",
    "                 '''\n",
    "                 SELECT MAX(UnitPrice)\n",
    "                 FROM Products;\n",
    "                 ''')"
   ]
  },
  {
   "cell_type": "code",
   "execution_count": 59,
   "metadata": {},
   "outputs": [
    {
     "data": {
      "text/markdown": [
       "|SmallestPrice|\n",
       "|-|\n",
       "|2.5|"
      ],
      "text/plain": [
       "<IPython.core.display.Markdown object>"
      ]
     },
     "metadata": {},
     "output_type": "display_data"
    }
   ],
   "source": [
    "# set column name\n",
    "execute_and_show(cur,\n",
    "                 '''\n",
    "                 SELECT MIN(UnitPrice) AS SmallestPrice\n",
    "                 FROM Products;\n",
    "                 ''')"
   ]
  },
  {
   "cell_type": "code",
   "execution_count": 60,
   "metadata": {},
   "outputs": [
    {
     "data": {
      "text/markdown": [
       "|SmallestPrice|CategoryID|\n",
       "|-|-|\n",
       "|4.5|1|\n",
       "|10|2|\n",
       "|9.2|3|\n",
       "|2.5|4|\n",
       "|7|5|\n",
       "|7.45|6|\n",
       "|10|7|\n",
       "|6|8|"
      ],
      "text/plain": [
       "<IPython.core.display.Markdown object>"
      ]
     },
     "metadata": {},
     "output_type": "display_data"
    }
   ],
   "source": [
    "# use MIN with GROUP BY\n",
    "execute_and_show(cur,\n",
    "                 '''\n",
    "                 SELECT MIN(UnitPrice) AS SmallestPrice, CategoryID\n",
    "                 FROM Products\n",
    "                 GROUP BY CategoryID;\n",
    "                 ''')"
   ]
  },
  {
   "cell_type": "markdown",
   "metadata": {},
   "source": [
    "# SQL COUNT"
   ]
  },
  {
   "cell_type": "code",
   "execution_count": 61,
   "metadata": {},
   "outputs": [
    {
     "data": {
      "text/markdown": [
       "|COUNT(*)|\n",
       "|-|\n",
       "|77|"
      ],
      "text/plain": [
       "<IPython.core.display.Markdown object>"
      ]
     },
     "metadata": {},
     "output_type": "display_data"
    }
   ],
   "source": [
    "execute_and_show(cur,\n",
    "                 '''\n",
    "                 SELECT COUNT(*)\n",
    "                 FROM Products;\n",
    "                 ''')"
   ]
  },
  {
   "cell_type": "code",
   "execution_count": 62,
   "metadata": {},
   "outputs": [
    {
     "data": {
      "text/markdown": [
       "|COUNT(ProductName)|\n",
       "|-|\n",
       "|77|"
      ],
      "text/plain": [
       "<IPython.core.display.Markdown object>"
      ]
     },
     "metadata": {},
     "output_type": "display_data"
    }
   ],
   "source": [
    "# specify column\n",
    "execute_and_show(cur,\n",
    "                 '''\n",
    "                 SELECT COUNT(ProductName)\n",
    "                 FROM Products;\n",
    "                 ''')"
   ]
  },
  {
   "cell_type": "code",
   "execution_count": 63,
   "metadata": {},
   "outputs": [
    {
     "data": {
      "text/markdown": [
       "|COUNT(ProductID)|\n",
       "|-|\n",
       "|37|"
      ],
      "text/plain": [
       "<IPython.core.display.Markdown object>"
      ]
     },
     "metadata": {},
     "output_type": "display_data"
    }
   ],
   "source": [
    "# add a WHERE clause\n",
    "execute_and_show(cur,\n",
    "                 '''\n",
    "                 SELECT COUNT(ProductID)\n",
    "                 FROM Products\n",
    "                 WHERE UnitPrice > 20;\n",
    "                 ''')"
   ]
  },
  {
   "cell_type": "code",
   "execution_count": 64,
   "metadata": {},
   "outputs": [
    {
     "data": {
      "text/markdown": [
       "|COUNT(DISTINCT UnitPrice)|\n",
       "|-|\n",
       "|62|"
      ],
      "text/plain": [
       "<IPython.core.display.Markdown object>"
      ]
     },
     "metadata": {},
     "output_type": "display_data"
    }
   ],
   "source": [
    "# ignore duplicates\n",
    "execute_and_show(cur,\n",
    "                 '''\n",
    "                 SELECT COUNT(DISTINCT UnitPrice)\n",
    "                 FROM Products;\n",
    "                 ''')"
   ]
  },
  {
   "cell_type": "code",
   "execution_count": 65,
   "metadata": {},
   "outputs": [
    {
     "data": {
      "text/markdown": [
       "|Number of records|\n",
       "|-|\n",
       "|77|"
      ],
      "text/plain": [
       "<IPython.core.display.Markdown object>"
      ]
     },
     "metadata": {},
     "output_type": "display_data"
    }
   ],
   "source": [
    "# use an alias\n",
    "execute_and_show(cur,\n",
    "                 '''\n",
    "                 SELECT COUNT(*) AS [Number of records]\n",
    "                 FROM Products;\n",
    "                 ''')"
   ]
  },
  {
   "cell_type": "code",
   "execution_count": 66,
   "metadata": {},
   "outputs": [
    {
     "data": {
      "text/markdown": [
       "|Number of records|CategoryID|\n",
       "|-|-|\n",
       "|12|1|\n",
       "|12|2|\n",
       "|13|3|\n",
       "|10|4|\n",
       "|7|5|\n",
       "|6|6|\n",
       "|5|7|\n",
       "|12|8|"
      ],
      "text/plain": [
       "<IPython.core.display.Markdown object>"
      ]
     },
     "metadata": {},
     "output_type": "display_data"
    }
   ],
   "source": [
    "# use COUNT with GROUP BY\n",
    "execute_and_show(cur,\n",
    "                 '''\n",
    "                 SELECT COUNT(*) AS [Number of records], CategoryID\n",
    "                 FROM Products\n",
    "                 GROUP BY CategoryID;\n",
    "                 ''')"
   ]
  },
  {
   "cell_type": "markdown",
   "metadata": {},
   "source": [
    "# SQL SUM"
   ]
  },
  {
   "cell_type": "code",
   "execution_count": 67,
   "metadata": {},
   "outputs": [
    {
     "data": {
      "text/markdown": [
       "|SUM(Quantity)|\n",
       "|-|\n",
       "|15538602|"
      ],
      "text/plain": [
       "<IPython.core.display.Markdown object>"
      ]
     },
     "metadata": {},
     "output_type": "display_data"
    }
   ],
   "source": [
    "execute_and_show(cur,\n",
    "                 '''\n",
    "                 SELECT SUM(Quantity)\n",
    "                 FROM [Order Details];\n",
    "                 ''')"
   ]
  },
  {
   "cell_type": "code",
   "execution_count": 68,
   "metadata": {},
   "outputs": [
    {
     "data": {
      "text/markdown": [
       "|SUM(Quantity)|\n",
       "|-|\n",
       "|201751|"
      ],
      "text/plain": [
       "<IPython.core.display.Markdown object>"
      ]
     },
     "metadata": {},
     "output_type": "display_data"
    }
   ],
   "source": [
    "# add a WHERE clause\n",
    "execute_and_show(cur,\n",
    "                 '''\n",
    "                 SELECT SUM(Quantity)\n",
    "                 FROM [Order Details]\n",
    "                 WHERE ProductID=11;\n",
    "                 ''')"
   ]
  },
  {
   "cell_type": "code",
   "execution_count": 69,
   "metadata": {},
   "outputs": [
    {
     "data": {
      "text/markdown": [
       "|total|\n",
       "|-|\n",
       "|15538602|"
      ],
      "text/plain": [
       "<IPython.core.display.Markdown object>"
      ]
     },
     "metadata": {},
     "output_type": "display_data"
    }
   ],
   "source": [
    "# use an alias\n",
    "execute_and_show(cur,\n",
    "                 '''\n",
    "                 SELECT SUM(Quantity) AS total\n",
    "                 FROM [Order Details];\n",
    "                 ''')"
   ]
  },
  {
   "cell_type": "code",
   "execution_count": 70,
   "metadata": {},
   "outputs": [
    {
     "data": {
      "text/markdown": [
       "|OrderID|Total Quantity|\n",
       "|-|-|\n",
       "|10248|27|\n",
       "|10249|49|\n",
       "|10250|60|\n",
       "|10251|41|\n",
       "|10252|105|\n",
       "|10253|102|\n",
       "|10254|57|\n",
       "|10255|110|\n",
       "|10256|27|\n",
       "|10257|46|\n",
       "|10258|121|\n",
       "|10259|11|\n",
       "|10260|102|\n",
       "|10261|40|\n",
       "|10262|29|\n",
       "|10263|184|\n",
       "|10264|60|\n",
       "|10265|50|\n",
       "|10266|12|\n",
       "|10267|135|"
      ],
      "text/plain": [
       "<IPython.core.display.Markdown object>"
      ]
     },
     "metadata": {},
     "output_type": "display_data"
    }
   ],
   "source": [
    "# use SUM with GROUP BY\n",
    "# 결과가 너무 많은 관계로 일부 생략\n",
    "execute_and_show(cur,\n",
    "                 '''\n",
    "                 SELECT OrderID, SUM(Quantity) AS [Total Quantity]\n",
    "                 FROM [Order Details]\n",
    "                 GROUP BY OrderID\n",
    "                 LIMIT 20;\n",
    "                 ''')"
   ]
  },
  {
   "cell_type": "code",
   "execution_count": 71,
   "metadata": {},
   "outputs": [
    {
     "data": {
      "text/markdown": [
       "|SUM(Quantity * 10)|\n",
       "|-|\n",
       "|155386020|"
      ],
      "text/plain": [
       "<IPython.core.display.Markdown object>"
      ]
     },
     "metadata": {},
     "output_type": "display_data"
    }
   ],
   "source": [
    "# SUM with an expression\n",
    "execute_and_show(cur,\n",
    "                 '''\n",
    "                 SELECT SUM(Quantity * 10)\n",
    "                 FROM [Order Details];\n",
    "                 ''')"
   ]
  },
  {
   "cell_type": "code",
   "execution_count": 72,
   "metadata": {},
   "outputs": [
    {
     "data": {
      "text/markdown": [
       "|SUM(Products.UnitPrice * Quantity)|\n",
       "|-|\n",
       "|448570207.44|"
      ],
      "text/plain": [
       "<IPython.core.display.Markdown object>"
      ]
     },
     "metadata": {},
     "output_type": "display_data"
    }
   ],
   "source": [
    "execute_and_show(cur,\n",
    "                 '''\n",
    "                 SELECT SUM(Products.UnitPrice * Quantity)\n",
    "                 FROM [Order Details]\n",
    "                 LEFT JOIN Products ON [Order Details].ProductID = Products.ProductID;\n",
    "                 ''')"
   ]
  },
  {
   "cell_type": "markdown",
   "metadata": {},
   "source": [
    "# SQL AVG"
   ]
  },
  {
   "cell_type": "code",
   "execution_count": 73,
   "metadata": {},
   "outputs": [
    {
     "data": {
      "text/markdown": [
       "|AVG(UnitPrice)|\n",
       "|-|\n",
       "|28.866363636363637|"
      ],
      "text/plain": [
       "<IPython.core.display.Markdown object>"
      ]
     },
     "metadata": {},
     "output_type": "display_data"
    }
   ],
   "source": [
    "execute_and_show(cur,\n",
    "                 '''\n",
    "                 SELECT AVG(UnitPrice)\n",
    "                 FROM Products;\n",
    "                 ''')"
   ]
  },
  {
   "cell_type": "code",
   "execution_count": 74,
   "metadata": {},
   "outputs": [
    {
     "data": {
      "text/markdown": [
       "|AVG(UnitPrice)|\n",
       "|-|\n",
       "|37.979166666666664|"
      ],
      "text/plain": [
       "<IPython.core.display.Markdown object>"
      ]
     },
     "metadata": {},
     "output_type": "display_data"
    }
   ],
   "source": [
    "# add a WHERE clause\n",
    "execute_and_show(cur,\n",
    "                 '''\n",
    "                 SELECT AVG(UnitPrice)\n",
    "                 FROM Products\n",
    "                 WHERE CategoryID = 1;\n",
    "                 ''')"
   ]
  },
  {
   "cell_type": "code",
   "execution_count": 75,
   "metadata": {},
   "outputs": [
    {
     "data": {
      "text/markdown": [
       "|average price|\n",
       "|-|\n",
       "|28.866363636363637|"
      ],
      "text/plain": [
       "<IPython.core.display.Markdown object>"
      ]
     },
     "metadata": {},
     "output_type": "display_data"
    }
   ],
   "source": [
    "# use an Alias\n",
    "execute_and_show(cur,\n",
    "                 '''\n",
    "                 SELECT AVG(UnitPrice) AS [average price]\n",
    "                 FROM Products;\n",
    "                 ''')"
   ]
  },
  {
   "cell_type": "code",
   "execution_count": 76,
   "metadata": {},
   "outputs": [
    {
     "data": {
      "text/markdown": [
       "|ProductID|ProductName|SupplierID|CategoryID|QuantityPerUnit|UnitPrice|UnitsInStock|UnitsOnOrder|ReorderLevel|Discontinued|\n",
       "|-|-|-|-|-|-|-|-|-|-|\n",
       "|7|Uncle Bob's Organic Dried Pears|3|7|12 - 1 lb pkgs.|30|15|0|10|0|\n",
       "|8|Northwoods Cranberry Sauce|3|2|12 - 12 oz jars|40|6|0|0|0|\n",
       "|9|Mishi Kobe Niku|4|6|18 - 500 g pkgs.|97|29|0|0|1|\n",
       "|10|Ikura|4|8|12 - 200 ml jars|31|31|0|0|0|\n",
       "|12|Queso Manchego La Pastora|5|4|10 - 500 g pkgs.|38|86|0|0|0|\n",
       "|17|Alice Mutton|7|6|20 - 1 kg tins|39|0|0|0|1|\n",
       "|18|Carnarvon Tigers|7|8|16 kg pkg.|62.5|42|0|0|0|\n",
       "|20|Sir Rodney's Marmalade|8|3|30 gift boxes|81|40|0|0|0|\n",
       "|26|Gumbär Gummibärchen|11|3|100 - 250 g bags|31.23|15|0|0|0|\n",
       "|27|Schoggi Schokolade|11|3|100 - 100 g pieces|43.9|49|0|30|0|\n",
       "|28|Rössle Sauerkraut|12|7|25 - 825 g cans|45.6|26|0|0|1|\n",
       "|29|Thüringer Rostbratwurst|12|6|50 bags x 30 sausgs.|123.79|0|0|0|1|\n",
       "|32|Mascarpone Fabioli|14|4|24 - 200 g pkgs.|32|9|40|25|0|\n",
       "|38|Côte de Blaye|18|1|12 - 75 cl bottles|263.5|17|0|15|0|\n",
       "|43|Ipoh Coffee|20|1|16 - 500 g tins|46|17|10|25|0|\n",
       "|51|Manjimup Dried Apples|24|7|50 - 300 g pkgs.|53|20|0|10|0|\n",
       "|53|Perth Pasties|24|6|48 pieces|32.8|0|0|0|1|\n",
       "|56|Gnocchi di nonna Alice|26|5|24 - 250 g pkgs.|38|21|10|30|0|\n",
       "|59|Raclette Courdavault|28|4|5 kg pkg.|55|79|0|0|0|\n",
       "|60|Camembert Pierrot|28|4|15 - 300 g rounds|34|19|0|0|0|\n",
       "|62|Tarte au sucre|29|3|48 pies|49.3|17|0|0|0|\n",
       "|63|Vegie-spread|7|2|15 - 625 g jars|43.9|24|0|5|0|\n",
       "|64|Wimmers gute Semmelknödel|12|5|20 bags x 4 pieces|33.25|22|80|30|0|\n",
       "|69|Gudbrandsdalsost|15|4|10 kg pkg.|36|26|0|15|0|\n",
       "|72|Mozzarella di Giovanni|14|4|24 - 200 g pkgs.|34.8|14|0|0|0|"
      ],
      "text/plain": [
       "<IPython.core.display.Markdown object>"
      ]
     },
     "metadata": {},
     "output_type": "display_data"
    }
   ],
   "source": [
    "# higher than average\n",
    "execute_and_show(cur,\n",
    "                 '''\n",
    "                 SELECT * FROM Products\n",
    "                 WHERE UnitPrice > (SELECT AVG(UnitPrice) FROM Products);\n",
    "                 ''')"
   ]
  },
  {
   "cell_type": "code",
   "execution_count": 77,
   "metadata": {},
   "outputs": [
    {
     "data": {
      "text/markdown": [
       "|AveragePrice|CategoryID|\n",
       "|-|-|\n",
       "|37.979166666666664|1|\n",
       "|23.0625|2|\n",
       "|25.16|3|\n",
       "|28.73|4|\n",
       "|20.25|5|\n",
       "|54.00666666666667|6|\n",
       "|32.37|7|\n",
       "|20.6825|8|"
      ],
      "text/plain": [
       "<IPython.core.display.Markdown object>"
      ]
     },
     "metadata": {},
     "output_type": "display_data"
    }
   ],
   "source": [
    "# use AVG with GROUP BY\n",
    "execute_and_show(cur,\n",
    "                 '''\n",
    "                 SELECT AVG(UnitPrice) AS AveragePrice, CategoryID\n",
    "                 FROM Products\n",
    "                 GROUP By CategoryID;\n",
    "                 ''')"
   ]
  },
  {
   "cell_type": "markdown",
   "metadata": {},
   "source": [
    "# SQL LIKE"
   ]
  },
  {
   "cell_type": "code",
   "execution_count": 78,
   "metadata": {},
   "outputs": [
    {
     "data": {
      "text/markdown": [
       "|CustomerID|CompanyName|ContactName|ContactTitle|Address|City|Region|PostalCode|Country|Phone|Fax|\n",
       "|-|-|-|-|-|-|-|-|-|-|-|\n",
       "|ALFKI|Alfreds Futterkiste|Maria Anders|Sales Representative|Obere Str. 57|Berlin|Western Europe|12209|Germany|030-0074321|030-0076545|\n",
       "|ANATR|Ana Trujillo Emparedados y helados|Ana Trujillo|Owner|Avda. de la Constitución 2222|México D.F.|Central America|05021|Mexico|(5) 555-4729|(5) 555-3745|\n",
       "|ANTON|Antonio Moreno Taquería|Antonio Moreno|Owner|Mataderos  2312|México D.F.|Central America|05023|Mexico|(5) 555-3932||\n",
       "|AROUT|Around the Horn|Thomas Hardy|Sales Representative|120 Hanover Sq.|London|British Isles|WA1 1DP|UK|(171) 555-7788|(171) 555-6750|"
      ],
      "text/plain": [
       "<IPython.core.display.Markdown object>"
      ]
     },
     "metadata": {},
     "output_type": "display_data"
    }
   ],
   "source": [
    "execute_and_show(cur,\n",
    "                 '''\n",
    "                 SELECT * FROM Customers\n",
    "                 WHERE CompanyName LIKE 'a%';\n",
    "                 ''')"
   ]
  },
  {
   "cell_type": "code",
   "execution_count": 79,
   "metadata": {},
   "outputs": [
    {
     "data": {
      "text/markdown": [
       "|CustomerID|CompanyName|ContactName|ContactTitle|Address|City|Region|PostalCode|Country|Phone|Fax|\n",
       "|-|-|-|-|-|-|-|-|-|-|-|\n",
       "|AROUT|Around the Horn|Thomas Hardy|Sales Representative|120 Hanover Sq.|London|British Isles|WA1 1DP|UK|(171) 555-7788|(171) 555-6750|\n",
       "|BSBEV|B's Beverages|Victoria Ashworth|Sales Representative|Fauntleroy Circus|London|British Isles|EC2 5NT|UK|(171) 555-1212||\n",
       "|CONSH|Consolidated Holdings|Elizabeth Brown|Sales Representative|Berkeley Gardens 12  Brewery|London|British Isles|WX1 6LT|UK|(171) 555-2282|(171) 555-9199|\n",
       "|EASTC|Eastern Connection|Ann Devon|Sales Agent|35 King George|London|British Isles|WX3 6FW|UK|(171) 555-0297|(171) 555-3373|\n",
       "|NORTS|North/South|Simon Crowther|Sales Associate|South House 300 Queensbridge|London|British Isles|SW7 1RZ|UK|(171) 555-7733|(171) 555-2530|\n",
       "|SEVES|Seven Seas Imports|Hari Kumar|Sales Manager|90 Wadhurst Rd.|London|British Isles|OX15 4NB|UK|(171) 555-1717|(171) 555-5646|\n",
       "|SPLIR|Split Rail Beer & Ale|Art Braunschweiger|Sales Manager|P.O. Box 555|Lander|North America|82520|USA|(307) 555-4680|(307) 555-6525|"
      ],
      "text/plain": [
       "<IPython.core.display.Markdown object>"
      ]
     },
     "metadata": {},
     "output_type": "display_data"
    }
   ],
   "source": [
    "# _ wildcard\n",
    "execute_and_show(cur,\n",
    "                 '''\n",
    "                 SELECT * FROM Customers\n",
    "                 WHERE City LIKE 'L_nd__';\n",
    "                 ''')"
   ]
  },
  {
   "cell_type": "code",
   "execution_count": 80,
   "metadata": {},
   "outputs": [
    {
     "data": {
      "text/markdown": [
       "|CustomerID|CompanyName|ContactName|ContactTitle|Address|City|Region|PostalCode|Country|Phone|Fax|\n",
       "|-|-|-|-|-|-|-|-|-|-|-|\n",
       "|ALFKI|Alfreds Futterkiste|Maria Anders|Sales Representative|Obere Str. 57|Berlin|Western Europe|12209|Germany|030-0074321|030-0076545|\n",
       "|AROUT|Around the Horn|Thomas Hardy|Sales Representative|120 Hanover Sq.|London|British Isles|WA1 1DP|UK|(171) 555-7788|(171) 555-6750|\n",
       "|BERGS|Berglunds snabbköp|Christina Berglund|Order Administrator|Berguvsvägen  8|Luleå|Northern Europe|S-958 22|Sweden|0921-12 34 65|0921-12 34 67|\n",
       "|BONAP|Bon app'|Laurence Lebihan|Owner|12, rue des Bouchers|Marseille|Western Europe|13008|France|91.24.45.40|91.24.45.41|\n",
       "|BSBEV|B's Beverages|Victoria Ashworth|Sales Representative|Fauntleroy Circus|London|British Isles|EC2 5NT|UK|(171) 555-1212||\n",
       "|COMMI|Comércio Mineiro|Pedro Afonso|Sales Associate|Av. dos Lusíadas, 23|Sao Paulo|South America|05432-043|Brazil|(11) 555-7647||\n",
       "|CONSH|Consolidated Holdings|Elizabeth Brown|Sales Representative|Berkeley Gardens 12  Brewery|London|British Isles|WX1 6LT|UK|(171) 555-2282|(171) 555-9199|\n",
       "|EASTC|Eastern Connection|Ann Devon|Sales Agent|35 King George|London|British Isles|WX3 6FW|UK|(171) 555-0297|(171) 555-3373|\n",
       "|FAMIA|Familia Arquibaldo|Aria Cruz|Marketing Assistant|Rua Orós, 92|Sao Paulo|South America|05442-030|Brazil|(11) 555-9857||\n",
       "|FOLIG|Folies gourmandes|Martine Rancé|Assistant Sales Agent|184, chaussée de Tournai|Lille|Western Europe|59000|France|20.16.10.16|20.16.10.17|\n",
       "|FURIB|Furia Bacalhau e Frutos do Mar|Lino Rodriguez|Sales Manager|Jardim das rosas n. 32|Lisboa|Southern Europe|1675|Portugal|(1) 354-2534|(1) 354-2535|\n",
       "|GALED|Galería del gastrónomo|Eduardo Saavedra|Marketing Manager|Rambla de Cataluña, 23|Barcelona|Southern Europe|08022|Spain|(93) 203 4560|(93) 203 4561|\n",
       "|GODOS|Godos Cocina Típica|José Pedro Freyre|Sales Manager|C/ Romero, 33|Sevilla|Southern Europe|41101|Spain|(95) 555 82 82||\n",
       "|HILAA|HILARION-Abastos|Carlos Hernández|Sales Representative|Carrera 22 con Ave. Carlos Soublette #8-35|San Cristóbal|South America|5022|Venezuela|(5) 555-1340|(5) 555-1948|\n",
       "|HUNGC|Hungry Coyote Import Store|Yoshi Latimer|Sales Representative|City Center Plaza 516 Main St.|Elgin|North America|97827|USA|(503) 555-6874|(503) 555-2376|\n",
       "|LACOR|La corne d'abondance|Daniel Tonini|Sales Representative|67, avenue de l'Europe|Versailles|Western Europe|78000|France|30.59.84.10|30.59.85.11|\n",
       "|LAMAI|La maison d'Asie|Annette Roulet|Sales Manager|1 rue Alsace-Lorraine|Toulouse|Western Europe|31000|France|61.77.61.10|61.77.61.11|\n",
       "|LAZYK|Lazy K Kountry Store|John Steel|Marketing Manager|12 Orchestra Terrace|Walla Walla|North America|99362|USA|(509) 555-7969|(509) 555-6221|\n",
       "|LONEP|Lonesome Pine Restaurant|Fran Wilson|Sales Manager|89 Chiaroscuro Rd.|Portland|North America|97219|USA|(503) 555-9573|(503) 555-9646|\n",
       "|MAISD|Maison Dewey|Catherine Dewey|Sales Agent|Rue Joseph-Bens 532|Bruxelles|Western Europe|B-1180|Belgium|(02) 201 24 67|(02) 201 24 68|\n",
       "|MEREP|Mère Paillarde|Jean Fresnière|Marketing Assistant|43 rue St. Laurent|Montréal|North America|H1J 1C3|Canada|(514) 555-8054|(514) 555-8055|\n",
       "|MORGK|Morgenstern Gesundkost|Alexander Feuer|Marketing Assistant|Heerstr. 22|Leipzig|Western Europe|04179|Germany|0342-023176||\n",
       "|NORTS|North/South|Simon Crowther|Sales Associate|South House 300 Queensbridge|London|British Isles|SW7 1RZ|UK|(171) 555-7733|(171) 555-2530|\n",
       "|OTTIK|Ottilies Käseladen|Henriette Pfalzheim|Owner|Mehrheimerstr. 369|Köln|Western Europe|50739|Germany|0221-0644327|0221-0765721|\n",
       "|PICCO|Piccolo und mehr|Georg Pipps|Sales Manager|Geislweg 14|Salzburg|Western Europe|5020|Austria|6562-9722|6562-9723|\n",
       "|PRINI|Princesa Isabel Vinhos|Isabel de Castro|Sales Representative|Estrada da saúde n. 58|Lisboa|Southern Europe|1756|Portugal|(1) 356-5634||\n",
       "|QUEEN|Queen Cozinha|Lúcia Carvalho|Marketing Assistant|Alameda dos Canàrios, 891|Sao Paulo|South America|05487-020|Brazil|(11) 555-1189||\n",
       "|QUICK|QUICK-Stop|Horst Kloss|Accounting Manager|Taucherstraße 10|Cunewalde|Western Europe|01307|Germany|0372-035188||\n",
       "|RATTC|Rattlesnake Canyon Grocery|Paula Wilson|Assistant Sales Representative|2817 Milton Dr.|Albuquerque|North America|87110|USA|(505) 555-5939|(505) 555-3620|\n",
       "|REGGC|Reggiani Caseifici|Maurizio Moroni|Sales Associate|Strada Provinciale 124|Reggio Emilia|Southern Europe|42100|Italy|0522-556721|0522-556722|\n",
       "|SEVES|Seven Seas Imports|Hari Kumar|Sales Manager|90 Wadhurst Rd.|London|British Isles|OX15 4NB|UK|(171) 555-1717|(171) 555-5646|\n",
       "|SPLIR|Split Rail Beer & Ale|Art Braunschweiger|Sales Manager|P.O. Box 555|Lander|North America|82520|USA|(307) 555-4680|(307) 555-6525|\n",
       "|SUPRD|Suprêmes délices|Pascale Cartrain|Accounting Manager|Boulevard Tirou, 255|Charleroi|Western Europe|B-6000|Belgium|(071) 23 67 22 20|(071) 23 67 22 21|\n",
       "|THEBI|The Big Cheese|Liz Nixon|Marketing Manager|89 Jefferson Way Suite 2|Portland|North America|97201|USA|(503) 555-3612||\n",
       "|TRADH|Tradição Hipermercados|Anabela Domingues|Sales Representative|Av. Inês de Castro, 414|Sao Paulo|South America|05634-030|Brazil|(11) 555-2167|(11) 555-2168|\n",
       "|TRAIH|Trail's Head Gourmet Provisioners|Helvetius Nagy|Sales Associate|722 DaVinci Blvd.|Kirkland|North America|98034|USA|(206) 555-8257|(206) 555-2174|\n",
       "|VICTE|Victuailles en stock|Mary Saveley|Sales Agent|2, rue du Commerce|Lyon|Western Europe|69004|France|78.32.54.86|78.32.54.87|\n",
       "|WARTH|Wartian Herkku|Pirkko Koskitalo|Accounting Manager|Torikatu 38|Oulu|Scandinavia|90110|Finland|981-443655|981-443655|\n",
       "|WHITC|White Clover Markets|Karl Jablonski|Owner|305 - 14th Ave. S. Suite 3B|Seattle|North America|98128|USA|(206) 555-4112|(206) 555-4115|\n",
       "|WILMK|Wilman Kala|Matti Karttunen|Owner/Marketing Assistant|Keskuskatu 45|Helsinki|Scandinavia|21240|Finland|90-224 8858|90-224 8858|"
      ],
      "text/plain": [
       "<IPython.core.display.Markdown object>"
      ]
     },
     "metadata": {},
     "output_type": "display_data"
    }
   ],
   "source": [
    "# % wildcard\n",
    "execute_and_show(cur,\n",
    "                 '''\n",
    "                 SELECT * FROM Customers\n",
    "                 WHERE City LIKE '%L%';\n",
    "                 ''')"
   ]
  },
  {
   "cell_type": "code",
   "execution_count": 81,
   "metadata": {},
   "outputs": [
    {
     "data": {
      "text/markdown": [
       "|CustomerID|CompanyName|ContactName|ContactTitle|Address|City|Region|PostalCode|Country|Phone|Fax|\n",
       "|-|-|-|-|-|-|-|-|-|-|-|\n",
       "|LACOR|La corne d'abondance|Daniel Tonini|Sales Representative|67, avenue de l'Europe|Versailles|Western Europe|78000|France|30.59.84.10|30.59.85.11|\n",
       "|LAMAI|La maison d'Asie|Annette Roulet|Sales Manager|1 rue Alsace-Lorraine|Toulouse|Western Europe|31000|France|61.77.61.10|61.77.61.11|\n",
       "|LAUGB|Laughing Bacchus Wine Cellars|Yoshi Tannamuri|Marketing Assistant|1900 Oak St.|Vancouver|North America|V3F 2K1|Canada|(604) 555-3392|(604) 555-7293|\n",
       "|LAZYK|Lazy K Kountry Store|John Steel|Marketing Manager|12 Orchestra Terrace|Walla Walla|North America|99362|USA|(509) 555-7969|(509) 555-6221|"
      ],
      "text/plain": [
       "<IPython.core.display.Markdown object>"
      ]
     },
     "metadata": {},
     "output_type": "display_data"
    }
   ],
   "source": [
    "# starts with\n",
    "execute_and_show(cur,\n",
    "                 '''\n",
    "                 SELECT * FROM Customers\n",
    "                 WHERE CompanyName LIKE 'La%';\n",
    "                 ''')"
   ]
  },
  {
   "cell_type": "code",
   "execution_count": 82,
   "metadata": {},
   "outputs": [
    {
     "data": {
      "text/markdown": [
       "|CustomerID|CompanyName|ContactName|ContactTitle|Address|City|Region|PostalCode|Country|Phone|Fax|\n",
       "|-|-|-|-|-|-|-|-|-|-|-|\n",
       "|ALFKI|Alfreds Futterkiste|Maria Anders|Sales Representative|Obere Str. 57|Berlin|Western Europe|12209|Germany|030-0074321|030-0076545|\n",
       "|ANATR|Ana Trujillo Emparedados y helados|Ana Trujillo|Owner|Avda. de la Constitución 2222|México D.F.|Central America|05021|Mexico|(5) 555-4729|(5) 555-3745|\n",
       "|ANTON|Antonio Moreno Taquería|Antonio Moreno|Owner|Mataderos  2312|México D.F.|Central America|05023|Mexico|(5) 555-3932||\n",
       "|AROUT|Around the Horn|Thomas Hardy|Sales Representative|120 Hanover Sq.|London|British Isles|WA1 1DP|UK|(171) 555-7788|(171) 555-6750|\n",
       "|BERGS|Berglunds snabbköp|Christina Berglund|Order Administrator|Berguvsvägen  8|Luleå|Northern Europe|S-958 22|Sweden|0921-12 34 65|0921-12 34 67|\n",
       "|BLAUS|Blauer See Delikatessen|Hanna Moos|Sales Representative|Forsterstr. 57|Mannheim|Western Europe|68306|Germany|0621-08460|0621-08924|\n",
       "|BLONP|Blondesddsl père et fils|Frédérique Citeaux|Marketing Manager|24, place Kléber|Strasbourg|Western Europe|67000|France|88.60.15.31|88.60.15.32|\n",
       "|BOLID|Bólido Comidas preparadas|Martín Sommer|Owner|C/ Araquil, 67|Madrid|Southern Europe|28023|Spain|(91) 555 22 82|(91) 555 91 99|\n",
       "|BONAP|Bon app'|Laurence Lebihan|Owner|12, rue des Bouchers|Marseille|Western Europe|13008|France|91.24.45.40|91.24.45.41|\n",
       "|BOTTM|Bottom-Dollar Markets|Elizabeth Lincoln|Accounting Manager|23 Tsawassen Blvd.|Tsawassen|North America|T2F 8M4|Canada|(604) 555-4729|(604) 555-3745|\n",
       "|BSBEV|B's Beverages|Victoria Ashworth|Sales Representative|Fauntleroy Circus|London|British Isles|EC2 5NT|UK|(171) 555-1212||"
      ],
      "text/plain": [
       "<IPython.core.display.Markdown object>"
      ]
     },
     "metadata": {},
     "output_type": "display_data"
    }
   ],
   "source": [
    "execute_and_show(cur,\n",
    "                 '''\n",
    "                 SELECT * FROM Customers\n",
    "                 WHERE CompanyName LIKE 'a%' OR CompanyName LIKE 'b%';\n",
    "                 ''')"
   ]
  },
  {
   "cell_type": "code",
   "execution_count": 83,
   "metadata": {},
   "outputs": [
    {
     "data": {
      "text/markdown": [
       "|CustomerID|CompanyName|ContactName|ContactTitle|Address|City|Region|PostalCode|Country|Phone|Fax|\n",
       "|-|-|-|-|-|-|-|-|-|-|-|\n",
       "|ANTON|Antonio Moreno Taquería|Antonio Moreno|Owner|Mataderos  2312|México D.F.|Central America|05023|Mexico|(5) 555-3932||\n",
       "|CENTC|Centro comercial Moctezuma|Francisco Chang|Marketing Manager|Sierras de Granada 9993|México D.F.|Central America|05022|Mexico|(5) 555-3392|(5) 555-7293|\n",
       "|GODOS|Godos Cocina Típica|José Pedro Freyre|Sales Manager|C/ Romero, 33|Sevilla|Southern Europe|41101|Spain|(95) 555 82 82||\n",
       "|QUEDE|Que Delícia|Bernardo Batista|Accounting Manager|Rua da Panificadora, 12|Rio de Janeiro|South America|02389-673|Brazil|(21) 555-4252|(21) 555-4545|\n",
       "|QUEEN|Queen Cozinha|Lúcia Carvalho|Marketing Assistant|Alameda dos Canàrios, 891|Sao Paulo|South America|05487-020|Brazil|(11) 555-1189||\n",
       "|WELLI|Wellington Importadora|Paula Parente|Sales Manager|Rua do Mercado, 12|Resende|South America|08737-363|Brazil|(14) 555-8122||\n",
       "|WILMK|Wilman Kala|Matti Karttunen|Owner/Marketing Assistant|Keskuskatu 45|Helsinki|Scandinavia|21240|Finland|90-224 8858|90-224 8858|"
      ],
      "text/plain": [
       "<IPython.core.display.Markdown object>"
      ]
     },
     "metadata": {},
     "output_type": "display_data"
    }
   ],
   "source": [
    "# ends with\n",
    "execute_and_show(cur,\n",
    "                 '''\n",
    "                 SELECT * FROM Customers\n",
    "                 WHERE CompanyName LIKE '%a';\n",
    "                 ''')"
   ]
  },
  {
   "cell_type": "code",
   "execution_count": 84,
   "metadata": {},
   "outputs": [
    {
     "data": {
      "text/markdown": [
       "|CustomerID|CompanyName|ContactName|ContactTitle|Address|City|Region|PostalCode|Country|Phone|Fax|\n",
       "|-|-|-|-|-|-|-|-|-|-|-|\n",
       "|BLONP|Blondesddsl père et fils|Frédérique Citeaux|Marketing Manager|24, place Kléber|Strasbourg|Western Europe|67000|France|88.60.15.31|88.60.15.32|\n",
       "|BOLID|Bólido Comidas preparadas|Martín Sommer|Owner|C/ Araquil, 67|Madrid|Southern Europe|28023|Spain|(91) 555 22 82|(91) 555 91 99|\n",
       "|BOTTM|Bottom-Dollar Markets|Elizabeth Lincoln|Accounting Manager|23 Tsawassen Blvd.|Tsawassen|North America|T2F 8M4|Canada|(604) 555-4729|(604) 555-3745|\n",
       "|BSBEV|B's Beverages|Victoria Ashworth|Sales Representative|Fauntleroy Circus|London|British Isles|EC2 5NT|UK|(171) 555-1212||"
      ],
      "text/plain": [
       "<IPython.core.display.Markdown object>"
      ]
     },
     "metadata": {},
     "output_type": "display_data"
    }
   ],
   "source": [
    "execute_and_show(cur,\n",
    "                 '''\n",
    "                 SELECT * FROM Customers\n",
    "                 WHERE CompanyName LIKE 'b%s';\n",
    "                 ''')"
   ]
  },
  {
   "cell_type": "code",
   "execution_count": 85,
   "metadata": {},
   "outputs": [
    {
     "data": {
      "text/markdown": [
       "|CustomerID|CompanyName|ContactName|ContactTitle|Address|City|Region|PostalCode|Country|Phone|Fax|\n",
       "|-|-|-|-|-|-|-|-|-|-|-|\n",
       "|ANTON|Antonio Moreno Taquería|Antonio Moreno|Owner|Mataderos  2312|México D.F.|Central America|05023|Mexico|(5) 555-3932||\n",
       "|AROUT|Around the Horn|Thomas Hardy|Sales Representative|120 Hanover Sq.|London|British Isles|WA1 1DP|UK|(171) 555-7788|(171) 555-6750|\n",
       "|HUNGC|Hungry Coyote Import Store|Yoshi Latimer|Sales Representative|City Center Plaza 516 Main St.|Elgin|North America|97827|USA|(503) 555-6874|(503) 555-2376|\n",
       "|LACOR|La corne d'abondance|Daniel Tonini|Sales Representative|67, avenue de l'Europe|Versailles|Western Europe|78000|France|30.59.84.10|30.59.85.11|\n",
       "|LAZYK|Lazy K Kountry Store|John Steel|Marketing Manager|12 Orchestra Terrace|Walla Walla|North America|99362|USA|(509) 555-7969|(509) 555-6221|\n",
       "|MORGK|Morgenstern Gesundkost|Alexander Feuer|Marketing Assistant|Heerstr. 22|Leipzig|Western Europe|04179|Germany|0342-023176||\n",
       "|NORTS|North/South|Simon Crowther|Sales Associate|South House 300 Queensbridge|London|British Isles|SW7 1RZ|UK|(171) 555-7733|(171) 555-2530|\n",
       "|OLDWO|Old World Delicatessen|Rene Phillips|Sales Representative|2743 Bering St.|Anchorage|North America|99508|USA|(907) 555-7584|(907) 555-2880|\n",
       "|SEVES|Seven Seas Imports|Hari Kumar|Sales Manager|90 Wadhurst Rd.|London|British Isles|OX15 4NB|UK|(171) 555-1717|(171) 555-5646|\n",
       "|TORTU|Tortuga Restaurante|Miguel Angel Paolino|Owner|Avda. Azteca 123|México D.F.|Central America|05033|Mexico|(5) 555-2933||\n",
       "|WELLI|Wellington Importadora|Paula Parente|Sales Manager|Rua do Mercado, 12|Resende|South America|08737-363|Brazil|(14) 555-8122||"
      ],
      "text/plain": [
       "<IPython.core.display.Markdown object>"
      ]
     },
     "metadata": {},
     "output_type": "display_data"
    }
   ],
   "source": [
    "# contains\n",
    "execute_and_show(cur,\n",
    "                 '''\n",
    "                 SELECT * FROM Customers\n",
    "                 WHERE CompanyName LIKE '%or%';\n",
    "                 ''')"
   ]
  },
  {
   "cell_type": "code",
   "execution_count": 86,
   "metadata": {},
   "outputs": [
    {
     "data": {
      "text/markdown": [
       "|CustomerID|CompanyName|ContactName|ContactTitle|Address|City|Region|PostalCode|Country|Phone|Fax|\n",
       "|-|-|-|-|-|-|-|-|-|-|-|\n",
       "|ALFKI|Alfreds Futterkiste|Maria Anders|Sales Representative|Obere Str. 57|Berlin|Western Europe|12209|Germany|030-0074321|030-0076545|\n",
       "|ANATR|Ana Trujillo Emparedados y helados|Ana Trujillo|Owner|Avda. de la Constitución 2222|México D.F.|Central America|05021|Mexico|(5) 555-4729|(5) 555-3745|\n",
       "|ANTON|Antonio Moreno Taquería|Antonio Moreno|Owner|Mataderos  2312|México D.F.|Central America|05023|Mexico|(5) 555-3932||\n",
       "|AROUT|Around the Horn|Thomas Hardy|Sales Representative|120 Hanover Sq.|London|British Isles|WA1 1DP|UK|(171) 555-7788|(171) 555-6750|"
      ],
      "text/plain": [
       "<IPython.core.display.Markdown object>"
      ]
     },
     "metadata": {},
     "output_type": "display_data"
    }
   ],
   "source": [
    "# combine wildcard\n",
    "execute_and_show(cur,\n",
    "                 '''\n",
    "                 SELECT * FROM Customers\n",
    "                 WHERE CompanyName LIKE 'a__%';\n",
    "                 ''')"
   ]
  },
  {
   "cell_type": "code",
   "execution_count": 87,
   "metadata": {},
   "outputs": [
    {
     "data": {
      "text/markdown": [
       "|CustomerID|CompanyName|ContactName|ContactTitle|Address|City|Region|PostalCode|Country|Phone|Fax|\n",
       "|-|-|-|-|-|-|-|-|-|-|-|\n",
       "|AROUT|Around the Horn|Thomas Hardy|Sales Representative|120 Hanover Sq.|London|British Isles|WA1 1DP|UK|(171) 555-7788|(171) 555-6750|\n",
       "|DRACD|Drachenblut Delikatessen|Sven Ottlieb|Order Administrator|Walserweg 21|Aachen|Western Europe|52066|Germany|0241-039123|0241-059428|\n",
       "|ERNSH|Ernst Handel|Roland Mendel|Sales Manager|Kirchgasse 6|Graz|Western Europe|8010|Austria|7675-3425|7675-3426|\n",
       "|FRANK|Frankenversand|Peter Franken|Marketing Manager|Berliner Platz 43|München|Western Europe|80805|Germany|089-0877310|089-0877451|\n",
       "|FRANR|France restauration|Carine Schmitt|Marketing Manager|54, rue Royale|Nantes|Western Europe|44000|France|40.32.21.21|40.32.21.20|\n",
       "|FRANS|Franchi S.p.A.|Paolo Accorti|Sales Representative|Via Monte Bianco 34|Torino|Southern Europe|10100|Italy|011-4988260|011-4988261|\n",
       "|GREAL|Great Lakes Food Market|Howard Snyder|Marketing Manager|2732 Baker Blvd.|Eugene|North America|97403|USA|(503) 555-7555||\n",
       "|GROSR|GROSELLA-Restaurante|Manuel Pereira|Owner|5ª Ave. Los Palos Grandes|Caracas|South America|1081|Venezuela|(2) 283-2951|(2) 283-3397|\n",
       "|PRINI|Princesa Isabel Vinhos|Isabel de Castro|Sales Representative|Estrada da saúde n. 58|Lisboa|Southern Europe|1756|Portugal|(1) 356-5634||\n",
       "|TRADH|Tradição Hipermercados|Anabela Domingues|Sales Representative|Av. Inês de Castro, 414|Sao Paulo|South America|05634-030|Brazil|(11) 555-2167|(11) 555-2168|\n",
       "|TRAIH|Trail's Head Gourmet Provisioners|Helvetius Nagy|Sales Associate|722 DaVinci Blvd.|Kirkland|North America|98034|USA|(206) 555-8257|(206) 555-2174|"
      ],
      "text/plain": [
       "<IPython.core.display.Markdown object>"
      ]
     },
     "metadata": {},
     "output_type": "display_data"
    }
   ],
   "source": [
    "execute_and_show(cur,\n",
    "                 '''\n",
    "                 SELECT * FROM Customers\n",
    "                 WHERE CompanyName LIKE '_r%';\n",
    "                 ''')"
   ]
  },
  {
   "cell_type": "code",
   "execution_count": 88,
   "metadata": {},
   "outputs": [
    {
     "data": {
      "text/markdown": [
       "|CustomerID|CompanyName|ContactName|ContactTitle|Address|City|Region|PostalCode|Country|Phone|Fax|\n",
       "|-|-|-|-|-|-|-|-|-|-|-|\n",
       "|BOLID|Bólido Comidas preparadas|Martín Sommer|Owner|C/ Araquil, 67|Madrid|Southern Europe|28023|Spain|(91) 555 22 82|(91) 555 91 99|\n",
       "|FISSA|FISSA Fabrica Inter. Salchichas S.A.|Diego Roel|Accounting Manager|C/ Moralzarzal, 86|Madrid|Southern Europe|28034|Spain|(91) 555 94 44|(91) 555 55 93|\n",
       "|GALED|Galería del gastrónomo|Eduardo Saavedra|Marketing Manager|Rambla de Cataluña, 23|Barcelona|Southern Europe|08022|Spain|(93) 203 4560|(93) 203 4561|\n",
       "|GODOS|Godos Cocina Típica|José Pedro Freyre|Sales Manager|C/ Romero, 33|Sevilla|Southern Europe|41101|Spain|(95) 555 82 82||\n",
       "|ROMEY|Romero y tomillo|Alejandra Camino|Accounting Manager|Gran Vía, 1|Madrid|Southern Europe|28001|Spain|(91) 745 6200|(91) 745 6210|"
      ],
      "text/plain": [
       "<IPython.core.display.Markdown object>"
      ]
     },
     "metadata": {},
     "output_type": "display_data"
    }
   ],
   "source": [
    "# without wildcard\n",
    "execute_and_show(cur,\n",
    "                 '''\n",
    "                 SELECT * FROM Customers\n",
    "                 WHERE Country LIKE 'Spain';\n",
    "                 ''')"
   ]
  },
  {
   "cell_type": "markdown",
   "metadata": {},
   "source": [
    "# SQL Wildcard"
   ]
  },
  {
   "cell_type": "code",
   "execution_count": 89,
   "metadata": {},
   "outputs": [
    {
     "data": {
      "text/markdown": [
       "|CustomerID|CompanyName|ContactName|ContactTitle|Address|City|Region|PostalCode|Country|Phone|Fax|\n",
       "|-|-|-|-|-|-|-|-|-|-|-|\n",
       "|ALFKI|Alfreds Futterkiste|Maria Anders|Sales Representative|Obere Str. 57|Berlin|Western Europe|12209|Germany|030-0074321|030-0076545|\n",
       "|ANATR|Ana Trujillo Emparedados y helados|Ana Trujillo|Owner|Avda. de la Constitución 2222|México D.F.|Central America|05021|Mexico|(5) 555-4729|(5) 555-3745|\n",
       "|ANTON|Antonio Moreno Taquería|Antonio Moreno|Owner|Mataderos  2312|México D.F.|Central America|05023|Mexico|(5) 555-3932||\n",
       "|AROUT|Around the Horn|Thomas Hardy|Sales Representative|120 Hanover Sq.|London|British Isles|WA1 1DP|UK|(171) 555-7788|(171) 555-6750|"
      ],
      "text/plain": [
       "<IPython.core.display.Markdown object>"
      ]
     },
     "metadata": {},
     "output_type": "display_data"
    }
   ],
   "source": [
    "execute_and_show(cur,\n",
    "                 '''\n",
    "                 SELECT * FROM Customers\n",
    "                 WHERE CompanyName LIKE 'a%';\n",
    "                 ''')"
   ]
  },
  {
   "cell_type": "code",
   "execution_count": 90,
   "metadata": {},
   "outputs": [
    {
     "data": {
      "text/markdown": [
       "|CustomerID|CompanyName|ContactName|ContactTitle|Address|City|Region|PostalCode|Country|Phone|Fax|\n",
       "|-|-|-|-|-|-|-|-|-|-|-|\n",
       "|BSBEV|B's Beverages|Victoria Ashworth|Sales Representative|Fauntleroy Circus|London|British Isles|EC2 5NT|UK|(171) 555-1212||\n",
       "|FOLIG|Folies gourmandes|Martine Rancé|Assistant Sales Agent|184, chaussée de Tournai|Lille|Western Europe|59000|France|20.16.10.16|20.16.10.17|\n",
       "|GOURL|Gourmet Lanchonetes|André Fonseca|Sales Associate|Av. Brasil, 442|Campinas|South America|04876-786|Brazil|(11) 555-9482||\n",
       "|HANAR|Hanari Carnes|Mario Pontes|Accounting Manager|Rua do Paço, 67|Rio de Janeiro|South America|05454-876|Brazil|(21) 555-0091|(21) 555-8765|\n",
       "|LINOD|LINO-Delicateses|Felipe Izquierdo|Owner|Ave. 5 de Mayo Porlamar|I. de Margarita|South America|4980|Venezuela|(8) 34-56-12|(8) 34-93-93|\n",
       "|SUPRD|Suprêmes délices|Pascale Cartrain|Accounting Manager|Boulevard Tirou, 255|Charleroi|Western Europe|B-6000|Belgium|(071) 23 67 22 20|(071) 23 67 22 21|"
      ],
      "text/plain": [
       "<IPython.core.display.Markdown object>"
      ]
     },
     "metadata": {},
     "output_type": "display_data"
    }
   ],
   "source": [
    "execute_and_show(cur,\n",
    "                 '''\n",
    "                 SELECT * FROM Customers\n",
    "                 WHERE CompanyName LIKE '%es';\n",
    "                 ''')"
   ]
  },
  {
   "cell_type": "code",
   "execution_count": 91,
   "metadata": {},
   "outputs": [
    {
     "data": {
      "text/markdown": [
       "|CustomerID|CompanyName|ContactName|ContactTitle|Address|City|Region|PostalCode|Country|Phone|Fax|\n",
       "|-|-|-|-|-|-|-|-|-|-|-|\n",
       "|CENTC|Centro comercial Moctezuma|Francisco Chang|Marketing Manager|Sierras de Granada 9993|México D.F.|Central America|05022|Mexico|(5) 555-3392|(5) 555-7293|\n",
       "|LILAS|LILA-Supermercado|Carlos González|Accounting Manager|Carrera 52 con Ave. Bolívar #65-98 Llano Largo|Barquisimeto|South America|3508|Venezuela|(9) 331-6954|(9) 331-7256|\n",
       "|ROMEY|Romero y tomillo|Alejandra Camino|Accounting Manager|Gran Vía, 1|Madrid|Southern Europe|28001|Spain|(91) 745 6200|(91) 745 6210|\n",
       "|TRADH|Tradição Hipermercados|Anabela Domingues|Sales Representative|Av. Inês de Castro, 414|Sao Paulo|South America|05634-030|Brazil|(11) 555-2167|(11) 555-2168|"
      ],
      "text/plain": [
       "<IPython.core.display.Markdown object>"
      ]
     },
     "metadata": {},
     "output_type": "display_data"
    }
   ],
   "source": [
    "execute_and_show(cur,\n",
    "                 '''\n",
    "                 SELECT * FROM Customers\n",
    "                 WHERE CompanyName LIKE '%mer%';\n",
    "                 ''')"
   ]
  },
  {
   "cell_type": "code",
   "execution_count": 92,
   "metadata": {},
   "outputs": [
    {
     "data": {
      "text/markdown": [
       "|CustomerID|CompanyName|ContactName|ContactTitle|Address|City|Region|PostalCode|Country|Phone|Fax|\n",
       "|-|-|-|-|-|-|-|-|-|-|-|\n",
       "|AROUT|Around the Horn|Thomas Hardy|Sales Representative|120 Hanover Sq.|London|British Isles|WA1 1DP|UK|(171) 555-7788|(171) 555-6750|\n",
       "|BSBEV|B's Beverages|Victoria Ashworth|Sales Representative|Fauntleroy Circus|London|British Isles|EC2 5NT|UK|(171) 555-1212||\n",
       "|CONSH|Consolidated Holdings|Elizabeth Brown|Sales Representative|Berkeley Gardens 12  Brewery|London|British Isles|WX1 6LT|UK|(171) 555-2282|(171) 555-9199|\n",
       "|EASTC|Eastern Connection|Ann Devon|Sales Agent|35 King George|London|British Isles|WX3 6FW|UK|(171) 555-0297|(171) 555-3373|\n",
       "|NORTS|North/South|Simon Crowther|Sales Associate|South House 300 Queensbridge|London|British Isles|SW7 1RZ|UK|(171) 555-7733|(171) 555-2530|\n",
       "|SEVES|Seven Seas Imports|Hari Kumar|Sales Manager|90 Wadhurst Rd.|London|British Isles|OX15 4NB|UK|(171) 555-1717|(171) 555-5646|"
      ],
      "text/plain": [
       "<IPython.core.display.Markdown object>"
      ]
     },
     "metadata": {},
     "output_type": "display_data"
    }
   ],
   "source": [
    "execute_and_show(cur,\n",
    "                 '''\n",
    "                 SELECT * FROM Customers\n",
    "                 WHERE City LIKE '_ondon';\n",
    "                 ''')"
   ]
  },
  {
   "cell_type": "code",
   "execution_count": 93,
   "metadata": {},
   "outputs": [
    {
     "data": {
      "text/markdown": [
       "|CustomerID|CompanyName|ContactName|ContactTitle|Address|City|Region|PostalCode|Country|Phone|Fax|\n",
       "|-|-|-|-|-|-|-|-|-|-|-|\n",
       "|AROUT|Around the Horn|Thomas Hardy|Sales Representative|120 Hanover Sq.|London|British Isles|WA1 1DP|UK|(171) 555-7788|(171) 555-6750|\n",
       "|BSBEV|B's Beverages|Victoria Ashworth|Sales Representative|Fauntleroy Circus|London|British Isles|EC2 5NT|UK|(171) 555-1212||\n",
       "|CONSH|Consolidated Holdings|Elizabeth Brown|Sales Representative|Berkeley Gardens 12  Brewery|London|British Isles|WX1 6LT|UK|(171) 555-2282|(171) 555-9199|\n",
       "|EASTC|Eastern Connection|Ann Devon|Sales Agent|35 King George|London|British Isles|WX3 6FW|UK|(171) 555-0297|(171) 555-3373|\n",
       "|NORTS|North/South|Simon Crowther|Sales Associate|South House 300 Queensbridge|London|British Isles|SW7 1RZ|UK|(171) 555-7733|(171) 555-2530|\n",
       "|SEVES|Seven Seas Imports|Hari Kumar|Sales Manager|90 Wadhurst Rd.|London|British Isles|OX15 4NB|UK|(171) 555-1717|(171) 555-5646|"
      ],
      "text/plain": [
       "<IPython.core.display.Markdown object>"
      ]
     },
     "metadata": {},
     "output_type": "display_data"
    }
   ],
   "source": [
    "execute_and_show(cur,\n",
    "                 '''\n",
    "                 SELECT * FROM Customers\n",
    "                 WHERE City LIKE 'L___on';\n",
    "                 ''')"
   ]
  },
  {
   "cell_type": "markdown",
   "metadata": {},
   "source": [
    "# SQL IN"
   ]
  },
  {
   "cell_type": "code",
   "execution_count": 94,
   "metadata": {},
   "outputs": [
    {
     "data": {
      "text/markdown": [
       "|CustomerID|CompanyName|ContactName|ContactTitle|Address|City|Region|PostalCode|Country|Phone|Fax|\n",
       "|-|-|-|-|-|-|-|-|-|-|-|\n",
       "|ALFKI|Alfreds Futterkiste|Maria Anders|Sales Representative|Obere Str. 57|Berlin|Western Europe|12209|Germany|030-0074321|030-0076545|\n",
       "|AROUT|Around the Horn|Thomas Hardy|Sales Representative|120 Hanover Sq.|London|British Isles|WA1 1DP|UK|(171) 555-7788|(171) 555-6750|\n",
       "|BLAUS|Blauer See Delikatessen|Hanna Moos|Sales Representative|Forsterstr. 57|Mannheim|Western Europe|68306|Germany|0621-08460|0621-08924|\n",
       "|BLONP|Blondesddsl père et fils|Frédérique Citeaux|Marketing Manager|24, place Kléber|Strasbourg|Western Europe|67000|France|88.60.15.31|88.60.15.32|\n",
       "|BONAP|Bon app'|Laurence Lebihan|Owner|12, rue des Bouchers|Marseille|Western Europe|13008|France|91.24.45.40|91.24.45.41|\n",
       "|BSBEV|B's Beverages|Victoria Ashworth|Sales Representative|Fauntleroy Circus|London|British Isles|EC2 5NT|UK|(171) 555-1212||\n",
       "|CONSH|Consolidated Holdings|Elizabeth Brown|Sales Representative|Berkeley Gardens 12  Brewery|London|British Isles|WX1 6LT|UK|(171) 555-2282|(171) 555-9199|\n",
       "|DRACD|Drachenblut Delikatessen|Sven Ottlieb|Order Administrator|Walserweg 21|Aachen|Western Europe|52066|Germany|0241-039123|0241-059428|\n",
       "|DUMON|Du monde entier|Janine Labrune|Owner|67, rue des Cinquante Otages|Nantes|Western Europe|44000|France|40.67.88.88|40.67.89.89|\n",
       "|EASTC|Eastern Connection|Ann Devon|Sales Agent|35 King George|London|British Isles|WX3 6FW|UK|(171) 555-0297|(171) 555-3373|\n",
       "|FOLIG|Folies gourmandes|Martine Rancé|Assistant Sales Agent|184, chaussée de Tournai|Lille|Western Europe|59000|France|20.16.10.16|20.16.10.17|\n",
       "|FRANK|Frankenversand|Peter Franken|Marketing Manager|Berliner Platz 43|München|Western Europe|80805|Germany|089-0877310|089-0877451|\n",
       "|FRANR|France restauration|Carine Schmitt|Marketing Manager|54, rue Royale|Nantes|Western Europe|44000|France|40.32.21.21|40.32.21.20|\n",
       "|ISLAT|Island Trading|Helen Bennett|Marketing Manager|Garden House Crowther Way|Cowes|British Isles|PO31 7PJ|UK|(198) 555-8888||\n",
       "|KOENE|Königlich Essen|Philip Cramer|Sales Associate|Maubelstr. 90|Brandenburg|Western Europe|14776|Germany|0555-09876||\n",
       "|LACOR|La corne d'abondance|Daniel Tonini|Sales Representative|67, avenue de l'Europe|Versailles|Western Europe|78000|France|30.59.84.10|30.59.85.11|\n",
       "|LAMAI|La maison d'Asie|Annette Roulet|Sales Manager|1 rue Alsace-Lorraine|Toulouse|Western Europe|31000|France|61.77.61.10|61.77.61.11|\n",
       "|LEHMS|Lehmanns Marktstand|Renate Messner|Sales Representative|Magazinweg 7|Frankfurt a.M.|Western Europe|60528|Germany|069-0245984|069-0245874|\n",
       "|MORGK|Morgenstern Gesundkost|Alexander Feuer|Marketing Assistant|Heerstr. 22|Leipzig|Western Europe|04179|Germany|0342-023176||\n",
       "|NORTS|North/South|Simon Crowther|Sales Associate|South House 300 Queensbridge|London|British Isles|SW7 1RZ|UK|(171) 555-7733|(171) 555-2530|\n",
       "|OTTIK|Ottilies Käseladen|Henriette Pfalzheim|Owner|Mehrheimerstr. 369|Köln|Western Europe|50739|Germany|0221-0644327|0221-0765721|\n",
       "|PARIS|Paris spécialités|Marie Bertrand|Owner|265, boulevard Charonne|Paris|Western Europe|75012|France|(1) 42.34.22.66|(1) 42.34.22.77|\n",
       "|QUICK|QUICK-Stop|Horst Kloss|Accounting Manager|Taucherstraße 10|Cunewalde|Western Europe|01307|Germany|0372-035188||\n",
       "|SEVES|Seven Seas Imports|Hari Kumar|Sales Manager|90 Wadhurst Rd.|London|British Isles|OX15 4NB|UK|(171) 555-1717|(171) 555-5646|\n",
       "|SPECD|Spécialités du monde|Dominique Perrier|Marketing Manager|25, rue Lauriston|Paris|Western Europe|75016|France|(1) 47.55.60.10|(1) 47.55.60.20|\n",
       "|TOMSP|Toms Spezialitäten|Karin Josephs|Marketing Manager|Luisenstr. 48|Münster|Western Europe|44087|Germany|0251-031259|0251-035695|\n",
       "|VICTE|Victuailles en stock|Mary Saveley|Sales Agent|2, rue du Commerce|Lyon|Western Europe|69004|France|78.32.54.86|78.32.54.87|\n",
       "|VINET|Vins et alcools Chevalier|Paul Henriot|Accounting Manager|59 rue de l'Abbaye|Reims|Western Europe|51100|France|26.47.15.10|26.47.15.11|\n",
       "|WANDK|Die Wandernde Kuh|Rita Müller|Sales Representative|Adenauerallee 900|Stuttgart|Western Europe|70563|Germany|0711-020361|0711-035428|"
      ],
      "text/plain": [
       "<IPython.core.display.Markdown object>"
      ]
     },
     "metadata": {},
     "output_type": "display_data"
    }
   ],
   "source": [
    "execute_and_show(cur,\n",
    "                 '''\n",
    "                 SELECT * FROM Customers\n",
    "                 WHERE Country IN ('Germany', 'France', 'UK');\n",
    "                 ''')"
   ]
  },
  {
   "cell_type": "code",
   "execution_count": 95,
   "metadata": {},
   "outputs": [
    {
     "data": {
      "text/markdown": [
       "|CustomerID|CompanyName|ContactName|ContactTitle|Address|City|Region|PostalCode|Country|Phone|Fax|\n",
       "|-|-|-|-|-|-|-|-|-|-|-|\n",
       "|ANATR|Ana Trujillo Emparedados y helados|Ana Trujillo|Owner|Avda. de la Constitución 2222|México D.F.|Central America|05021|Mexico|(5) 555-4729|(5) 555-3745|\n",
       "|ANTON|Antonio Moreno Taquería|Antonio Moreno|Owner|Mataderos  2312|México D.F.|Central America|05023|Mexico|(5) 555-3932||\n",
       "|BERGS|Berglunds snabbköp|Christina Berglund|Order Administrator|Berguvsvägen  8|Luleå|Northern Europe|S-958 22|Sweden|0921-12 34 65|0921-12 34 67|\n",
       "|BOLID|Bólido Comidas preparadas|Martín Sommer|Owner|C/ Araquil, 67|Madrid|Southern Europe|28023|Spain|(91) 555 22 82|(91) 555 91 99|\n",
       "|BOTTM|Bottom-Dollar Markets|Elizabeth Lincoln|Accounting Manager|23 Tsawassen Blvd.|Tsawassen|North America|T2F 8M4|Canada|(604) 555-4729|(604) 555-3745|\n",
       "|CACTU|Cactus Comidas para llevar|Patricio Simpson|Sales Agent|Cerrito 333|Buenos Aires|South America|1010|Argentina|(1) 135-5555|(1) 135-4892|\n",
       "|CENTC|Centro comercial Moctezuma|Francisco Chang|Marketing Manager|Sierras de Granada 9993|México D.F.|Central America|05022|Mexico|(5) 555-3392|(5) 555-7293|\n",
       "|CHOPS|Chop-suey Chinese|Yang Wang|Owner|Hauptstr. 29|Bern|Western Europe|3012|Switzerland|0452-076545||\n",
       "|COMMI|Comércio Mineiro|Pedro Afonso|Sales Associate|Av. dos Lusíadas, 23|Sao Paulo|South America|05432-043|Brazil|(11) 555-7647||\n",
       "|ERNSH|Ernst Handel|Roland Mendel|Sales Manager|Kirchgasse 6|Graz|Western Europe|8010|Austria|7675-3425|7675-3426|\n",
       "|FAMIA|Familia Arquibaldo|Aria Cruz|Marketing Assistant|Rua Orós, 92|Sao Paulo|South America|05442-030|Brazil|(11) 555-9857||\n",
       "|FISSA|FISSA Fabrica Inter. Salchichas S.A.|Diego Roel|Accounting Manager|C/ Moralzarzal, 86|Madrid|Southern Europe|28034|Spain|(91) 555 94 44|(91) 555 55 93|\n",
       "|FOLKO|Folk och fä HB|Maria Larsson|Owner|Åkergatan 24|Bräcke|Northern Europe|S-844 67|Sweden|0695-34 67 21||\n",
       "|FRANS|Franchi S.p.A.|Paolo Accorti|Sales Representative|Via Monte Bianco 34|Torino|Southern Europe|10100|Italy|011-4988260|011-4988261|\n",
       "|FURIB|Furia Bacalhau e Frutos do Mar|Lino Rodriguez|Sales Manager|Jardim das rosas n. 32|Lisboa|Southern Europe|1675|Portugal|(1) 354-2534|(1) 354-2535|\n",
       "|GALED|Galería del gastrónomo|Eduardo Saavedra|Marketing Manager|Rambla de Cataluña, 23|Barcelona|Southern Europe|08022|Spain|(93) 203 4560|(93) 203 4561|\n",
       "|GODOS|Godos Cocina Típica|José Pedro Freyre|Sales Manager|C/ Romero, 33|Sevilla|Southern Europe|41101|Spain|(95) 555 82 82||\n",
       "|GOURL|Gourmet Lanchonetes|André Fonseca|Sales Associate|Av. Brasil, 442|Campinas|South America|04876-786|Brazil|(11) 555-9482||\n",
       "|GREAL|Great Lakes Food Market|Howard Snyder|Marketing Manager|2732 Baker Blvd.|Eugene|North America|97403|USA|(503) 555-7555||\n",
       "|GROSR|GROSELLA-Restaurante|Manuel Pereira|Owner|5ª Ave. Los Palos Grandes|Caracas|South America|1081|Venezuela|(2) 283-2951|(2) 283-3397|\n",
       "|HANAR|Hanari Carnes|Mario Pontes|Accounting Manager|Rua do Paço, 67|Rio de Janeiro|South America|05454-876|Brazil|(21) 555-0091|(21) 555-8765|\n",
       "|HILAA|HILARION-Abastos|Carlos Hernández|Sales Representative|Carrera 22 con Ave. Carlos Soublette #8-35|San Cristóbal|South America|5022|Venezuela|(5) 555-1340|(5) 555-1948|\n",
       "|HUNGC|Hungry Coyote Import Store|Yoshi Latimer|Sales Representative|City Center Plaza 516 Main St.|Elgin|North America|97827|USA|(503) 555-6874|(503) 555-2376|\n",
       "|HUNGO|Hungry Owl All-Night Grocers|Patricia McKenna|Sales Associate|8 Johnstown Road|Cork|British Isles||Ireland|2967 542|2967 3333|\n",
       "|LAUGB|Laughing Bacchus Wine Cellars|Yoshi Tannamuri|Marketing Assistant|1900 Oak St.|Vancouver|North America|V3F 2K1|Canada|(604) 555-3392|(604) 555-7293|\n",
       "|LAZYK|Lazy K Kountry Store|John Steel|Marketing Manager|12 Orchestra Terrace|Walla Walla|North America|99362|USA|(509) 555-7969|(509) 555-6221|\n",
       "|LETSS|Let's Stop N Shop|Jaime Yorres|Owner|87 Polk St. Suite 5|San Francisco|North America|94117|USA|(415) 555-5938||\n",
       "|LILAS|LILA-Supermercado|Carlos González|Accounting Manager|Carrera 52 con Ave. Bolívar #65-98 Llano Largo|Barquisimeto|South America|3508|Venezuela|(9) 331-6954|(9) 331-7256|\n",
       "|LINOD|LINO-Delicateses|Felipe Izquierdo|Owner|Ave. 5 de Mayo Porlamar|I. de Margarita|South America|4980|Venezuela|(8) 34-56-12|(8) 34-93-93|\n",
       "|LONEP|Lonesome Pine Restaurant|Fran Wilson|Sales Manager|89 Chiaroscuro Rd.|Portland|North America|97219|USA|(503) 555-9573|(503) 555-9646|\n",
       "|MAGAA|Magazzini Alimentari Riuniti|Giovanni Rovelli|Marketing Manager|Via Ludovico il Moro 22|Bergamo|Southern Europe|24100|Italy|035-640230|035-640231|\n",
       "|MAISD|Maison Dewey|Catherine Dewey|Sales Agent|Rue Joseph-Bens 532|Bruxelles|Western Europe|B-1180|Belgium|(02) 201 24 67|(02) 201 24 68|\n",
       "|MEREP|Mère Paillarde|Jean Fresnière|Marketing Assistant|43 rue St. Laurent|Montréal|North America|H1J 1C3|Canada|(514) 555-8054|(514) 555-8055|\n",
       "|OCEAN|Océano Atlántico Ltda.|Yvonne Moncada|Sales Agent|Ing. Gustavo Moncada 8585 Piso 20-A|Buenos Aires|South America|1010|Argentina|(1) 135-5333|(1) 135-5535|\n",
       "|OLDWO|Old World Delicatessen|Rene Phillips|Sales Representative|2743 Bering St.|Anchorage|North America|99508|USA|(907) 555-7584|(907) 555-2880|\n",
       "|PERIC|Pericles Comidas clásicas|Guillermo Fernández|Sales Representative|Calle Dr. Jorge Cash 321|México D.F.|Central America|05033|Mexico|(5) 552-3745|(5) 545-3745|\n",
       "|PICCO|Piccolo und mehr|Georg Pipps|Sales Manager|Geislweg 14|Salzburg|Western Europe|5020|Austria|6562-9722|6562-9723|\n",
       "|PRINI|Princesa Isabel Vinhos|Isabel de Castro|Sales Representative|Estrada da saúde n. 58|Lisboa|Southern Europe|1756|Portugal|(1) 356-5634||\n",
       "|QUEDE|Que Delícia|Bernardo Batista|Accounting Manager|Rua da Panificadora, 12|Rio de Janeiro|South America|02389-673|Brazil|(21) 555-4252|(21) 555-4545|\n",
       "|QUEEN|Queen Cozinha|Lúcia Carvalho|Marketing Assistant|Alameda dos Canàrios, 891|Sao Paulo|South America|05487-020|Brazil|(11) 555-1189||\n",
       "|RANCH|Rancho grande|Sergio Gutiérrez|Sales Representative|Av. del Libertador 900|Buenos Aires|South America|1010|Argentina|(1) 123-5555|(1) 123-5556|\n",
       "|RATTC|Rattlesnake Canyon Grocery|Paula Wilson|Assistant Sales Representative|2817 Milton Dr.|Albuquerque|North America|87110|USA|(505) 555-5939|(505) 555-3620|\n",
       "|REGGC|Reggiani Caseifici|Maurizio Moroni|Sales Associate|Strada Provinciale 124|Reggio Emilia|Southern Europe|42100|Italy|0522-556721|0522-556722|\n",
       "|RICAR|Ricardo Adocicados|Janete Limeira|Assistant Sales Agent|Av. Copacabana, 267|Rio de Janeiro|South America|02389-890|Brazil|(21) 555-3412||\n",
       "|RICSU|Richter Supermarkt|Michael Holz|Sales Manager|Grenzacherweg 237|Genève|Western Europe|1203|Switzerland|0897-034214||\n",
       "|ROMEY|Romero y tomillo|Alejandra Camino|Accounting Manager|Gran Vía, 1|Madrid|Southern Europe|28001|Spain|(91) 745 6200|(91) 745 6210|\n",
       "|SANTG|Santé Gourmet|Jonas Bergulfsen|Owner|Erling Skakkes gate 78|Stavern|Scandinavia|4110|Norway|07-98 92 35|07-98 92 47|\n",
       "|SAVEA|Save-a-lot Markets|Jose Pavarotti|Sales Representative|187 Suffolk Ln.|Boise|North America|83720|USA|(208) 555-8097||\n",
       "|SIMOB|Simons bistro|Jytte Petersen|Owner|Vinbæltet 34|Kobenhavn|Northern Europe|1734|Denmark|31 12 34 56|31 13 35 57|\n",
       "|SPLIR|Split Rail Beer & Ale|Art Braunschweiger|Sales Manager|P.O. Box 555|Lander|North America|82520|USA|(307) 555-4680|(307) 555-6525|\n",
       "|SUPRD|Suprêmes délices|Pascale Cartrain|Accounting Manager|Boulevard Tirou, 255|Charleroi|Western Europe|B-6000|Belgium|(071) 23 67 22 20|(071) 23 67 22 21|\n",
       "|THEBI|The Big Cheese|Liz Nixon|Marketing Manager|89 Jefferson Way Suite 2|Portland|North America|97201|USA|(503) 555-3612||\n",
       "|THECR|The Cracker Box|Liu Wong|Marketing Assistant|55 Grizzly Peak Rd.|Butte|North America|59801|USA|(406) 555-5834|(406) 555-8083|\n",
       "|TORTU|Tortuga Restaurante|Miguel Angel Paolino|Owner|Avda. Azteca 123|México D.F.|Central America|05033|Mexico|(5) 555-2933||\n",
       "|TRADH|Tradição Hipermercados|Anabela Domingues|Sales Representative|Av. Inês de Castro, 414|Sao Paulo|South America|05634-030|Brazil|(11) 555-2167|(11) 555-2168|\n",
       "|TRAIH|Trail's Head Gourmet Provisioners|Helvetius Nagy|Sales Associate|722 DaVinci Blvd.|Kirkland|North America|98034|USA|(206) 555-8257|(206) 555-2174|\n",
       "|VAFFE|Vaffeljernet|Palle Ibsen|Sales Manager|Smagsloget 45|Århus|Northern Europe|8200|Denmark|86 21 32 43|86 22 33 44|\n",
       "|WARTH|Wartian Herkku|Pirkko Koskitalo|Accounting Manager|Torikatu 38|Oulu|Scandinavia|90110|Finland|981-443655|981-443655|\n",
       "|WELLI|Wellington Importadora|Paula Parente|Sales Manager|Rua do Mercado, 12|Resende|South America|08737-363|Brazil|(14) 555-8122||\n",
       "|WHITC|White Clover Markets|Karl Jablonski|Owner|305 - 14th Ave. S. Suite 3B|Seattle|North America|98128|USA|(206) 555-4112|(206) 555-4115|\n",
       "|WILMK|Wilman Kala|Matti Karttunen|Owner/Marketing Assistant|Keskuskatu 45|Helsinki|Scandinavia|21240|Finland|90-224 8858|90-224 8858|\n",
       "|WOLZA|Wolski  Zajazd|Zbyszek Piestrzeniewicz|Owner|ul. Filtrowa 68|Warszawa|Eastern Europe|01-012|Poland|(26) 642-7012|(26) 642-7012|"
      ],
      "text/plain": [
       "<IPython.core.display.Markdown object>"
      ]
     },
     "metadata": {},
     "output_type": "display_data"
    }
   ],
   "source": [
    "# NOT IN\n",
    "execute_and_show(cur,\n",
    "                 '''\n",
    "                 SELECT * FROM Customers\n",
    "                 WHERE Country NOT IN ('Germany', 'France', 'UK');\n",
    "                 ''')"
   ]
  },
  {
   "cell_type": "code",
   "execution_count": 96,
   "metadata": {},
   "outputs": [
    {
     "data": {
      "text/markdown": [
       "|CustomerID|CompanyName|ContactName|ContactTitle|Address|City|Region|PostalCode|Country|Phone|Fax|\n",
       "|-|-|-|-|-|-|-|-|-|-|-|\n",
       "|ALFKI|Alfreds Futterkiste|Maria Anders|Sales Representative|Obere Str. 57|Berlin|Western Europe|12209|Germany|030-0074321|030-0076545|\n",
       "|ANATR|Ana Trujillo Emparedados y helados|Ana Trujillo|Owner|Avda. de la Constitución 2222|México D.F.|Central America|05021|Mexico|(5) 555-4729|(5) 555-3745|\n",
       "|ANTON|Antonio Moreno Taquería|Antonio Moreno|Owner|Mataderos  2312|México D.F.|Central America|05023|Mexico|(5) 555-3932||\n",
       "|AROUT|Around the Horn|Thomas Hardy|Sales Representative|120 Hanover Sq.|London|British Isles|WA1 1DP|UK|(171) 555-7788|(171) 555-6750|\n",
       "|BERGS|Berglunds snabbköp|Christina Berglund|Order Administrator|Berguvsvägen  8|Luleå|Northern Europe|S-958 22|Sweden|0921-12 34 65|0921-12 34 67|\n",
       "|BLAUS|Blauer See Delikatessen|Hanna Moos|Sales Representative|Forsterstr. 57|Mannheim|Western Europe|68306|Germany|0621-08460|0621-08924|\n",
       "|BLONP|Blondesddsl père et fils|Frédérique Citeaux|Marketing Manager|24, place Kléber|Strasbourg|Western Europe|67000|France|88.60.15.31|88.60.15.32|\n",
       "|BOLID|Bólido Comidas preparadas|Martín Sommer|Owner|C/ Araquil, 67|Madrid|Southern Europe|28023|Spain|(91) 555 22 82|(91) 555 91 99|\n",
       "|BONAP|Bon app'|Laurence Lebihan|Owner|12, rue des Bouchers|Marseille|Western Europe|13008|France|91.24.45.40|91.24.45.41|\n",
       "|BOTTM|Bottom-Dollar Markets|Elizabeth Lincoln|Accounting Manager|23 Tsawassen Blvd.|Tsawassen|North America|T2F 8M4|Canada|(604) 555-4729|(604) 555-3745|\n",
       "|BSBEV|B's Beverages|Victoria Ashworth|Sales Representative|Fauntleroy Circus|London|British Isles|EC2 5NT|UK|(171) 555-1212||\n",
       "|CACTU|Cactus Comidas para llevar|Patricio Simpson|Sales Agent|Cerrito 333|Buenos Aires|South America|1010|Argentina|(1) 135-5555|(1) 135-4892|\n",
       "|CENTC|Centro comercial Moctezuma|Francisco Chang|Marketing Manager|Sierras de Granada 9993|México D.F.|Central America|05022|Mexico|(5) 555-3392|(5) 555-7293|\n",
       "|CHOPS|Chop-suey Chinese|Yang Wang|Owner|Hauptstr. 29|Bern|Western Europe|3012|Switzerland|0452-076545||\n",
       "|COMMI|Comércio Mineiro|Pedro Afonso|Sales Associate|Av. dos Lusíadas, 23|Sao Paulo|South America|05432-043|Brazil|(11) 555-7647||\n",
       "|CONSH|Consolidated Holdings|Elizabeth Brown|Sales Representative|Berkeley Gardens 12  Brewery|London|British Isles|WX1 6LT|UK|(171) 555-2282|(171) 555-9199|\n",
       "|DRACD|Drachenblut Delikatessen|Sven Ottlieb|Order Administrator|Walserweg 21|Aachen|Western Europe|52066|Germany|0241-039123|0241-059428|\n",
       "|DUMON|Du monde entier|Janine Labrune|Owner|67, rue des Cinquante Otages|Nantes|Western Europe|44000|France|40.67.88.88|40.67.89.89|\n",
       "|EASTC|Eastern Connection|Ann Devon|Sales Agent|35 King George|London|British Isles|WX3 6FW|UK|(171) 555-0297|(171) 555-3373|\n",
       "|ERNSH|Ernst Handel|Roland Mendel|Sales Manager|Kirchgasse 6|Graz|Western Europe|8010|Austria|7675-3425|7675-3426|\n",
       "|FAMIA|Familia Arquibaldo|Aria Cruz|Marketing Assistant|Rua Orós, 92|Sao Paulo|South America|05442-030|Brazil|(11) 555-9857||\n",
       "|FISSA|FISSA Fabrica Inter. Salchichas S.A.|Diego Roel|Accounting Manager|C/ Moralzarzal, 86|Madrid|Southern Europe|28034|Spain|(91) 555 94 44|(91) 555 55 93|\n",
       "|FOLIG|Folies gourmandes|Martine Rancé|Assistant Sales Agent|184, chaussée de Tournai|Lille|Western Europe|59000|France|20.16.10.16|20.16.10.17|\n",
       "|FOLKO|Folk och fä HB|Maria Larsson|Owner|Åkergatan 24|Bräcke|Northern Europe|S-844 67|Sweden|0695-34 67 21||\n",
       "|FRANK|Frankenversand|Peter Franken|Marketing Manager|Berliner Platz 43|München|Western Europe|80805|Germany|089-0877310|089-0877451|\n",
       "|FRANR|France restauration|Carine Schmitt|Marketing Manager|54, rue Royale|Nantes|Western Europe|44000|France|40.32.21.21|40.32.21.20|\n",
       "|FRANS|Franchi S.p.A.|Paolo Accorti|Sales Representative|Via Monte Bianco 34|Torino|Southern Europe|10100|Italy|011-4988260|011-4988261|\n",
       "|FURIB|Furia Bacalhau e Frutos do Mar|Lino Rodriguez|Sales Manager|Jardim das rosas n. 32|Lisboa|Southern Europe|1675|Portugal|(1) 354-2534|(1) 354-2535|\n",
       "|GALED|Galería del gastrónomo|Eduardo Saavedra|Marketing Manager|Rambla de Cataluña, 23|Barcelona|Southern Europe|08022|Spain|(93) 203 4560|(93) 203 4561|\n",
       "|GODOS|Godos Cocina Típica|José Pedro Freyre|Sales Manager|C/ Romero, 33|Sevilla|Southern Europe|41101|Spain|(95) 555 82 82||\n",
       "|GOURL|Gourmet Lanchonetes|André Fonseca|Sales Associate|Av. Brasil, 442|Campinas|South America|04876-786|Brazil|(11) 555-9482||\n",
       "|GREAL|Great Lakes Food Market|Howard Snyder|Marketing Manager|2732 Baker Blvd.|Eugene|North America|97403|USA|(503) 555-7555||\n",
       "|GROSR|GROSELLA-Restaurante|Manuel Pereira|Owner|5ª Ave. Los Palos Grandes|Caracas|South America|1081|Venezuela|(2) 283-2951|(2) 283-3397|\n",
       "|HANAR|Hanari Carnes|Mario Pontes|Accounting Manager|Rua do Paço, 67|Rio de Janeiro|South America|05454-876|Brazil|(21) 555-0091|(21) 555-8765|\n",
       "|HILAA|HILARION-Abastos|Carlos Hernández|Sales Representative|Carrera 22 con Ave. Carlos Soublette #8-35|San Cristóbal|South America|5022|Venezuela|(5) 555-1340|(5) 555-1948|\n",
       "|HUNGC|Hungry Coyote Import Store|Yoshi Latimer|Sales Representative|City Center Plaza 516 Main St.|Elgin|North America|97827|USA|(503) 555-6874|(503) 555-2376|\n",
       "|HUNGO|Hungry Owl All-Night Grocers|Patricia McKenna|Sales Associate|8 Johnstown Road|Cork|British Isles||Ireland|2967 542|2967 3333|\n",
       "|ISLAT|Island Trading|Helen Bennett|Marketing Manager|Garden House Crowther Way|Cowes|British Isles|PO31 7PJ|UK|(198) 555-8888||\n",
       "|KOENE|Königlich Essen|Philip Cramer|Sales Associate|Maubelstr. 90|Brandenburg|Western Europe|14776|Germany|0555-09876||\n",
       "|LACOR|La corne d'abondance|Daniel Tonini|Sales Representative|67, avenue de l'Europe|Versailles|Western Europe|78000|France|30.59.84.10|30.59.85.11|\n",
       "|LAMAI|La maison d'Asie|Annette Roulet|Sales Manager|1 rue Alsace-Lorraine|Toulouse|Western Europe|31000|France|61.77.61.10|61.77.61.11|\n",
       "|LAUGB|Laughing Bacchus Wine Cellars|Yoshi Tannamuri|Marketing Assistant|1900 Oak St.|Vancouver|North America|V3F 2K1|Canada|(604) 555-3392|(604) 555-7293|\n",
       "|LAZYK|Lazy K Kountry Store|John Steel|Marketing Manager|12 Orchestra Terrace|Walla Walla|North America|99362|USA|(509) 555-7969|(509) 555-6221|\n",
       "|LEHMS|Lehmanns Marktstand|Renate Messner|Sales Representative|Magazinweg 7|Frankfurt a.M.|Western Europe|60528|Germany|069-0245984|069-0245874|\n",
       "|LETSS|Let's Stop N Shop|Jaime Yorres|Owner|87 Polk St. Suite 5|San Francisco|North America|94117|USA|(415) 555-5938||\n",
       "|LILAS|LILA-Supermercado|Carlos González|Accounting Manager|Carrera 52 con Ave. Bolívar #65-98 Llano Largo|Barquisimeto|South America|3508|Venezuela|(9) 331-6954|(9) 331-7256|\n",
       "|LINOD|LINO-Delicateses|Felipe Izquierdo|Owner|Ave. 5 de Mayo Porlamar|I. de Margarita|South America|4980|Venezuela|(8) 34-56-12|(8) 34-93-93|\n",
       "|LONEP|Lonesome Pine Restaurant|Fran Wilson|Sales Manager|89 Chiaroscuro Rd.|Portland|North America|97219|USA|(503) 555-9573|(503) 555-9646|\n",
       "|MAGAA|Magazzini Alimentari Riuniti|Giovanni Rovelli|Marketing Manager|Via Ludovico il Moro 22|Bergamo|Southern Europe|24100|Italy|035-640230|035-640231|\n",
       "|MAISD|Maison Dewey|Catherine Dewey|Sales Agent|Rue Joseph-Bens 532|Bruxelles|Western Europe|B-1180|Belgium|(02) 201 24 67|(02) 201 24 68|\n",
       "|MEREP|Mère Paillarde|Jean Fresnière|Marketing Assistant|43 rue St. Laurent|Montréal|North America|H1J 1C3|Canada|(514) 555-8054|(514) 555-8055|\n",
       "|MORGK|Morgenstern Gesundkost|Alexander Feuer|Marketing Assistant|Heerstr. 22|Leipzig|Western Europe|04179|Germany|0342-023176||\n",
       "|NORTS|North/South|Simon Crowther|Sales Associate|South House 300 Queensbridge|London|British Isles|SW7 1RZ|UK|(171) 555-7733|(171) 555-2530|\n",
       "|OCEAN|Océano Atlántico Ltda.|Yvonne Moncada|Sales Agent|Ing. Gustavo Moncada 8585 Piso 20-A|Buenos Aires|South America|1010|Argentina|(1) 135-5333|(1) 135-5535|\n",
       "|OLDWO|Old World Delicatessen|Rene Phillips|Sales Representative|2743 Bering St.|Anchorage|North America|99508|USA|(907) 555-7584|(907) 555-2880|\n",
       "|OTTIK|Ottilies Käseladen|Henriette Pfalzheim|Owner|Mehrheimerstr. 369|Köln|Western Europe|50739|Germany|0221-0644327|0221-0765721|\n",
       "|PARIS|Paris spécialités|Marie Bertrand|Owner|265, boulevard Charonne|Paris|Western Europe|75012|France|(1) 42.34.22.66|(1) 42.34.22.77|\n",
       "|PERIC|Pericles Comidas clásicas|Guillermo Fernández|Sales Representative|Calle Dr. Jorge Cash 321|México D.F.|Central America|05033|Mexico|(5) 552-3745|(5) 545-3745|\n",
       "|PICCO|Piccolo und mehr|Georg Pipps|Sales Manager|Geislweg 14|Salzburg|Western Europe|5020|Austria|6562-9722|6562-9723|\n",
       "|PRINI|Princesa Isabel Vinhos|Isabel de Castro|Sales Representative|Estrada da saúde n. 58|Lisboa|Southern Europe|1756|Portugal|(1) 356-5634||\n",
       "|QUEDE|Que Delícia|Bernardo Batista|Accounting Manager|Rua da Panificadora, 12|Rio de Janeiro|South America|02389-673|Brazil|(21) 555-4252|(21) 555-4545|\n",
       "|QUEEN|Queen Cozinha|Lúcia Carvalho|Marketing Assistant|Alameda dos Canàrios, 891|Sao Paulo|South America|05487-020|Brazil|(11) 555-1189||\n",
       "|QUICK|QUICK-Stop|Horst Kloss|Accounting Manager|Taucherstraße 10|Cunewalde|Western Europe|01307|Germany|0372-035188||\n",
       "|RANCH|Rancho grande|Sergio Gutiérrez|Sales Representative|Av. del Libertador 900|Buenos Aires|South America|1010|Argentina|(1) 123-5555|(1) 123-5556|\n",
       "|RATTC|Rattlesnake Canyon Grocery|Paula Wilson|Assistant Sales Representative|2817 Milton Dr.|Albuquerque|North America|87110|USA|(505) 555-5939|(505) 555-3620|\n",
       "|REGGC|Reggiani Caseifici|Maurizio Moroni|Sales Associate|Strada Provinciale 124|Reggio Emilia|Southern Europe|42100|Italy|0522-556721|0522-556722|\n",
       "|RICAR|Ricardo Adocicados|Janete Limeira|Assistant Sales Agent|Av. Copacabana, 267|Rio de Janeiro|South America|02389-890|Brazil|(21) 555-3412||\n",
       "|RICSU|Richter Supermarkt|Michael Holz|Sales Manager|Grenzacherweg 237|Genève|Western Europe|1203|Switzerland|0897-034214||\n",
       "|ROMEY|Romero y tomillo|Alejandra Camino|Accounting Manager|Gran Vía, 1|Madrid|Southern Europe|28001|Spain|(91) 745 6200|(91) 745 6210|\n",
       "|SANTG|Santé Gourmet|Jonas Bergulfsen|Owner|Erling Skakkes gate 78|Stavern|Scandinavia|4110|Norway|07-98 92 35|07-98 92 47|\n",
       "|SAVEA|Save-a-lot Markets|Jose Pavarotti|Sales Representative|187 Suffolk Ln.|Boise|North America|83720|USA|(208) 555-8097||\n",
       "|SEVES|Seven Seas Imports|Hari Kumar|Sales Manager|90 Wadhurst Rd.|London|British Isles|OX15 4NB|UK|(171) 555-1717|(171) 555-5646|\n",
       "|SIMOB|Simons bistro|Jytte Petersen|Owner|Vinbæltet 34|Kobenhavn|Northern Europe|1734|Denmark|31 12 34 56|31 13 35 57|\n",
       "|SPECD|Spécialités du monde|Dominique Perrier|Marketing Manager|25, rue Lauriston|Paris|Western Europe|75016|France|(1) 47.55.60.10|(1) 47.55.60.20|\n",
       "|SPLIR|Split Rail Beer & Ale|Art Braunschweiger|Sales Manager|P.O. Box 555|Lander|North America|82520|USA|(307) 555-4680|(307) 555-6525|\n",
       "|SUPRD|Suprêmes délices|Pascale Cartrain|Accounting Manager|Boulevard Tirou, 255|Charleroi|Western Europe|B-6000|Belgium|(071) 23 67 22 20|(071) 23 67 22 21|\n",
       "|THEBI|The Big Cheese|Liz Nixon|Marketing Manager|89 Jefferson Way Suite 2|Portland|North America|97201|USA|(503) 555-3612||\n",
       "|THECR|The Cracker Box|Liu Wong|Marketing Assistant|55 Grizzly Peak Rd.|Butte|North America|59801|USA|(406) 555-5834|(406) 555-8083|\n",
       "|TOMSP|Toms Spezialitäten|Karin Josephs|Marketing Manager|Luisenstr. 48|Münster|Western Europe|44087|Germany|0251-031259|0251-035695|\n",
       "|TORTU|Tortuga Restaurante|Miguel Angel Paolino|Owner|Avda. Azteca 123|México D.F.|Central America|05033|Mexico|(5) 555-2933||\n",
       "|TRADH|Tradição Hipermercados|Anabela Domingues|Sales Representative|Av. Inês de Castro, 414|Sao Paulo|South America|05634-030|Brazil|(11) 555-2167|(11) 555-2168|\n",
       "|TRAIH|Trail's Head Gourmet Provisioners|Helvetius Nagy|Sales Associate|722 DaVinci Blvd.|Kirkland|North America|98034|USA|(206) 555-8257|(206) 555-2174|\n",
       "|VAFFE|Vaffeljernet|Palle Ibsen|Sales Manager|Smagsloget 45|Århus|Northern Europe|8200|Denmark|86 21 32 43|86 22 33 44|\n",
       "|VALON|IT|Valon Hoti|IT||||||||\n",
       "|VICTE|Victuailles en stock|Mary Saveley|Sales Agent|2, rue du Commerce|Lyon|Western Europe|69004|France|78.32.54.86|78.32.54.87|\n",
       "|VINET|Vins et alcools Chevalier|Paul Henriot|Accounting Manager|59 rue de l'Abbaye|Reims|Western Europe|51100|France|26.47.15.10|26.47.15.11|\n",
       "|Val2 |IT|Val2|IT||||||||\n",
       "|WANDK|Die Wandernde Kuh|Rita Müller|Sales Representative|Adenauerallee 900|Stuttgart|Western Europe|70563|Germany|0711-020361|0711-035428|\n",
       "|WARTH|Wartian Herkku|Pirkko Koskitalo|Accounting Manager|Torikatu 38|Oulu|Scandinavia|90110|Finland|981-443655|981-443655|\n",
       "|WELLI|Wellington Importadora|Paula Parente|Sales Manager|Rua do Mercado, 12|Resende|South America|08737-363|Brazil|(14) 555-8122||\n",
       "|WHITC|White Clover Markets|Karl Jablonski|Owner|305 - 14th Ave. S. Suite 3B|Seattle|North America|98128|USA|(206) 555-4112|(206) 555-4115|\n",
       "|WILMK|Wilman Kala|Matti Karttunen|Owner/Marketing Assistant|Keskuskatu 45|Helsinki|Scandinavia|21240|Finland|90-224 8858|90-224 8858|\n",
       "|WOLZA|Wolski  Zajazd|Zbyszek Piestrzeniewicz|Owner|ul. Filtrowa 68|Warszawa|Eastern Europe|01-012|Poland|(26) 642-7012|(26) 642-7012|"
      ],
      "text/plain": [
       "<IPython.core.display.Markdown object>"
      ]
     },
     "metadata": {},
     "output_type": "display_data"
    }
   ],
   "source": [
    "# IN (SELECT)\n",
    "execute_and_show(cur,\n",
    "                 '''\n",
    "                 SELECT * FROM Customers\n",
    "                 WHERE CustomerID IN (SELECT CustomerID FROM Orders);\n",
    "                 ''')"
   ]
  },
  {
   "cell_type": "code",
   "execution_count": 97,
   "metadata": {},
   "outputs": [
    {
     "data": {
      "text/markdown": [
       "|CustomerID|CompanyName|ContactName|ContactTitle|Address|City|Region|PostalCode|Country|Phone|Fax|\n",
       "|-|-|-|-|-|-|-|-|-|-|-|"
      ],
      "text/plain": [
       "<IPython.core.display.Markdown object>"
      ]
     },
     "metadata": {},
     "output_type": "display_data"
    }
   ],
   "source": [
    "# NOT IN (SELECT)\n",
    "execute_and_show(cur,\n",
    "                 '''\n",
    "                 SELECT * FROM Customers\n",
    "                 WHERE CustomerID NOT IN (SELECT CustomerID FROM Orders);\n",
    "                 ''')"
   ]
  },
  {
   "cell_type": "markdown",
   "metadata": {},
   "source": [
    "# SQL BETWEEN"
   ]
  },
  {
   "cell_type": "code",
   "execution_count": 98,
   "metadata": {},
   "outputs": [
    {
     "data": {
      "text/markdown": [
       "|ProductID|ProductName|SupplierID|CategoryID|QuantityPerUnit|UnitPrice|UnitsInStock|UnitsOnOrder|ReorderLevel|Discontinued|\n",
       "|-|-|-|-|-|-|-|-|-|-|\n",
       "|1|Chai|1|1|10 boxes x 20 bags|18|39|0|10|0|\n",
       "|2|Chang|1|1|24 - 12 oz bottles|19|17|40|25|0|\n",
       "|3|Aniseed Syrup|1|2|12 - 550 ml bottles|10|13|70|25|0|\n",
       "|15|Genen Shouyu|6|2|24 - 250 ml bottles|15.5|39|0|5|0|\n",
       "|16|Pavlova|7|3|32 - 500 g boxes|17.45|29|0|10|0|\n",
       "|21|Sir Rodney's Scones|8|3|24 pkgs. x 4 pieces|10|3|40|5|0|\n",
       "|25|NuNuCa Nuß-Nougat-Creme|11|3|20 - 450 g glasses|14|76|0|30|0|\n",
       "|31|Gorgonzola Telino|14|4|12 - 100 g pkgs|12.5|0|70|20|0|\n",
       "|34|Sasquatch Ale|16|1|24 - 12 oz bottles|14|111|0|15|0|\n",
       "|35|Steeleye Stout|16|1|24 - 12 oz bottles|18|20|0|15|0|\n",
       "|36|Inlagd Sill|17|8|24 - 250 g  jars|19|112|0|20|0|\n",
       "|39|Chartreuse verte|18|1|750 cc per bottle|18|69|0|5|0|\n",
       "|40|Boston Crab Meat|19|8|24 - 4 oz tins|18.4|123|0|30|0|\n",
       "|42|Singaporean Hokkien Fried Mee|20|5|32 - 1 kg pkgs.|14|26|0|0|1|\n",
       "|44|Gula Malacca|20|2|20 - 2 kg bags|19.45|27|0|15|0|\n",
       "|46|Spegesild|21|8|4 - 450 g glasses|12|95|0|0|0|\n",
       "|48|Chocolade|22|3|10 pkgs.|12.75|15|70|25|0|\n",
       "|49|Maxilaku|23|3|24 - 50 g pkgs.|20|10|60|15|0|\n",
       "|50|Valkoinen suklaa|23|3|12 - 100 g bars|16.25|65|0|30|0|\n",
       "|57|Ravioli Angelo|26|5|24 - 250 g pkgs.|19.5|36|0|20|0|\n",
       "|58|Escargots de Bourgogne|27|8|24 pieces|13.25|62|0|20|0|\n",
       "|66|Louisiana Hot Spiced Okra|2|2|24 - 8 oz jars|17|4|100|20|0|\n",
       "|67|Laughing Lumberjack Lager|16|1|24 - 12 oz bottles|14|52|0|10|0|\n",
       "|68|Scottish Longbreads|8|3|10 boxes x 8 pieces|12.5|6|10|15|0|\n",
       "|70|Outback Lager|7|1|24 - 355 ml bottles|15|15|10|30|0|\n",
       "|73|Röd Kaviar|17|8|24 - 150 g jars|15|101|0|5|0|\n",
       "|74|Longlife Tofu|4|7|5 kg pkg.|10|4|20|5|0|\n",
       "|76|Lakkalikööri|23|1|500 ml|18|57|0|20|0|\n",
       "|77|Original Frankfurter grüne Soße|12|2|12 boxes|13|32|0|15|0|"
      ],
      "text/plain": [
       "<IPython.core.display.Markdown object>"
      ]
     },
     "metadata": {},
     "output_type": "display_data"
    }
   ],
   "source": [
    "execute_and_show(cur,\n",
    "                 '''\n",
    "                 SELECT * FROM Products\n",
    "                 WHERE UnitPrice BETWEEN 10 AND 20;\n",
    "                 ''')"
   ]
  },
  {
   "cell_type": "code",
   "execution_count": 99,
   "metadata": {},
   "outputs": [
    {
     "data": {
      "text/markdown": [
       "|ProductID|ProductName|SupplierID|CategoryID|QuantityPerUnit|UnitPrice|UnitsInStock|UnitsOnOrder|ReorderLevel|Discontinued|\n",
       "|-|-|-|-|-|-|-|-|-|-|\n",
       "|4|Chef Anton's Cajun Seasoning|2|2|48 - 6 oz jars|22|53|0|0|0|\n",
       "|5|Chef Anton's Gumbo Mix|2|2|36 boxes|21.35|0|0|0|1|\n",
       "|6|Grandma's Boysenberry Spread|3|2|12 - 8 oz jars|25|120|0|25|0|\n",
       "|7|Uncle Bob's Organic Dried Pears|3|7|12 - 1 lb pkgs.|30|15|0|10|0|\n",
       "|8|Northwoods Cranberry Sauce|3|2|12 - 12 oz jars|40|6|0|0|0|\n",
       "|9|Mishi Kobe Niku|4|6|18 - 500 g pkgs.|97|29|0|0|1|\n",
       "|10|Ikura|4|8|12 - 200 ml jars|31|31|0|0|0|\n",
       "|11|Queso Cabrales|5|4|1 kg pkg.|21|22|30|30|0|\n",
       "|12|Queso Manchego La Pastora|5|4|10 - 500 g pkgs.|38|86|0|0|0|\n",
       "|13|Konbu|6|8|2 kg box|6|24|0|5|0|\n",
       "|14|Tofu|6|7|40 - 100 g pkgs.|23.25|35|0|0|0|\n",
       "|17|Alice Mutton|7|6|20 - 1 kg tins|39|0|0|0|1|\n",
       "|18|Carnarvon Tigers|7|8|16 kg pkg.|62.5|42|0|0|0|\n",
       "|19|Teatime Chocolate Biscuits|8|3|10 boxes x 12 pieces|9.2|25|0|5|0|\n",
       "|20|Sir Rodney's Marmalade|8|3|30 gift boxes|81|40|0|0|0|\n",
       "|22|Gustaf's Knäckebröd|9|5|24 - 500 g pkgs.|21|104|0|25|0|\n",
       "|23|Tunnbröd|9|5|12 - 250 g pkgs.|9|61|0|25|0|\n",
       "|24|Guaraná Fantástica|10|1|12 - 355 ml cans|4.5|20|0|0|1|\n",
       "|26|Gumbär Gummibärchen|11|3|100 - 250 g bags|31.23|15|0|0|0|\n",
       "|27|Schoggi Schokolade|11|3|100 - 100 g pieces|43.9|49|0|30|0|\n",
       "|28|Rössle Sauerkraut|12|7|25 - 825 g cans|45.6|26|0|0|1|\n",
       "|29|Thüringer Rostbratwurst|12|6|50 bags x 30 sausgs.|123.79|0|0|0|1|\n",
       "|30|Nord-Ost Matjeshering|13|8|10 - 200 g glasses|25.89|10|0|15|0|\n",
       "|32|Mascarpone Fabioli|14|4|24 - 200 g pkgs.|32|9|40|25|0|\n",
       "|33|Geitost|15|4|500 g|2.5|112|0|20|0|\n",
       "|37|Gravad lax|17|8|12 - 500 g pkgs.|26|11|50|25|0|\n",
       "|38|Côte de Blaye|18|1|12 - 75 cl bottles|263.5|17|0|15|0|\n",
       "|41|Jack's New England Clam Chowder|19|8|12 - 12 oz cans|9.65|85|0|10|0|\n",
       "|43|Ipoh Coffee|20|1|16 - 500 g tins|46|17|10|25|0|\n",
       "|45|Rogede sild|21|8|1k pkg.|9.5|5|70|15|0|\n",
       "|47|Zaanse koeken|22|3|10 - 4 oz boxes|9.5|36|0|0|0|\n",
       "|51|Manjimup Dried Apples|24|7|50 - 300 g pkgs.|53|20|0|10|0|\n",
       "|52|Filo Mix|24|5|16 - 2 kg boxes|7|38|0|25|0|\n",
       "|53|Perth Pasties|24|6|48 pieces|32.8|0|0|0|1|\n",
       "|54|Tourtière|25|6|16 pies|7.45|21|0|10|0|\n",
       "|55|Pâté chinois|25|6|24 boxes x 2 pies|24|115|0|20|0|\n",
       "|56|Gnocchi di nonna Alice|26|5|24 - 250 g pkgs.|38|21|10|30|0|\n",
       "|59|Raclette Courdavault|28|4|5 kg pkg.|55|79|0|0|0|\n",
       "|60|Camembert Pierrot|28|4|15 - 300 g rounds|34|19|0|0|0|\n",
       "|61|Sirop d'érable|29|2|24 - 500 ml bottles|28.5|113|0|25|0|\n",
       "|62|Tarte au sucre|29|3|48 pies|49.3|17|0|0|0|\n",
       "|63|Vegie-spread|7|2|15 - 625 g jars|43.9|24|0|5|0|\n",
       "|64|Wimmers gute Semmelknödel|12|5|20 bags x 4 pieces|33.25|22|80|30|0|\n",
       "|65|Louisiana Fiery Hot Pepper Sauce|2|2|32 - 8 oz bottles|21.05|76|0|0|0|\n",
       "|69|Gudbrandsdalsost|15|4|10 kg pkg.|36|26|0|15|0|\n",
       "|71|Flotemysost|15|4|10 - 500 g pkgs.|21.5|26|0|0|0|\n",
       "|72|Mozzarella di Giovanni|14|4|24 - 200 g pkgs.|34.8|14|0|0|0|\n",
       "|75|Rhönbräu Klosterbier|12|1|24 - 0.5 l bottles|7.75|125|0|25|0|"
      ],
      "text/plain": [
       "<IPython.core.display.Markdown object>"
      ]
     },
     "metadata": {},
     "output_type": "display_data"
    }
   ],
   "source": [
    "# NOT BETWEEN\n",
    "execute_and_show(cur,\n",
    "                 '''\n",
    "                 SELECT * FROM Products\n",
    "                 WHERE UnitPrice NOT BETWEEN 10 AND 20;\n",
    "                 ''')"
   ]
  },
  {
   "cell_type": "code",
   "execution_count": 100,
   "metadata": {},
   "outputs": [
    {
     "data": {
      "text/markdown": [
       "|ProductID|ProductName|SupplierID|CategoryID|QuantityPerUnit|UnitPrice|UnitsInStock|UnitsOnOrder|ReorderLevel|Discontinued|\n",
       "|-|-|-|-|-|-|-|-|-|-|\n",
       "|1|Chai|1|1|10 boxes x 20 bags|18|39|0|10|0|\n",
       "|2|Chang|1|1|24 - 12 oz bottles|19|17|40|25|0|\n",
       "|3|Aniseed Syrup|1|2|12 - 550 ml bottles|10|13|70|25|0|\n",
       "|15|Genen Shouyu|6|2|24 - 250 ml bottles|15.5|39|0|5|0|\n",
       "|16|Pavlova|7|3|32 - 500 g boxes|17.45|29|0|10|0|\n",
       "|21|Sir Rodney's Scones|8|3|24 pkgs. x 4 pieces|10|3|40|5|0|\n",
       "|25|NuNuCa Nuß-Nougat-Creme|11|3|20 - 450 g glasses|14|76|0|30|0|\n",
       "|34|Sasquatch Ale|16|1|24 - 12 oz bottles|14|111|0|15|0|\n",
       "|35|Steeleye Stout|16|1|24 - 12 oz bottles|18|20|0|15|0|\n",
       "|39|Chartreuse verte|18|1|750 cc per bottle|18|69|0|5|0|\n",
       "|44|Gula Malacca|20|2|20 - 2 kg bags|19.45|27|0|15|0|\n",
       "|48|Chocolade|22|3|10 pkgs.|12.75|15|70|25|0|\n",
       "|49|Maxilaku|23|3|24 - 50 g pkgs.|20|10|60|15|0|\n",
       "|50|Valkoinen suklaa|23|3|12 - 100 g bars|16.25|65|0|30|0|\n",
       "|66|Louisiana Hot Spiced Okra|2|2|24 - 8 oz jars|17|4|100|20|0|\n",
       "|67|Laughing Lumberjack Lager|16|1|24 - 12 oz bottles|14|52|0|10|0|\n",
       "|68|Scottish Longbreads|8|3|10 boxes x 8 pieces|12.5|6|10|15|0|\n",
       "|70|Outback Lager|7|1|24 - 355 ml bottles|15|15|10|30|0|\n",
       "|76|Lakkalikööri|23|1|500 ml|18|57|0|20|0|\n",
       "|77|Original Frankfurter grüne Soße|12|2|12 boxes|13|32|0|15|0|"
      ],
      "text/plain": [
       "<IPython.core.display.Markdown object>"
      ]
     },
     "metadata": {},
     "output_type": "display_data"
    }
   ],
   "source": [
    "# BETWEEN with IN\n",
    "execute_and_show(cur,\n",
    "                 '''\n",
    "                 SELECT * FROM Products\n",
    "                 WHERE UnitPrice BETWEEN 10 AND 20\n",
    "                 AND CategoryID IN (1, 2, 3);\n",
    "                 ''')"
   ]
  },
  {
   "cell_type": "code",
   "execution_count": 101,
   "metadata": {},
   "outputs": [
    {
     "data": {
      "text/markdown": [
       "|ProductID|ProductName|SupplierID|CategoryID|QuantityPerUnit|UnitPrice|UnitsInStock|UnitsOnOrder|ReorderLevel|Discontinued|\n",
       "|-|-|-|-|-|-|-|-|-|-|\n",
       "|18|Carnarvon Tigers|7|8|16 kg pkg.|62.5|42|0|0|0|\n",
       "|1|Chai|1|1|10 boxes x 20 bags|18|39|0|10|0|\n",
       "|2|Chang|1|1|24 - 12 oz bottles|19|17|40|25|0|\n",
       "|39|Chartreuse verte|18|1|750 cc per bottle|18|69|0|5|0|\n",
       "|4|Chef Anton's Cajun Seasoning|2|2|48 - 6 oz jars|22|53|0|0|0|\n",
       "|5|Chef Anton's Gumbo Mix|2|2|36 boxes|21.35|0|0|0|1|\n",
       "|48|Chocolade|22|3|10 pkgs.|12.75|15|70|25|0|\n",
       "|38|Côte de Blaye|18|1|12 - 75 cl bottles|263.5|17|0|15|0|\n",
       "|58|Escargots de Bourgogne|27|8|24 pieces|13.25|62|0|20|0|\n",
       "|52|Filo Mix|24|5|16 - 2 kg boxes|7|38|0|25|0|\n",
       "|71|Flotemysost|15|4|10 - 500 g pkgs.|21.5|26|0|0|0|\n",
       "|33|Geitost|15|4|500 g|2.5|112|0|20|0|\n",
       "|15|Genen Shouyu|6|2|24 - 250 ml bottles|15.5|39|0|5|0|\n",
       "|56|Gnocchi di nonna Alice|26|5|24 - 250 g pkgs.|38|21|10|30|0|\n",
       "|31|Gorgonzola Telino|14|4|12 - 100 g pkgs|12.5|0|70|20|0|\n",
       "|6|Grandma's Boysenberry Spread|3|2|12 - 8 oz jars|25|120|0|25|0|\n",
       "|37|Gravad lax|17|8|12 - 500 g pkgs.|26|11|50|25|0|\n",
       "|24|Guaraná Fantástica|10|1|12 - 355 ml cans|4.5|20|0|0|1|\n",
       "|69|Gudbrandsdalsost|15|4|10 kg pkg.|36|26|0|15|0|\n",
       "|44|Gula Malacca|20|2|20 - 2 kg bags|19.45|27|0|15|0|\n",
       "|26|Gumbär Gummibärchen|11|3|100 - 250 g bags|31.23|15|0|0|0|\n",
       "|22|Gustaf's Knäckebröd|9|5|24 - 500 g pkgs.|21|104|0|25|0|\n",
       "|10|Ikura|4|8|12 - 200 ml jars|31|31|0|0|0|\n",
       "|36|Inlagd Sill|17|8|24 - 250 g  jars|19|112|0|20|0|\n",
       "|43|Ipoh Coffee|20|1|16 - 500 g tins|46|17|10|25|0|\n",
       "|41|Jack's New England Clam Chowder|19|8|12 - 12 oz cans|9.65|85|0|10|0|\n",
       "|13|Konbu|6|8|2 kg box|6|24|0|5|0|\n",
       "|76|Lakkalikööri|23|1|500 ml|18|57|0|20|0|\n",
       "|67|Laughing Lumberjack Lager|16|1|24 - 12 oz bottles|14|52|0|10|0|\n",
       "|74|Longlife Tofu|4|7|5 kg pkg.|10|4|20|5|0|\n",
       "|65|Louisiana Fiery Hot Pepper Sauce|2|2|32 - 8 oz bottles|21.05|76|0|0|0|\n",
       "|66|Louisiana Hot Spiced Okra|2|2|24 - 8 oz jars|17|4|100|20|0|\n",
       "|51|Manjimup Dried Apples|24|7|50 - 300 g pkgs.|53|20|0|10|0|\n",
       "|32|Mascarpone Fabioli|14|4|24 - 200 g pkgs.|32|9|40|25|0|\n",
       "|49|Maxilaku|23|3|24 - 50 g pkgs.|20|10|60|15|0|\n",
       "|9|Mishi Kobe Niku|4|6|18 - 500 g pkgs.|97|29|0|0|1|\n",
       "|72|Mozzarella di Giovanni|14|4|24 - 200 g pkgs.|34.8|14|0|0|0|"
      ],
      "text/plain": [
       "<IPython.core.display.Markdown object>"
      ]
     },
     "metadata": {},
     "output_type": "display_data"
    }
   ],
   "source": [
    "# BETWEEN text values (alphabetical order)\n",
    "execute_and_show(cur,\n",
    "                 '''\n",
    "                 SELECT * FROM Products\n",
    "                 WHERE ProductName BETWEEN 'Carnarvon Tigers' AND 'Mozzarella di Giovanni'\n",
    "                 ORDER BY ProductName;\n",
    "                 ''')"
   ]
  },
  {
   "cell_type": "code",
   "execution_count": 102,
   "metadata": {},
   "outputs": [
    {
     "data": {
      "text/markdown": [
       "|ProductID|ProductName|SupplierID|CategoryID|QuantityPerUnit|UnitPrice|UnitsInStock|UnitsOnOrder|ReorderLevel|Discontinued|\n",
       "|-|-|-|-|-|-|-|-|-|-|\n",
       "|18|Carnarvon Tigers|7|8|16 kg pkg.|62.5|42|0|0|0|\n",
       "|1|Chai|1|1|10 boxes x 20 bags|18|39|0|10|0|\n",
       "|2|Chang|1|1|24 - 12 oz bottles|19|17|40|25|0|\n",
       "|39|Chartreuse verte|18|1|750 cc per bottle|18|69|0|5|0|\n",
       "|4|Chef Anton's Cajun Seasoning|2|2|48 - 6 oz jars|22|53|0|0|0|"
      ],
      "text/plain": [
       "<IPython.core.display.Markdown object>"
      ]
     },
     "metadata": {},
     "output_type": "display_data"
    }
   ],
   "source": [
    "execute_and_show(cur,\n",
    "                 '''\n",
    "                 SELECT * FROM Products\n",
    "                 WHERE ProductName BETWEEN \"Carnarvon Tigers\" AND \"Chef Anton's Cajun Seasoning\"\n",
    "                 ORDER BY ProductName;\n",
    "                 ''')"
   ]
  },
  {
   "cell_type": "code",
   "execution_count": 103,
   "metadata": {},
   "outputs": [
    {
     "data": {
      "text/markdown": [
       "|ProductID|ProductName|SupplierID|CategoryID|QuantityPerUnit|UnitPrice|UnitsInStock|UnitsOnOrder|ReorderLevel|Discontinued|\n",
       "|-|-|-|-|-|-|-|-|-|-|\n",
       "|17|Alice Mutton|7|6|20 - 1 kg tins|39|0|0|0|1|\n",
       "|3|Aniseed Syrup|1|2|12 - 550 ml bottles|10|13|70|25|0|\n",
       "|40|Boston Crab Meat|19|8|24 - 4 oz tins|18.4|123|0|30|0|\n",
       "|60|Camembert Pierrot|28|4|15 - 300 g rounds|34|19|0|0|0|\n",
       "|30|Nord-Ost Matjeshering|13|8|10 - 200 g glasses|25.89|10|0|15|0|\n",
       "|8|Northwoods Cranberry Sauce|3|2|12 - 12 oz jars|40|6|0|0|0|\n",
       "|25|NuNuCa Nuß-Nougat-Creme|11|3|20 - 450 g glasses|14|76|0|30|0|\n",
       "|77|Original Frankfurter grüne Soße|12|2|12 boxes|13|32|0|15|0|\n",
       "|70|Outback Lager|7|1|24 - 355 ml bottles|15|15|10|30|0|\n",
       "|16|Pavlova|7|3|32 - 500 g boxes|17.45|29|0|10|0|\n",
       "|53|Perth Pasties|24|6|48 pieces|32.8|0|0|0|1|\n",
       "|55|Pâté chinois|25|6|24 boxes x 2 pies|24|115|0|20|0|\n",
       "|11|Queso Cabrales|5|4|1 kg pkg.|21|22|30|30|0|\n",
       "|12|Queso Manchego La Pastora|5|4|10 - 500 g pkgs.|38|86|0|0|0|\n",
       "|59|Raclette Courdavault|28|4|5 kg pkg.|55|79|0|0|0|\n",
       "|57|Ravioli Angelo|26|5|24 - 250 g pkgs.|19.5|36|0|20|0|\n",
       "|75|Rhönbräu Klosterbier|12|1|24 - 0.5 l bottles|7.75|125|0|25|0|\n",
       "|45|Rogede sild|21|8|1k pkg.|9.5|5|70|15|0|\n",
       "|73|Röd Kaviar|17|8|24 - 150 g jars|15|101|0|5|0|\n",
       "|28|Rössle Sauerkraut|12|7|25 - 825 g cans|45.6|26|0|0|1|\n",
       "|34|Sasquatch Ale|16|1|24 - 12 oz bottles|14|111|0|15|0|\n",
       "|27|Schoggi Schokolade|11|3|100 - 100 g pieces|43.9|49|0|30|0|\n",
       "|68|Scottish Longbreads|8|3|10 boxes x 8 pieces|12.5|6|10|15|0|\n",
       "|42|Singaporean Hokkien Fried Mee|20|5|32 - 1 kg pkgs.|14|26|0|0|1|\n",
       "|20|Sir Rodney's Marmalade|8|3|30 gift boxes|81|40|0|0|0|\n",
       "|21|Sir Rodney's Scones|8|3|24 pkgs. x 4 pieces|10|3|40|5|0|\n",
       "|61|Sirop d'érable|29|2|24 - 500 ml bottles|28.5|113|0|25|0|\n",
       "|46|Spegesild|21|8|4 - 450 g glasses|12|95|0|0|0|\n",
       "|35|Steeleye Stout|16|1|24 - 12 oz bottles|18|20|0|15|0|\n",
       "|62|Tarte au sucre|29|3|48 pies|49.3|17|0|0|0|\n",
       "|19|Teatime Chocolate Biscuits|8|3|10 boxes x 12 pieces|9.2|25|0|5|0|\n",
       "|29|Thüringer Rostbratwurst|12|6|50 bags x 30 sausgs.|123.79|0|0|0|1|\n",
       "|14|Tofu|6|7|40 - 100 g pkgs.|23.25|35|0|0|0|\n",
       "|54|Tourtière|25|6|16 pies|7.45|21|0|10|0|\n",
       "|23|Tunnbröd|9|5|12 - 250 g pkgs.|9|61|0|25|0|\n",
       "|7|Uncle Bob's Organic Dried Pears|3|7|12 - 1 lb pkgs.|30|15|0|10|0|\n",
       "|50|Valkoinen suklaa|23|3|12 - 100 g bars|16.25|65|0|30|0|\n",
       "|63|Vegie-spread|7|2|15 - 625 g jars|43.9|24|0|5|0|\n",
       "|64|Wimmers gute Semmelknödel|12|5|20 bags x 4 pieces|33.25|22|80|30|0|\n",
       "|47|Zaanse koeken|22|3|10 - 4 oz boxes|9.5|36|0|0|0|"
      ],
      "text/plain": [
       "<IPython.core.display.Markdown object>"
      ]
     },
     "metadata": {},
     "output_type": "display_data"
    }
   ],
   "source": [
    "# NOT BETWEEN text values\n",
    "execute_and_show(cur,\n",
    "                 '''\n",
    "                 SELECT * FROM Products\n",
    "                 WHERE ProductName NOT BETWEEN 'Carnarvon Tigers' AND 'Mozzarella di Giovanni'\n",
    "                 ORDER BY ProductName;\n",
    "                 ''')"
   ]
  },
  {
   "cell_type": "code",
   "execution_count": 104,
   "metadata": {},
   "outputs": [
    {
     "data": {
      "text/markdown": [
       "|OrderID|CustomerID|EmployeeID|OrderDate|RequiredDate|ShippedDate|ShipVia|Freight|ShipName|ShipAddress|ShipCity|ShipRegion|ShipPostalCode|ShipCountry|\n",
       "|-|-|-|-|-|-|-|-|-|-|-|-|-|-|\n",
       "|10248|VINET|5|2016-07-04|2016-08-01|2016-07-16|3|16.75|Vins et alcools Chevalier|59 rue de l-Abbaye|Reims|Western Europe|51100|France|\n",
       "|10249|TOMSP|6|2016-07-05|2016-08-16|2016-07-10|1|22.25|Toms Spezialitäten|Luisenstr. 48|Münster|Western Europe|44087|Germany|\n",
       "|10250|HANAR|4|2016-07-08|2016-08-05|2016-07-12|2|25|Hanari Carnes|Rua do Paço, 67|Rio de Janeiro|South America|05454-876|Brazil|\n",
       "|10251|VICTE|3|2016-07-08|2016-08-05|2016-07-15|1|20.25|Victuailles en stock|2, rue du Commerce|Lyon|Western Europe|69004|France|\n",
       "|10252|SUPRD|4|2016-07-09|2016-08-06|2016-07-11|2|36.25|Suprêmes délices|Boulevard Tirou, 255|Charleroi|Western Europe|B-6000|Belgium|\n",
       "|10253|HANAR|3|2016-07-10|2016-07-24|2016-07-16|2|35.5|Hanari Carnes|Rua do Paço, 67|Rio de Janeiro|South America|05454-876|Brazil|\n",
       "|10254|CHOPS|5|2016-07-11|2016-08-08|2016-07-23|2|24.25|Chop-suey Chinese|Hauptstr. 31|Bern|Western Europe|3012|Switzerland|\n",
       "|10255|RICSU|9|2016-07-12|2016-08-09|2016-07-15|3|37.5|Richter Supermarkt|Starenweg 5|Genève|Western Europe|1204|Switzerland|\n",
       "|10256|WELLI|3|2016-07-15|2016-08-12|2016-07-17|2|16.75|Wellington Importadora|Rua do Mercado, 12|Resende|South America|08737-363|Brazil|\n",
       "|10257|HILAA|4|2016-07-16|2016-08-13|2016-07-22|3|21.5|HILARION-Abastos|Carrera 22 con Ave. Carlos Soublette #8-35|San Cristóbal|South America|5022|Venezuela|\n",
       "|10258|ERNSH|1|2016-07-17|2016-08-14|2016-07-23|1|40.25|Ernst Handel|Kirchgasse 6|Graz|Western Europe|8010|Austria|\n",
       "|10259|CENTC|4|2016-07-18|2016-08-15|2016-07-25|3|12.75|Centro comercial Moctezuma|Sierras de Granada 9993|México D.F.|Central America|5022|Mexico|\n",
       "|10260|OTTIK|4|2016-07-19|2016-08-16|2016-07-29|1|35.5|Ottilies Käseladen|Mehrheimerstr. 369|Köln|Western Europe|50739|Germany|\n",
       "|10261|QUEDE|4|2016-07-19|2016-08-16|2016-07-30|2|20|Que Delícia|Rua da Panificadora, 12|Rio de Janeiro|South America|02389-673|Brazil|\n",
       "|10262|RATTC|8|2016-07-22|2016-08-19|2016-07-25|3|17.25|Rattlesnake Canyon Grocery|2817 Milton Dr.|Albuquerque|North America|87110|USA|\n",
       "|10263|ERNSH|9|2016-07-23|2016-08-20|2016-07-31|3|56|Ernst Handel|Kirchgasse 6|Graz|Western Europe|8010|Austria|\n",
       "|10264|FOLKO|6|2016-07-24|2016-08-21|2016-08-23|3|25|Folk och fä HB|Åkergatan 24|Bräcke|Northern Europe|S-844 67|Sweden|\n",
       "|10265|BLONP|2|2016-07-25|2016-08-22|2016-08-12|1|22.5|Blondel père et fils|24, place Kléber|Strasbourg|Western Europe|67000|France|\n",
       "|10266|WARTH|3|2016-07-26|2016-09-06|2016-07-31|3|13|Wartian Herkku|Torikatu 38|Oulu|Scandinavia|90110|Finland|\n",
       "|10267|FRANK|4|2016-07-29|2016-08-26|2016-08-06|1|43.75|Frankenversand|Berliner Platz 43|München|Western Europe|80805|Germany|\n",
       "|10268|GROSR|8|2016-07-30|2016-08-27|2016-08-02|3|13.5|GROSELLA-Restaurante|5ª Ave. Los Palos Grandes|Caracas|South America|1081|Venezuela|\n",
       "|10269|WHITC|5|2016-07-31|2016-08-14|2016-08-09|1|30|White Clover Markets|1029 - 12th Ave. S.|Seattle|North America|98124|USA|\n",
       "|11237|FISSA|4|2016-07-20 10:25:10|2016-08-24 19:56:00|2016-07-25 05:03:12|1|444.75|Bólido Comidas preparadas|C/ Araquil, 67|Madrid|Southern Europe|28023|Spain|\n",
       "|11417|PARIS|8|2016-07-15 18:51:36|2016-07-22 01:39:00|2016-07-26 12:08:15|2|436.5|LILA-Supermercado|Carrera 52 con Ave. Bolívar #65-98 Llano Largo|Barquisimeto|South America|3508|Venezuela|\n",
       "|11593|KOENE|1|2016-07-08 18:58:01|2016-08-02 17:17:24|2016-07-26 21:26:35|2|439.5|Furia Bacalhau e Frutos do Mar|Jardim das rosas n. 32|Lisboa|Southern Europe|1675|Portugal|\n",
       "|11604|BOTTM|3|2016-07-20 20:18:51|2016-08-08 01:09:50|2016-07-29 17:06:21|1|416|Lazy K Kountry Store|12 Orchestra Terrace|Walla Walla|North America|99362|USA|\n",
       "|11674|LONEP|4|2016-07-09 14:37:23|2016-07-21 18:30:48|2016-07-14 08:37:47|3|351.75|Laughing Bacchus Wine Cellars|2319 Elm St.|Vancouver|North America|V3F 2K1|Canada|\n",
       "|11696|LAUGB|3|2016-07-10 07:47:32|2016-07-13 11:23:15|2016-07-15 00:14:34|3|487.75|Ana Trujillo Emparedados y helados|Avda. de la Constitución 2222|México D.F.|Central America|5021|Mexico|\n",
       "|12455|LAMAI|3|2016-07-08 18:21:34|2016-07-17 19:39:10|2016-07-09 12:30:41|2|250.25|GROSELLA-Restaurante|5ª Ave. Los Palos Grandes|Caracas|South America|1081|Venezuela|\n",
       "|12552|LACOR|1|2016-07-10 15:07:21|2016-08-02 13:08:37|2016-07-28 15:06:29|3|36.75|Folk och fä HB|Åkergatan 24|Bräcke|Northern Europe|S-844 67|Sweden|\n",
       "|12569|LEHMS|2|2016-07-21 07:50:21|2016-07-28 07:24:21|2016-07-28 10:04:20|3|135.75|Vins et alcools Chevalier|59 rue de l-Abbaye|Reims|Western Europe|51100|France|\n",
       "|12616|LAMAI|6|2016-07-06 20:03:34|2016-07-08 15:00:42|2016-07-15 17:02:43|2|336|Godos Cocina Típica|C/ Romero, 33|Sevilla|Southern Europe|41101|Spain|\n",
       "|12622|GROSR|7|2016-07-30 23:51:45|2016-08-25 05:51:21|2016-08-16 05:03:12|3|50.5|Hungry Coyote Import Store|City Center Plaza 516 Main St.|Elgin|North America|97827|USA|\n",
       "|12790|QUEEN|2|2016-07-30 11:02:06|2016-09-20 11:51:15|2016-08-07 22:41:46|2|130.75|Vaffeljernet|Smagsloget 45|Århus|Northern Europe|8200|Denmark|\n",
       "|12949|GALED|8|2016-07-28 15:38:23|2016-09-14 02:14:26|2016-07-29 12:00:46|1|373.5|Laughing Bacchus Wine Cellars|2319 Elm St.|Vancouver|North America|V3F 2K1|Canada|\n",
       "|12971|GROSR|4|2016-07-20 19:37:43|2016-08-01 23:38:03|2016-08-14 19:17:41|1|493|Lehmanns Marktstand|Magazinweg 7|Frankfurt a.M.|Western Europe|60528|Germany|\n",
       "|13109|CENTC|5|2016-07-20 12:25:47|2016-08-20 20:53:53|2016-07-20 20:14:37|2|295.5|Familia Arquibaldo|Rua Orós, 92|Sao Paulo|South America|05442-030|Brazil|\n",
       "|13218|RANCH|5|2016-07-17 01:18:05|2016-08-03 22:54:56|2016-07-19 07:38:55|3|181.5|Queen Cozinha|Alameda dos Canàrios, 891|Sao Paulo|South America|05487-020|Brazil|\n",
       "|13923|OCEAN|7|2016-07-16 02:38:14|2016-07-27 12:04:14|2016-07-17 18:24:40|2|81.75|Godos Cocina Típica|C/ Romero, 33|Sevilla|Southern Europe|41101|Spain|\n",
       "|14010|DUMON|4|2016-07-21 21:06:12|2016-08-19 07:31:54|2016-07-24 03:35:00|2|202.5|Princesa Isabel Vinhos|Estrada da saúde n. 58|Lisboa|Southern Europe|1756|Portugal|\n",
       "|14073|QUEDE|7|2016-07-30 13:38:54|2016-09-03 18:52:36|2016-08-11 17:28:44|1|430.5|Wellington Importadora|Rua do Mercado, 12|Resende|South America|08737-363|Brazil|\n",
       "|14121|BONAP|7|2016-07-04 13:56:04|2016-07-07 17:24:34|2016-07-13 00:34:33|2|204.25|Bólido Comidas preparadas|C/ Araquil, 67|Madrid|Southern Europe|28023|Spain|\n",
       "|14173|TRADH|2|2016-07-23 06:14:53|2016-08-16 11:08:37|2016-07-29 10:16:31|2|441.5|Bólido Comidas preparadas|C/ Araquil, 67|Madrid|Southern Europe|28023|Spain|\n",
       "|14209|SPLIR|9|2016-07-15 06:54:12|2016-08-09 12:24:29|2016-07-21 00:11:21|1|287.5|Eastern Connection|35 King George|London|British Isles|WX3 6FW|UK|\n",
       "|14221|RANCH|7|2016-07-28 19:32:57|2016-08-24 19:59:53|2016-08-02 02:37:48|3|187|Franchi S.p.A.|Via Monte Bianco 34|Torino|Southern Europe|10100|Italy|\n",
       "|14397|QUICK|1|2016-07-03 16:05:57|2016-07-10 00:40:52|2016-07-12 08:32:42|2|102.75|Cactus Comidas para llevar|Cerrito 333|Buenos Aires|South America|1010|Argentina|\n",
       "|14821|HUNGO|6|2016-07-06 02:04:32|2016-07-06 08:46:20|2016-07-07 13:19:37|1|446.25|Eastern Connection|35 King George|London|British Isles|WX3 6FW|UK|\n",
       "|14822|BOLID|4|2016-07-22 02:18:30|2016-07-26 08:09:08|2016-07-25 21:16:30|2|483.5|Bon app-|12, rue des Bouchers|Marseille|Western Europe|13008|France|\n",
       "|14828|PERIC|6|2016-07-01 07:11:25|2016-08-08 06:34:22|2016-07-18 06:52:28|3|184.5|Tradiçao Hipermercados|Av. Inês de Castro, 414|Sao Paulo|South America|05634-030|Brazil|\n",
       "|14870|DUMON|4|2016-07-23 02:00:44|2016-08-30 02:46:56|2016-07-24 20:45:54|1|133|Romero y tomillo|Gran Vía, 1|Madrid|Southern Europe|28001|Spain|\n",
       "|15061|TRAIH|3|2016-07-07 07:44:20|2016-07-12 16:17:56|2016-07-19 20:46:40|3|408|GROSELLA-Restaurante|5ª Ave. Los Palos Grandes|Caracas|South America|1081|Venezuela|\n",
       "|15112|MAGAA|5|2016-07-11 04:19:44|2016-07-22 02:39:21|2016-07-24 01:17:05|3|184.25|Bottom-Dollar Markets|23 Tsawassen Blvd.|Tsawassen|North America|T2F 8M4|Canada|\n",
       "|15720|THEBI|5|2016-07-22 11:36:29|2016-07-30 16:22:05|2016-07-27 13:31:46|2|127.5|Ottilies Käseladen|Mehrheimerstr. 369|Köln|Western Europe|50739|Germany|\n",
       "|15728|HANAR|6|2016-07-21 15:46:30|2016-07-26 23:38:15|2016-08-07 15:29:04|2|254.75|Wolski Zajazd|ul. Filtrowa 68|Warszawa|Eastern Europe|01-012|Poland|\n",
       "|15833|LAMAI|2|2016-07-08 16:02:58|2016-07-22 03:46:23|2016-07-10 01:59:13|2|269.75|Lehmanns Marktstand|Magazinweg 7|Frankfurt a.M.|Western Europe|60528|Germany|\n",
       "|15842|WARTH|4|2016-07-01 19:27:34|2016-07-25 07:04:35|2016-07-02 09:25:14|3|238.75|Drachenblut Delikatessen|Walserweg 21|Aachen|Western Europe|52066|Germany|\n",
       "|16083|GALED|4|2016-07-20 13:40:31|2016-07-23 02:18:50|2016-08-06 10:25:10|1|188.25|Que Delícia|Rua da Panificadora, 12|Rio de Janeiro|South America|02389-673|Brazil|\n",
       "|16165|VINET|9|2016-07-10 22:02:50|2016-07-24 03:16:43|2016-07-15 01:47:30|3|295.25|Galería del gastronómo|Rambla de Cataluña, 23|Barcelona|Southern Europe|8022|Spain|\n",
       "|16201|ROMEY|3|2016-07-10 21:32:56|2016-07-20 11:41:35|2016-07-14 04:09:47|3|440.75|Wolski Zajazd|ul. Filtrowa 68|Warszawa|Eastern Europe|01-012|Poland|\n",
       "|16243|Val2 |9|2016-07-24 16:30:18|2016-08-16 18:53:51|2016-08-02 08:54:49|1|97.75|Océano Atlántico Ltda.|Ing. Gustavo Moncada 8585 Piso 20-A|Buenos Aires|South America|1010|Argentina|\n",
       "|16279|WANDK|3|2016-07-08 16:57:06|2016-07-12 16:59:58|2016-07-09 16:56:02|1|347.75|Save-a-lot Markets|187 Suffolk Ln.|Boise|North America|83720|USA|\n",
       "|16331|CONSH|5|2016-07-20 06:16:07|2016-08-18 01:51:20|2016-07-21 03:07:37|3|374|The Cracker Box|55 Grizzly Peak Rd.|Butte|North America|59801|USA|\n",
       "|16529|SIMOB|6|2016-07-15 23:45:05|2016-07-25 20:25:11|2016-07-16 00:16:41|2|459.75|White Clover Markets|1029 - 12th Ave. S.|Seattle|North America|98124|USA|\n",
       "|16666|MAISD|8|2016-07-23 13:05:07|2016-08-25 16:19:32|2016-07-28 14:44:42|3|308|Hanari Carnes|Rua do Paço, 67|Rio de Janeiro|South America|05454-876|Brazil|\n",
       "|16875|ERNSH|2|2016-07-09 05:00:04|2016-07-31 11:38:49|2016-07-20 00:49:34|2|106|Piccolo und mehr|Geislweg 14|Salzburg|Western Europe|5020|Austria|\n",
       "|16966|BOLID|3|2016-07-25 08:49:45|2016-08-24 05:40:08|2016-07-28 15:27:27|1|256.25|Pericles Comidas clásicas|Calle Dr. Jorge Cash 321|México D.F.|Central America|5033|Mexico|\n",
       "|17019|VALON|9|2016-07-25 11:26:29|2016-08-09 00:13:36|2016-08-15 09:07:37|3|133|White Clover Markets|1029 - 12th Ave. S.|Seattle|North America|98124|USA|\n",
       "|17058|HILAA|6|2016-07-25 15:59:30|2016-08-25 22:55:06|2016-08-16 22:27:48|2|354.75|Morgenstern Gesundkost|Heerstr. 22|Leipzig|Western Europe|4179|Germany|\n",
       "|17164|OCEAN|3|2016-07-13 11:07:27|2016-08-10 12:43:11|2016-07-18 21:57:13|3|471.75|Ricardo Adocicados|Av. Copacabana, 267|Rio de Janeiro|South America|02389-890|Brazil|\n",
       "|17333|DRACD|3|2016-07-19 10:14:45|2016-08-01 05:39:11|2016-07-23 04:57:02|3|143.5|Bottom-Dollar Markets|23 Tsawassen Blvd.|Tsawassen|North America|T2F 8M4|Canada|\n",
       "|17372|PARIS|1|2016-07-09 04:53:24|2016-08-04 01:41:52|2016-07-10 01:54:03|3|223.75|North/South|South House 300 Queensbridge|London|British Isles|SW7 1RZ|UK|\n",
       "|17386|ROMEY|8|2016-07-03 04:18:30|2016-08-09 13:57:36|2016-07-08 07:56:40|3|313.75|Morgenstern Gesundkost|Heerstr. 22|Leipzig|Western Europe|4179|Germany|\n",
       "|17514|KOENE|5|2016-07-06 10:21:41|2016-07-22 17:33:02|2016-07-22 13:08:41|2|48.75|Santé Gourmet|Erling Skakkes gate 78|Stavern|Scandinavia|4110|Norway|\n",
       "|17621|FRANS|1|2016-07-08 16:54:38|2016-08-03 04:21:49|2016-07-18 06:42:28|2|65.25|Ernst Handel|Kirchgasse 6|Graz|Western Europe|8010|Austria|\n",
       "|17703|HUNGC|8|2016-07-27 19:47:00|2016-08-20 19:57:55|2016-07-27 22:29:02|1|96|Drachenblut Delikatessen|Walserweg 21|Aachen|Western Europe|52066|Germany|\n",
       "|17947|LAMAI|6|2016-07-05 03:55:34|2016-07-09 11:24:34|2016-07-17 20:05:26|2|138.75|Queen Cozinha|Alameda dos Canàrios, 891|Sao Paulo|South America|05487-020|Brazil|\n",
       "|18074|TORTU|3|2016-07-26 23:47:36|2016-08-16 05:54:53|2016-08-10 11:43:41|3|382.75|Laughing Bacchus Wine Cellars|2319 Elm St.|Vancouver|North America|V3F 2K1|Canada|\n",
       "|18196|FAMIA|6|2016-07-27 01:04:51|2016-08-13 20:19:09|2016-08-23 04:37:08|1|484.5|Princesa Isabel Vinhos|Estrada da saúde n. 58|Lisboa|Southern Europe|1756|Portugal|\n",
       "|18257|LONEP|4|2016-07-28 04:04:36|2016-08-12 18:55:02|2016-07-30 13:51:50|1|452.5|Richter Supermarkt|Starenweg 5|Genève|Western Europe|1204|Switzerland|\n",
       "|18479|TORTU|1|2016-07-01 00:06:19|2016-07-25 04:24:35|2016-07-02 13:53:34|1|171.75|Furia Bacalhau e Frutos do Mar|Jardim das rosas n. 32|Lisboa|Southern Europe|1675|Portugal|\n",
       "|18625|TORTU|4|2016-07-19 01:41:17|2016-08-12 12:00:05|2016-07-31 00:21:41|3|102.25|Victuailles en stock|2, rue du Commerce|Lyon|Western Europe|69004|France|\n",
       "|18665|SUPRD|5|2016-07-10 23:43:11|2016-07-31 08:07:52|2016-07-19 15:16:04|2|82|LINO-Delicateses|Ave. 5 de Mayo Porlamar|I. de Margarita|South America|4980|Venezuela|\n",
       "|18938|GOURL|3|2016-07-24 14:16:57|2016-07-25 06:22:54|2016-07-27 06:10:19|2|274.5|Gourmet Lanchonetes|Av. Brasil, 442|Campinas|South America|04876-786|Brazil|\n",
       "|19036|SUPRD|7|2016-07-06 11:13:37|2016-07-31 12:27:45|2016-07-09 06:08:55|2|334|Folies gourmandes|184, chaussée de Tournai|Lille|Western Europe|59000|France|\n",
       "|19048|HILAA|7|2016-07-10 12:27:24|2016-07-18 16:44:51|2016-07-23 02:21:39|1|394|Reggiani Caseifici|Strada Provinciale 124|Reggio Emilia|Southern Europe|42100|Italy|\n",
       "|19060|GODOS|8|2016-07-19 06:41:44|2016-07-23 11:42:48|2016-08-04 07:28:14|3|162.5|Ottilies Käseladen|Mehrheimerstr. 369|Köln|Western Europe|50739|Germany|\n",
       "|19086|RICSU|2|2016-07-19 23:19:59|2016-08-02 16:25:31|2016-07-20 05:43:08|2|340|Godos Cocina Típica|C/ Romero, 33|Sevilla|Southern Europe|41101|Spain|\n",
       "|19176|FISSA|9|2016-07-08 10:26:41|2016-08-13 22:52:41|2016-07-14 07:54:06|3|256.5|Antonio Moreno Taquería|Mataderos  2312|México D.F.|Central America|5023|Mexico|\n",
       "|19536|ANATR|1|2016-07-01 03:01:11|2016-07-06 09:35:10|2016-07-02 05:09:57|3|222.75|La corne d-abondance|67, avenue de l-Europe|Versailles|Western Europe|78000|France|\n",
       "|19922|SEVES|3|2016-07-22 00:55:06|2016-08-02 09:31:50|2016-07-28 19:10:56|1|457|Königlich Essen|Maubelstr. 90|Brandenburg|Western Europe|14776|Germany|\n",
       "|20012|FOLKO|2|2016-07-24 04:02:29|2016-08-04 22:33:30|2016-08-01 14:26:41|3|95.25|Great Lakes Food Market|2732 Baker Blvd.|Eugene|North America|97403|USA|\n",
       "|20053|WARTH|3|2016-07-14 22:30:32|2016-08-01 18:39:02|2016-07-27 05:21:36|1|244|Folies gourmandes|184, chaussée de Tournai|Lille|Western Europe|59000|France|\n",
       "|20096|CACTU|9|2016-07-26 23:55:30|2016-09-07 22:23:12|2016-08-10 19:15:43|1|253.75|Santé Gourmet|Erling Skakkes gate 78|Stavern|Scandinavia|4110|Norway|\n",
       "|20216|MEREP|9|2016-07-15 10:45:52|2016-07-18 21:45:53|2016-07-22 06:19:31|2|360.75|White Clover Markets|1029 - 12th Ave. S.|Seattle|North America|98124|USA|\n",
       "|20450|DRACD|8|2016-07-06 05:55:07|2016-07-24 10:56:54|2016-07-17 23:13:24|1|356.5|Consolidated Holdings|Berkeley Gardens 12  Brewery|London|British Isles|WX1 6LT|UK|\n",
       "|20507|HUNGC|8|2016-07-16 15:27:12|2016-07-17 22:23:06|2016-08-03 09:14:58|3|371.25|GROSELLA-Restaurante|5ª Ave. Los Palos Grandes|Caracas|South America|1081|Venezuela|\n",
       "|20629|CONSH|8|2016-07-24 04:24:37|2016-09-10 01:56:39|2016-07-25 23:59:24|3|254.5|Island Trading|Garden House Crowther Way|Cowes|British Isles|PO31 7PJ|UK|\n",
       "|20682|VALON|4|2016-07-22 09:48:25|2016-08-03 11:03:41|2016-08-16 01:58:33|1|77.75|Folk och fä HB|Åkergatan 24|Bräcke|Northern Europe|S-844 67|Sweden|\n",
       "|21167|LINOD|9|2016-07-27 11:02:57|2016-07-29 01:19:23|2016-08-05 07:56:54|2|118.5|Wolski Zajazd|ul. Filtrowa 68|Warszawa|Eastern Europe|01-012|Poland|\n",
       "|21205|SIMOB|7|2016-07-01 06:11:06|2016-07-22 07:44:21|2016-07-18 05:36:44|3|114|Tradiçao Hipermercados|Av. Inês de Castro, 414|Sao Paulo|South America|05634-030|Brazil|\n",
       "|21254|FRANS|4|2016-07-11 08:10:05|2016-08-16 05:43:17|2016-07-15 13:52:01|2|246.75|Cactus Comidas para llevar|Cerrito 333|Buenos Aires|South America|1010|Argentina|\n",
       "|21265|QUEEN|8|2016-07-26 07:20:44|2016-08-25 10:51:48|2016-08-17 18:27:28|2|366.25|Around the Horn|Brook Farm Stratford St. Mary|Colchester|British Isles|CO7 6JX|UK|\n",
       "|21268|FOLIG|9|2016-07-05 09:54:56|2016-07-11 08:34:01|2016-07-06 20:38:51|3|185.75|The Big Cheese|89 Jefferson Way Suite 2|Portland|North America|97201|USA|\n",
       "|21287|PICCO|8|2016-07-20 15:27:36|2016-08-17 11:47:49|2016-07-21 03:46:55|3|404.75|Alfred-s Futterkiste|Obere Str. 57|Berlin|Western Europe|12209|Germany|\n",
       "|21611|RICSU|3|2016-07-29 21:04:16|2016-07-31 03:59:23|2016-08-19 09:27:06|1|378.25|Island Trading|Garden House Crowther Way|Cowes|British Isles|PO31 7PJ|UK|\n",
       "|21772|OTTIK|6|2016-07-22 13:05:23|2016-08-04 14:25:20|2016-07-22 21:16:09|2|19|LINO-Delicateses|Ave. 5 de Mayo Porlamar|I. de Margarita|South America|4980|Venezuela|\n",
       "|21798|HUNGO|9|2016-07-09 05:46:51|2016-07-16 05:59:44|2016-07-27 09:32:50|1|165.5|Princesa Isabel Vinhos|Estrada da saúde n. 58|Lisboa|Southern Europe|1756|Portugal|\n",
       "|21837|DUMON|5|2016-07-12 08:30:16|2016-07-25 13:21:27|2016-07-23 19:41:22|1|18.25|Ernst Handel|Kirchgasse 6|Graz|Western Europe|8010|Austria|\n",
       "|21895|VALON|9|2016-07-11 00:57:41|2016-07-20 18:17:14|2016-07-12 07:31:17|1|36|Let-s Stop N Shop|87 Polk St. Suite 5|San Francisco|North America|94117|USA|\n",
       "|21947|MEREP|9|2016-07-04 12:37:28|2016-07-22 02:32:47|2016-07-06 21:00:38|3|245.5|Pericles Comidas clásicas|Calle Dr. Jorge Cash 321|México D.F.|Central America|5033|Mexico|\n",
       "|22106|TRADH|5|2016-07-09 05:48:59|2016-07-30 06:06:01|2016-07-12 06:08:39|1|215.5|Reggiani Caseifici|Strada Provinciale 124|Reggio Emilia|Southern Europe|42100|Italy|\n",
       "|22737|KOENE|6|2016-07-01 13:30:47|2016-07-17 03:55:09|2016-07-19 13:35:38|1|171.5|Rancho grande|Av. del Libertador 900|Buenos Aires|South America|1010|Argentina|\n",
       "|22854|Val2 |2|2016-07-13 13:26:56|2016-07-17 02:16:48|2016-07-16 11:51:07|1|67.5|La maison d-Asie|1 rue Alsace-Lorraine|Toulouse|Western Europe|31000|France|\n",
       "|23107|PRINI|8|2016-07-11 06:12:56|2016-07-24 02:55:02|2016-07-23 22:05:30|2|119|QUICK-Stop|Taucherstraße 10|Cunewalde|Western Europe|1307|Germany|\n",
       "|23121|TORTU|4|2016-07-03 18:27:26|2016-07-12 11:56:14|2016-07-04 17:31:40|3|137|Spécialités du monde|25, rue Lauriston|Paris|Western Europe|75016|France|\n",
       "|23130|FRANS|2|2016-07-16 23:54:06|2016-07-31 12:32:31|2016-07-26 20:53:39|3|294.25|HILARION-Abastos|Carrera 22 con Ave. Carlos Soublette #8-35|San Cristóbal|South America|5022|Venezuela|\n",
       "|23157|VICTE|2|2016-07-19 21:16:37|2016-08-20 22:39:54|2016-07-25 21:34:40|3|346.5|Richter Supermarkt|Starenweg 5|Genève|Western Europe|1204|Switzerland|\n",
       "|23174|SUPRD|2|2016-07-23 02:51:55|2016-07-24 21:48:42|2016-07-27 18:09:07|3|350|Morgenstern Gesundkost|Heerstr. 22|Leipzig|Western Europe|4179|Germany|\n",
       "|23612|BSBEV|5|2016-07-11 10:20:36|2016-07-23 20:48:07|2016-07-16 21:44:28|2|39.75|Romero y tomillo|Gran Vía, 1|Madrid|Southern Europe|28001|Spain|\n",
       "|23838|CENTC|2|2016-07-26 23:46:06|2016-08-06 08:34:04|2016-07-29 02:46:17|2|472.5|Wartian Herkku|Torikatu 38|Oulu|Scandinavia|90110|Finland|\n",
       "|23890|REGGC|5|2016-07-27 10:36:15|2016-07-31 17:54:01|2016-08-11 03:33:39|1|270.75|Maison Dewey|Rue Joseph-Bens 532|Bruxelles|Western Europe|B-1180|Belgium|\n",
       "|23915|SUPRD|6|2016-07-01 21:53:58|2016-08-21 08:11:30|2016-07-14 19:19:24|2|18.75|Blauer See Delikatessen|Forsterstr. 57|Mannheim|Western Europe|68306|Germany|\n",
       "|23943|LONEP|6|2016-07-23 01:03:54|2016-08-06 15:46:58|2016-07-29 04:47:26|3|509.25|Richter Supermarkt|Starenweg 5|Genève|Western Europe|1204|Switzerland|\n",
       "|24084|WARTH|8|2016-07-26 12:17:34|2016-08-22 15:44:45|2016-07-26 15:36:36|3|166.25|Drachenblut Delikatessen|Walserweg 21|Aachen|Western Europe|52066|Germany|\n",
       "|24264|HILAA|8|2016-07-25 18:09:11|2016-08-23 21:01:17|2016-07-26 05:20:19|3|189.75|Wellington Importadora|Rua do Mercado, 12|Resende|South America|08737-363|Brazil|\n",
       "|24325|LINOD|3|2016-07-11 17:19:03|2016-07-12 05:33:38|2016-07-20 08:09:06|2|345.25|Galería del gastronómo|Rambla de Cataluña, 23|Barcelona|Southern Europe|8022|Spain|\n",
       "|24357|FRANR|1|2016-07-01 21:46:08|2016-07-24 03:58:43|2016-07-20 10:59:36|1|202.25|Alfreds Futterkiste|Obere Str. 57|Berlin|Western Europe|12209|Germany|\n",
       "|24383|CACTU|9|2016-07-04 23:39:13|2016-07-28 09:15:02|2016-07-09 18:32:11|1|413.75|Seven Seas Imports|90 Wadhurst Rd.|London|British Isles|OX15 4NB|UK|\n",
       "|24581|TOMSP|1|2016-07-22 21:29:45|2016-07-23 15:20:18|2016-07-23 13:01:27|2|264.5|Tradiçao Hipermercados|Av. Inês de Castro, 414|Sao Paulo|South America|05634-030|Brazil|\n",
       "|24611|LEHMS|3|2016-07-12 03:42:04|2016-08-01 12:23:51|2016-07-25 12:03:24|1|516|LINO-Delicateses|Ave. 5 de Mayo Porlamar|I. de Margarita|South America|4980|Venezuela|\n",
       "|24633|VICTE|5|2016-07-02 11:53:35|2016-07-29 06:39:18|2016-07-17 14:59:12|1|47.5|Save-a-lot Markets|187 Suffolk Ln.|Boise|North America|83720|USA|\n",
       "|24669|TORTU|2|2016-07-04 03:02:07|2016-07-13 08:49:17|2016-07-14 04:22:13|2|437.75|Lehmanns Marktstand|Magazinweg 7|Frankfurt a.M.|Western Europe|60528|Germany|\n",
       "|24823|MEREP|5|2016-07-21 06:33:58|2016-08-06 19:21:09|2016-07-22 01:13:57|1|449.25|Folk och fä HB|Åkergatan 24|Bräcke|Northern Europe|S-844 67|Sweden|\n",
       "|25137|AROUT|1|2016-07-02 00:42:35|2016-08-11 13:01:51|2016-07-13 21:33:47|3|317.75|Great Lakes Food Market|2732 Baker Blvd.|Eugene|North America|97403|USA|\n",
       "|25248|GROSR|1|2016-07-05 06:10:21|2016-07-13 19:13:11|2016-07-05 10:34:35|1|359.25|Let-s Stop N Shop|87 Polk St. Suite 5|San Francisco|North America|94117|USA|\n",
       "|25251|ALFKI|9|2016-07-23 21:58:12|2016-07-26 19:38:16|2016-07-29 03:02:05|1|250.75|Suprêmes délices|Boulevard Tirou, 255|Charleroi|Western Europe|B-6000|Belgium|\n",
       "|25312|LACOR|3|2016-07-28 09:57:43|2016-08-10 17:59:33|2016-08-06 11:25:13|3|31.75|Magazzini Alimentari Riuniti|Via Ludovico il Moro 22|Bergamo|Southern Europe|24100|Italy|\n",
       "|25444|FISSA|8|2016-07-29 06:34:23|2016-08-07 12:42:55|2016-07-29 09:37:13|2|278.5|Drachenblut Delikatessen|Walserweg 21|Aachen|Western Europe|52066|Germany|\n",
       "|25590|PICCO|1|2016-07-16 04:44:02|2016-07-25 21:33:54|2016-07-25 16:14:59|1|309.5|Let-s Stop N Shop|87 Polk St. Suite 5|San Francisco|North America|94117|USA|\n",
       "|25803|COMMI|5|2016-07-30 16:17:37|2016-08-06 14:02:50|2016-07-31 06:45:13|3|381.75|Princesa Isabel Vinhos|Estrada da saúde n. 58|Lisboa|Southern Europe|1756|Portugal|\n",
       "|25885|BSBEV|3|2016-07-25 04:19:40|2016-08-28 13:55:14|2016-08-11 12:42:42|2|390.75|Familia Arquibaldo|Rua Orós, 92|Sao Paulo|South America|05442-030|Brazil|\n",
       "|25906|CENTC|7|2016-07-04 10:33:02|2016-07-20 12:40:44|2016-07-27 15:13:31|1|76.5|Hungry Coyote Import Store|City Center Plaza 516 Main St.|Elgin|North America|97827|USA|\n",
       "|25931|HILAA|1|2016-07-23 21:11:50|2016-07-26 12:09:11|2016-08-04 11:05:02|2|348.75|Folies gourmandes|184, chaussée de Tournai|Lille|Western Europe|59000|France|\n",
       "|26047|FOLIG|7|2016-07-15 15:30:44|2016-08-09 04:25:53|2016-07-27 00:39:39|2|113.75|Great Lakes Food Market|2732 Baker Blvd.|Eugene|North America|97403|USA|\n",
       "|26096|MEREP|5|2016-07-28 08:46:57|2016-08-25 23:50:12|2016-07-29 19:32:33|1|415.25|Die Wandernde Kuh|Adenauerallee 900|Stuttgart|Western Europe|70563|Germany|\n",
       "|26328|RICAR|4|2016-07-03 07:01:40|2016-08-09 18:03:10|2016-07-15 06:11:12|1|499.5|Suprêmes délices|Boulevard Tirou, 255|Charleroi|Western Europe|B-6000|Belgium|"
      ],
      "text/plain": [
       "<IPython.core.display.Markdown object>"
      ]
     },
     "metadata": {},
     "output_type": "display_data"
    }
   ],
   "source": [
    "# BETWEEN dates\n",
    "execute_and_show(cur,\n",
    "                 '''\n",
    "                 SELECT * FROM Orders\n",
    "                 WHERE OrderDate BETWEEN '2016-07-01' AND '2016-07-31';\n",
    "                 ''')"
   ]
  },
  {
   "cell_type": "markdown",
   "metadata": {},
   "source": [
    "# SQL Aliases"
   ]
  },
  {
   "cell_type": "code",
   "execution_count": 105,
   "metadata": {},
   "outputs": [
    {
     "data": {
      "text/markdown": [
       "|ID|\n",
       "|-|\n",
       "|ALFKI|\n",
       "|ANATR|\n",
       "|ANTON|\n",
       "|AROUT|\n",
       "|BERGS|\n",
       "|BLAUS|\n",
       "|BLONP|\n",
       "|BOLID|\n",
       "|BONAP|\n",
       "|BOTTM|\n",
       "|BSBEV|\n",
       "|CACTU|\n",
       "|CENTC|\n",
       "|CHOPS|\n",
       "|COMMI|\n",
       "|CONSH|\n",
       "|DRACD|\n",
       "|DUMON|\n",
       "|EASTC|\n",
       "|ERNSH|\n",
       "|FAMIA|\n",
       "|FISSA|\n",
       "|FOLIG|\n",
       "|FOLKO|\n",
       "|FRANK|\n",
       "|FRANR|\n",
       "|FRANS|\n",
       "|FURIB|\n",
       "|GALED|\n",
       "|GODOS|\n",
       "|GOURL|\n",
       "|GREAL|\n",
       "|GROSR|\n",
       "|HANAR|\n",
       "|HILAA|\n",
       "|HUNGC|\n",
       "|HUNGO|\n",
       "|ISLAT|\n",
       "|KOENE|\n",
       "|LACOR|\n",
       "|LAMAI|\n",
       "|LAUGB|\n",
       "|LAZYK|\n",
       "|LEHMS|\n",
       "|LETSS|\n",
       "|LILAS|\n",
       "|LINOD|\n",
       "|LONEP|\n",
       "|MAGAA|\n",
       "|MAISD|\n",
       "|MEREP|\n",
       "|MORGK|\n",
       "|NORTS|\n",
       "|OCEAN|\n",
       "|OLDWO|\n",
       "|OTTIK|\n",
       "|PARIS|\n",
       "|PERIC|\n",
       "|PICCO|\n",
       "|PRINI|\n",
       "|QUEDE|\n",
       "|QUEEN|\n",
       "|QUICK|\n",
       "|RANCH|\n",
       "|RATTC|\n",
       "|REGGC|\n",
       "|RICAR|\n",
       "|RICSU|\n",
       "|ROMEY|\n",
       "|SANTG|\n",
       "|SAVEA|\n",
       "|SEVES|\n",
       "|SIMOB|\n",
       "|SPECD|\n",
       "|SPLIR|\n",
       "|SUPRD|\n",
       "|THEBI|\n",
       "|THECR|\n",
       "|TOMSP|\n",
       "|TORTU|\n",
       "|TRADH|\n",
       "|TRAIH|\n",
       "|VAFFE|\n",
       "|VALON|\n",
       "|VICTE|\n",
       "|VINET|\n",
       "|Val2 |\n",
       "|WANDK|\n",
       "|WARTH|\n",
       "|WELLI|\n",
       "|WHITC|\n",
       "|WILMK|\n",
       "|WOLZA|"
      ],
      "text/plain": [
       "<IPython.core.display.Markdown object>"
      ]
     },
     "metadata": {},
     "output_type": "display_data"
    }
   ],
   "source": [
    "execute_and_show(cur,\n",
    "                 '''\n",
    "                 SELECT CustomerID AS ID\n",
    "                 FROM Customers;\n",
    "                 ''')"
   ]
  },
  {
   "cell_type": "code",
   "execution_count": 106,
   "metadata": {},
   "outputs": [
    {
     "data": {
      "text/markdown": [
       "|ID|\n",
       "|-|\n",
       "|ALFKI|\n",
       "|ANATR|\n",
       "|ANTON|\n",
       "|AROUT|\n",
       "|BERGS|\n",
       "|BLAUS|\n",
       "|BLONP|\n",
       "|BOLID|\n",
       "|BONAP|\n",
       "|BOTTM|\n",
       "|BSBEV|\n",
       "|CACTU|\n",
       "|CENTC|\n",
       "|CHOPS|\n",
       "|COMMI|\n",
       "|CONSH|\n",
       "|DRACD|\n",
       "|DUMON|\n",
       "|EASTC|\n",
       "|ERNSH|\n",
       "|FAMIA|\n",
       "|FISSA|\n",
       "|FOLIG|\n",
       "|FOLKO|\n",
       "|FRANK|\n",
       "|FRANR|\n",
       "|FRANS|\n",
       "|FURIB|\n",
       "|GALED|\n",
       "|GODOS|\n",
       "|GOURL|\n",
       "|GREAL|\n",
       "|GROSR|\n",
       "|HANAR|\n",
       "|HILAA|\n",
       "|HUNGC|\n",
       "|HUNGO|\n",
       "|ISLAT|\n",
       "|KOENE|\n",
       "|LACOR|\n",
       "|LAMAI|\n",
       "|LAUGB|\n",
       "|LAZYK|\n",
       "|LEHMS|\n",
       "|LETSS|\n",
       "|LILAS|\n",
       "|LINOD|\n",
       "|LONEP|\n",
       "|MAGAA|\n",
       "|MAISD|\n",
       "|MEREP|\n",
       "|MORGK|\n",
       "|NORTS|\n",
       "|OCEAN|\n",
       "|OLDWO|\n",
       "|OTTIK|\n",
       "|PARIS|\n",
       "|PERIC|\n",
       "|PICCO|\n",
       "|PRINI|\n",
       "|QUEDE|\n",
       "|QUEEN|\n",
       "|QUICK|\n",
       "|RANCH|\n",
       "|RATTC|\n",
       "|REGGC|\n",
       "|RICAR|\n",
       "|RICSU|\n",
       "|ROMEY|\n",
       "|SANTG|\n",
       "|SAVEA|\n",
       "|SEVES|\n",
       "|SIMOB|\n",
       "|SPECD|\n",
       "|SPLIR|\n",
       "|SUPRD|\n",
       "|THEBI|\n",
       "|THECR|\n",
       "|TOMSP|\n",
       "|TORTU|\n",
       "|TRADH|\n",
       "|TRAIH|\n",
       "|VAFFE|\n",
       "|VALON|\n",
       "|VICTE|\n",
       "|VINET|\n",
       "|Val2 |\n",
       "|WANDK|\n",
       "|WARTH|\n",
       "|WELLI|\n",
       "|WHITC|\n",
       "|WILMK|\n",
       "|WOLZA|"
      ],
      "text/plain": [
       "<IPython.core.display.Markdown object>"
      ]
     },
     "metadata": {},
     "output_type": "display_data"
    }
   ],
   "source": [
    "execute_and_show(cur,\n",
    "                 '''\n",
    "                 SELECT CustomerID ID\n",
    "                 FROM Customers;\n",
    "                 ''')"
   ]
  },
  {
   "cell_type": "code",
   "execution_count": 107,
   "metadata": {},
   "outputs": [
    {
     "data": {
      "text/markdown": [
       "|ID|Customer|\n",
       "|-|-|\n",
       "|ALFKI|Alfreds Futterkiste|\n",
       "|ANATR|Ana Trujillo Emparedados y helados|\n",
       "|ANTON|Antonio Moreno Taquería|\n",
       "|AROUT|Around the Horn|\n",
       "|BERGS|Berglunds snabbköp|\n",
       "|BLAUS|Blauer See Delikatessen|\n",
       "|BLONP|Blondesddsl père et fils|\n",
       "|BOLID|Bólido Comidas preparadas|\n",
       "|BONAP|Bon app'|\n",
       "|BOTTM|Bottom-Dollar Markets|\n",
       "|BSBEV|B's Beverages|\n",
       "|CACTU|Cactus Comidas para llevar|\n",
       "|CENTC|Centro comercial Moctezuma|\n",
       "|CHOPS|Chop-suey Chinese|\n",
       "|COMMI|Comércio Mineiro|\n",
       "|CONSH|Consolidated Holdings|\n",
       "|DRACD|Drachenblut Delikatessen|\n",
       "|DUMON|Du monde entier|\n",
       "|EASTC|Eastern Connection|\n",
       "|ERNSH|Ernst Handel|\n",
       "|FAMIA|Familia Arquibaldo|\n",
       "|FISSA|FISSA Fabrica Inter. Salchichas S.A.|\n",
       "|FOLIG|Folies gourmandes|\n",
       "|FOLKO|Folk och fä HB|\n",
       "|FRANK|Frankenversand|\n",
       "|FRANR|France restauration|\n",
       "|FRANS|Franchi S.p.A.|\n",
       "|FURIB|Furia Bacalhau e Frutos do Mar|\n",
       "|GALED|Galería del gastrónomo|\n",
       "|GODOS|Godos Cocina Típica|\n",
       "|GOURL|Gourmet Lanchonetes|\n",
       "|GREAL|Great Lakes Food Market|\n",
       "|GROSR|GROSELLA-Restaurante|\n",
       "|HANAR|Hanari Carnes|\n",
       "|HILAA|HILARION-Abastos|\n",
       "|HUNGC|Hungry Coyote Import Store|\n",
       "|HUNGO|Hungry Owl All-Night Grocers|\n",
       "|ISLAT|Island Trading|\n",
       "|KOENE|Königlich Essen|\n",
       "|LACOR|La corne d'abondance|\n",
       "|LAMAI|La maison d'Asie|\n",
       "|LAUGB|Laughing Bacchus Wine Cellars|\n",
       "|LAZYK|Lazy K Kountry Store|\n",
       "|LEHMS|Lehmanns Marktstand|\n",
       "|LETSS|Let's Stop N Shop|\n",
       "|LILAS|LILA-Supermercado|\n",
       "|LINOD|LINO-Delicateses|\n",
       "|LONEP|Lonesome Pine Restaurant|\n",
       "|MAGAA|Magazzini Alimentari Riuniti|\n",
       "|MAISD|Maison Dewey|\n",
       "|MEREP|Mère Paillarde|\n",
       "|MORGK|Morgenstern Gesundkost|\n",
       "|NORTS|North/South|\n",
       "|OCEAN|Océano Atlántico Ltda.|\n",
       "|OLDWO|Old World Delicatessen|\n",
       "|OTTIK|Ottilies Käseladen|\n",
       "|PARIS|Paris spécialités|\n",
       "|PERIC|Pericles Comidas clásicas|\n",
       "|PICCO|Piccolo und mehr|\n",
       "|PRINI|Princesa Isabel Vinhos|\n",
       "|QUEDE|Que Delícia|\n",
       "|QUEEN|Queen Cozinha|\n",
       "|QUICK|QUICK-Stop|\n",
       "|RANCH|Rancho grande|\n",
       "|RATTC|Rattlesnake Canyon Grocery|\n",
       "|REGGC|Reggiani Caseifici|\n",
       "|RICAR|Ricardo Adocicados|\n",
       "|RICSU|Richter Supermarkt|\n",
       "|ROMEY|Romero y tomillo|\n",
       "|SANTG|Santé Gourmet|\n",
       "|SAVEA|Save-a-lot Markets|\n",
       "|SEVES|Seven Seas Imports|\n",
       "|SIMOB|Simons bistro|\n",
       "|SPECD|Spécialités du monde|\n",
       "|SPLIR|Split Rail Beer & Ale|\n",
       "|SUPRD|Suprêmes délices|\n",
       "|THEBI|The Big Cheese|\n",
       "|THECR|The Cracker Box|\n",
       "|TOMSP|Toms Spezialitäten|\n",
       "|TORTU|Tortuga Restaurante|\n",
       "|TRADH|Tradição Hipermercados|\n",
       "|TRAIH|Trail's Head Gourmet Provisioners|\n",
       "|VAFFE|Vaffeljernet|\n",
       "|Val2 |IT|\n",
       "|VALON|IT|\n",
       "|VICTE|Victuailles en stock|\n",
       "|VINET|Vins et alcools Chevalier|\n",
       "|WANDK|Die Wandernde Kuh|\n",
       "|WARTH|Wartian Herkku|\n",
       "|WELLI|Wellington Importadora|\n",
       "|WHITC|White Clover Markets|\n",
       "|WILMK|Wilman Kala|\n",
       "|WOLZA|Wolski  Zajazd|"
      ],
      "text/plain": [
       "<IPython.core.display.Markdown object>"
      ]
     },
     "metadata": {},
     "output_type": "display_data"
    }
   ],
   "source": [
    "# alias for columns\n",
    "execute_and_show(cur,\n",
    "                 '''\n",
    "                 SELECT CustomerID AS ID, CompanyName AS Customer\n",
    "                 FROM Customers;\n",
    "                 ''')"
   ]
  },
  {
   "cell_type": "code",
   "execution_count": 108,
   "metadata": {},
   "outputs": [
    {
     "data": {
      "text/markdown": [
       "|My Great Products|\n",
       "|-|\n",
       "|Chai|\n",
       "|Chang|\n",
       "|Aniseed Syrup|\n",
       "|Chef Anton's Cajun Seasoning|\n",
       "|Chef Anton's Gumbo Mix|\n",
       "|Grandma's Boysenberry Spread|\n",
       "|Uncle Bob's Organic Dried Pears|\n",
       "|Northwoods Cranberry Sauce|\n",
       "|Mishi Kobe Niku|\n",
       "|Ikura|\n",
       "|Queso Cabrales|\n",
       "|Queso Manchego La Pastora|\n",
       "|Konbu|\n",
       "|Tofu|\n",
       "|Genen Shouyu|\n",
       "|Pavlova|\n",
       "|Alice Mutton|\n",
       "|Carnarvon Tigers|\n",
       "|Teatime Chocolate Biscuits|\n",
       "|Sir Rodney's Marmalade|\n",
       "|Sir Rodney's Scones|\n",
       "|Gustaf's Knäckebröd|\n",
       "|Tunnbröd|\n",
       "|Guaraná Fantástica|\n",
       "|NuNuCa Nuß-Nougat-Creme|\n",
       "|Gumbär Gummibärchen|\n",
       "|Schoggi Schokolade|\n",
       "|Rössle Sauerkraut|\n",
       "|Thüringer Rostbratwurst|\n",
       "|Nord-Ost Matjeshering|\n",
       "|Gorgonzola Telino|\n",
       "|Mascarpone Fabioli|\n",
       "|Geitost|\n",
       "|Sasquatch Ale|\n",
       "|Steeleye Stout|\n",
       "|Inlagd Sill|\n",
       "|Gravad lax|\n",
       "|Côte de Blaye|\n",
       "|Chartreuse verte|\n",
       "|Boston Crab Meat|\n",
       "|Jack's New England Clam Chowder|\n",
       "|Singaporean Hokkien Fried Mee|\n",
       "|Ipoh Coffee|\n",
       "|Gula Malacca|\n",
       "|Rogede sild|\n",
       "|Spegesild|\n",
       "|Zaanse koeken|\n",
       "|Chocolade|\n",
       "|Maxilaku|\n",
       "|Valkoinen suklaa|\n",
       "|Manjimup Dried Apples|\n",
       "|Filo Mix|\n",
       "|Perth Pasties|\n",
       "|Tourtière|\n",
       "|Pâté chinois|\n",
       "|Gnocchi di nonna Alice|\n",
       "|Ravioli Angelo|\n",
       "|Escargots de Bourgogne|\n",
       "|Raclette Courdavault|\n",
       "|Camembert Pierrot|\n",
       "|Sirop d'érable|\n",
       "|Tarte au sucre|\n",
       "|Vegie-spread|\n",
       "|Wimmers gute Semmelknödel|\n",
       "|Louisiana Fiery Hot Pepper Sauce|\n",
       "|Louisiana Hot Spiced Okra|\n",
       "|Laughing Lumberjack Lager|\n",
       "|Scottish Longbreads|\n",
       "|Gudbrandsdalsost|\n",
       "|Outback Lager|\n",
       "|Flotemysost|\n",
       "|Mozzarella di Giovanni|\n",
       "|Röd Kaviar|\n",
       "|Longlife Tofu|\n",
       "|Rhönbräu Klosterbier|\n",
       "|Lakkalikööri|\n",
       "|Original Frankfurter grüne Soße|"
      ],
      "text/plain": [
       "<IPython.core.display.Markdown object>"
      ]
     },
     "metadata": {},
     "output_type": "display_data"
    }
   ],
   "source": [
    "# using aliases with a space character\n",
    "execute_and_show(cur,\n",
    "                 '''\n",
    "                 SELECT ProductName AS [My Great Products]\n",
    "                 FROM Products;\n",
    "                 ''')"
   ]
  },
  {
   "cell_type": "code",
   "execution_count": 109,
   "metadata": {},
   "outputs": [
    {
     "data": {
      "text/markdown": [
       "|My Great Products|\n",
       "|-|\n",
       "|Chai|\n",
       "|Chang|\n",
       "|Aniseed Syrup|\n",
       "|Chef Anton's Cajun Seasoning|\n",
       "|Chef Anton's Gumbo Mix|\n",
       "|Grandma's Boysenberry Spread|\n",
       "|Uncle Bob's Organic Dried Pears|\n",
       "|Northwoods Cranberry Sauce|\n",
       "|Mishi Kobe Niku|\n",
       "|Ikura|\n",
       "|Queso Cabrales|\n",
       "|Queso Manchego La Pastora|\n",
       "|Konbu|\n",
       "|Tofu|\n",
       "|Genen Shouyu|\n",
       "|Pavlova|\n",
       "|Alice Mutton|\n",
       "|Carnarvon Tigers|\n",
       "|Teatime Chocolate Biscuits|\n",
       "|Sir Rodney's Marmalade|\n",
       "|Sir Rodney's Scones|\n",
       "|Gustaf's Knäckebröd|\n",
       "|Tunnbröd|\n",
       "|Guaraná Fantástica|\n",
       "|NuNuCa Nuß-Nougat-Creme|\n",
       "|Gumbär Gummibärchen|\n",
       "|Schoggi Schokolade|\n",
       "|Rössle Sauerkraut|\n",
       "|Thüringer Rostbratwurst|\n",
       "|Nord-Ost Matjeshering|\n",
       "|Gorgonzola Telino|\n",
       "|Mascarpone Fabioli|\n",
       "|Geitost|\n",
       "|Sasquatch Ale|\n",
       "|Steeleye Stout|\n",
       "|Inlagd Sill|\n",
       "|Gravad lax|\n",
       "|Côte de Blaye|\n",
       "|Chartreuse verte|\n",
       "|Boston Crab Meat|\n",
       "|Jack's New England Clam Chowder|\n",
       "|Singaporean Hokkien Fried Mee|\n",
       "|Ipoh Coffee|\n",
       "|Gula Malacca|\n",
       "|Rogede sild|\n",
       "|Spegesild|\n",
       "|Zaanse koeken|\n",
       "|Chocolade|\n",
       "|Maxilaku|\n",
       "|Valkoinen suklaa|\n",
       "|Manjimup Dried Apples|\n",
       "|Filo Mix|\n",
       "|Perth Pasties|\n",
       "|Tourtière|\n",
       "|Pâté chinois|\n",
       "|Gnocchi di nonna Alice|\n",
       "|Ravioli Angelo|\n",
       "|Escargots de Bourgogne|\n",
       "|Raclette Courdavault|\n",
       "|Camembert Pierrot|\n",
       "|Sirop d'érable|\n",
       "|Tarte au sucre|\n",
       "|Vegie-spread|\n",
       "|Wimmers gute Semmelknödel|\n",
       "|Louisiana Fiery Hot Pepper Sauce|\n",
       "|Louisiana Hot Spiced Okra|\n",
       "|Laughing Lumberjack Lager|\n",
       "|Scottish Longbreads|\n",
       "|Gudbrandsdalsost|\n",
       "|Outback Lager|\n",
       "|Flotemysost|\n",
       "|Mozzarella di Giovanni|\n",
       "|Röd Kaviar|\n",
       "|Longlife Tofu|\n",
       "|Rhönbräu Klosterbier|\n",
       "|Lakkalikööri|\n",
       "|Original Frankfurter grüne Soße|"
      ],
      "text/plain": [
       "<IPython.core.display.Markdown object>"
      ]
     },
     "metadata": {},
     "output_type": "display_data"
    }
   ],
   "source": [
    "execute_and_show(cur,\n",
    "                 '''\n",
    "                 SELECT ProductName AS \"My Great Products\"\n",
    "                 FROM Products;\n",
    "                 ''')"
   ]
  },
  {
   "cell_type": "code",
   "execution_count": 110,
   "metadata": {},
   "outputs": [
    {
     "data": {
      "text/markdown": [
       "|CompanyName|Address|\n",
       "|-|-|\n",
       "|Alfreds Futterkiste|Obere Str. 57, 12209 Berlin, Germany|\n",
       "|Ana Trujillo Emparedados y helados|Avda. de la Constitución 2222, 05021 México D.F., Mexico|\n",
       "|Antonio Moreno Taquería|Mataderos  2312, 05023 México D.F., Mexico|\n",
       "|Around the Horn|120 Hanover Sq., WA1 1DP London, UK|\n",
       "|Berglunds snabbköp|Berguvsvägen  8, S-958 22 Luleå, Sweden|\n",
       "|Blauer See Delikatessen|Forsterstr. 57, 68306 Mannheim, Germany|\n",
       "|Blondesddsl père et fils|24, place Kléber, 67000 Strasbourg, France|\n",
       "|Bólido Comidas preparadas|C/ Araquil, 67, 28023 Madrid, Spain|\n",
       "|Bon app'|12, rue des Bouchers, 13008 Marseille, France|\n",
       "|Bottom-Dollar Markets|23 Tsawassen Blvd., T2F 8M4 Tsawassen, Canada|\n",
       "|B's Beverages|Fauntleroy Circus, EC2 5NT London, UK|\n",
       "|Cactus Comidas para llevar|Cerrito 333, 1010 Buenos Aires, Argentina|\n",
       "|Centro comercial Moctezuma|Sierras de Granada 9993, 05022 México D.F., Mexico|\n",
       "|Chop-suey Chinese|Hauptstr. 29, 3012 Bern, Switzerland|\n",
       "|Comércio Mineiro|Av. dos Lusíadas, 23, 05432-043 Sao Paulo, Brazil|\n",
       "|Consolidated Holdings|Berkeley Gardens 12  Brewery, WX1 6LT London, UK|\n",
       "|Drachenblut Delikatessen|Walserweg 21, 52066 Aachen, Germany|\n",
       "|Du monde entier|67, rue des Cinquante Otages, 44000 Nantes, France|\n",
       "|Eastern Connection|35 King George, WX3 6FW London, UK|\n",
       "|Ernst Handel|Kirchgasse 6, 8010 Graz, Austria|\n",
       "|Familia Arquibaldo|Rua Orós, 92, 05442-030 Sao Paulo, Brazil|\n",
       "|FISSA Fabrica Inter. Salchichas S.A.|C/ Moralzarzal, 86, 28034 Madrid, Spain|\n",
       "|Folies gourmandes|184, chaussée de Tournai, 59000 Lille, France|\n",
       "|Folk och fä HB|Åkergatan 24, S-844 67 Bräcke, Sweden|\n",
       "|Frankenversand|Berliner Platz 43, 80805 München, Germany|\n",
       "|France restauration|54, rue Royale, 44000 Nantes, France|\n",
       "|Franchi S.p.A.|Via Monte Bianco 34, 10100 Torino, Italy|\n",
       "|Furia Bacalhau e Frutos do Mar|Jardim das rosas n. 32, 1675 Lisboa, Portugal|\n",
       "|Galería del gastrónomo|Rambla de Cataluña, 23, 08022 Barcelona, Spain|\n",
       "|Godos Cocina Típica|C/ Romero, 33, 41101 Sevilla, Spain|\n",
       "|Gourmet Lanchonetes|Av. Brasil, 442, 04876-786 Campinas, Brazil|\n",
       "|Great Lakes Food Market|2732 Baker Blvd., 97403 Eugene, USA|\n",
       "|GROSELLA-Restaurante|5ª Ave. Los Palos Grandes, 1081 Caracas, Venezuela|\n",
       "|Hanari Carnes|Rua do Paço, 67, 05454-876 Rio de Janeiro, Brazil|\n",
       "|HILARION-Abastos|Carrera 22 con Ave. Carlos Soublette #8-35, 5022 San Cristóbal, Venezuela|\n",
       "|Hungry Coyote Import Store|City Center Plaza 516 Main St., 97827 Elgin, USA|\n",
       "|Hungry Owl All-Night Grocers||\n",
       "|Island Trading|Garden House Crowther Way, PO31 7PJ Cowes, UK|\n",
       "|Königlich Essen|Maubelstr. 90, 14776 Brandenburg, Germany|\n",
       "|La corne d'abondance|67, avenue de l'Europe, 78000 Versailles, France|\n",
       "|La maison d'Asie|1 rue Alsace-Lorraine, 31000 Toulouse, France|\n",
       "|Laughing Bacchus Wine Cellars|1900 Oak St., V3F 2K1 Vancouver, Canada|\n",
       "|Lazy K Kountry Store|12 Orchestra Terrace, 99362 Walla Walla, USA|\n",
       "|Lehmanns Marktstand|Magazinweg 7, 60528 Frankfurt a.M., Germany|\n",
       "|Let's Stop N Shop|87 Polk St. Suite 5, 94117 San Francisco, USA|\n",
       "|LILA-Supermercado|Carrera 52 con Ave. Bolívar #65-98 Llano Largo, 3508 Barquisimeto, Venezuela|\n",
       "|LINO-Delicateses|Ave. 5 de Mayo Porlamar, 4980 I. de Margarita, Venezuela|\n",
       "|Lonesome Pine Restaurant|89 Chiaroscuro Rd., 97219 Portland, USA|\n",
       "|Magazzini Alimentari Riuniti|Via Ludovico il Moro 22, 24100 Bergamo, Italy|\n",
       "|Maison Dewey|Rue Joseph-Bens 532, B-1180 Bruxelles, Belgium|\n",
       "|Mère Paillarde|43 rue St. Laurent, H1J 1C3 Montréal, Canada|\n",
       "|Morgenstern Gesundkost|Heerstr. 22, 04179 Leipzig, Germany|\n",
       "|North/South|South House 300 Queensbridge, SW7 1RZ London, UK|\n",
       "|Océano Atlántico Ltda.|Ing. Gustavo Moncada 8585 Piso 20-A, 1010 Buenos Aires, Argentina|\n",
       "|Old World Delicatessen|2743 Bering St., 99508 Anchorage, USA|\n",
       "|Ottilies Käseladen|Mehrheimerstr. 369, 50739 Köln, Germany|\n",
       "|Paris spécialités|265, boulevard Charonne, 75012 Paris, France|\n",
       "|Pericles Comidas clásicas|Calle Dr. Jorge Cash 321, 05033 México D.F., Mexico|\n",
       "|Piccolo und mehr|Geislweg 14, 5020 Salzburg, Austria|\n",
       "|Princesa Isabel Vinhos|Estrada da saúde n. 58, 1756 Lisboa, Portugal|\n",
       "|Que Delícia|Rua da Panificadora, 12, 02389-673 Rio de Janeiro, Brazil|\n",
       "|Queen Cozinha|Alameda dos Canàrios, 891, 05487-020 Sao Paulo, Brazil|\n",
       "|QUICK-Stop|Taucherstraße 10, 01307 Cunewalde, Germany|\n",
       "|Rancho grande|Av. del Libertador 900, 1010 Buenos Aires, Argentina|\n",
       "|Rattlesnake Canyon Grocery|2817 Milton Dr., 87110 Albuquerque, USA|\n",
       "|Reggiani Caseifici|Strada Provinciale 124, 42100 Reggio Emilia, Italy|\n",
       "|Ricardo Adocicados|Av. Copacabana, 267, 02389-890 Rio de Janeiro, Brazil|\n",
       "|Richter Supermarkt|Grenzacherweg 237, 1203 Genève, Switzerland|\n",
       "|Romero y tomillo|Gran Vía, 1, 28001 Madrid, Spain|\n",
       "|Santé Gourmet|Erling Skakkes gate 78, 4110 Stavern, Norway|\n",
       "|Save-a-lot Markets|187 Suffolk Ln., 83720 Boise, USA|\n",
       "|Seven Seas Imports|90 Wadhurst Rd., OX15 4NB London, UK|\n",
       "|Simons bistro|Vinbæltet 34, 1734 Kobenhavn, Denmark|\n",
       "|Spécialités du monde|25, rue Lauriston, 75016 Paris, France|\n",
       "|Split Rail Beer & Ale|P.O. Box 555, 82520 Lander, USA|\n",
       "|Suprêmes délices|Boulevard Tirou, 255, B-6000 Charleroi, Belgium|\n",
       "|The Big Cheese|89 Jefferson Way Suite 2, 97201 Portland, USA|\n",
       "|The Cracker Box|55 Grizzly Peak Rd., 59801 Butte, USA|\n",
       "|Toms Spezialitäten|Luisenstr. 48, 44087 Münster, Germany|\n",
       "|Tortuga Restaurante|Avda. Azteca 123, 05033 México D.F., Mexico|\n",
       "|Tradição Hipermercados|Av. Inês de Castro, 414, 05634-030 Sao Paulo, Brazil|\n",
       "|Trail's Head Gourmet Provisioners|722 DaVinci Blvd., 98034 Kirkland, USA|\n",
       "|Vaffeljernet|Smagsloget 45, 8200 Århus, Denmark|\n",
       "|IT||\n",
       "|IT||\n",
       "|Victuailles en stock|2, rue du Commerce, 69004 Lyon, France|\n",
       "|Vins et alcools Chevalier|59 rue de l'Abbaye, 51100 Reims, France|\n",
       "|Die Wandernde Kuh|Adenauerallee 900, 70563 Stuttgart, Germany|\n",
       "|Wartian Herkku|Torikatu 38, 90110 Oulu, Finland|\n",
       "|Wellington Importadora|Rua do Mercado, 12, 08737-363 Resende, Brazil|\n",
       "|White Clover Markets|305 - 14th Ave. S. Suite 3B, 98128 Seattle, USA|\n",
       "|Wilman Kala|Keskuskatu 45, 21240 Helsinki, Finland|\n",
       "|Wolski  Zajazd|ul. Filtrowa 68, 01-012 Warszawa, Poland|"
      ],
      "text/plain": [
       "<IPython.core.display.Markdown object>"
      ]
     },
     "metadata": {},
     "output_type": "display_data"
    }
   ],
   "source": [
    "# concatenate columns\n",
    "execute_and_show(cur,\n",
    "                 '''\n",
    "                 SELECT CompanyName, Address || ', ' || PostalCode || ' ' || City || ', ' || Country AS Address\n",
    "                 FROM Customers;\n",
    "                 ''')"
   ]
  },
  {
   "cell_type": "code",
   "execution_count": 111,
   "metadata": {},
   "outputs": [
    {
     "data": {
      "text/markdown": [
       "|CustomerID|CompanyName|ContactName|ContactTitle|Address|City|Region|PostalCode|Country|Phone|Fax|\n",
       "|-|-|-|-|-|-|-|-|-|-|-|\n",
       "|ALFKI|Alfreds Futterkiste|Maria Anders|Sales Representative|Obere Str. 57|Berlin|Western Europe|12209|Germany|030-0074321|030-0076545|\n",
       "|ANATR|Ana Trujillo Emparedados y helados|Ana Trujillo|Owner|Avda. de la Constitución 2222|México D.F.|Central America|05021|Mexico|(5) 555-4729|(5) 555-3745|\n",
       "|ANTON|Antonio Moreno Taquería|Antonio Moreno|Owner|Mataderos  2312|México D.F.|Central America|05023|Mexico|(5) 555-3932||\n",
       "|AROUT|Around the Horn|Thomas Hardy|Sales Representative|120 Hanover Sq.|London|British Isles|WA1 1DP|UK|(171) 555-7788|(171) 555-6750|\n",
       "|BERGS|Berglunds snabbköp|Christina Berglund|Order Administrator|Berguvsvägen  8|Luleå|Northern Europe|S-958 22|Sweden|0921-12 34 65|0921-12 34 67|\n",
       "|BLAUS|Blauer See Delikatessen|Hanna Moos|Sales Representative|Forsterstr. 57|Mannheim|Western Europe|68306|Germany|0621-08460|0621-08924|\n",
       "|BLONP|Blondesddsl père et fils|Frédérique Citeaux|Marketing Manager|24, place Kléber|Strasbourg|Western Europe|67000|France|88.60.15.31|88.60.15.32|\n",
       "|BOLID|Bólido Comidas preparadas|Martín Sommer|Owner|C/ Araquil, 67|Madrid|Southern Europe|28023|Spain|(91) 555 22 82|(91) 555 91 99|\n",
       "|BONAP|Bon app'|Laurence Lebihan|Owner|12, rue des Bouchers|Marseille|Western Europe|13008|France|91.24.45.40|91.24.45.41|\n",
       "|BOTTM|Bottom-Dollar Markets|Elizabeth Lincoln|Accounting Manager|23 Tsawassen Blvd.|Tsawassen|North America|T2F 8M4|Canada|(604) 555-4729|(604) 555-3745|\n",
       "|BSBEV|B's Beverages|Victoria Ashworth|Sales Representative|Fauntleroy Circus|London|British Isles|EC2 5NT|UK|(171) 555-1212||\n",
       "|CACTU|Cactus Comidas para llevar|Patricio Simpson|Sales Agent|Cerrito 333|Buenos Aires|South America|1010|Argentina|(1) 135-5555|(1) 135-4892|\n",
       "|CENTC|Centro comercial Moctezuma|Francisco Chang|Marketing Manager|Sierras de Granada 9993|México D.F.|Central America|05022|Mexico|(5) 555-3392|(5) 555-7293|\n",
       "|CHOPS|Chop-suey Chinese|Yang Wang|Owner|Hauptstr. 29|Bern|Western Europe|3012|Switzerland|0452-076545||\n",
       "|COMMI|Comércio Mineiro|Pedro Afonso|Sales Associate|Av. dos Lusíadas, 23|Sao Paulo|South America|05432-043|Brazil|(11) 555-7647||\n",
       "|CONSH|Consolidated Holdings|Elizabeth Brown|Sales Representative|Berkeley Gardens 12  Brewery|London|British Isles|WX1 6LT|UK|(171) 555-2282|(171) 555-9199|\n",
       "|DRACD|Drachenblut Delikatessen|Sven Ottlieb|Order Administrator|Walserweg 21|Aachen|Western Europe|52066|Germany|0241-039123|0241-059428|\n",
       "|DUMON|Du monde entier|Janine Labrune|Owner|67, rue des Cinquante Otages|Nantes|Western Europe|44000|France|40.67.88.88|40.67.89.89|\n",
       "|EASTC|Eastern Connection|Ann Devon|Sales Agent|35 King George|London|British Isles|WX3 6FW|UK|(171) 555-0297|(171) 555-3373|\n",
       "|ERNSH|Ernst Handel|Roland Mendel|Sales Manager|Kirchgasse 6|Graz|Western Europe|8010|Austria|7675-3425|7675-3426|\n",
       "|FAMIA|Familia Arquibaldo|Aria Cruz|Marketing Assistant|Rua Orós, 92|Sao Paulo|South America|05442-030|Brazil|(11) 555-9857||\n",
       "|FISSA|FISSA Fabrica Inter. Salchichas S.A.|Diego Roel|Accounting Manager|C/ Moralzarzal, 86|Madrid|Southern Europe|28034|Spain|(91) 555 94 44|(91) 555 55 93|\n",
       "|FOLIG|Folies gourmandes|Martine Rancé|Assistant Sales Agent|184, chaussée de Tournai|Lille|Western Europe|59000|France|20.16.10.16|20.16.10.17|\n",
       "|FOLKO|Folk och fä HB|Maria Larsson|Owner|Åkergatan 24|Bräcke|Northern Europe|S-844 67|Sweden|0695-34 67 21||\n",
       "|FRANK|Frankenversand|Peter Franken|Marketing Manager|Berliner Platz 43|München|Western Europe|80805|Germany|089-0877310|089-0877451|\n",
       "|FRANR|France restauration|Carine Schmitt|Marketing Manager|54, rue Royale|Nantes|Western Europe|44000|France|40.32.21.21|40.32.21.20|\n",
       "|FRANS|Franchi S.p.A.|Paolo Accorti|Sales Representative|Via Monte Bianco 34|Torino|Southern Europe|10100|Italy|011-4988260|011-4988261|\n",
       "|FURIB|Furia Bacalhau e Frutos do Mar|Lino Rodriguez|Sales Manager|Jardim das rosas n. 32|Lisboa|Southern Europe|1675|Portugal|(1) 354-2534|(1) 354-2535|\n",
       "|GALED|Galería del gastrónomo|Eduardo Saavedra|Marketing Manager|Rambla de Cataluña, 23|Barcelona|Southern Europe|08022|Spain|(93) 203 4560|(93) 203 4561|\n",
       "|GODOS|Godos Cocina Típica|José Pedro Freyre|Sales Manager|C/ Romero, 33|Sevilla|Southern Europe|41101|Spain|(95) 555 82 82||\n",
       "|GOURL|Gourmet Lanchonetes|André Fonseca|Sales Associate|Av. Brasil, 442|Campinas|South America|04876-786|Brazil|(11) 555-9482||\n",
       "|GREAL|Great Lakes Food Market|Howard Snyder|Marketing Manager|2732 Baker Blvd.|Eugene|North America|97403|USA|(503) 555-7555||\n",
       "|GROSR|GROSELLA-Restaurante|Manuel Pereira|Owner|5ª Ave. Los Palos Grandes|Caracas|South America|1081|Venezuela|(2) 283-2951|(2) 283-3397|\n",
       "|HANAR|Hanari Carnes|Mario Pontes|Accounting Manager|Rua do Paço, 67|Rio de Janeiro|South America|05454-876|Brazil|(21) 555-0091|(21) 555-8765|\n",
       "|HILAA|HILARION-Abastos|Carlos Hernández|Sales Representative|Carrera 22 con Ave. Carlos Soublette #8-35|San Cristóbal|South America|5022|Venezuela|(5) 555-1340|(5) 555-1948|\n",
       "|HUNGC|Hungry Coyote Import Store|Yoshi Latimer|Sales Representative|City Center Plaza 516 Main St.|Elgin|North America|97827|USA|(503) 555-6874|(503) 555-2376|\n",
       "|HUNGO|Hungry Owl All-Night Grocers|Patricia McKenna|Sales Associate|8 Johnstown Road|Cork|British Isles||Ireland|2967 542|2967 3333|\n",
       "|ISLAT|Island Trading|Helen Bennett|Marketing Manager|Garden House Crowther Way|Cowes|British Isles|PO31 7PJ|UK|(198) 555-8888||\n",
       "|KOENE|Königlich Essen|Philip Cramer|Sales Associate|Maubelstr. 90|Brandenburg|Western Europe|14776|Germany|0555-09876||\n",
       "|LACOR|La corne d'abondance|Daniel Tonini|Sales Representative|67, avenue de l'Europe|Versailles|Western Europe|78000|France|30.59.84.10|30.59.85.11|\n",
       "|LAMAI|La maison d'Asie|Annette Roulet|Sales Manager|1 rue Alsace-Lorraine|Toulouse|Western Europe|31000|France|61.77.61.10|61.77.61.11|\n",
       "|LAUGB|Laughing Bacchus Wine Cellars|Yoshi Tannamuri|Marketing Assistant|1900 Oak St.|Vancouver|North America|V3F 2K1|Canada|(604) 555-3392|(604) 555-7293|\n",
       "|LAZYK|Lazy K Kountry Store|John Steel|Marketing Manager|12 Orchestra Terrace|Walla Walla|North America|99362|USA|(509) 555-7969|(509) 555-6221|\n",
       "|LEHMS|Lehmanns Marktstand|Renate Messner|Sales Representative|Magazinweg 7|Frankfurt a.M.|Western Europe|60528|Germany|069-0245984|069-0245874|\n",
       "|LETSS|Let's Stop N Shop|Jaime Yorres|Owner|87 Polk St. Suite 5|San Francisco|North America|94117|USA|(415) 555-5938||\n",
       "|LILAS|LILA-Supermercado|Carlos González|Accounting Manager|Carrera 52 con Ave. Bolívar #65-98 Llano Largo|Barquisimeto|South America|3508|Venezuela|(9) 331-6954|(9) 331-7256|\n",
       "|LINOD|LINO-Delicateses|Felipe Izquierdo|Owner|Ave. 5 de Mayo Porlamar|I. de Margarita|South America|4980|Venezuela|(8) 34-56-12|(8) 34-93-93|\n",
       "|LONEP|Lonesome Pine Restaurant|Fran Wilson|Sales Manager|89 Chiaroscuro Rd.|Portland|North America|97219|USA|(503) 555-9573|(503) 555-9646|\n",
       "|MAGAA|Magazzini Alimentari Riuniti|Giovanni Rovelli|Marketing Manager|Via Ludovico il Moro 22|Bergamo|Southern Europe|24100|Italy|035-640230|035-640231|\n",
       "|MAISD|Maison Dewey|Catherine Dewey|Sales Agent|Rue Joseph-Bens 532|Bruxelles|Western Europe|B-1180|Belgium|(02) 201 24 67|(02) 201 24 68|\n",
       "|MEREP|Mère Paillarde|Jean Fresnière|Marketing Assistant|43 rue St. Laurent|Montréal|North America|H1J 1C3|Canada|(514) 555-8054|(514) 555-8055|\n",
       "|MORGK|Morgenstern Gesundkost|Alexander Feuer|Marketing Assistant|Heerstr. 22|Leipzig|Western Europe|04179|Germany|0342-023176||\n",
       "|NORTS|North/South|Simon Crowther|Sales Associate|South House 300 Queensbridge|London|British Isles|SW7 1RZ|UK|(171) 555-7733|(171) 555-2530|\n",
       "|OCEAN|Océano Atlántico Ltda.|Yvonne Moncada|Sales Agent|Ing. Gustavo Moncada 8585 Piso 20-A|Buenos Aires|South America|1010|Argentina|(1) 135-5333|(1) 135-5535|\n",
       "|OLDWO|Old World Delicatessen|Rene Phillips|Sales Representative|2743 Bering St.|Anchorage|North America|99508|USA|(907) 555-7584|(907) 555-2880|\n",
       "|OTTIK|Ottilies Käseladen|Henriette Pfalzheim|Owner|Mehrheimerstr. 369|Köln|Western Europe|50739|Germany|0221-0644327|0221-0765721|\n",
       "|PARIS|Paris spécialités|Marie Bertrand|Owner|265, boulevard Charonne|Paris|Western Europe|75012|France|(1) 42.34.22.66|(1) 42.34.22.77|\n",
       "|PERIC|Pericles Comidas clásicas|Guillermo Fernández|Sales Representative|Calle Dr. Jorge Cash 321|México D.F.|Central America|05033|Mexico|(5) 552-3745|(5) 545-3745|\n",
       "|PICCO|Piccolo und mehr|Georg Pipps|Sales Manager|Geislweg 14|Salzburg|Western Europe|5020|Austria|6562-9722|6562-9723|\n",
       "|PRINI|Princesa Isabel Vinhos|Isabel de Castro|Sales Representative|Estrada da saúde n. 58|Lisboa|Southern Europe|1756|Portugal|(1) 356-5634||\n",
       "|QUEDE|Que Delícia|Bernardo Batista|Accounting Manager|Rua da Panificadora, 12|Rio de Janeiro|South America|02389-673|Brazil|(21) 555-4252|(21) 555-4545|\n",
       "|QUEEN|Queen Cozinha|Lúcia Carvalho|Marketing Assistant|Alameda dos Canàrios, 891|Sao Paulo|South America|05487-020|Brazil|(11) 555-1189||\n",
       "|QUICK|QUICK-Stop|Horst Kloss|Accounting Manager|Taucherstraße 10|Cunewalde|Western Europe|01307|Germany|0372-035188||\n",
       "|RANCH|Rancho grande|Sergio Gutiérrez|Sales Representative|Av. del Libertador 900|Buenos Aires|South America|1010|Argentina|(1) 123-5555|(1) 123-5556|\n",
       "|RATTC|Rattlesnake Canyon Grocery|Paula Wilson|Assistant Sales Representative|2817 Milton Dr.|Albuquerque|North America|87110|USA|(505) 555-5939|(505) 555-3620|\n",
       "|REGGC|Reggiani Caseifici|Maurizio Moroni|Sales Associate|Strada Provinciale 124|Reggio Emilia|Southern Europe|42100|Italy|0522-556721|0522-556722|\n",
       "|RICAR|Ricardo Adocicados|Janete Limeira|Assistant Sales Agent|Av. Copacabana, 267|Rio de Janeiro|South America|02389-890|Brazil|(21) 555-3412||\n",
       "|RICSU|Richter Supermarkt|Michael Holz|Sales Manager|Grenzacherweg 237|Genève|Western Europe|1203|Switzerland|0897-034214||\n",
       "|ROMEY|Romero y tomillo|Alejandra Camino|Accounting Manager|Gran Vía, 1|Madrid|Southern Europe|28001|Spain|(91) 745 6200|(91) 745 6210|\n",
       "|SANTG|Santé Gourmet|Jonas Bergulfsen|Owner|Erling Skakkes gate 78|Stavern|Scandinavia|4110|Norway|07-98 92 35|07-98 92 47|\n",
       "|SAVEA|Save-a-lot Markets|Jose Pavarotti|Sales Representative|187 Suffolk Ln.|Boise|North America|83720|USA|(208) 555-8097||\n",
       "|SEVES|Seven Seas Imports|Hari Kumar|Sales Manager|90 Wadhurst Rd.|London|British Isles|OX15 4NB|UK|(171) 555-1717|(171) 555-5646|\n",
       "|SIMOB|Simons bistro|Jytte Petersen|Owner|Vinbæltet 34|Kobenhavn|Northern Europe|1734|Denmark|31 12 34 56|31 13 35 57|\n",
       "|SPECD|Spécialités du monde|Dominique Perrier|Marketing Manager|25, rue Lauriston|Paris|Western Europe|75016|France|(1) 47.55.60.10|(1) 47.55.60.20|\n",
       "|SPLIR|Split Rail Beer & Ale|Art Braunschweiger|Sales Manager|P.O. Box 555|Lander|North America|82520|USA|(307) 555-4680|(307) 555-6525|\n",
       "|SUPRD|Suprêmes délices|Pascale Cartrain|Accounting Manager|Boulevard Tirou, 255|Charleroi|Western Europe|B-6000|Belgium|(071) 23 67 22 20|(071) 23 67 22 21|\n",
       "|THEBI|The Big Cheese|Liz Nixon|Marketing Manager|89 Jefferson Way Suite 2|Portland|North America|97201|USA|(503) 555-3612||\n",
       "|THECR|The Cracker Box|Liu Wong|Marketing Assistant|55 Grizzly Peak Rd.|Butte|North America|59801|USA|(406) 555-5834|(406) 555-8083|\n",
       "|TOMSP|Toms Spezialitäten|Karin Josephs|Marketing Manager|Luisenstr. 48|Münster|Western Europe|44087|Germany|0251-031259|0251-035695|\n",
       "|TORTU|Tortuga Restaurante|Miguel Angel Paolino|Owner|Avda. Azteca 123|México D.F.|Central America|05033|Mexico|(5) 555-2933||\n",
       "|TRADH|Tradição Hipermercados|Anabela Domingues|Sales Representative|Av. Inês de Castro, 414|Sao Paulo|South America|05634-030|Brazil|(11) 555-2167|(11) 555-2168|\n",
       "|TRAIH|Trail's Head Gourmet Provisioners|Helvetius Nagy|Sales Associate|722 DaVinci Blvd.|Kirkland|North America|98034|USA|(206) 555-8257|(206) 555-2174|\n",
       "|VAFFE|Vaffeljernet|Palle Ibsen|Sales Manager|Smagsloget 45|Århus|Northern Europe|8200|Denmark|86 21 32 43|86 22 33 44|\n",
       "|Val2 |IT|Val2|IT||||||||\n",
       "|VALON|IT|Valon Hoti|IT||||||||\n",
       "|VICTE|Victuailles en stock|Mary Saveley|Sales Agent|2, rue du Commerce|Lyon|Western Europe|69004|France|78.32.54.86|78.32.54.87|\n",
       "|VINET|Vins et alcools Chevalier|Paul Henriot|Accounting Manager|59 rue de l'Abbaye|Reims|Western Europe|51100|France|26.47.15.10|26.47.15.11|\n",
       "|WANDK|Die Wandernde Kuh|Rita Müller|Sales Representative|Adenauerallee 900|Stuttgart|Western Europe|70563|Germany|0711-020361|0711-035428|\n",
       "|WARTH|Wartian Herkku|Pirkko Koskitalo|Accounting Manager|Torikatu 38|Oulu|Scandinavia|90110|Finland|981-443655|981-443655|\n",
       "|WELLI|Wellington Importadora|Paula Parente|Sales Manager|Rua do Mercado, 12|Resende|South America|08737-363|Brazil|(14) 555-8122||\n",
       "|WHITC|White Clover Markets|Karl Jablonski|Owner|305 - 14th Ave. S. Suite 3B|Seattle|North America|98128|USA|(206) 555-4112|(206) 555-4115|\n",
       "|WILMK|Wilman Kala|Matti Karttunen|Owner/Marketing Assistant|Keskuskatu 45|Helsinki|Scandinavia|21240|Finland|90-224 8858|90-224 8858|\n",
       "|WOLZA|Wolski  Zajazd|Zbyszek Piestrzeniewicz|Owner|ul. Filtrowa 68|Warszawa|Eastern Europe|01-012|Poland|(26) 642-7012|(26) 642-7012|"
      ],
      "text/plain": [
       "<IPython.core.display.Markdown object>"
      ]
     },
     "metadata": {},
     "output_type": "display_data"
    }
   ],
   "source": [
    "# alias for tables\n",
    "execute_and_show(cur,\n",
    "                 '''\n",
    "                 SELECT * FROM Customers AS Persons;\n",
    "                 ''')"
   ]
  },
  {
   "cell_type": "code",
   "execution_count": 112,
   "metadata": {},
   "outputs": [
    {
     "data": {
      "text/markdown": [
       "|OrderID|OrderDate|CompanyName|\n",
       "|-|-|-|\n",
       "|10355|2016-11-15|Around the Horn|\n",
       "|10383|2016-12-16|Around the Horn|\n",
       "|10453|2017-02-21|Around the Horn|\n",
       "|10558|2017-06-04|Around the Horn|\n",
       "|10707|2017-10-16|Around the Horn|\n",
       "|10741|2017-11-14|Around the Horn|\n",
       "|10743|2017-11-17|Around the Horn|\n",
       "|10768|2017-12-08|Around the Horn|\n",
       "|10793|2017-12-24|Around the Horn|\n",
       "|10864|2018-02-02|Around the Horn|\n",
       "|10920|2018-03-03|Around the Horn|\n",
       "|10953|2018-03-16|Around the Horn|\n",
       "|11016|2018-04-10|Around the Horn|\n",
       "|11458|2018-03-24 00:10:41|Around the Horn|\n",
       "|11472|2019-06-30 03:05:43|Around the Horn|\n",
       "|11724|2019-10-25 03:59:11|Around the Horn|\n",
       "|11744|2019-03-28 22:35:30|Around the Horn|\n",
       "|11757|2017-03-26 17:22:47|Around the Horn|\n",
       "|11817|2014-10-24 15:40:43|Around the Horn|\n",
       "|11843|2023-01-19 22:04:06|Around the Horn|\n",
       "|11856|2023-07-18 06:50:04|Around the Horn|\n",
       "|11876|2013-06-26 21:58:32|Around the Horn|\n",
       "|11958|2020-01-07 23:32:32|Around the Horn|\n",
       "|12088|2013-08-07 16:25:18|Around the Horn|\n",
       "|12352|2021-06-15 13:00:52|Around the Horn|\n",
       "|12489|2020-02-26 00:09:23|Around the Horn|\n",
       "|12705|2019-08-08 05:54:09|Around the Horn|\n",
       "|13546|2019-11-05 11:43:25|Around the Horn|\n",
       "|13750|2014-03-16 01:23:29|Around the Horn|\n",
       "|13751|2013-08-13 03:11:50|Around the Horn|\n",
       "|13823|2012-10-11 11:53:58|Around the Horn|\n",
       "|13971|2021-10-01 03:45:51|Around the Horn|\n",
       "|14060|2023-03-26 22:42:46|Around the Horn|\n",
       "|14401|2019-09-13 13:07:23|Around the Horn|\n",
       "|14565|2023-08-26 17:05:17|Around the Horn|\n",
       "|14634|2013-09-19 03:28:18|Around the Horn|\n",
       "|14677|2020-06-23 13:13:58|Around the Horn|\n",
       "|14757|2021-10-26 17:48:56|Around the Horn|\n",
       "|14883|2019-10-17 18:09:30|Around the Horn|\n",
       "|14949|2017-10-07 06:08:44|Around the Horn|\n",
       "|15648|2022-09-20 01:19:15|Around the Horn|\n",
       "|15682|2015-01-03 19:07:14|Around the Horn|\n",
       "|15719|2016-02-02 10:45:57|Around the Horn|\n",
       "|15732|2021-05-06 14:57:14|Around the Horn|\n",
       "|16005|2019-08-30 22:17:48|Around the Horn|\n",
       "|16182|2014-01-22 09:32:28|Around the Horn|\n",
       "|16260|2020-03-14 05:19:56|Around the Horn|\n",
       "|16414|2017-01-16 00:34:23|Around the Horn|\n",
       "|16436|2015-06-11 20:32:41|Around the Horn|\n",
       "|16558|2022-11-27 19:51:02|Around the Horn|\n",
       "|16765|2015-12-17 03:14:20|Around the Horn|\n",
       "|16992|2013-12-21 04:34:10|Around the Horn|\n",
       "|16993|2012-07-11 21:17:46|Around the Horn|\n",
       "|17074|2023-09-04 03:43:14|Around the Horn|\n",
       "|17151|2015-04-22 03:07:48|Around the Horn|\n",
       "|17327|2018-12-29 10:15:27|Around the Horn|\n",
       "|17334|2020-06-17 23:19:15|Around the Horn|\n",
       "|17338|2017-10-28 13:57:49|Around the Horn|\n",
       "|17374|2014-05-25 14:48:36|Around the Horn|\n",
       "|17517|2017-01-06 02:05:52|Around the Horn|\n",
       "|17762|2018-09-01 16:57:52|Around the Horn|\n",
       "|17868|2016-01-10 10:48:34|Around the Horn|\n",
       "|17889|2012-08-12 03:51:29|Around the Horn|\n",
       "|18106|2013-07-31 01:24:30|Around the Horn|\n",
       "|18148|2015-01-11 22:36:53|Around the Horn|\n",
       "|18185|2015-05-25 04:38:15|Around the Horn|\n",
       "|18189|2018-08-08 08:50:43|Around the Horn|\n",
       "|18253|2023-08-19 19:00:57|Around the Horn|\n",
       "|18304|2013-04-24 05:23:08|Around the Horn|\n",
       "|18310|2014-10-04 01:07:32|Around the Horn|\n",
       "|18322|2021-05-23 13:53:24|Around the Horn|\n",
       "|18380|2019-05-12 13:39:42|Around the Horn|\n",
       "|18515|2014-03-10 00:39:09|Around the Horn|\n",
       "|18834|2016-05-22 18:36:54|Around the Horn|\n",
       "|18888|2021-08-10 11:15:10|Around the Horn|\n",
       "|18894|2022-07-02 09:51:14|Around the Horn|\n",
       "|19008|2016-08-01 03:23:46|Around the Horn|\n",
       "|19070|2014-03-16 12:17:27|Around the Horn|\n",
       "|19133|2019-07-30 11:00:56|Around the Horn|\n",
       "|19283|2022-06-03 14:30:20|Around the Horn|\n",
       "|19372|2015-12-12 21:57:26|Around the Horn|\n",
       "|19497|2019-12-28 06:50:46|Around the Horn|\n",
       "|19759|2018-07-26 06:01:59|Around the Horn|\n",
       "|19782|2021-07-11 23:05:20|Around the Horn|\n",
       "|19854|2012-07-23 10:41:56|Around the Horn|\n",
       "|20037|2018-08-12 11:53:56|Around the Horn|\n",
       "|20298|2014-03-11 13:43:43|Around the Horn|\n",
       "|20374|2014-01-09 19:28:29|Around the Horn|\n",
       "|20401|2013-08-19 07:01:33|Around the Horn|\n",
       "|20419|2013-03-20 15:06:16|Around the Horn|\n",
       "|20444|2017-10-15 05:03:34|Around the Horn|\n",
       "|20512|2015-11-30 13:35:43|Around the Horn|\n",
       "|20582|2023-05-18 11:13:25|Around the Horn|\n",
       "|20595|2023-06-13 03:05:12|Around the Horn|\n",
       "|20675|2020-12-20 00:42:16|Around the Horn|\n",
       "|20743|2022-10-18 23:43:13|Around the Horn|\n",
       "|20823|2013-07-14 18:54:05|Around the Horn|\n",
       "|20846|2023-05-02 09:55:19|Around the Horn|\n",
       "|20873|2013-12-03 12:34:50|Around the Horn|\n",
       "|20910|2019-09-09 00:37:39|Around the Horn|\n",
       "|20934|2019-07-27 16:39:10|Around the Horn|\n",
       "|21028|2019-09-01 21:29:25|Around the Horn|\n",
       "|21082|2015-08-30 05:11:44|Around the Horn|\n",
       "|21126|2023-04-01 10:17:51|Around the Horn|\n",
       "|21132|2020-11-16 01:01:08|Around the Horn|\n",
       "|21163|2021-08-31 17:41:07|Around the Horn|\n",
       "|21211|2018-08-11 18:02:21|Around the Horn|\n",
       "|21322|2012-12-19 05:13:14|Around the Horn|\n",
       "|21350|2014-07-03 11:19:15|Around the Horn|\n",
       "|21553|2015-09-08 12:27:56|Around the Horn|\n",
       "|21602|2013-10-25 02:37:38|Around the Horn|\n",
       "|21616|2022-12-16 23:13:08|Around the Horn|\n",
       "|21879|2022-06-15 13:37:27|Around the Horn|\n",
       "|21984|2023-07-20 02:13:36|Around the Horn|\n",
       "|21987|2020-10-15 20:36:17|Around the Horn|\n",
       "|22012|2017-12-19 07:04:56|Around the Horn|\n",
       "|22280|2012-12-12 21:29:10|Around the Horn|\n",
       "|22731|2013-09-06 05:24:41|Around the Horn|\n",
       "|22818|2013-10-02 03:48:36|Around the Horn|\n",
       "|22831|2020-05-24 21:39:37|Around the Horn|\n",
       "|22991|2014-07-25 23:50:10|Around the Horn|\n",
       "|23013|2017-03-02 19:09:31|Around the Horn|\n",
       "|23078|2020-04-22 13:52:00|Around the Horn|\n",
       "|23177|2021-12-23 23:36:38|Around the Horn|\n",
       "|23312|2015-02-08 18:39:56|Around the Horn|\n",
       "|23332|2019-05-06 23:48:38|Around the Horn|\n",
       "|23343|2013-11-01 02:26:22|Around the Horn|\n",
       "|23365|2016-11-20 04:15:27|Around the Horn|\n",
       "|23451|2014-10-02 06:05:28|Around the Horn|\n",
       "|23475|2020-06-27 08:13:59|Around the Horn|\n",
       "|23646|2022-05-09 08:26:07|Around the Horn|\n",
       "|24443|2018-11-23 08:00:50|Around the Horn|\n",
       "|24461|2017-06-28 08:52:48|Around the Horn|\n",
       "|24561|2014-01-04 22:01:03|Around the Horn|\n",
       "|24577|2019-08-26 07:55:20|Around the Horn|\n",
       "|24595|2022-09-03 18:23:29|Around the Horn|\n",
       "|24631|2019-04-21 15:14:08|Around the Horn|\n",
       "|24868|2018-12-14 04:52:00|Around the Horn|\n",
       "|24872|2013-07-27 22:44:13|Around the Horn|\n",
       "|24967|2019-02-10 02:41:27|Around the Horn|\n",
       "|25017|2016-10-07 18:31:08|Around the Horn|\n",
       "|25137|2016-07-02 00:42:35|Around the Horn|\n",
       "|25368|2019-03-27 10:00:51|Around the Horn|\n",
       "|25650|2017-07-02 15:15:06|Around the Horn|\n",
       "|25742|2014-06-21 22:32:42|Around the Horn|\n",
       "|25748|2015-09-25 21:39:40|Around the Horn|\n",
       "|25845|2019-08-08 23:19:22|Around the Horn|\n",
       "|25909|2023-08-13 04:33:54|Around the Horn|\n",
       "|25924|2016-11-21 21:18:39|Around the Horn|\n",
       "|25964|2018-12-21 16:13:02|Around the Horn|\n",
       "|26019|2016-06-21 16:55:52|Around the Horn|\n",
       "|26022|2019-05-01 18:48:39|Around the Horn|\n",
       "|26061|2017-03-22 16:45:33|Around the Horn|\n",
       "|26104|2014-12-17 10:10:59|Around the Horn|\n",
       "|26176|2015-09-08 22:01:02|Around the Horn|\n",
       "|26480|2016-12-10 15:43:49|Around the Horn|"
      ],
      "text/plain": [
       "<IPython.core.display.Markdown object>"
      ]
     },
     "metadata": {},
     "output_type": "display_data"
    }
   ],
   "source": [
    "execute_and_show(cur,\n",
    "                 '''\n",
    "                 SELECT o.OrderID, o.OrderDate, c.CompanyName\n",
    "                 FROM Customers AS c, Orders AS o\n",
    "                 WHERE c.CompanyName='Around the Horn' AND c.CustomerID=o.CustomerID;\n",
    "                 ''')"
   ]
  },
  {
   "cell_type": "code",
   "execution_count": 113,
   "metadata": {},
   "outputs": [
    {
     "data": {
      "text/markdown": [
       "|OrderID|OrderDate|CompanyName|\n",
       "|-|-|-|\n",
       "|10355|2016-11-15|Around the Horn|\n",
       "|10383|2016-12-16|Around the Horn|\n",
       "|10453|2017-02-21|Around the Horn|\n",
       "|10558|2017-06-04|Around the Horn|\n",
       "|10707|2017-10-16|Around the Horn|\n",
       "|10741|2017-11-14|Around the Horn|\n",
       "|10743|2017-11-17|Around the Horn|\n",
       "|10768|2017-12-08|Around the Horn|\n",
       "|10793|2017-12-24|Around the Horn|\n",
       "|10864|2018-02-02|Around the Horn|\n",
       "|10920|2018-03-03|Around the Horn|\n",
       "|10953|2018-03-16|Around the Horn|\n",
       "|11016|2018-04-10|Around the Horn|\n",
       "|11458|2018-03-24 00:10:41|Around the Horn|\n",
       "|11472|2019-06-30 03:05:43|Around the Horn|\n",
       "|11724|2019-10-25 03:59:11|Around the Horn|\n",
       "|11744|2019-03-28 22:35:30|Around the Horn|\n",
       "|11757|2017-03-26 17:22:47|Around the Horn|\n",
       "|11817|2014-10-24 15:40:43|Around the Horn|\n",
       "|11843|2023-01-19 22:04:06|Around the Horn|\n",
       "|11856|2023-07-18 06:50:04|Around the Horn|\n",
       "|11876|2013-06-26 21:58:32|Around the Horn|\n",
       "|11958|2020-01-07 23:32:32|Around the Horn|\n",
       "|12088|2013-08-07 16:25:18|Around the Horn|\n",
       "|12352|2021-06-15 13:00:52|Around the Horn|\n",
       "|12489|2020-02-26 00:09:23|Around the Horn|\n",
       "|12705|2019-08-08 05:54:09|Around the Horn|\n",
       "|13546|2019-11-05 11:43:25|Around the Horn|\n",
       "|13750|2014-03-16 01:23:29|Around the Horn|\n",
       "|13751|2013-08-13 03:11:50|Around the Horn|\n",
       "|13823|2012-10-11 11:53:58|Around the Horn|\n",
       "|13971|2021-10-01 03:45:51|Around the Horn|\n",
       "|14060|2023-03-26 22:42:46|Around the Horn|\n",
       "|14401|2019-09-13 13:07:23|Around the Horn|\n",
       "|14565|2023-08-26 17:05:17|Around the Horn|\n",
       "|14634|2013-09-19 03:28:18|Around the Horn|\n",
       "|14677|2020-06-23 13:13:58|Around the Horn|\n",
       "|14757|2021-10-26 17:48:56|Around the Horn|\n",
       "|14883|2019-10-17 18:09:30|Around the Horn|\n",
       "|14949|2017-10-07 06:08:44|Around the Horn|\n",
       "|15648|2022-09-20 01:19:15|Around the Horn|\n",
       "|15682|2015-01-03 19:07:14|Around the Horn|\n",
       "|15719|2016-02-02 10:45:57|Around the Horn|\n",
       "|15732|2021-05-06 14:57:14|Around the Horn|\n",
       "|16005|2019-08-30 22:17:48|Around the Horn|\n",
       "|16182|2014-01-22 09:32:28|Around the Horn|\n",
       "|16260|2020-03-14 05:19:56|Around the Horn|\n",
       "|16414|2017-01-16 00:34:23|Around the Horn|\n",
       "|16436|2015-06-11 20:32:41|Around the Horn|\n",
       "|16558|2022-11-27 19:51:02|Around the Horn|\n",
       "|16765|2015-12-17 03:14:20|Around the Horn|\n",
       "|16992|2013-12-21 04:34:10|Around the Horn|\n",
       "|16993|2012-07-11 21:17:46|Around the Horn|\n",
       "|17074|2023-09-04 03:43:14|Around the Horn|\n",
       "|17151|2015-04-22 03:07:48|Around the Horn|\n",
       "|17327|2018-12-29 10:15:27|Around the Horn|\n",
       "|17334|2020-06-17 23:19:15|Around the Horn|\n",
       "|17338|2017-10-28 13:57:49|Around the Horn|\n",
       "|17374|2014-05-25 14:48:36|Around the Horn|\n",
       "|17517|2017-01-06 02:05:52|Around the Horn|\n",
       "|17762|2018-09-01 16:57:52|Around the Horn|\n",
       "|17868|2016-01-10 10:48:34|Around the Horn|\n",
       "|17889|2012-08-12 03:51:29|Around the Horn|\n",
       "|18106|2013-07-31 01:24:30|Around the Horn|\n",
       "|18148|2015-01-11 22:36:53|Around the Horn|\n",
       "|18185|2015-05-25 04:38:15|Around the Horn|\n",
       "|18189|2018-08-08 08:50:43|Around the Horn|\n",
       "|18253|2023-08-19 19:00:57|Around the Horn|\n",
       "|18304|2013-04-24 05:23:08|Around the Horn|\n",
       "|18310|2014-10-04 01:07:32|Around the Horn|\n",
       "|18322|2021-05-23 13:53:24|Around the Horn|\n",
       "|18380|2019-05-12 13:39:42|Around the Horn|\n",
       "|18515|2014-03-10 00:39:09|Around the Horn|\n",
       "|18834|2016-05-22 18:36:54|Around the Horn|\n",
       "|18888|2021-08-10 11:15:10|Around the Horn|\n",
       "|18894|2022-07-02 09:51:14|Around the Horn|\n",
       "|19008|2016-08-01 03:23:46|Around the Horn|\n",
       "|19070|2014-03-16 12:17:27|Around the Horn|\n",
       "|19133|2019-07-30 11:00:56|Around the Horn|\n",
       "|19283|2022-06-03 14:30:20|Around the Horn|\n",
       "|19372|2015-12-12 21:57:26|Around the Horn|\n",
       "|19497|2019-12-28 06:50:46|Around the Horn|\n",
       "|19759|2018-07-26 06:01:59|Around the Horn|\n",
       "|19782|2021-07-11 23:05:20|Around the Horn|\n",
       "|19854|2012-07-23 10:41:56|Around the Horn|\n",
       "|20037|2018-08-12 11:53:56|Around the Horn|\n",
       "|20298|2014-03-11 13:43:43|Around the Horn|\n",
       "|20374|2014-01-09 19:28:29|Around the Horn|\n",
       "|20401|2013-08-19 07:01:33|Around the Horn|\n",
       "|20419|2013-03-20 15:06:16|Around the Horn|\n",
       "|20444|2017-10-15 05:03:34|Around the Horn|\n",
       "|20512|2015-11-30 13:35:43|Around the Horn|\n",
       "|20582|2023-05-18 11:13:25|Around the Horn|\n",
       "|20595|2023-06-13 03:05:12|Around the Horn|\n",
       "|20675|2020-12-20 00:42:16|Around the Horn|\n",
       "|20743|2022-10-18 23:43:13|Around the Horn|\n",
       "|20823|2013-07-14 18:54:05|Around the Horn|\n",
       "|20846|2023-05-02 09:55:19|Around the Horn|\n",
       "|20873|2013-12-03 12:34:50|Around the Horn|\n",
       "|20910|2019-09-09 00:37:39|Around the Horn|\n",
       "|20934|2019-07-27 16:39:10|Around the Horn|\n",
       "|21028|2019-09-01 21:29:25|Around the Horn|\n",
       "|21082|2015-08-30 05:11:44|Around the Horn|\n",
       "|21126|2023-04-01 10:17:51|Around the Horn|\n",
       "|21132|2020-11-16 01:01:08|Around the Horn|\n",
       "|21163|2021-08-31 17:41:07|Around the Horn|\n",
       "|21211|2018-08-11 18:02:21|Around the Horn|\n",
       "|21322|2012-12-19 05:13:14|Around the Horn|\n",
       "|21350|2014-07-03 11:19:15|Around the Horn|\n",
       "|21553|2015-09-08 12:27:56|Around the Horn|\n",
       "|21602|2013-10-25 02:37:38|Around the Horn|\n",
       "|21616|2022-12-16 23:13:08|Around the Horn|\n",
       "|21879|2022-06-15 13:37:27|Around the Horn|\n",
       "|21984|2023-07-20 02:13:36|Around the Horn|\n",
       "|21987|2020-10-15 20:36:17|Around the Horn|\n",
       "|22012|2017-12-19 07:04:56|Around the Horn|\n",
       "|22280|2012-12-12 21:29:10|Around the Horn|\n",
       "|22731|2013-09-06 05:24:41|Around the Horn|\n",
       "|22818|2013-10-02 03:48:36|Around the Horn|\n",
       "|22831|2020-05-24 21:39:37|Around the Horn|\n",
       "|22991|2014-07-25 23:50:10|Around the Horn|\n",
       "|23013|2017-03-02 19:09:31|Around the Horn|\n",
       "|23078|2020-04-22 13:52:00|Around the Horn|\n",
       "|23177|2021-12-23 23:36:38|Around the Horn|\n",
       "|23312|2015-02-08 18:39:56|Around the Horn|\n",
       "|23332|2019-05-06 23:48:38|Around the Horn|\n",
       "|23343|2013-11-01 02:26:22|Around the Horn|\n",
       "|23365|2016-11-20 04:15:27|Around the Horn|\n",
       "|23451|2014-10-02 06:05:28|Around the Horn|\n",
       "|23475|2020-06-27 08:13:59|Around the Horn|\n",
       "|23646|2022-05-09 08:26:07|Around the Horn|\n",
       "|24443|2018-11-23 08:00:50|Around the Horn|\n",
       "|24461|2017-06-28 08:52:48|Around the Horn|\n",
       "|24561|2014-01-04 22:01:03|Around the Horn|\n",
       "|24577|2019-08-26 07:55:20|Around the Horn|\n",
       "|24595|2022-09-03 18:23:29|Around the Horn|\n",
       "|24631|2019-04-21 15:14:08|Around the Horn|\n",
       "|24868|2018-12-14 04:52:00|Around the Horn|\n",
       "|24872|2013-07-27 22:44:13|Around the Horn|\n",
       "|24967|2019-02-10 02:41:27|Around the Horn|\n",
       "|25017|2016-10-07 18:31:08|Around the Horn|\n",
       "|25137|2016-07-02 00:42:35|Around the Horn|\n",
       "|25368|2019-03-27 10:00:51|Around the Horn|\n",
       "|25650|2017-07-02 15:15:06|Around the Horn|\n",
       "|25742|2014-06-21 22:32:42|Around the Horn|\n",
       "|25748|2015-09-25 21:39:40|Around the Horn|\n",
       "|25845|2019-08-08 23:19:22|Around the Horn|\n",
       "|25909|2023-08-13 04:33:54|Around the Horn|\n",
       "|25924|2016-11-21 21:18:39|Around the Horn|\n",
       "|25964|2018-12-21 16:13:02|Around the Horn|\n",
       "|26019|2016-06-21 16:55:52|Around the Horn|\n",
       "|26022|2019-05-01 18:48:39|Around the Horn|\n",
       "|26061|2017-03-22 16:45:33|Around the Horn|\n",
       "|26104|2014-12-17 10:10:59|Around the Horn|\n",
       "|26176|2015-09-08 22:01:02|Around the Horn|\n",
       "|26480|2016-12-10 15:43:49|Around the Horn|"
      ],
      "text/plain": [
       "<IPython.core.display.Markdown object>"
      ]
     },
     "metadata": {},
     "output_type": "display_data"
    }
   ],
   "source": [
    "# same result as above, but without aliases\n",
    "execute_and_show(cur,\n",
    "                 '''\n",
    "                 SELECT Orders.OrderID, Orders.OrderDate, Customers.CompanyName\n",
    "                 FROM Customers, Orders\n",
    "                 WHERE Customers.CompanyName='Around the Horn' AND Customers.CustomerID=Orders.CustomerID;\n",
    "                 ''')"
   ]
  },
  {
   "cell_type": "markdown",
   "metadata": {},
   "source": [
    "# SQL JOIN"
   ]
  },
  {
   "cell_type": "code",
   "execution_count": 114,
   "metadata": {},
   "outputs": [
    {
     "data": {
      "text/markdown": [
       "|OrderID|CompanyName|OrderDate|\n",
       "|-|-|-|\n",
       "|10248|Vins et alcools Chevalier|2016-07-04|\n",
       "|10249|Toms Spezialitäten|2016-07-05|\n",
       "|10250|Hanari Carnes|2016-07-08|\n",
       "|10251|Victuailles en stock|2016-07-08|\n",
       "|10252|Suprêmes délices|2016-07-09|\n",
       "|10253|Hanari Carnes|2016-07-10|\n",
       "|10254|Chop-suey Chinese|2016-07-11|\n",
       "|10255|Richter Supermarkt|2016-07-12|\n",
       "|10256|Wellington Importadora|2016-07-15|\n",
       "|10257|HILARION-Abastos|2016-07-16|\n",
       "|10258|Ernst Handel|2016-07-17|\n",
       "|10259|Centro comercial Moctezuma|2016-07-18|\n",
       "|10260|Ottilies Käseladen|2016-07-19|\n",
       "|10261|Que Delícia|2016-07-19|\n",
       "|10262|Rattlesnake Canyon Grocery|2016-07-22|\n",
       "|10263|Ernst Handel|2016-07-23|\n",
       "|10264|Folk och fä HB|2016-07-24|\n",
       "|10265|Blondesddsl père et fils|2016-07-25|\n",
       "|10266|Wartian Herkku|2016-07-26|\n",
       "|10267|Frankenversand|2016-07-29|"
      ],
      "text/plain": [
       "<IPython.core.display.Markdown object>"
      ]
     },
     "metadata": {},
     "output_type": "display_data"
    }
   ],
   "source": [
    "# 결과가 너무 큰 관계로 일부 생략\n",
    "execute_and_show(cur,\n",
    "                 '''\n",
    "                 SELECT Orders.OrderID, Customers.CompanyName, Orders.OrderDate\n",
    "                 FROM Orders\n",
    "                 INNER JOIN Customers ON Orders.CustomerID=Customers.CustomerID\n",
    "                 LIMIT 20;\n",
    "                 ''')"
   ]
  },
  {
   "cell_type": "markdown",
   "metadata": {},
   "source": [
    "# SQL INNER JOIN"
   ]
  },
  {
   "cell_type": "code",
   "execution_count": 115,
   "metadata": {},
   "outputs": [
    {
     "data": {
      "text/markdown": [
       "|ProductID|ProductName|CategoryName|\n",
       "|-|-|-|\n",
       "|1|Chai|Beverages|\n",
       "|2|Chang|Beverages|\n",
       "|3|Aniseed Syrup|Condiments|\n",
       "|4|Chef Anton's Cajun Seasoning|Condiments|\n",
       "|5|Chef Anton's Gumbo Mix|Condiments|\n",
       "|6|Grandma's Boysenberry Spread|Condiments|\n",
       "|7|Uncle Bob's Organic Dried Pears|Produce|\n",
       "|8|Northwoods Cranberry Sauce|Condiments|\n",
       "|9|Mishi Kobe Niku|Meat/Poultry|\n",
       "|10|Ikura|Seafood|\n",
       "|11|Queso Cabrales|Dairy Products|\n",
       "|12|Queso Manchego La Pastora|Dairy Products|\n",
       "|13|Konbu|Seafood|\n",
       "|14|Tofu|Produce|\n",
       "|15|Genen Shouyu|Condiments|\n",
       "|16|Pavlova|Confections|\n",
       "|17|Alice Mutton|Meat/Poultry|\n",
       "|18|Carnarvon Tigers|Seafood|\n",
       "|19|Teatime Chocolate Biscuits|Confections|\n",
       "|20|Sir Rodney's Marmalade|Confections|\n",
       "|21|Sir Rodney's Scones|Confections|\n",
       "|22|Gustaf's Knäckebröd|Grains/Cereals|\n",
       "|23|Tunnbröd|Grains/Cereals|\n",
       "|24|Guaraná Fantástica|Beverages|\n",
       "|25|NuNuCa Nuß-Nougat-Creme|Confections|\n",
       "|26|Gumbär Gummibärchen|Confections|\n",
       "|27|Schoggi Schokolade|Confections|\n",
       "|28|Rössle Sauerkraut|Produce|\n",
       "|29|Thüringer Rostbratwurst|Meat/Poultry|\n",
       "|30|Nord-Ost Matjeshering|Seafood|\n",
       "|31|Gorgonzola Telino|Dairy Products|\n",
       "|32|Mascarpone Fabioli|Dairy Products|\n",
       "|33|Geitost|Dairy Products|\n",
       "|34|Sasquatch Ale|Beverages|\n",
       "|35|Steeleye Stout|Beverages|\n",
       "|36|Inlagd Sill|Seafood|\n",
       "|37|Gravad lax|Seafood|\n",
       "|38|Côte de Blaye|Beverages|\n",
       "|39|Chartreuse verte|Beverages|\n",
       "|40|Boston Crab Meat|Seafood|\n",
       "|41|Jack's New England Clam Chowder|Seafood|\n",
       "|42|Singaporean Hokkien Fried Mee|Grains/Cereals|\n",
       "|43|Ipoh Coffee|Beverages|\n",
       "|44|Gula Malacca|Condiments|\n",
       "|45|Rogede sild|Seafood|\n",
       "|46|Spegesild|Seafood|\n",
       "|47|Zaanse koeken|Confections|\n",
       "|48|Chocolade|Confections|\n",
       "|49|Maxilaku|Confections|\n",
       "|50|Valkoinen suklaa|Confections|\n",
       "|51|Manjimup Dried Apples|Produce|\n",
       "|52|Filo Mix|Grains/Cereals|\n",
       "|53|Perth Pasties|Meat/Poultry|\n",
       "|54|Tourtière|Meat/Poultry|\n",
       "|55|Pâté chinois|Meat/Poultry|\n",
       "|56|Gnocchi di nonna Alice|Grains/Cereals|\n",
       "|57|Ravioli Angelo|Grains/Cereals|\n",
       "|58|Escargots de Bourgogne|Seafood|\n",
       "|59|Raclette Courdavault|Dairy Products|\n",
       "|60|Camembert Pierrot|Dairy Products|\n",
       "|61|Sirop d'érable|Condiments|\n",
       "|62|Tarte au sucre|Confections|\n",
       "|63|Vegie-spread|Condiments|\n",
       "|64|Wimmers gute Semmelknödel|Grains/Cereals|\n",
       "|65|Louisiana Fiery Hot Pepper Sauce|Condiments|\n",
       "|66|Louisiana Hot Spiced Okra|Condiments|\n",
       "|67|Laughing Lumberjack Lager|Beverages|\n",
       "|68|Scottish Longbreads|Confections|\n",
       "|69|Gudbrandsdalsost|Dairy Products|\n",
       "|70|Outback Lager|Beverages|\n",
       "|71|Flotemysost|Dairy Products|\n",
       "|72|Mozzarella di Giovanni|Dairy Products|\n",
       "|73|Röd Kaviar|Seafood|\n",
       "|74|Longlife Tofu|Produce|\n",
       "|75|Rhönbräu Klosterbier|Beverages|\n",
       "|76|Lakkalikööri|Beverages|\n",
       "|77|Original Frankfurter grüne Soße|Condiments|"
      ],
      "text/plain": [
       "<IPython.core.display.Markdown object>"
      ]
     },
     "metadata": {},
     "output_type": "display_data"
    }
   ],
   "source": [
    "execute_and_show(cur,\n",
    "                 '''\n",
    "                 SELECT ProductID, ProductName, CategoryName\n",
    "                 FROM Products\n",
    "                 INNER JOIN Categories ON Products.CategoryID=Categories.CategoryID;\n",
    "                 ''')"
   ]
  },
  {
   "cell_type": "code",
   "execution_count": 116,
   "metadata": {},
   "outputs": [
    {
     "data": {
      "text/markdown": [
       "|ProductID|ProductName|CategoryName|\n",
       "|-|-|-|\n",
       "|1|Chai|Beverages|\n",
       "|2|Chang|Beverages|\n",
       "|3|Aniseed Syrup|Condiments|\n",
       "|4|Chef Anton's Cajun Seasoning|Condiments|\n",
       "|5|Chef Anton's Gumbo Mix|Condiments|\n",
       "|6|Grandma's Boysenberry Spread|Condiments|\n",
       "|7|Uncle Bob's Organic Dried Pears|Produce|\n",
       "|8|Northwoods Cranberry Sauce|Condiments|\n",
       "|9|Mishi Kobe Niku|Meat/Poultry|\n",
       "|10|Ikura|Seafood|\n",
       "|11|Queso Cabrales|Dairy Products|\n",
       "|12|Queso Manchego La Pastora|Dairy Products|\n",
       "|13|Konbu|Seafood|\n",
       "|14|Tofu|Produce|\n",
       "|15|Genen Shouyu|Condiments|\n",
       "|16|Pavlova|Confections|\n",
       "|17|Alice Mutton|Meat/Poultry|\n",
       "|18|Carnarvon Tigers|Seafood|\n",
       "|19|Teatime Chocolate Biscuits|Confections|\n",
       "|20|Sir Rodney's Marmalade|Confections|\n",
       "|21|Sir Rodney's Scones|Confections|\n",
       "|22|Gustaf's Knäckebröd|Grains/Cereals|\n",
       "|23|Tunnbröd|Grains/Cereals|\n",
       "|24|Guaraná Fantástica|Beverages|\n",
       "|25|NuNuCa Nuß-Nougat-Creme|Confections|\n",
       "|26|Gumbär Gummibärchen|Confections|\n",
       "|27|Schoggi Schokolade|Confections|\n",
       "|28|Rössle Sauerkraut|Produce|\n",
       "|29|Thüringer Rostbratwurst|Meat/Poultry|\n",
       "|30|Nord-Ost Matjeshering|Seafood|\n",
       "|31|Gorgonzola Telino|Dairy Products|\n",
       "|32|Mascarpone Fabioli|Dairy Products|\n",
       "|33|Geitost|Dairy Products|\n",
       "|34|Sasquatch Ale|Beverages|\n",
       "|35|Steeleye Stout|Beverages|\n",
       "|36|Inlagd Sill|Seafood|\n",
       "|37|Gravad lax|Seafood|\n",
       "|38|Côte de Blaye|Beverages|\n",
       "|39|Chartreuse verte|Beverages|\n",
       "|40|Boston Crab Meat|Seafood|\n",
       "|41|Jack's New England Clam Chowder|Seafood|\n",
       "|42|Singaporean Hokkien Fried Mee|Grains/Cereals|\n",
       "|43|Ipoh Coffee|Beverages|\n",
       "|44|Gula Malacca|Condiments|\n",
       "|45|Rogede sild|Seafood|\n",
       "|46|Spegesild|Seafood|\n",
       "|47|Zaanse koeken|Confections|\n",
       "|48|Chocolade|Confections|\n",
       "|49|Maxilaku|Confections|\n",
       "|50|Valkoinen suklaa|Confections|\n",
       "|51|Manjimup Dried Apples|Produce|\n",
       "|52|Filo Mix|Grains/Cereals|\n",
       "|53|Perth Pasties|Meat/Poultry|\n",
       "|54|Tourtière|Meat/Poultry|\n",
       "|55|Pâté chinois|Meat/Poultry|\n",
       "|56|Gnocchi di nonna Alice|Grains/Cereals|\n",
       "|57|Ravioli Angelo|Grains/Cereals|\n",
       "|58|Escargots de Bourgogne|Seafood|\n",
       "|59|Raclette Courdavault|Dairy Products|\n",
       "|60|Camembert Pierrot|Dairy Products|\n",
       "|61|Sirop d'érable|Condiments|\n",
       "|62|Tarte au sucre|Confections|\n",
       "|63|Vegie-spread|Condiments|\n",
       "|64|Wimmers gute Semmelknödel|Grains/Cereals|\n",
       "|65|Louisiana Fiery Hot Pepper Sauce|Condiments|\n",
       "|66|Louisiana Hot Spiced Okra|Condiments|\n",
       "|67|Laughing Lumberjack Lager|Beverages|\n",
       "|68|Scottish Longbreads|Confections|\n",
       "|69|Gudbrandsdalsost|Dairy Products|\n",
       "|70|Outback Lager|Beverages|\n",
       "|71|Flotemysost|Dairy Products|\n",
       "|72|Mozzarella di Giovanni|Dairy Products|\n",
       "|73|Röd Kaviar|Seafood|\n",
       "|74|Longlife Tofu|Produce|\n",
       "|75|Rhönbräu Klosterbier|Beverages|\n",
       "|76|Lakkalikööri|Beverages|\n",
       "|77|Original Frankfurter grüne Soße|Condiments|"
      ],
      "text/plain": [
       "<IPython.core.display.Markdown object>"
      ]
     },
     "metadata": {},
     "output_type": "display_data"
    }
   ],
   "source": [
    "# naming the columns\n",
    "execute_and_show(cur,\n",
    "                 '''\n",
    "                 SELECT Products.ProductID, Products.ProductName, Categories.CategoryName\n",
    "                 FROM Products\n",
    "                 INNER JOIN Categories ON Products.CategoryID=Categories.CategoryID;\n",
    "                 ''')"
   ]
  },
  {
   "cell_type": "code",
   "execution_count": 117,
   "metadata": {},
   "outputs": [
    {
     "data": {
      "text/markdown": [
       "|ProductID|ProductName|CategoryName|\n",
       "|-|-|-|\n",
       "|1|Chai|Beverages|\n",
       "|2|Chang|Beverages|\n",
       "|3|Aniseed Syrup|Condiments|\n",
       "|4|Chef Anton's Cajun Seasoning|Condiments|\n",
       "|5|Chef Anton's Gumbo Mix|Condiments|\n",
       "|6|Grandma's Boysenberry Spread|Condiments|\n",
       "|7|Uncle Bob's Organic Dried Pears|Produce|\n",
       "|8|Northwoods Cranberry Sauce|Condiments|\n",
       "|9|Mishi Kobe Niku|Meat/Poultry|\n",
       "|10|Ikura|Seafood|\n",
       "|11|Queso Cabrales|Dairy Products|\n",
       "|12|Queso Manchego La Pastora|Dairy Products|\n",
       "|13|Konbu|Seafood|\n",
       "|14|Tofu|Produce|\n",
       "|15|Genen Shouyu|Condiments|\n",
       "|16|Pavlova|Confections|\n",
       "|17|Alice Mutton|Meat/Poultry|\n",
       "|18|Carnarvon Tigers|Seafood|\n",
       "|19|Teatime Chocolate Biscuits|Confections|\n",
       "|20|Sir Rodney's Marmalade|Confections|\n",
       "|21|Sir Rodney's Scones|Confections|\n",
       "|22|Gustaf's Knäckebröd|Grains/Cereals|\n",
       "|23|Tunnbröd|Grains/Cereals|\n",
       "|24|Guaraná Fantástica|Beverages|\n",
       "|25|NuNuCa Nuß-Nougat-Creme|Confections|\n",
       "|26|Gumbär Gummibärchen|Confections|\n",
       "|27|Schoggi Schokolade|Confections|\n",
       "|28|Rössle Sauerkraut|Produce|\n",
       "|29|Thüringer Rostbratwurst|Meat/Poultry|\n",
       "|30|Nord-Ost Matjeshering|Seafood|\n",
       "|31|Gorgonzola Telino|Dairy Products|\n",
       "|32|Mascarpone Fabioli|Dairy Products|\n",
       "|33|Geitost|Dairy Products|\n",
       "|34|Sasquatch Ale|Beverages|\n",
       "|35|Steeleye Stout|Beverages|\n",
       "|36|Inlagd Sill|Seafood|\n",
       "|37|Gravad lax|Seafood|\n",
       "|38|Côte de Blaye|Beverages|\n",
       "|39|Chartreuse verte|Beverages|\n",
       "|40|Boston Crab Meat|Seafood|\n",
       "|41|Jack's New England Clam Chowder|Seafood|\n",
       "|42|Singaporean Hokkien Fried Mee|Grains/Cereals|\n",
       "|43|Ipoh Coffee|Beverages|\n",
       "|44|Gula Malacca|Condiments|\n",
       "|45|Rogede sild|Seafood|\n",
       "|46|Spegesild|Seafood|\n",
       "|47|Zaanse koeken|Confections|\n",
       "|48|Chocolade|Confections|\n",
       "|49|Maxilaku|Confections|\n",
       "|50|Valkoinen suklaa|Confections|\n",
       "|51|Manjimup Dried Apples|Produce|\n",
       "|52|Filo Mix|Grains/Cereals|\n",
       "|53|Perth Pasties|Meat/Poultry|\n",
       "|54|Tourtière|Meat/Poultry|\n",
       "|55|Pâté chinois|Meat/Poultry|\n",
       "|56|Gnocchi di nonna Alice|Grains/Cereals|\n",
       "|57|Ravioli Angelo|Grains/Cereals|\n",
       "|58|Escargots de Bourgogne|Seafood|\n",
       "|59|Raclette Courdavault|Dairy Products|\n",
       "|60|Camembert Pierrot|Dairy Products|\n",
       "|61|Sirop d'érable|Condiments|\n",
       "|62|Tarte au sucre|Confections|\n",
       "|63|Vegie-spread|Condiments|\n",
       "|64|Wimmers gute Semmelknödel|Grains/Cereals|\n",
       "|65|Louisiana Fiery Hot Pepper Sauce|Condiments|\n",
       "|66|Louisiana Hot Spiced Okra|Condiments|\n",
       "|67|Laughing Lumberjack Lager|Beverages|\n",
       "|68|Scottish Longbreads|Confections|\n",
       "|69|Gudbrandsdalsost|Dairy Products|\n",
       "|70|Outback Lager|Beverages|\n",
       "|71|Flotemysost|Dairy Products|\n",
       "|72|Mozzarella di Giovanni|Dairy Products|\n",
       "|73|Röd Kaviar|Seafood|\n",
       "|74|Longlife Tofu|Produce|\n",
       "|75|Rhönbräu Klosterbier|Beverages|\n",
       "|76|Lakkalikööri|Beverages|\n",
       "|77|Original Frankfurter grüne Soße|Condiments|"
      ],
      "text/plain": [
       "<IPython.core.display.Markdown object>"
      ]
     },
     "metadata": {},
     "output_type": "display_data"
    }
   ],
   "source": [
    "# JOIN or INNER JOIN\n",
    "execute_and_show(cur,\n",
    "                 '''\n",
    "                 SELECT Products.ProductID, Products.ProductName, Categories.CategoryName\n",
    "                 FROM Products\n",
    "                 JOIN Categories ON Products.CategoryID = Categories.CategoryID;\n",
    "                 ''')"
   ]
  },
  {
   "cell_type": "code",
   "execution_count": 118,
   "metadata": {},
   "outputs": [
    {
     "data": {
      "text/markdown": [
       "|OrderID|CompanyName|CompanyName|\n",
       "|-|-|-|\n",
       "|10248|Vins et alcools Chevalier|Federal Shipping|\n",
       "|10249|Toms Spezialitäten|Speedy Express|\n",
       "|10250|Hanari Carnes|United Package|\n",
       "|10251|Victuailles en stock|Speedy Express|\n",
       "|10252|Suprêmes délices|United Package|\n",
       "|10253|Hanari Carnes|United Package|\n",
       "|10254|Chop-suey Chinese|United Package|\n",
       "|10255|Richter Supermarkt|Federal Shipping|\n",
       "|10256|Wellington Importadora|United Package|\n",
       "|10257|HILARION-Abastos|Federal Shipping|\n",
       "|10258|Ernst Handel|Speedy Express|\n",
       "|10259|Centro comercial Moctezuma|Federal Shipping|\n",
       "|10260|Ottilies Käseladen|Speedy Express|\n",
       "|10261|Que Delícia|United Package|\n",
       "|10262|Rattlesnake Canyon Grocery|Federal Shipping|\n",
       "|10263|Ernst Handel|Federal Shipping|\n",
       "|10264|Folk och fä HB|Federal Shipping|\n",
       "|10265|Blondesddsl père et fils|Speedy Express|\n",
       "|10266|Wartian Herkku|Federal Shipping|\n",
       "|10267|Frankenversand|Speedy Express|"
      ],
      "text/plain": [
       "<IPython.core.display.Markdown object>"
      ]
     },
     "metadata": {},
     "output_type": "display_data"
    }
   ],
   "source": [
    "# JOIN three tables\n",
    "# 결과가 너무 큰 관계로 일부 생략\n",
    "execute_and_show(cur,\n",
    "                 '''\n",
    "                 SELECT Orders.OrderID, Customers.CompanyName, Shippers.CompanyName\n",
    "                 FROM ((Orders\n",
    "                 INNER JOIN Customers ON Orders.CustomerID = Customers.CustomerID)\n",
    "                 INNER JOIN Shippers ON Orders.ShipVia = Shippers.ShipperID)\n",
    "                 LIMIT 20;\n",
    "                 ''')"
   ]
  },
  {
   "cell_type": "markdown",
   "metadata": {},
   "source": [
    "# SQL LEFT JOIN"
   ]
  },
  {
   "cell_type": "code",
   "execution_count": 119,
   "metadata": {},
   "outputs": [
    {
     "data": {
      "text/markdown": [
       "|CompanyName|OrderID|\n",
       "|-|-|\n",
       "|Alfreds Futterkiste|10643|\n",
       "|Alfreds Futterkiste|10692|\n",
       "|Alfreds Futterkiste|10702|\n",
       "|Alfreds Futterkiste|10835|\n",
       "|Alfreds Futterkiste|10952|\n",
       "|Alfreds Futterkiste|11011|\n",
       "|Alfreds Futterkiste|11240|\n",
       "|Alfreds Futterkiste|11450|\n",
       "|Alfreds Futterkiste|11658|\n",
       "|Alfreds Futterkiste|11683|\n",
       "|Alfreds Futterkiste|11717|\n",
       "|Alfreds Futterkiste|11789|\n",
       "|Alfreds Futterkiste|11798|\n",
       "|Alfreds Futterkiste|11819|\n",
       "|Alfreds Futterkiste|11835|\n",
       "|Alfreds Futterkiste|11863|\n",
       "|Alfreds Futterkiste|11869|\n",
       "|Alfreds Futterkiste|11908|\n",
       "|Alfreds Futterkiste|12037|\n",
       "|Alfreds Futterkiste|12078|"
      ],
      "text/plain": [
       "<IPython.core.display.Markdown object>"
      ]
     },
     "metadata": {},
     "output_type": "display_data"
    }
   ],
   "source": [
    "# 결과가 너무 많은 관계로 일부 생략\n",
    "execute_and_show(cur,\n",
    "                 '''\n",
    "                 SELECT Customers.CompanyName, Orders.OrderID\n",
    "                 FROM Customers\n",
    "                 LEFT JOIN Orders ON Customers.CustomerID = Orders.CustomerID\n",
    "                 ORDER BY Customers.CompanyName\n",
    "                 LIMIT 20;\n",
    "                 ''')"
   ]
  },
  {
   "cell_type": "markdown",
   "metadata": {},
   "source": [
    "# SQL RIGHT JOIN"
   ]
  },
  {
   "cell_type": "code",
   "execution_count": 120,
   "metadata": {},
   "outputs": [
    {
     "data": {
      "text/markdown": [
       "|OrderID|LastName|FirstName|\n",
       "|-|-|-|\n",
       "|10248|Buchanan|Steven|\n",
       "|10249|Suyama|Michael|\n",
       "|10250|Peacock|Margaret|\n",
       "|10251|Leverling|Janet|\n",
       "|10252|Peacock|Margaret|\n",
       "|10253|Leverling|Janet|\n",
       "|10254|Buchanan|Steven|\n",
       "|10255|Dodsworth|Anne|\n",
       "|10256|Leverling|Janet|\n",
       "|10257|Peacock|Margaret|\n",
       "|10258|Davolio|Nancy|\n",
       "|10259|Peacock|Margaret|\n",
       "|10260|Peacock|Margaret|\n",
       "|10261|Peacock|Margaret|\n",
       "|10262|Callahan|Laura|\n",
       "|10263|Dodsworth|Anne|\n",
       "|10264|Suyama|Michael|\n",
       "|10265|Fuller|Andrew|\n",
       "|10266|Leverling|Janet|\n",
       "|10267|Peacock|Margaret|"
      ],
      "text/plain": [
       "<IPython.core.display.Markdown object>"
      ]
     },
     "metadata": {},
     "output_type": "display_data"
    }
   ],
   "source": [
    "# 결과가 많은 관계로 일부 생략\n",
    "execute_and_show(cur,\n",
    "                 '''\n",
    "                 SELECT Orders.OrderID, Employees.LastName, Employees.FirstName\n",
    "                 FROM Orders\n",
    "                 RIGHT JOIN Employees ON Orders.EmployeeID = Employees.EmployeeID\n",
    "                 ORDER BY Orders.OrderID\n",
    "                 LIMIT 20;\n",
    "                 ''')"
   ]
  },
  {
   "cell_type": "markdown",
   "metadata": {},
   "source": [
    "# SQL FULL OUTER JOIN"
   ]
  },
  {
   "cell_type": "code",
   "execution_count": 121,
   "metadata": {},
   "outputs": [
    {
     "data": {
      "text/markdown": [
       "|CompanyName|OrderID|\n",
       "|-|-|\n",
       "|Alfreds Futterkiste|10643|\n",
       "|Alfreds Futterkiste|10692|\n",
       "|Alfreds Futterkiste|10702|\n",
       "|Alfreds Futterkiste|10835|\n",
       "|Alfreds Futterkiste|10952|\n",
       "|Alfreds Futterkiste|11011|\n",
       "|Alfreds Futterkiste|11240|\n",
       "|Alfreds Futterkiste|11450|\n",
       "|Alfreds Futterkiste|11658|\n",
       "|Alfreds Futterkiste|11683|\n",
       "|Alfreds Futterkiste|11717|\n",
       "|Alfreds Futterkiste|11789|\n",
       "|Alfreds Futterkiste|11798|\n",
       "|Alfreds Futterkiste|11819|\n",
       "|Alfreds Futterkiste|11835|\n",
       "|Alfreds Futterkiste|11863|\n",
       "|Alfreds Futterkiste|11869|\n",
       "|Alfreds Futterkiste|11908|\n",
       "|Alfreds Futterkiste|12037|\n",
       "|Alfreds Futterkiste|12078|"
      ],
      "text/plain": [
       "<IPython.core.display.Markdown object>"
      ]
     },
     "metadata": {},
     "output_type": "display_data"
    }
   ],
   "source": [
    "# 결과가 너무 많은 관계로 일부 생략\n",
    "execute_and_show(cur,\n",
    "                 '''\n",
    "                 SELECT Customers.CompanyName, Orders.OrderID\n",
    "                 FROM Customers\n",
    "                 FULL OUTER JOIN Orders ON Customers.CustomerID = Orders.CustomerID\n",
    "                 ORDER BY Customers.CompanyName\n",
    "                 LIMIT 20;\n",
    "                 ''')"
   ]
  },
  {
   "cell_type": "markdown",
   "metadata": {},
   "source": [
    "# SQL Self Join"
   ]
  },
  {
   "cell_type": "code",
   "execution_count": 122,
   "metadata": {},
   "outputs": [
    {
     "data": {
      "text/markdown": [
       "|CustomerName1|CustomerName2|City|\n",
       "|-|-|-|\n",
       "|Cactus Comidas para llevar|Océano Atlántico Ltda.|Buenos Aires|\n",
       "|Cactus Comidas para llevar|Rancho grande|Buenos Aires|\n",
       "|Océano Atlántico Ltda.|Cactus Comidas para llevar|Buenos Aires|\n",
       "|Océano Atlántico Ltda.|Rancho grande|Buenos Aires|\n",
       "|Rancho grande|Cactus Comidas para llevar|Buenos Aires|\n",
       "|Rancho grande|Océano Atlántico Ltda.|Buenos Aires|\n",
       "|Furia Bacalhau e Frutos do Mar|Princesa Isabel Vinhos|Lisboa|\n",
       "|Princesa Isabel Vinhos|Furia Bacalhau e Frutos do Mar|Lisboa|\n",
       "|Around the Horn|B's Beverages|London|\n",
       "|Around the Horn|Consolidated Holdings|London|\n",
       "|Around the Horn|Eastern Connection|London|\n",
       "|Around the Horn|North/South|London|\n",
       "|Around the Horn|Seven Seas Imports|London|\n",
       "|B's Beverages|Around the Horn|London|\n",
       "|B's Beverages|Consolidated Holdings|London|\n",
       "|B's Beverages|Eastern Connection|London|\n",
       "|B's Beverages|North/South|London|\n",
       "|B's Beverages|Seven Seas Imports|London|\n",
       "|Consolidated Holdings|Around the Horn|London|\n",
       "|Consolidated Holdings|B's Beverages|London|\n",
       "|Consolidated Holdings|Eastern Connection|London|\n",
       "|Consolidated Holdings|North/South|London|\n",
       "|Consolidated Holdings|Seven Seas Imports|London|\n",
       "|Eastern Connection|Around the Horn|London|\n",
       "|Eastern Connection|B's Beverages|London|\n",
       "|Eastern Connection|Consolidated Holdings|London|\n",
       "|Eastern Connection|North/South|London|\n",
       "|Eastern Connection|Seven Seas Imports|London|\n",
       "|North/South|Around the Horn|London|\n",
       "|North/South|B's Beverages|London|\n",
       "|North/South|Consolidated Holdings|London|\n",
       "|North/South|Eastern Connection|London|\n",
       "|North/South|Seven Seas Imports|London|\n",
       "|Seven Seas Imports|Around the Horn|London|\n",
       "|Seven Seas Imports|B's Beverages|London|\n",
       "|Seven Seas Imports|Consolidated Holdings|London|\n",
       "|Seven Seas Imports|Eastern Connection|London|\n",
       "|Seven Seas Imports|North/South|London|\n",
       "|Bólido Comidas preparadas|FISSA Fabrica Inter. Salchichas S.A.|Madrid|\n",
       "|Bólido Comidas preparadas|Romero y tomillo|Madrid|\n",
       "|FISSA Fabrica Inter. Salchichas S.A.|Bólido Comidas preparadas|Madrid|\n",
       "|FISSA Fabrica Inter. Salchichas S.A.|Romero y tomillo|Madrid|\n",
       "|Romero y tomillo|Bólido Comidas preparadas|Madrid|\n",
       "|Romero y tomillo|FISSA Fabrica Inter. Salchichas S.A.|Madrid|\n",
       "|Ana Trujillo Emparedados y helados|Antonio Moreno Taquería|México D.F.|\n",
       "|Ana Trujillo Emparedados y helados|Centro comercial Moctezuma|México D.F.|\n",
       "|Ana Trujillo Emparedados y helados|Pericles Comidas clásicas|México D.F.|\n",
       "|Ana Trujillo Emparedados y helados|Tortuga Restaurante|México D.F.|\n",
       "|Antonio Moreno Taquería|Ana Trujillo Emparedados y helados|México D.F.|\n",
       "|Antonio Moreno Taquería|Centro comercial Moctezuma|México D.F.|\n",
       "|Antonio Moreno Taquería|Pericles Comidas clásicas|México D.F.|\n",
       "|Antonio Moreno Taquería|Tortuga Restaurante|México D.F.|\n",
       "|Centro comercial Moctezuma|Ana Trujillo Emparedados y helados|México D.F.|\n",
       "|Centro comercial Moctezuma|Antonio Moreno Taquería|México D.F.|\n",
       "|Centro comercial Moctezuma|Pericles Comidas clásicas|México D.F.|\n",
       "|Centro comercial Moctezuma|Tortuga Restaurante|México D.F.|\n",
       "|Pericles Comidas clásicas|Ana Trujillo Emparedados y helados|México D.F.|\n",
       "|Pericles Comidas clásicas|Antonio Moreno Taquería|México D.F.|\n",
       "|Pericles Comidas clásicas|Centro comercial Moctezuma|México D.F.|\n",
       "|Pericles Comidas clásicas|Tortuga Restaurante|México D.F.|\n",
       "|Tortuga Restaurante|Ana Trujillo Emparedados y helados|México D.F.|\n",
       "|Tortuga Restaurante|Antonio Moreno Taquería|México D.F.|\n",
       "|Tortuga Restaurante|Centro comercial Moctezuma|México D.F.|\n",
       "|Tortuga Restaurante|Pericles Comidas clásicas|México D.F.|\n",
       "|Du monde entier|France restauration|Nantes|\n",
       "|France restauration|Du monde entier|Nantes|\n",
       "|Paris spécialités|Spécialités du monde|Paris|\n",
       "|Spécialités du monde|Paris spécialités|Paris|\n",
       "|Lonesome Pine Restaurant|The Big Cheese|Portland|\n",
       "|The Big Cheese|Lonesome Pine Restaurant|Portland|\n",
       "|Hanari Carnes|Que Delícia|Rio de Janeiro|\n",
       "|Hanari Carnes|Ricardo Adocicados|Rio de Janeiro|\n",
       "|Que Delícia|Hanari Carnes|Rio de Janeiro|\n",
       "|Que Delícia|Ricardo Adocicados|Rio de Janeiro|\n",
       "|Ricardo Adocicados|Hanari Carnes|Rio de Janeiro|\n",
       "|Ricardo Adocicados|Que Delícia|Rio de Janeiro|\n",
       "|Comércio Mineiro|Familia Arquibaldo|Sao Paulo|\n",
       "|Comércio Mineiro|Queen Cozinha|Sao Paulo|\n",
       "|Comércio Mineiro|Tradição Hipermercados|Sao Paulo|\n",
       "|Familia Arquibaldo|Comércio Mineiro|Sao Paulo|\n",
       "|Familia Arquibaldo|Queen Cozinha|Sao Paulo|\n",
       "|Familia Arquibaldo|Tradição Hipermercados|Sao Paulo|\n",
       "|Queen Cozinha|Comércio Mineiro|Sao Paulo|\n",
       "|Queen Cozinha|Familia Arquibaldo|Sao Paulo|\n",
       "|Queen Cozinha|Tradição Hipermercados|Sao Paulo|\n",
       "|Tradição Hipermercados|Comércio Mineiro|Sao Paulo|\n",
       "|Tradição Hipermercados|Familia Arquibaldo|Sao Paulo|\n",
       "|Tradição Hipermercados|Queen Cozinha|Sao Paulo|"
      ],
      "text/plain": [
       "<IPython.core.display.Markdown object>"
      ]
     },
     "metadata": {},
     "output_type": "display_data"
    }
   ],
   "source": [
    "execute_and_show(cur,\n",
    "                 '''\n",
    "                 SELECT A.CompanyName AS CustomerName1, B.CompanyName AS CustomerName2, A.City\n",
    "                 FROM Customers A, Customers B\n",
    "                 WHERE A.CustomerID <> B.CustomerID\n",
    "                 AND A.City = B.City\n",
    "                 ORDER BY A.City;\n",
    "                 ''')"
   ]
  },
  {
   "cell_type": "markdown",
   "metadata": {},
   "source": [
    "# SQL UNION"
   ]
  },
  {
   "cell_type": "code",
   "execution_count": 123,
   "metadata": {},
   "outputs": [
    {
     "data": {
      "text/markdown": [
       "|City|\n",
       "|-|\n",
       "||\n",
       "|Aachen|\n",
       "|Albuquerque|\n",
       "|Anchorage|\n",
       "|Ann Arbor|\n",
       "|Annecy|\n",
       "|Barcelona|\n",
       "|Barquisimeto|\n",
       "|Bend|\n",
       "|Bergamo|\n",
       "|Berlin|\n",
       "|Bern|\n",
       "|Boise|\n",
       "|Boston|\n",
       "|Brandenburg|\n",
       "|Bruxelles|\n",
       "|Bräcke|\n",
       "|Buenos Aires|\n",
       "|Butte|\n",
       "|Campinas|\n",
       "|Caracas|\n",
       "|Charleroi|\n",
       "|Cork|\n",
       "|Cowes|\n",
       "|Cunewalde|\n",
       "|Cuxhaven|\n",
       "|Elgin|\n",
       "|Eugene|\n",
       "|Frankfurt|\n",
       "|Frankfurt a.M.|\n",
       "|Genève|\n",
       "|Graz|\n",
       "|Göteborg|\n",
       "|Helsinki|\n",
       "|I. de Margarita|\n",
       "|Kirkland|\n",
       "|Kobenhavn|\n",
       "|Köln|\n",
       "|Lander|\n",
       "|Lappeenranta|\n",
       "|Leipzig|\n",
       "|Lille|\n",
       "|Lisboa|\n",
       "|London|\n",
       "|Luleå|\n",
       "|Lyngby|\n",
       "|Lyon|\n",
       "|Madrid|\n",
       "|Manchester|\n",
       "|Mannheim|\n",
       "|Marseille|\n",
       "|Melbourne|\n",
       "|Montceau|\n",
       "|Montréal|\n",
       "|México D.F.|\n",
       "|München|\n",
       "|Münster|\n",
       "|Nantes|\n",
       "|New Orleans|\n",
       "|Osaka|\n",
       "|Oulu|\n",
       "|Oviedo|\n",
       "|Paris|\n",
       "|Portland|\n",
       "|Ravenna|\n",
       "|Reggio Emilia|\n",
       "|Reims|\n",
       "|Resende|\n",
       "|Rio de Janeiro|\n",
       "|Salerno|\n",
       "|Salzburg|\n",
       "|San Cristóbal|\n",
       "|San Francisco|\n",
       "|Sandvika|\n",
       "|Sao Paulo|\n",
       "|Seattle|\n",
       "|Sevilla|\n",
       "|Singapore|\n",
       "|Stavern|\n",
       "|Ste-Hyacinthe|\n",
       "|Stockholm|\n",
       "|Strasbourg|\n",
       "|Stuttgart|\n",
       "|Sydney|\n",
       "|São Paulo|\n",
       "|Tokyo|\n",
       "|Torino|\n",
       "|Toulouse|\n",
       "|Tsawassen|\n",
       "|Vancouver|\n",
       "|Versailles|\n",
       "|Walla Walla|\n",
       "|Warszawa|\n",
       "|Zaandam|\n",
       "|Århus|"
      ],
      "text/plain": [
       "<IPython.core.display.Markdown object>"
      ]
     },
     "metadata": {},
     "output_type": "display_data"
    }
   ],
   "source": [
    "execute_and_show(cur,\n",
    "                 '''\n",
    "                 SELECT City FROM Customers\n",
    "                 UNION\n",
    "                 SELECT City FROM Suppliers\n",
    "                 ORDER BY City;\n",
    "                 ''')"
   ]
  },
  {
   "cell_type": "code",
   "execution_count": 124,
   "metadata": {},
   "outputs": [
    {
     "data": {
      "text/markdown": [
       "|City|\n",
       "|-|\n",
       "||\n",
       "||\n",
       "|Aachen|\n",
       "|Albuquerque|\n",
       "|Anchorage|\n",
       "|Ann Arbor|\n",
       "|Annecy|\n",
       "|Barcelona|\n",
       "|Barquisimeto|\n",
       "|Bend|\n",
       "|Bergamo|\n",
       "|Berlin|\n",
       "|Berlin|\n",
       "|Bern|\n",
       "|Boise|\n",
       "|Boston|\n",
       "|Brandenburg|\n",
       "|Bruxelles|\n",
       "|Bräcke|\n",
       "|Buenos Aires|\n",
       "|Buenos Aires|\n",
       "|Buenos Aires|\n",
       "|Butte|\n",
       "|Campinas|\n",
       "|Caracas|\n",
       "|Charleroi|\n",
       "|Cork|\n",
       "|Cowes|\n",
       "|Cunewalde|\n",
       "|Cuxhaven|\n",
       "|Elgin|\n",
       "|Eugene|\n",
       "|Frankfurt|\n",
       "|Frankfurt a.M.|\n",
       "|Genève|\n",
       "|Graz|\n",
       "|Göteborg|\n",
       "|Helsinki|\n",
       "|I. de Margarita|\n",
       "|Kirkland|\n",
       "|Kobenhavn|\n",
       "|Köln|\n",
       "|Lander|\n",
       "|Lappeenranta|\n",
       "|Leipzig|\n",
       "|Lille|\n",
       "|Lisboa|\n",
       "|Lisboa|\n",
       "|London|\n",
       "|London|\n",
       "|London|\n",
       "|London|\n",
       "|London|\n",
       "|London|\n",
       "|London|\n",
       "|Luleå|\n",
       "|Lyngby|\n",
       "|Lyon|\n",
       "|Madrid|\n",
       "|Madrid|\n",
       "|Madrid|\n",
       "|Manchester|\n",
       "|Mannheim|\n",
       "|Marseille|\n",
       "|Melbourne|\n",
       "|Montceau|\n",
       "|Montréal|\n",
       "|Montréal|\n",
       "|México D.F.|\n",
       "|México D.F.|\n",
       "|México D.F.|\n",
       "|México D.F.|\n",
       "|México D.F.|\n",
       "|München|\n",
       "|Münster|\n",
       "|Nantes|\n",
       "|Nantes|\n",
       "|New Orleans|\n",
       "|Osaka|\n",
       "|Oulu|\n",
       "|Oviedo|\n",
       "|Paris|\n",
       "|Paris|\n",
       "|Paris|\n",
       "|Portland|\n",
       "|Portland|\n",
       "|Ravenna|\n",
       "|Reggio Emilia|\n",
       "|Reims|\n",
       "|Resende|\n",
       "|Rio de Janeiro|\n",
       "|Rio de Janeiro|\n",
       "|Rio de Janeiro|\n",
       "|Salerno|\n",
       "|Salzburg|\n",
       "|San Cristóbal|\n",
       "|San Francisco|\n",
       "|Sandvika|\n",
       "|Sao Paulo|\n",
       "|Sao Paulo|\n",
       "|Sao Paulo|\n",
       "|Sao Paulo|\n",
       "|Seattle|\n",
       "|Sevilla|\n",
       "|Singapore|\n",
       "|Stavern|\n",
       "|Ste-Hyacinthe|\n",
       "|Stockholm|\n",
       "|Strasbourg|\n",
       "|Stuttgart|\n",
       "|Sydney|\n",
       "|São Paulo|\n",
       "|Tokyo|\n",
       "|Torino|\n",
       "|Toulouse|\n",
       "|Tsawassen|\n",
       "|Vancouver|\n",
       "|Versailles|\n",
       "|Walla Walla|\n",
       "|Warszawa|\n",
       "|Zaandam|\n",
       "|Århus|"
      ],
      "text/plain": [
       "<IPython.core.display.Markdown object>"
      ]
     },
     "metadata": {},
     "output_type": "display_data"
    }
   ],
   "source": [
    "# UNION ALL\n",
    "execute_and_show(cur,\n",
    "                 '''\n",
    "                 SELECT City FROM Customers\n",
    "                 UNION ALL\n",
    "                 SELECT City FROM Suppliers\n",
    "                 ORDER BY City;\n",
    "                 ''')"
   ]
  },
  {
   "cell_type": "code",
   "execution_count": 125,
   "metadata": {},
   "outputs": [
    {
     "data": {
      "text/markdown": [
       "|City|Country|\n",
       "|-|-|\n",
       "|Aachen|Germany|\n",
       "|Berlin|Germany|\n",
       "|Brandenburg|Germany|\n",
       "|Cunewalde|Germany|\n",
       "|Cuxhaven|Germany|\n",
       "|Frankfurt|Germany|\n",
       "|Frankfurt a.M.|Germany|\n",
       "|Köln|Germany|\n",
       "|Leipzig|Germany|\n",
       "|Mannheim|Germany|\n",
       "|München|Germany|\n",
       "|Münster|Germany|\n",
       "|Stuttgart|Germany|"
      ],
      "text/plain": [
       "<IPython.core.display.Markdown object>"
      ]
     },
     "metadata": {},
     "output_type": "display_data"
    }
   ],
   "source": [
    "# UNION with WHERE\n",
    "execute_and_show(cur,\n",
    "                 '''\n",
    "                 SELECT City, Country FROM Customers\n",
    "                 WHERE Country='Germany'\n",
    "                 UNION\n",
    "                 SELECT City, Country FROM Suppliers\n",
    "                 WHERE Country='Germany'\n",
    "                 ORDER BY City;\n",
    "                 ''')"
   ]
  },
  {
   "cell_type": "code",
   "execution_count": 126,
   "metadata": {},
   "outputs": [
    {
     "data": {
      "text/markdown": [
       "|City|Country|\n",
       "|-|-|\n",
       "|Aachen|Germany|\n",
       "|Berlin|Germany|\n",
       "|Berlin|Germany|\n",
       "|Brandenburg|Germany|\n",
       "|Cunewalde|Germany|\n",
       "|Cuxhaven|Germany|\n",
       "|Frankfurt|Germany|\n",
       "|Frankfurt a.M.|Germany|\n",
       "|Köln|Germany|\n",
       "|Leipzig|Germany|\n",
       "|Mannheim|Germany|\n",
       "|München|Germany|\n",
       "|Münster|Germany|\n",
       "|Stuttgart|Germany|"
      ],
      "text/plain": [
       "<IPython.core.display.Markdown object>"
      ]
     },
     "metadata": {},
     "output_type": "display_data"
    }
   ],
   "source": [
    "# UNION ALL with WHERE\n",
    "execute_and_show(cur,\n",
    "                 '''\n",
    "                 SELECT City, Country FROM Customers\n",
    "                 WHERE Country='Germany'\n",
    "                 UNION ALL\n",
    "                 SELECT City, Country FROM Suppliers\n",
    "                 WHERE Country='Germany'\n",
    "                 ORDER BY City;\n",
    "                 ''')"
   ]
  },
  {
   "cell_type": "code",
   "execution_count": 127,
   "metadata": {},
   "outputs": [
    {
     "data": {
      "text/markdown": [
       "|Type|ContactName|City|Country|\n",
       "|-|-|-|-|\n",
       "|Customer|Alejandra Camino|Madrid|Spain|\n",
       "|Customer|Alexander Feuer|Leipzig|Germany|\n",
       "|Customer|Ana Trujillo|México D.F.|Mexico|\n",
       "|Customer|Anabela Domingues|Sao Paulo|Brazil|\n",
       "|Customer|André Fonseca|Campinas|Brazil|\n",
       "|Customer|Ann Devon|London|UK|\n",
       "|Customer|Annette Roulet|Toulouse|France|\n",
       "|Customer|Antonio Moreno|México D.F.|Mexico|\n",
       "|Customer|Aria Cruz|Sao Paulo|Brazil|\n",
       "|Customer|Art Braunschweiger|Lander|USA|\n",
       "|Customer|Bernardo Batista|Rio de Janeiro|Brazil|\n",
       "|Customer|Carine Schmitt|Nantes|France|\n",
       "|Customer|Carlos González|Barquisimeto|Venezuela|\n",
       "|Customer|Carlos Hernández|San Cristóbal|Venezuela|\n",
       "|Customer|Catherine Dewey|Bruxelles|Belgium|\n",
       "|Customer|Christina Berglund|Luleå|Sweden|\n",
       "|Customer|Daniel Tonini|Versailles|France|\n",
       "|Customer|Diego Roel|Madrid|Spain|\n",
       "|Customer|Dominique Perrier|Paris|France|\n",
       "|Customer|Eduardo Saavedra|Barcelona|Spain|\n",
       "|Customer|Elizabeth Brown|London|UK|\n",
       "|Customer|Elizabeth Lincoln|Tsawassen|Canada|\n",
       "|Customer|Felipe Izquierdo|I. de Margarita|Venezuela|\n",
       "|Customer|Fran Wilson|Portland|USA|\n",
       "|Customer|Francisco Chang|México D.F.|Mexico|\n",
       "|Customer|Frédérique Citeaux|Strasbourg|France|\n",
       "|Customer|Georg Pipps|Salzburg|Austria|\n",
       "|Customer|Giovanni Rovelli|Bergamo|Italy|\n",
       "|Customer|Guillermo Fernández|México D.F.|Mexico|\n",
       "|Customer|Hanna Moos|Mannheim|Germany|\n",
       "|Customer|Hari Kumar|London|UK|\n",
       "|Customer|Helen Bennett|Cowes|UK|\n",
       "|Customer|Helvetius Nagy|Kirkland|USA|\n",
       "|Customer|Henriette Pfalzheim|Köln|Germany|\n",
       "|Customer|Horst Kloss|Cunewalde|Germany|\n",
       "|Customer|Howard Snyder|Eugene|USA|\n",
       "|Customer|Isabel de Castro|Lisboa|Portugal|\n",
       "|Customer|Jaime Yorres|San Francisco|USA|\n",
       "|Customer|Janete Limeira|Rio de Janeiro|Brazil|\n",
       "|Customer|Janine Labrune|Nantes|France|\n",
       "|Customer|Jean Fresnière|Montréal|Canada|\n",
       "|Customer|John Steel|Walla Walla|USA|\n",
       "|Customer|Jonas Bergulfsen|Stavern|Norway|\n",
       "|Customer|Jose Pavarotti|Boise|USA|\n",
       "|Customer|José Pedro Freyre|Sevilla|Spain|\n",
       "|Customer|Jytte Petersen|Kobenhavn|Denmark|\n",
       "|Customer|Karin Josephs|Münster|Germany|\n",
       "|Customer|Karl Jablonski|Seattle|USA|\n",
       "|Customer|Laurence Lebihan|Marseille|France|\n",
       "|Customer|Lino Rodriguez|Lisboa|Portugal|\n",
       "|Customer|Liu Wong|Butte|USA|\n",
       "|Customer|Liz Nixon|Portland|USA|\n",
       "|Customer|Lúcia Carvalho|Sao Paulo|Brazil|\n",
       "|Customer|Manuel Pereira|Caracas|Venezuela|\n",
       "|Customer|Maria Anders|Berlin|Germany|\n",
       "|Customer|Maria Larsson|Bräcke|Sweden|\n",
       "|Customer|Marie Bertrand|Paris|France|\n",
       "|Customer|Mario Pontes|Rio de Janeiro|Brazil|\n",
       "|Customer|Martine Rancé|Lille|France|\n",
       "|Customer|Martín Sommer|Madrid|Spain|\n",
       "|Customer|Mary Saveley|Lyon|France|\n",
       "|Customer|Matti Karttunen|Helsinki|Finland|\n",
       "|Customer|Maurizio Moroni|Reggio Emilia|Italy|\n",
       "|Customer|Michael Holz|Genève|Switzerland|\n",
       "|Customer|Miguel Angel Paolino|México D.F.|Mexico|\n",
       "|Customer|Palle Ibsen|Århus|Denmark|\n",
       "|Customer|Paolo Accorti|Torino|Italy|\n",
       "|Customer|Pascale Cartrain|Charleroi|Belgium|\n",
       "|Customer|Patricia McKenna|Cork|Ireland|\n",
       "|Customer|Patricio Simpson|Buenos Aires|Argentina|\n",
       "|Customer|Paul Henriot|Reims|France|\n",
       "|Customer|Paula Parente|Resende|Brazil|\n",
       "|Customer|Paula Wilson|Albuquerque|USA|\n",
       "|Customer|Pedro Afonso|Sao Paulo|Brazil|\n",
       "|Customer|Peter Franken|München|Germany|\n",
       "|Customer|Philip Cramer|Brandenburg|Germany|\n",
       "|Customer|Pirkko Koskitalo|Oulu|Finland|\n",
       "|Customer|Renate Messner|Frankfurt a.M.|Germany|\n",
       "|Customer|Rene Phillips|Anchorage|USA|\n",
       "|Customer|Rita Müller|Stuttgart|Germany|\n",
       "|Customer|Roland Mendel|Graz|Austria|\n",
       "|Customer|Sergio Gutiérrez|Buenos Aires|Argentina|\n",
       "|Customer|Simon Crowther|London|UK|\n",
       "|Customer|Sven Ottlieb|Aachen|Germany|\n",
       "|Customer|Thomas Hardy|London|UK|\n",
       "|Customer|Val2|||\n",
       "|Customer|Valon Hoti|||\n",
       "|Customer|Victoria Ashworth|London|UK|\n",
       "|Customer|Yang Wang|Bern|Switzerland|\n",
       "|Customer|Yoshi Latimer|Elgin|USA|\n",
       "|Customer|Yoshi Tannamuri|Vancouver|Canada|\n",
       "|Customer|Yvonne Moncada|Buenos Aires|Argentina|\n",
       "|Customer|Zbyszek Piestrzeniewicz|Warszawa|Poland|\n",
       "|Supplier|Anne Heikkonen|Lappeenranta|Finland|\n",
       "|Supplier|Antonio del Valle Saavedra |Oviedo|Spain|\n",
       "|Supplier|Beate Vileid|Sandvika|Norway|\n",
       "|Supplier|Carlos Diaz|São Paulo|Brazil|\n",
       "|Supplier|Chandra Leka|Singapore|Singapore|\n",
       "|Supplier|Chantal Goulet|Ste-Hyacinthe|Canada|\n",
       "|Supplier|Charlotte Cooper|London|UK|\n",
       "|Supplier|Cheryl Saylor|Bend|USA|\n",
       "|Supplier|Dirk Luchte|Zaandam|Netherlands|\n",
       "|Supplier|Eliane Noz|Annecy|France|\n",
       "|Supplier|Elio Rossi|Ravenna|Italy|\n",
       "|Supplier|Giovanni Giudici|Salerno|Italy|\n",
       "|Supplier|Guylène Nodier|Paris|France|\n",
       "|Supplier|Ian Devling|Melbourne|Australia|\n",
       "|Supplier|Jean-Guy Lauzon|Montréal|Canada|\n",
       "|Supplier|Lars Peterson|Göteborg|Sweden |\n",
       "|Supplier|Marie Delamare|Montceau|France|\n",
       "|Supplier|Martin Bein|Frankfurt|Germany|\n",
       "|Supplier|Mayumi Ohno|Osaka|Japan|\n",
       "|Supplier|Michael Björn|Stockholm|Sweden|\n",
       "|Supplier|Niels Petersen|Lyngby|Denmark|\n",
       "|Supplier|Peter Wilson|Manchester|UK|\n",
       "|Supplier|Petra Winkler|Berlin|Germany|\n",
       "|Supplier|Regina Murphy|Ann Arbor|USA|\n",
       "|Supplier|Robb Merchant|Boston|USA|\n",
       "|Supplier|Shelley Burke|New Orleans|USA|\n",
       "|Supplier|Sven Petersen|Cuxhaven|Germany|\n",
       "|Supplier|Wendy Mackenzie|Sydney|Australia|\n",
       "|Supplier|Yoshi Nagase|Tokyo|Japan|"
      ],
      "text/plain": [
       "<IPython.core.display.Markdown object>"
      ]
     },
     "metadata": {},
     "output_type": "display_data"
    }
   ],
   "source": [
    "execute_and_show(cur,\n",
    "                 '''\n",
    "                 SELECT 'Customer' AS Type, ContactName, City, Country\n",
    "                 FROM Customers\n",
    "                 UNION\n",
    "                 SELECT 'Supplier', ContactName, City, Country\n",
    "                 FROM Suppliers;\n",
    "                 ''')"
   ]
  },
  {
   "cell_type": "markdown",
   "metadata": {},
   "source": [
    "# SQL GROUP BY"
   ]
  },
  {
   "cell_type": "code",
   "execution_count": 128,
   "metadata": {},
   "outputs": [
    {
     "data": {
      "text/markdown": [
       "|COUNT(CustomerID)|Country|\n",
       "|-|-|\n",
       "|2||\n",
       "|3|Argentina|\n",
       "|2|Austria|\n",
       "|2|Belgium|\n",
       "|9|Brazil|\n",
       "|3|Canada|\n",
       "|2|Denmark|\n",
       "|2|Finland|\n",
       "|11|France|\n",
       "|11|Germany|\n",
       "|1|Ireland|\n",
       "|3|Italy|\n",
       "|5|Mexico|\n",
       "|1|Norway|\n",
       "|1|Poland|\n",
       "|2|Portugal|\n",
       "|5|Spain|\n",
       "|2|Sweden|\n",
       "|2|Switzerland|\n",
       "|7|UK|\n",
       "|13|USA|\n",
       "|4|Venezuela|"
      ],
      "text/plain": [
       "<IPython.core.display.Markdown object>"
      ]
     },
     "metadata": {},
     "output_type": "display_data"
    }
   ],
   "source": [
    "execute_and_show(cur,\n",
    "                 '''\n",
    "                 SELECT COUNT(CustomerID), Country\n",
    "                 FROM Customers\n",
    "                 GROUP BY Country;\n",
    "                 ''')"
   ]
  },
  {
   "cell_type": "code",
   "execution_count": 129,
   "metadata": {},
   "outputs": [
    {
     "data": {
      "text/markdown": [
       "|COUNT(CustomerID)|Country|\n",
       "|-|-|\n",
       "|13|USA|\n",
       "|11|Germany|\n",
       "|11|France|\n",
       "|9|Brazil|\n",
       "|7|UK|\n",
       "|5|Spain|\n",
       "|5|Mexico|\n",
       "|4|Venezuela|\n",
       "|3|Italy|\n",
       "|3|Canada|\n",
       "|3|Argentina|\n",
       "|2|Switzerland|\n",
       "|2|Sweden|\n",
       "|2|Portugal|\n",
       "|2|Finland|\n",
       "|2|Denmark|\n",
       "|2|Belgium|\n",
       "|2|Austria|\n",
       "|2||\n",
       "|1|Poland|\n",
       "|1|Norway|\n",
       "|1|Ireland|"
      ],
      "text/plain": [
       "<IPython.core.display.Markdown object>"
      ]
     },
     "metadata": {},
     "output_type": "display_data"
    }
   ],
   "source": [
    "execute_and_show(cur,\n",
    "                 '''\n",
    "                 SELECT COUNT(CustomerID), Country\n",
    "                 FROM Customers\n",
    "                 GROUP BY Country\n",
    "                 Order BY COUNT(CustomerID) DESC;\n",
    "                 ''')"
   ]
  },
  {
   "cell_type": "code",
   "execution_count": 130,
   "metadata": {},
   "outputs": [
    {
     "data": {
      "text/markdown": [
       "|CompanyName|NumberOfOrders|\n",
       "|-|-|\n",
       "|Federal Shipping|5461|\n",
       "|Speedy Express|5335|\n",
       "|United Package|5486|"
      ],
      "text/plain": [
       "<IPython.core.display.Markdown object>"
      ]
     },
     "metadata": {},
     "output_type": "display_data"
    }
   ],
   "source": [
    "# GROUP BY with JOIN\n",
    "execute_and_show(cur,\n",
    "                 '''\n",
    "                 SELECT Shippers.CompanyName, COUNT(Orders.OrderID) AS NumberOfOrders FROM Orders\n",
    "                 LEFT JOIN Shippers ON Orders.ShipVia = Shippers.ShipperID\n",
    "                 GROUP BY CompanyName;\n",
    "                 ''')"
   ]
  },
  {
   "cell_type": "markdown",
   "metadata": {},
   "source": [
    "# SQL HAVING"
   ]
  },
  {
   "cell_type": "code",
   "execution_count": 131,
   "metadata": {},
   "outputs": [
    {
     "data": {
      "text/markdown": [
       "|COUNT(CustomerID)|Country|\n",
       "|-|-|\n",
       "|9|Brazil|\n",
       "|11|France|\n",
       "|11|Germany|\n",
       "|7|UK|\n",
       "|13|USA|"
      ],
      "text/plain": [
       "<IPython.core.display.Markdown object>"
      ]
     },
     "metadata": {},
     "output_type": "display_data"
    }
   ],
   "source": [
    "execute_and_show(cur,\n",
    "                 '''\n",
    "                 SELECT COUNT(CustomerID), Country\n",
    "                 FROM Customers\n",
    "                 GROUP BY Country\n",
    "                 HAVING COUNT(CustomerID) > 5;\n",
    "                 ''')"
   ]
  },
  {
   "cell_type": "code",
   "execution_count": 132,
   "metadata": {},
   "outputs": [
    {
     "data": {
      "text/markdown": [
       "|COUNT(CustomerID)|Country|\n",
       "|-|-|\n",
       "|13|USA|\n",
       "|11|Germany|\n",
       "|11|France|\n",
       "|9|Brazil|\n",
       "|7|UK|"
      ],
      "text/plain": [
       "<IPython.core.display.Markdown object>"
      ]
     },
     "metadata": {},
     "output_type": "display_data"
    }
   ],
   "source": [
    "execute_and_show(cur,\n",
    "                 '''\n",
    "                 SELECT COUNT(CustomerID), Country\n",
    "                 FROM Customers\n",
    "                 GROUP BY Country\n",
    "                 HAVING COUNT(CustomerID) > 5\n",
    "                 ORDER BY COUNT(CustomerID) DESC;\n",
    "                 ''')"
   ]
  },
  {
   "cell_type": "code",
   "execution_count": 133,
   "metadata": {},
   "outputs": [
    {
     "data": {
      "text/markdown": [
       "|LastName|NumberOfOrders|\n",
       "|-|-|\n",
       "|Buchanan|1804|\n",
       "|Callahan|1798|\n",
       "|Davolio|1846|\n",
       "|Dodsworth|1766|\n",
       "|Fuller|1771|\n",
       "|King|1789|\n",
       "|Leverling|1846|\n",
       "|Peacock|1908|\n",
       "|Suyama|1754|"
      ],
      "text/plain": [
       "<IPython.core.display.Markdown object>"
      ]
     },
     "metadata": {},
     "output_type": "display_data"
    }
   ],
   "source": [
    "execute_and_show(cur,\n",
    "                 '''\n",
    "                 SELECT Employees.LastName, COUNT(Orders.OrderID) AS NumberOfOrders\n",
    "                 FROM (Orders\n",
    "                 INNER JOIN Employees ON Orders.EmployeeID = Employees.EmployeeID)\n",
    "                 GROUP BY LastName\n",
    "                 HAVING COUNT(Orders.OrderID) > 10;\n",
    "                 ''')"
   ]
  },
  {
   "cell_type": "code",
   "execution_count": 134,
   "metadata": {},
   "outputs": [
    {
     "data": {
      "text/markdown": [
       "|LastName|NumberOfOrders|\n",
       "|-|-|\n",
       "|Davolio|1846|\n",
       "|Fuller|1771|"
      ],
      "text/plain": [
       "<IPython.core.display.Markdown object>"
      ]
     },
     "metadata": {},
     "output_type": "display_data"
    }
   ],
   "source": [
    "execute_and_show(cur,\n",
    "                 '''\n",
    "                 SELECT Employees.LastName, COUNT(Orders.OrderID) AS NumberOfOrders\n",
    "                 FROM Orders\n",
    "                 INNER JOIN Employees ON Orders.EmployeeID = Employees.EmployeeID\n",
    "                 WHERE LastName = 'Davolio' OR LastName = 'Fuller'\n",
    "                 GROUP BY LastName\n",
    "                 HAVING COUNT(Orders.OrderID) > 25;\n",
    "                 ''')"
   ]
  },
  {
   "cell_type": "markdown",
   "metadata": {},
   "source": [
    "# SQL EXISTS"
   ]
  },
  {
   "cell_type": "code",
   "execution_count": 135,
   "metadata": {},
   "outputs": [
    {
     "data": {
      "text/markdown": [
       "|CompanyName|\n",
       "|-|\n",
       "|Exotic Liquids|\n",
       "|New Orleans Cajun Delights|\n",
       "|Tokyo Traders|\n",
       "|Mayumi's|\n",
       "|Pavlova, Ltd.|\n",
       "|Specialty Biscuits, Ltd.|\n",
       "|PB Knäckebröd AB|\n",
       "|Refrescos Americanas LTDA|\n",
       "|Heli Süßwaren GmbH & Co. KG|\n",
       "|Plutzer Lebensmittelgroßmärkte AG|\n",
       "|Formaggi Fortini s.r.l.|\n",
       "|Norske Meierier|\n",
       "|Bigfoot Breweries|\n",
       "|Svensk Sjöföda AB|\n",
       "|Aux joyeux ecclésiastiques|\n",
       "|New England Seafood Cannery|\n",
       "|Leka Trading|\n",
       "|Lyngbysild|\n",
       "|Zaanse Snoepfabriek|\n",
       "|Karkki Oy|\n",
       "|G'day, Mate|\n",
       "|Ma Maison|\n",
       "|Pasta Buttini s.r.l.|\n",
       "|Escargots Nouveaux|"
      ],
      "text/plain": [
       "<IPython.core.display.Markdown object>"
      ]
     },
     "metadata": {},
     "output_type": "display_data"
    }
   ],
   "source": [
    "execute_and_show(cur,\n",
    "                 '''\n",
    "                 SELECT CompanyName\n",
    "                 FROM Suppliers\n",
    "                 WHERE EXISTS (SELECT ProductName FROM Products WHERE Products.SupplierID = Suppliers.SupplierID AND UnitPrice < 20);\n",
    "                 ''')"
   ]
  },
  {
   "cell_type": "code",
   "execution_count": 136,
   "metadata": {},
   "outputs": [
    {
     "data": {
      "text/markdown": [
       "|CompanyName|\n",
       "|-|\n",
       "|New Orleans Cajun Delights|"
      ],
      "text/plain": [
       "<IPython.core.display.Markdown object>"
      ]
     },
     "metadata": {},
     "output_type": "display_data"
    }
   ],
   "source": [
    "execute_and_show(cur,\n",
    "                 '''\n",
    "                 SELECT CompanyName\n",
    "                 FROM Suppliers\n",
    "                 WHERE EXISTS (SELECT ProductName FROM Products WHERE Products.SupplierID = Suppliers.SupplierID AND UnitPrice = 22);\n",
    "                 ''')"
   ]
  },
  {
   "cell_type": "markdown",
   "metadata": {},
   "source": [
    "# SQL ANY and ALL\n",
    "\n",
    "- `ANY`\n",
    "    - SQLite에서는 미지원"
   ]
  },
  {
   "cell_type": "code",
   "execution_count": 137,
   "metadata": {},
   "outputs": [
    {
     "data": {
      "text/markdown": [
       "|ProductName|\n",
       "|-|\n",
       "|Chai|\n",
       "|Chang|\n",
       "|Aniseed Syrup|\n",
       "|Chef Anton's Cajun Seasoning|\n",
       "|Chef Anton's Gumbo Mix|\n",
       "|Grandma's Boysenberry Spread|\n",
       "|Uncle Bob's Organic Dried Pears|\n",
       "|Northwoods Cranberry Sauce|\n",
       "|Mishi Kobe Niku|\n",
       "|Ikura|\n",
       "|Queso Cabrales|\n",
       "|Queso Manchego La Pastora|\n",
       "|Konbu|\n",
       "|Tofu|\n",
       "|Genen Shouyu|\n",
       "|Pavlova|\n",
       "|Alice Mutton|\n",
       "|Carnarvon Tigers|\n",
       "|Teatime Chocolate Biscuits|\n",
       "|Sir Rodney's Marmalade|\n",
       "|Sir Rodney's Scones|\n",
       "|Gustaf's Knäckebröd|\n",
       "|Tunnbröd|\n",
       "|Guaraná Fantástica|\n",
       "|NuNuCa Nuß-Nougat-Creme|\n",
       "|Gumbär Gummibärchen|\n",
       "|Schoggi Schokolade|\n",
       "|Rössle Sauerkraut|\n",
       "|Thüringer Rostbratwurst|\n",
       "|Nord-Ost Matjeshering|\n",
       "|Gorgonzola Telino|\n",
       "|Mascarpone Fabioli|\n",
       "|Geitost|\n",
       "|Sasquatch Ale|\n",
       "|Steeleye Stout|\n",
       "|Inlagd Sill|\n",
       "|Gravad lax|\n",
       "|Côte de Blaye|\n",
       "|Chartreuse verte|\n",
       "|Boston Crab Meat|\n",
       "|Jack's New England Clam Chowder|\n",
       "|Singaporean Hokkien Fried Mee|\n",
       "|Ipoh Coffee|\n",
       "|Gula Malacca|\n",
       "|Rogede sild|\n",
       "|Spegesild|\n",
       "|Zaanse koeken|\n",
       "|Chocolade|\n",
       "|Maxilaku|\n",
       "|Valkoinen suklaa|\n",
       "|Manjimup Dried Apples|\n",
       "|Filo Mix|\n",
       "|Perth Pasties|\n",
       "|Tourtière|\n",
       "|Pâté chinois|\n",
       "|Gnocchi di nonna Alice|\n",
       "|Ravioli Angelo|\n",
       "|Escargots de Bourgogne|\n",
       "|Raclette Courdavault|\n",
       "|Camembert Pierrot|\n",
       "|Sirop d'érable|\n",
       "|Tarte au sucre|\n",
       "|Vegie-spread|\n",
       "|Wimmers gute Semmelknödel|\n",
       "|Louisiana Fiery Hot Pepper Sauce|\n",
       "|Louisiana Hot Spiced Okra|\n",
       "|Laughing Lumberjack Lager|\n",
       "|Scottish Longbreads|\n",
       "|Gudbrandsdalsost|\n",
       "|Outback Lager|\n",
       "|Flotemysost|\n",
       "|Mozzarella di Giovanni|\n",
       "|Röd Kaviar|\n",
       "|Longlife Tofu|\n",
       "|Rhönbräu Klosterbier|\n",
       "|Lakkalikööri|\n",
       "|Original Frankfurter grüne Soße|"
      ],
      "text/plain": [
       "<IPython.core.display.Markdown object>"
      ]
     },
     "metadata": {},
     "output_type": "display_data"
    }
   ],
   "source": [
    "# ProductID = ANY ... 대신 IN 연산자 사용\n",
    "execute_and_show(cur,\n",
    "                 '''\n",
    "                 SELECT ProductName\n",
    "                 FROM Products\n",
    "                 WHERE ProductID IN\n",
    "                    (SELECT ProductID\n",
    "                    FROM [Order Details]\n",
    "                    WHERE Quantity = 10);\n",
    "                 ''')"
   ]
  },
  {
   "cell_type": "code",
   "execution_count": 138,
   "metadata": {},
   "outputs": [
    {
     "data": {
      "text/markdown": [
       "|ProductName|\n",
       "|-|\n",
       "|Chang|\n",
       "|Ikura|\n",
       "|Queso Manchego La Pastora|\n",
       "|Alice Mutton|\n",
       "|Guaraná Fantástica|\n",
       "|Schoggi Schokolade|\n",
       "|Steeleye Stout|\n",
       "|Chartreuse verte|\n",
       "|Jack's New England Clam Chowder|\n",
       "|Singaporean Hokkien Fried Mee|\n",
       "|Gula Malacca|\n",
       "|Rogede sild|\n",
       "|Manjimup Dried Apples|\n",
       "|Perth Pasties|\n",
       "|Pâté chinois|\n",
       "|Raclette Courdavault|\n",
       "|Camembert Pierrot|\n",
       "|Sirop d'érable|\n",
       "|Wimmers gute Semmelknödel|\n",
       "|Rhönbräu Klosterbier|"
      ],
      "text/plain": [
       "<IPython.core.display.Markdown object>"
      ]
     },
     "metadata": {},
     "output_type": "display_data"
    }
   ],
   "source": [
    "# ProductID = ANY ... 대신 IN 연산자 사용\n",
    "execute_and_show(cur,\n",
    "                 '''\n",
    "                 SELECT ProductName\n",
    "                 FROM Products\n",
    "                 WHERE ProductID IN\n",
    "                    (SELECT ProductID\n",
    "                    FROM [Order Details]\n",
    "                    WHERE Quantity > 99);\n",
    "                 ''')"
   ]
  },
  {
   "cell_type": "code",
   "execution_count": 139,
   "metadata": {},
   "outputs": [
    {
     "data": {
      "text/markdown": [
       "|ProductName|\n",
       "|-|"
      ],
      "text/plain": [
       "<IPython.core.display.Markdown object>"
      ]
     },
     "metadata": {},
     "output_type": "display_data"
    }
   ],
   "source": [
    "execute_and_show(cur,\n",
    "                 '''\n",
    "                 SELECT ProductName\n",
    "                 FROM Products\n",
    "                 WHERE ProductID IN\n",
    "                    (SELECT ProductID\n",
    "                    FROM [Order Details]\n",
    "                    WHERE Quantity > 1000);\n",
    "                 ''')"
   ]
  },
  {
   "cell_type": "code",
   "execution_count": 140,
   "metadata": {},
   "outputs": [
    {
     "data": {
      "text/markdown": [
       "|ProductName|\n",
       "|-|\n",
       "|Chai|\n",
       "|Chang|\n",
       "|Aniseed Syrup|\n",
       "|Chef Anton's Cajun Seasoning|\n",
       "|Chef Anton's Gumbo Mix|\n",
       "|Grandma's Boysenberry Spread|\n",
       "|Uncle Bob's Organic Dried Pears|\n",
       "|Northwoods Cranberry Sauce|\n",
       "|Mishi Kobe Niku|\n",
       "|Ikura|\n",
       "|Queso Cabrales|\n",
       "|Queso Manchego La Pastora|\n",
       "|Konbu|\n",
       "|Tofu|\n",
       "|Genen Shouyu|\n",
       "|Pavlova|\n",
       "|Alice Mutton|\n",
       "|Carnarvon Tigers|\n",
       "|Teatime Chocolate Biscuits|\n",
       "|Sir Rodney's Marmalade|\n",
       "|Sir Rodney's Scones|\n",
       "|Gustaf's Knäckebröd|\n",
       "|Tunnbröd|\n",
       "|Guaraná Fantástica|\n",
       "|NuNuCa Nuß-Nougat-Creme|\n",
       "|Gumbär Gummibärchen|\n",
       "|Schoggi Schokolade|\n",
       "|Rössle Sauerkraut|\n",
       "|Thüringer Rostbratwurst|\n",
       "|Nord-Ost Matjeshering|\n",
       "|Gorgonzola Telino|\n",
       "|Mascarpone Fabioli|\n",
       "|Geitost|\n",
       "|Sasquatch Ale|\n",
       "|Steeleye Stout|\n",
       "|Inlagd Sill|\n",
       "|Gravad lax|\n",
       "|Côte de Blaye|\n",
       "|Chartreuse verte|\n",
       "|Boston Crab Meat|\n",
       "|Jack's New England Clam Chowder|\n",
       "|Singaporean Hokkien Fried Mee|\n",
       "|Ipoh Coffee|\n",
       "|Gula Malacca|\n",
       "|Rogede sild|\n",
       "|Spegesild|\n",
       "|Zaanse koeken|\n",
       "|Chocolade|\n",
       "|Maxilaku|\n",
       "|Valkoinen suklaa|\n",
       "|Manjimup Dried Apples|\n",
       "|Filo Mix|\n",
       "|Perth Pasties|\n",
       "|Tourtière|\n",
       "|Pâté chinois|\n",
       "|Gnocchi di nonna Alice|\n",
       "|Ravioli Angelo|\n",
       "|Escargots de Bourgogne|\n",
       "|Raclette Courdavault|\n",
       "|Camembert Pierrot|\n",
       "|Sirop d'érable|\n",
       "|Tarte au sucre|\n",
       "|Vegie-spread|\n",
       "|Wimmers gute Semmelknödel|\n",
       "|Louisiana Fiery Hot Pepper Sauce|\n",
       "|Louisiana Hot Spiced Okra|\n",
       "|Laughing Lumberjack Lager|\n",
       "|Scottish Longbreads|\n",
       "|Gudbrandsdalsost|\n",
       "|Outback Lager|\n",
       "|Flotemysost|\n",
       "|Mozzarella di Giovanni|\n",
       "|Röd Kaviar|\n",
       "|Longlife Tofu|\n",
       "|Rhönbräu Klosterbier|\n",
       "|Lakkalikööri|\n",
       "|Original Frankfurter grüne Soße|"
      ],
      "text/plain": [
       "<IPython.core.display.Markdown object>"
      ]
     },
     "metadata": {},
     "output_type": "display_data"
    }
   ],
   "source": [
    "# 일반 SELECT문과 동일\n",
    "execute_and_show(cur,\n",
    "                 '''\n",
    "                 SELECT ALL ProductName\n",
    "                 FROM Products\n",
    "                 WHERE True;\n",
    "                 ''')"
   ]
  },
  {
   "cell_type": "code",
   "execution_count": 141,
   "metadata": {},
   "outputs": [
    {
     "data": {
      "text/markdown": [
       "|ProductName|ProductID|\n",
       "|-|-|\n",
       "|Original Frankfurter grüne Soße|77|"
      ],
      "text/plain": [
       "<IPython.core.display.Markdown object>"
      ]
     },
     "metadata": {},
     "output_type": "display_data"
    }
   ],
   "source": [
    "# SQLite는 ALL를 지원하지 않아 다른 방식으로 대체\n",
    "execute_and_show(cur,\n",
    "                 '''\n",
    "                 SELECT ProductName, ProductID\n",
    "                 FROM Products P\n",
    "                 WHERE \n",
    "                    (SELECT COUNT(ProductID) FROM [Order Details] O WHERE O.Quantity = 10)\n",
    "                     = (SELECT COUNT(ProductID) FROM [Order Details] O WHERE O.Quantity = 10 AND O.ProductID <= P.ProductID);\n",
    "                 ''')"
   ]
  },
  {
   "cell_type": "code",
   "execution_count": 142,
   "metadata": {},
   "outputs": [
    {
     "data": {
      "text/markdown": [
       "|MAX(ProductID)|\n",
       "|-|\n",
       "|77|"
      ],
      "text/plain": [
       "<IPython.core.display.Markdown object>"
      ]
     },
     "metadata": {},
     "output_type": "display_data"
    }
   ],
   "source": [
    "execute_and_show(cur,\n",
    "                 '''\n",
    "                 SELECT MAX(ProductID) FROM [Order Details] O WHERE O.Quantity = 10;\n",
    "                 ''')"
   ]
  },
  {
   "cell_type": "markdown",
   "metadata": {},
   "source": [
    "# SQL SELECT INTO"
   ]
  },
  {
   "cell_type": "code",
   "execution_count": 143,
   "metadata": {},
   "outputs": [],
   "source": [
    "execute_and_show(cur,\n",
    "                 '''\n",
    "                 CREATE TABLE CustomersBackup2017 AS SELECT * FROM Customers;\n",
    "                 ''')"
   ]
  },
  {
   "cell_type": "code",
   "execution_count": 144,
   "metadata": {},
   "outputs": [
    {
     "data": {
      "text/markdown": [
       "|CustomerID|CompanyName|ContactName|ContactTitle|Address|City|Region|PostalCode|Country|Phone|Fax|\n",
       "|-|-|-|-|-|-|-|-|-|-|-|\n",
       "|ALFKI|Alfreds Futterkiste|Maria Anders|Sales Representative|Obere Str. 57|Berlin|Western Europe|12209|Germany|030-0074321|030-0076545|\n",
       "|ANATR|Ana Trujillo Emparedados y helados|Ana Trujillo|Owner|Avda. de la Constitución 2222|México D.F.|Central America|05021|Mexico|(5) 555-4729|(5) 555-3745|\n",
       "|ANTON|Antonio Moreno Taquería|Antonio Moreno|Owner|Mataderos  2312|México D.F.|Central America|05023|Mexico|(5) 555-3932||\n",
       "|AROUT|Around the Horn|Thomas Hardy|Sales Representative|120 Hanover Sq.|London|British Isles|WA1 1DP|UK|(171) 555-7788|(171) 555-6750|\n",
       "|BERGS|Berglunds snabbköp|Christina Berglund|Order Administrator|Berguvsvägen  8|Luleå|Northern Europe|S-958 22|Sweden|0921-12 34 65|0921-12 34 67|\n",
       "|BLAUS|Blauer See Delikatessen|Hanna Moos|Sales Representative|Forsterstr. 57|Mannheim|Western Europe|68306|Germany|0621-08460|0621-08924|\n",
       "|BLONP|Blondesddsl père et fils|Frédérique Citeaux|Marketing Manager|24, place Kléber|Strasbourg|Western Europe|67000|France|88.60.15.31|88.60.15.32|\n",
       "|BOLID|Bólido Comidas preparadas|Martín Sommer|Owner|C/ Araquil, 67|Madrid|Southern Europe|28023|Spain|(91) 555 22 82|(91) 555 91 99|\n",
       "|BONAP|Bon app'|Laurence Lebihan|Owner|12, rue des Bouchers|Marseille|Western Europe|13008|France|91.24.45.40|91.24.45.41|\n",
       "|BOTTM|Bottom-Dollar Markets|Elizabeth Lincoln|Accounting Manager|23 Tsawassen Blvd.|Tsawassen|North America|T2F 8M4|Canada|(604) 555-4729|(604) 555-3745|\n",
       "|BSBEV|B's Beverages|Victoria Ashworth|Sales Representative|Fauntleroy Circus|London|British Isles|EC2 5NT|UK|(171) 555-1212||\n",
       "|CACTU|Cactus Comidas para llevar|Patricio Simpson|Sales Agent|Cerrito 333|Buenos Aires|South America|1010|Argentina|(1) 135-5555|(1) 135-4892|\n",
       "|CENTC|Centro comercial Moctezuma|Francisco Chang|Marketing Manager|Sierras de Granada 9993|México D.F.|Central America|05022|Mexico|(5) 555-3392|(5) 555-7293|\n",
       "|CHOPS|Chop-suey Chinese|Yang Wang|Owner|Hauptstr. 29|Bern|Western Europe|3012|Switzerland|0452-076545||\n",
       "|COMMI|Comércio Mineiro|Pedro Afonso|Sales Associate|Av. dos Lusíadas, 23|Sao Paulo|South America|05432-043|Brazil|(11) 555-7647||\n",
       "|CONSH|Consolidated Holdings|Elizabeth Brown|Sales Representative|Berkeley Gardens 12  Brewery|London|British Isles|WX1 6LT|UK|(171) 555-2282|(171) 555-9199|\n",
       "|DRACD|Drachenblut Delikatessen|Sven Ottlieb|Order Administrator|Walserweg 21|Aachen|Western Europe|52066|Germany|0241-039123|0241-059428|\n",
       "|DUMON|Du monde entier|Janine Labrune|Owner|67, rue des Cinquante Otages|Nantes|Western Europe|44000|France|40.67.88.88|40.67.89.89|\n",
       "|EASTC|Eastern Connection|Ann Devon|Sales Agent|35 King George|London|British Isles|WX3 6FW|UK|(171) 555-0297|(171) 555-3373|\n",
       "|ERNSH|Ernst Handel|Roland Mendel|Sales Manager|Kirchgasse 6|Graz|Western Europe|8010|Austria|7675-3425|7675-3426|"
      ],
      "text/plain": [
       "<IPython.core.display.Markdown object>"
      ]
     },
     "metadata": {},
     "output_type": "display_data"
    }
   ],
   "source": [
    "execute_and_show(cur,\n",
    "                 '''\n",
    "                 SELECT * FROM CustomersBackup2017 LIMIT 20;\n",
    "                 ''')"
   ]
  },
  {
   "cell_type": "code",
   "execution_count": 145,
   "metadata": {},
   "outputs": [],
   "source": [
    "# SQLite에서 외부 데이터베이스의 테이블을 불러올 때는 SELECT INTO IN 문 대신 ATTACH DATABASE 사용\n",
    "execute_and_show(cur,\n",
    "                 '''\n",
    "                 ATTACH DATABASE 'northwind_bak.db' AS external_db;\n",
    "                 ''')\n",
    "\n",
    "execute_and_show(cur,\n",
    "                 '''\n",
    "                 CREATE TABLE ProductsBackup AS SELECT * FROM external_db.Products;\n",
    "                 ''')\n",
    "\n",
    "execute_and_show(cur,\n",
    "                 '''\n",
    "                 DETACH DATABASE external_db;\n",
    "                 ''')"
   ]
  },
  {
   "cell_type": "code",
   "execution_count": 146,
   "metadata": {},
   "outputs": [
    {
     "data": {
      "text/markdown": [
       "|ProductID|ProductName|SupplierID|CategoryID|Unit|Price|\n",
       "|-|-|-|-|-|-|\n",
       "|1|Chais|1|1|10 boxes x 20 bags|18|\n",
       "|2|Chang|1|1|24 - 12 oz bottles|19|\n",
       "|3|Aniseed Syrup|1|2|12 - 550 ml bottles|10|\n",
       "|4|Chef Anton's Cajun Seasoning|2|2|48 - 6 oz jars|22|\n",
       "|5|Chef Anton's Gumbo Mix|2|2|36 boxes|21.35|\n",
       "|6|Grandma's Boysenberry Spread|3|2|12 - 8 oz jars|25|\n",
       "|7|Uncle Bob's Organic Dried Pears|3|7|12 - 1 lb pkgs.|30|\n",
       "|8|Northwoods Cranberry Sauce|3|2|12 - 12 oz jars|40|\n",
       "|9|Mishi Kobe Niku|4|6|18 - 500 g pkgs.|97|\n",
       "|10|Ikura|4|8|12 - 200 ml jars|31|\n",
       "|11|Queso Cabrales|5|4|1 kg pkg.|21|\n",
       "|12|Queso Manchego La Pastora|5|4|10 - 500 g pkgs.|38|\n",
       "|13|Konbu|6|8|2 kg box|6|\n",
       "|14|Tofu|6|7|40 - 100 g pkgs.|23.25|\n",
       "|15|Genen Shouyu|6|2|24 - 250 ml bottles|15.5|\n",
       "|16|Pavlova|7|3|32 - 500 g boxes|17.45|\n",
       "|17|Alice Mutton|7|6|20 - 1 kg tins|39|\n",
       "|18|Carnarvon Tigers|7|8|16 kg pkg.|62.5|\n",
       "|19|Teatime Chocolate Biscuits|8|3|10 boxes x 12 pieces|9.2|\n",
       "|20|Sir Rodney's Marmalade|8|3|30 gift boxes|81|"
      ],
      "text/plain": [
       "<IPython.core.display.Markdown object>"
      ]
     },
     "metadata": {},
     "output_type": "display_data"
    }
   ],
   "source": [
    "execute_and_show(cur,\n",
    "                 '''\n",
    "                 SELECT * FROM ProductsBackup LIMIT 20;\n",
    "                 ''')"
   ]
  },
  {
   "cell_type": "code",
   "execution_count": 147,
   "metadata": {},
   "outputs": [],
   "source": [
    "execute_and_show(cur,\n",
    "                 '''\n",
    "                 DROP TABLE CustomersBackup2017;\n",
    "                 ''')"
   ]
  },
  {
   "cell_type": "code",
   "execution_count": 148,
   "metadata": {},
   "outputs": [
    {
     "data": {
      "text/markdown": [
       "|CompanyName|ContactName|\n",
       "|-|-|\n",
       "|Alfreds Futterkiste|Maria Anders|\n",
       "|Ana Trujillo Emparedados y helados|Ana Trujillo|\n",
       "|Antonio Moreno Taquería|Antonio Moreno|\n",
       "|Around the Horn|Thomas Hardy|\n",
       "|Berglunds snabbköp|Christina Berglund|\n",
       "|Blauer See Delikatessen|Hanna Moos|\n",
       "|Blondesddsl père et fils|Frédérique Citeaux|\n",
       "|Bólido Comidas preparadas|Martín Sommer|\n",
       "|Bon app'|Laurence Lebihan|\n",
       "|Bottom-Dollar Markets|Elizabeth Lincoln|\n",
       "|B's Beverages|Victoria Ashworth|\n",
       "|Cactus Comidas para llevar|Patricio Simpson|\n",
       "|Centro comercial Moctezuma|Francisco Chang|\n",
       "|Chop-suey Chinese|Yang Wang|\n",
       "|Comércio Mineiro|Pedro Afonso|\n",
       "|Consolidated Holdings|Elizabeth Brown|\n",
       "|Drachenblut Delikatessen|Sven Ottlieb|\n",
       "|Du monde entier|Janine Labrune|\n",
       "|Eastern Connection|Ann Devon|\n",
       "|Ernst Handel|Roland Mendel|"
      ],
      "text/plain": [
       "<IPython.core.display.Markdown object>"
      ]
     },
     "metadata": {},
     "output_type": "display_data"
    }
   ],
   "source": [
    "# SELECT INTO with specific columns\n",
    "execute_and_show(cur,\n",
    "                 '''\n",
    "                 CREATE TABLE CustomersBackup2017 AS SELECT CompanyName, ContactName FROM Customers;\n",
    "                 ''')\n",
    "\n",
    "execute_and_show(cur,\n",
    "                 '''\n",
    "                 SELECT * FROM CustomersBackup2017 LIMIT 20;\n",
    "                 ''')"
   ]
  },
  {
   "cell_type": "code",
   "execution_count": 149,
   "metadata": {},
   "outputs": [],
   "source": [
    "# with WHERE clause\n",
    "execute_and_show(cur,\n",
    "                 '''\n",
    "                 CREATE TABLE CustomersGermany\n",
    "                 AS SELECT * FROM Customers\n",
    "                 WHERE Country = 'Germany';\n",
    "                 ''')"
   ]
  },
  {
   "cell_type": "code",
   "execution_count": 150,
   "metadata": {},
   "outputs": [
    {
     "data": {
      "text/markdown": [
       "|CustomerID|CompanyName|ContactName|ContactTitle|Address|City|Region|PostalCode|Country|Phone|Fax|\n",
       "|-|-|-|-|-|-|-|-|-|-|-|\n",
       "|ALFKI|Alfreds Futterkiste|Maria Anders|Sales Representative|Obere Str. 57|Berlin|Western Europe|12209|Germany|030-0074321|030-0076545|\n",
       "|BLAUS|Blauer See Delikatessen|Hanna Moos|Sales Representative|Forsterstr. 57|Mannheim|Western Europe|68306|Germany|0621-08460|0621-08924|\n",
       "|DRACD|Drachenblut Delikatessen|Sven Ottlieb|Order Administrator|Walserweg 21|Aachen|Western Europe|52066|Germany|0241-039123|0241-059428|\n",
       "|FRANK|Frankenversand|Peter Franken|Marketing Manager|Berliner Platz 43|München|Western Europe|80805|Germany|089-0877310|089-0877451|\n",
       "|KOENE|Königlich Essen|Philip Cramer|Sales Associate|Maubelstr. 90|Brandenburg|Western Europe|14776|Germany|0555-09876||\n",
       "|LEHMS|Lehmanns Marktstand|Renate Messner|Sales Representative|Magazinweg 7|Frankfurt a.M.|Western Europe|60528|Germany|069-0245984|069-0245874|\n",
       "|MORGK|Morgenstern Gesundkost|Alexander Feuer|Marketing Assistant|Heerstr. 22|Leipzig|Western Europe|04179|Germany|0342-023176||\n",
       "|OTTIK|Ottilies Käseladen|Henriette Pfalzheim|Owner|Mehrheimerstr. 369|Köln|Western Europe|50739|Germany|0221-0644327|0221-0765721|\n",
       "|QUICK|QUICK-Stop|Horst Kloss|Accounting Manager|Taucherstraße 10|Cunewalde|Western Europe|01307|Germany|0372-035188||\n",
       "|TOMSP|Toms Spezialitäten|Karin Josephs|Marketing Manager|Luisenstr. 48|Münster|Western Europe|44087|Germany|0251-031259|0251-035695|\n",
       "|WANDK|Die Wandernde Kuh|Rita Müller|Sales Representative|Adenauerallee 900|Stuttgart|Western Europe|70563|Germany|0711-020361|0711-035428|"
      ],
      "text/plain": [
       "<IPython.core.display.Markdown object>"
      ]
     },
     "metadata": {},
     "output_type": "display_data"
    }
   ],
   "source": [
    "execute_and_show(cur,\n",
    "                 '''\n",
    "                 SELECT * FROM CustomersGermany LIMIT 20;\n",
    "                 ''')"
   ]
  },
  {
   "cell_type": "code",
   "execution_count": 151,
   "metadata": {},
   "outputs": [],
   "source": [
    "# with JOIN clause\n",
    "execute_and_show(cur,\n",
    "                 '''\n",
    "                 CREATE TABLE CustomersOrdersBackup2017\n",
    "                 AS SELECT Customers.CompanyName, Orders.OrderID\n",
    "                 FROM CustomerS\n",
    "                 LEFT JOIN Orders ON Customers.CustomerID = Orders.CustomerID;\n",
    "                 ''')"
   ]
  },
  {
   "cell_type": "code",
   "execution_count": 152,
   "metadata": {},
   "outputs": [
    {
     "data": {
      "text/markdown": [
       "|CompanyName|OrderID|\n",
       "|-|-|\n",
       "|Alfreds Futterkiste|10643|\n",
       "|Alfreds Futterkiste|10692|\n",
       "|Alfreds Futterkiste|10702|\n",
       "|Alfreds Futterkiste|10835|\n",
       "|Alfreds Futterkiste|10952|\n",
       "|Alfreds Futterkiste|11011|\n",
       "|Alfreds Futterkiste|11240|\n",
       "|Alfreds Futterkiste|11450|\n",
       "|Alfreds Futterkiste|11658|\n",
       "|Alfreds Futterkiste|11683|\n",
       "|Alfreds Futterkiste|11717|\n",
       "|Alfreds Futterkiste|11789|\n",
       "|Alfreds Futterkiste|11798|\n",
       "|Alfreds Futterkiste|11819|\n",
       "|Alfreds Futterkiste|11835|\n",
       "|Alfreds Futterkiste|11863|\n",
       "|Alfreds Futterkiste|11869|\n",
       "|Alfreds Futterkiste|11908|\n",
       "|Alfreds Futterkiste|12037|\n",
       "|Alfreds Futterkiste|12078|"
      ],
      "text/plain": [
       "<IPython.core.display.Markdown object>"
      ]
     },
     "metadata": {},
     "output_type": "display_data"
    }
   ],
   "source": [
    "execute_and_show(cur,\n",
    "                 '''\n",
    "                 SELECT * FROM CustomersOrdersBackup2017 Limit 20;\n",
    "                 ''')"
   ]
  },
  {
   "cell_type": "code",
   "execution_count": 153,
   "metadata": {},
   "outputs": [
    {
     "data": {
      "text/markdown": [
       "|CustomerID|CompanyName|ContactName|ContactTitle|Address|City|Region|PostalCode|Country|Phone|Fax|\n",
       "|-|-|-|-|-|-|-|-|-|-|-|"
      ],
      "text/plain": [
       "<IPython.core.display.Markdown object>"
      ]
     },
     "metadata": {},
     "output_type": "display_data"
    }
   ],
   "source": [
    "# create empty table with another schema\n",
    "execute_and_show(cur,\n",
    "                 '''\n",
    "                 CREATE TABLE NewTable\n",
    "                 AS SELECT *\n",
    "                 FROM Customers\n",
    "                 WHERE 1 = 0;\n",
    "                 ''')\n",
    "\n",
    "execute_and_show(cur,\n",
    "                 '''\n",
    "                 SELECT * FROM NewTable;\n",
    "                 ''')"
   ]
  },
  {
   "cell_type": "markdown",
   "metadata": {},
   "source": [
    "# SQL INSERT INTO SELECT"
   ]
  },
  {
   "cell_type": "code",
   "execution_count": 154,
   "metadata": {},
   "outputs": [],
   "source": [
    "execute_and_show(cur,\n",
    "                 '''\n",
    "                 INSERT INTO Customers (CompanyName, City, Country)\n",
    "                 SELECT CompanyName, City, Country FROM Suppliers;\n",
    "                 ''')"
   ]
  },
  {
   "cell_type": "code",
   "execution_count": 155,
   "metadata": {},
   "outputs": [],
   "source": [
    "execute_and_show(cur,\n",
    "                 '''\n",
    "                 INSERT INTO Customers (CompanyName, ContactName, Address, City, PostalCode, Country)\n",
    "                 SELECT CompanyName, ContactName, Address, City, PostalCode, Country FROM Suppliers;\n",
    "                 ''')"
   ]
  },
  {
   "cell_type": "code",
   "execution_count": 156,
   "metadata": {},
   "outputs": [],
   "source": [
    "# with WHERE clause\n",
    "execute_and_show(cur,\n",
    "                 '''\n",
    "                 INSERT INTO Customers (CompanyName, City, Country)\n",
    "                 SELECT CompanyName, City, Country FROM Suppliers\n",
    "                 WHERE Country = 'Germany';\n",
    "                 ''')"
   ]
  },
  {
   "cell_type": "markdown",
   "metadata": {},
   "source": [
    "# SQL CASE"
   ]
  },
  {
   "cell_type": "code",
   "execution_count": 157,
   "metadata": {},
   "outputs": [
    {
     "data": {
      "text/markdown": [
       "|OrderID|Quantity|QuantityText|\n",
       "|-|-|-|\n",
       "|10248|12|The quantity is under 30|\n",
       "|10248|10|The quantity is under 30|\n",
       "|10248|5|The quantity is under 30|\n",
       "|10249|9|The quantity is under 30|\n",
       "|10249|40|The quantity is greater than 30|\n",
       "|10250|10|The quantity is under 30|\n",
       "|10250|35|The quantity is greater than 30|\n",
       "|10250|15|The quantity is under 30|\n",
       "|10251|6|The quantity is under 30|\n",
       "|10251|15|The quantity is under 30|\n",
       "|10251|20|The quantity is under 30|\n",
       "|10252|40|The quantity is greater than 30|\n",
       "|10252|25|The quantity is under 30|\n",
       "|10252|40|The quantity is greater than 30|\n",
       "|10253|20|The quantity is under 30|\n",
       "|10253|42|The quantity is greater than 30|\n",
       "|10253|40|The quantity is greater than 30|\n",
       "|10254|15|The quantity is under 30|\n",
       "|10254|21|The quantity is under 30|\n",
       "|10254|21|The quantity is under 30|"
      ],
      "text/plain": [
       "<IPython.core.display.Markdown object>"
      ]
     },
     "metadata": {},
     "output_type": "display_data"
    }
   ],
   "source": [
    "# use CASE as column\n",
    "execute_and_show(cur,\n",
    "                 '''\n",
    "                 SELECT OrderId, Quantity,\n",
    "                 CASE\n",
    "                    WHEN Quantity > 30 THEN 'The quantity is greater than 30'\n",
    "                    WHEN Quantity = 30 THEN 'The quantity is 30'\n",
    "                    ELSE 'The quantity is under 30'\n",
    "                 END AS QuantityText\n",
    "                 FROM [Order Details]\n",
    "                 LIMIT 20;\n",
    "                 ''')"
   ]
  },
  {
   "cell_type": "code",
   "execution_count": 158,
   "metadata": {},
   "outputs": [
    {
     "data": {
      "text/markdown": [
       "|CompanyName|City|Country|\n",
       "|-|-|-|\n",
       "|IT|||\n",
       "|IT|||\n",
       "|Drachenblut Delikatessen|Aachen|Germany|\n",
       "|Rattlesnake Canyon Grocery|Albuquerque|USA|\n",
       "|Old World Delicatessen|Anchorage|USA|\n",
       "|Grandma Kelly's Homestead|Ann Arbor|USA|\n",
       "|Grandma Kelly's Homestead|Ann Arbor|USA|\n",
       "|Gai pâturage|Annecy|France|\n",
       "|Gai pâturage|Annecy|France|\n",
       "|Galería del gastrónomo|Barcelona|Spain|\n",
       "|LILA-Supermercado|Barquisimeto|Venezuela|\n",
       "|Bigfoot Breweries|Bend|USA|\n",
       "|Bigfoot Breweries|Bend|USA|\n",
       "|Magazzini Alimentari Riuniti|Bergamo|Italy|\n",
       "|Alfreds Futterkiste|Berlin|Germany|\n",
       "|Heli Süßwaren GmbH & Co. KG|Berlin|Germany|\n",
       "|Heli Süßwaren GmbH & Co. KG|Berlin|Germany|\n",
       "|Heli Süßwaren GmbH & Co. KG|Berlin|Germany|\n",
       "|Chop-suey Chinese|Bern|Switzerland|\n",
       "|Save-a-lot Markets|Boise|USA|\n",
       "|New England Seafood Cannery|Boston|USA|\n",
       "|New England Seafood Cannery|Boston|USA|\n",
       "|Königlich Essen|Brandenburg|Germany|\n",
       "|Maison Dewey|Bruxelles|Belgium|\n",
       "|Folk och fä HB|Bräcke|Sweden|\n",
       "|Cactus Comidas para llevar|Buenos Aires|Argentina|\n",
       "|Océano Atlántico Ltda.|Buenos Aires|Argentina|\n",
       "|Rancho grande|Buenos Aires|Argentina|\n",
       "|The Cracker Box|Butte|USA|\n",
       "|Gourmet Lanchonetes|Campinas|Brazil|"
      ],
      "text/plain": [
       "<IPython.core.display.Markdown object>"
      ]
     },
     "metadata": {},
     "output_type": "display_data"
    }
   ],
   "source": [
    "# with ORDER BY\n",
    "execute_and_show(cur,\n",
    "                 '''\n",
    "                 SELECT CompanyName, City, Country\n",
    "                 FROM Customers\n",
    "                 ORDER BY\n",
    "                 (CASE\n",
    "                    WHEN City IS NULL THEN Country\n",
    "                    ELSE City\n",
    "                 END)\n",
    "                 LIMIT 30;\n",
    "                 ''')"
   ]
  },
  {
   "cell_type": "markdown",
   "metadata": {},
   "source": [
    "# SQL NULL"
   ]
  },
  {
   "cell_type": "code",
   "execution_count": 159,
   "metadata": {},
   "outputs": [
    {
     "data": {
      "text/markdown": [
       "|ProductName|UnitPrice * (UnitsInStock + IFNULL(UnitsOnOrder, 0))|\n",
       "|-|-|\n",
       "|Chai|702|\n",
       "|Chang|1083|\n",
       "|Aniseed Syrup|830|\n",
       "|Chef Anton's Cajun Seasoning|1166|\n",
       "|Chef Anton's Gumbo Mix|0.0|\n",
       "|Grandma's Boysenberry Spread|3000|\n",
       "|Uncle Bob's Organic Dried Pears|450|\n",
       "|Northwoods Cranberry Sauce|240|\n",
       "|Mishi Kobe Niku|2813|\n",
       "|Ikura|961|\n",
       "|Queso Cabrales|1092|\n",
       "|Queso Manchego La Pastora|3268|\n",
       "|Konbu|144|\n",
       "|Tofu|813.75|\n",
       "|Genen Shouyu|604.5|\n",
       "|Pavlova|506.04999999999995|\n",
       "|Alice Mutton|0|\n",
       "|Carnarvon Tigers|2625.0|\n",
       "|Teatime Chocolate Biscuits|229.99999999999997|\n",
       "|Sir Rodney's Marmalade|3240|"
      ],
      "text/plain": [
       "<IPython.core.display.Markdown object>"
      ]
     },
     "metadata": {},
     "output_type": "display_data"
    }
   ],
   "source": [
    "execute_and_show(cur,\n",
    "                 '''\n",
    "                 SELECT ProductName, UnitPrice * (UnitsInStock + IFNULL(UnitsOnOrder, 0))\n",
    "                 FROM Products\n",
    "                 LIMIT 20;\n",
    "                 ''')"
   ]
  },
  {
   "cell_type": "code",
   "execution_count": 160,
   "metadata": {},
   "outputs": [
    {
     "data": {
      "text/markdown": [
       "|ProductName|UnitPrice * (UnitsInStock + COALESCE(UnitsOnOrder, 0))|\n",
       "|-|-|\n",
       "|Chai|702|\n",
       "|Chang|1083|\n",
       "|Aniseed Syrup|830|\n",
       "|Chef Anton's Cajun Seasoning|1166|\n",
       "|Chef Anton's Gumbo Mix|0.0|\n",
       "|Grandma's Boysenberry Spread|3000|\n",
       "|Uncle Bob's Organic Dried Pears|450|\n",
       "|Northwoods Cranberry Sauce|240|\n",
       "|Mishi Kobe Niku|2813|\n",
       "|Ikura|961|\n",
       "|Queso Cabrales|1092|\n",
       "|Queso Manchego La Pastora|3268|\n",
       "|Konbu|144|\n",
       "|Tofu|813.75|\n",
       "|Genen Shouyu|604.5|\n",
       "|Pavlova|506.04999999999995|\n",
       "|Alice Mutton|0|\n",
       "|Carnarvon Tigers|2625.0|\n",
       "|Teatime Chocolate Biscuits|229.99999999999997|\n",
       "|Sir Rodney's Marmalade|3240|"
      ],
      "text/plain": [
       "<IPython.core.display.Markdown object>"
      ]
     },
     "metadata": {},
     "output_type": "display_data"
    }
   ],
   "source": [
    "execute_and_show(cur,\n",
    "                 '''\n",
    "                 SELECT ProductName, UnitPrice * (UnitsInStock + COALESCE(UnitsOnOrder, 0))\n",
    "                 FROM Products\n",
    "                 LIMIT 20;\n",
    "                 ''')"
   ]
  },
  {
   "cell_type": "markdown",
   "metadata": {},
   "source": [
    "# SQL Stored Procedure\n",
    "- SQLite에서는 Stored Procedure를 지원하지 않음, SQLite는 어플리케이션이 직접 SQL문을 바로 실행시킬수 있기 때문\n",
    "    - 다른 데이터베이스의 경우 어플리케이션과 DBMS가 분리되어 있는 경우가 있고, 여러 어플리케이션이 하나의 데이터베이스와 연길되는 경우가 많기 때문에 데이터베이스 단에서 자주 사용되는 쿼리들을 저장해둘 필요가 있다\n",
    "    - 하지만 SQLite는 이를 사용하는 어플리케이션과 통합되기 때문에 굳이 Stored Procedure를 필요로 하지 않는다\n",
    "        - SQLite와 통합된 어플리케이션은 여러 줄의 쿼리를 바로 보낼 수 있기 때문\n",
    "\n",
    "출처: https://github.com/aergoio/sqlite-stored-procedures"
   ]
  },
  {
   "cell_type": "code",
   "execution_count": 188,
   "metadata": {},
   "outputs": [
    {
     "data": {
      "text/markdown": [
       "|CustomerID|CompanyName|ContactName|ContactTitle|Address|City|Region|PostalCode|Country|Phone|Fax|\n",
       "|-|-|-|-|-|-|-|-|-|-|-|\n",
       "|ALFKI|Alfreds Futterkiste|Maria Anders|Sales Representative|Obere Str. 57|Berlin|Western Europe|12209|Germany|030-0074321|030-0076545|\n",
       "|ANATR|Ana Trujillo Emparedados y helados|Ana Trujillo|Owner|Avda. de la Constitución 2222|México D.F.|Central America|05021|Mexico|(5) 555-4729|(5) 555-3745|\n",
       "|ANTON|Antonio Moreno Taquería|Antonio Moreno|Owner|Mataderos  2312|México D.F.|Central America|05023|Mexico|(5) 555-3932||\n",
       "|AROUT|Around the Horn|Thomas Hardy|Sales Representative|120 Hanover Sq.|London|British Isles|WA1 1DP|UK|(171) 555-7788|(171) 555-6750|\n",
       "|BERGS|Berglunds snabbköp|Christina Berglund|Order Administrator|Berguvsvägen  8|Luleå|Northern Europe|S-958 22|Sweden|0921-12 34 65|0921-12 34 67|\n",
       "|BLAUS|Blauer See Delikatessen|Hanna Moos|Sales Representative|Forsterstr. 57|Mannheim|Western Europe|68306|Germany|0621-08460|0621-08924|\n",
       "|BLONP|Blondesddsl père et fils|Frédérique Citeaux|Marketing Manager|24, place Kléber|Strasbourg|Western Europe|67000|France|88.60.15.31|88.60.15.32|\n",
       "|BOLID|Bólido Comidas preparadas|Martín Sommer|Owner|C/ Araquil, 67|Madrid|Southern Europe|28023|Spain|(91) 555 22 82|(91) 555 91 99|\n",
       "|BONAP|Bon app'|Laurence Lebihan|Owner|12, rue des Bouchers|Marseille|Western Europe|13008|France|91.24.45.40|91.24.45.41|\n",
       "|BOTTM|Bottom-Dollar Markets|Elizabeth Lincoln|Accounting Manager|23 Tsawassen Blvd.|Tsawassen|North America|T2F 8M4|Canada|(604) 555-4729|(604) 555-3745|\n",
       "|BSBEV|B's Beverages|Victoria Ashworth|Sales Representative|Fauntleroy Circus|London|British Isles|EC2 5NT|UK|(171) 555-1212||\n",
       "|CACTU|Cactus Comidas para llevar|Patricio Simpson|Sales Agent|Cerrito 333|Buenos Aires|South America|1010|Argentina|(1) 135-5555|(1) 135-4892|\n",
       "|CENTC|Centro comercial Moctezuma|Francisco Chang|Marketing Manager|Sierras de Granada 9993|México D.F.|Central America|05022|Mexico|(5) 555-3392|(5) 555-7293|\n",
       "|CHOPS|Chop-suey Chinese|Yang Wang|Owner|Hauptstr. 29|Bern|Western Europe|3012|Switzerland|0452-076545||\n",
       "|COMMI|Comércio Mineiro|Pedro Afonso|Sales Associate|Av. dos Lusíadas, 23|Sao Paulo|South America|05432-043|Brazil|(11) 555-7647||\n",
       "|CONSH|Consolidated Holdings|Elizabeth Brown|Sales Representative|Berkeley Gardens 12  Brewery|London|British Isles|WX1 6LT|UK|(171) 555-2282|(171) 555-9199|\n",
       "|DRACD|Drachenblut Delikatessen|Sven Ottlieb|Order Administrator|Walserweg 21|Aachen|Western Europe|52066|Germany|0241-039123|0241-059428|\n",
       "|DUMON|Du monde entier|Janine Labrune|Owner|67, rue des Cinquante Otages|Nantes|Western Europe|44000|France|40.67.88.88|40.67.89.89|\n",
       "|EASTC|Eastern Connection|Ann Devon|Sales Agent|35 King George|London|British Isles|WX3 6FW|UK|(171) 555-0297|(171) 555-3373|\n",
       "|ERNSH|Ernst Handel|Roland Mendel|Sales Manager|Kirchgasse 6|Graz|Western Europe|8010|Austria|7675-3425|7675-3426|"
      ],
      "text/plain": [
       "<IPython.core.display.Markdown object>"
      ]
     },
     "metadata": {},
     "output_type": "display_data"
    }
   ],
   "source": [
    "execute_and_show(cur,\n",
    "                 '''\n",
    "                 SELECT * FROM Customers LIMIT 20;\n",
    "                 ''')"
   ]
  },
  {
   "cell_type": "code",
   "execution_count": 187,
   "metadata": {},
   "outputs": [
    {
     "data": {
      "text/markdown": [
       "|CustomerID|CompanyName|ContactName|ContactTitle|Address|City|Region|PostalCode|Country|Phone|Fax|\n",
       "|-|-|-|-|-|-|-|-|-|-|-|\n",
       "|AROUT|Around the Horn|Thomas Hardy|Sales Representative|120 Hanover Sq.|London|British Isles|WA1 1DP|UK|(171) 555-7788|(171) 555-6750|\n",
       "|BSBEV|B's Beverages|Victoria Ashworth|Sales Representative|Fauntleroy Circus|London|British Isles|EC2 5NT|UK|(171) 555-1212||\n",
       "|CONSH|Consolidated Holdings|Elizabeth Brown|Sales Representative|Berkeley Gardens 12  Brewery|London|British Isles|WX1 6LT|UK|(171) 555-2282|(171) 555-9199|\n",
       "|EASTC|Eastern Connection|Ann Devon|Sales Agent|35 King George|London|British Isles|WX3 6FW|UK|(171) 555-0297|(171) 555-3373|\n",
       "|NORTS|North/South|Simon Crowther|Sales Associate|South House 300 Queensbridge|London|British Isles|SW7 1RZ|UK|(171) 555-7733|(171) 555-2530|\n",
       "|SEVES|Seven Seas Imports|Hari Kumar|Sales Manager|90 Wadhurst Rd.|London|British Isles|OX15 4NB|UK|(171) 555-1717|(171) 555-5646|\n",
       "||Exotic Liquids||||London|||UK|||\n",
       "||Exotic Liquids|Charlotte Cooper||49 Gilbert St.|London||EC1 4SD|UK|||"
      ],
      "text/plain": [
       "<IPython.core.display.Markdown object>"
      ]
     },
     "metadata": {},
     "output_type": "display_data"
    }
   ],
   "source": [
    "# stored procedure with one parameter\n",
    "execute_and_show(cur,\n",
    "                 '''\n",
    "                 SELECT * FROM Customers WHERE City=?;\n",
    "                 ''',\n",
    "                 'London',\n",
    "                 )"
   ]
  },
  {
   "cell_type": "code",
   "execution_count": 186,
   "metadata": {},
   "outputs": [
    {
     "data": {
      "text/markdown": [
       "|CustomerID|CompanyName|ContactName|ContactTitle|Address|City|Region|PostalCode|Country|Phone|Fax|\n",
       "|-|-|-|-|-|-|-|-|-|-|-|\n",
       "|AROUT|Around the Horn|Thomas Hardy|Sales Representative|120 Hanover Sq.|London|British Isles|WA1 1DP|UK|(171) 555-7788|(171) 555-6750|"
      ],
      "text/plain": [
       "<IPython.core.display.Markdown object>"
      ]
     },
     "metadata": {},
     "output_type": "display_data"
    }
   ],
   "source": [
    "# stored porcedure with multiple parameters\n",
    "execute_and_show(cur,\n",
    "                 '''\n",
    "                 SELECT * FROM Customers WHERE City=? AND PostalCode=?;\n",
    "                 ''',\n",
    "                 'London',\n",
    "                 'WA1 1DP'\n",
    "                 )"
   ]
  },
  {
   "cell_type": "code",
   "execution_count": null,
   "metadata": {},
   "outputs": [],
   "source": []
  }
 ],
 "metadata": {
  "kernelspec": {
   "display_name": ".venv",
   "language": "python",
   "name": "python3"
  },
  "language_info": {
   "codemirror_mode": {
    "name": "ipython",
    "version": 3
   },
   "file_extension": ".py",
   "mimetype": "text/x-python",
   "name": "python",
   "nbconvert_exporter": "python",
   "pygments_lexer": "ipython3",
   "version": "3.11.9"
  }
 },
 "nbformat": 4,
 "nbformat_minor": 2
}
